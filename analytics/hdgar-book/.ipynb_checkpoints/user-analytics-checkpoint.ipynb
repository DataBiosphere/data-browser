{
 "cells": [
  {
   "cell_type": "markdown",
   "id": "db60961c",
   "metadata": {},
   "source": [
    "```{image} hca-logo.png\n",
    ":width: 200px\n",
    ":class: hca-logo\n",
    "```\n",
    "\n",
    "# HCA DCP User Analytics - June vs May 2022\n",
    "\n",
    "This section displays metrics collected from Google Analytics HCA DCP Data Portal and Data Browser and compares June 2022 with the previous month (May 2022). The generation of this report is now coded in Jupiter notebooks and can be rerun easily and modified or consolidated as desired. \n",
    "\n",
    "### Geographic exclusions\n",
    "\n",
    "The data presented excludes access from Cambridge, UK and surrounds, Cambridge MA and surrounds, and San Francisco, CA and surrounds an attempt to exclude the HCA DCP development team member activity from the report.\n",
    "\n",
    "\n",
    "### Key to tables\n",
    "\n",
    "On the tables:\n",
    "\n",
    "* Diffs, e.g. <span style=\"color: green\">(+19.04%)</span> or <span style=\"color: red\">(-12.03%)</span>, compare the later month with the previous month.\n",
    "* \"+\" Indicates the entry is new in the report in the current month.\n",
    "* \"↑\" Indicates the entry has moved up in rank since the last month.\n",
    "* \"↓\" Indicates the entry has moved down in rank since the last month.\n",
    "\n"
   ]
  },
  {
   "cell_type": "code",
   "execution_count": 19,
   "id": "worthy-distinction",
   "metadata": {
    "scrolled": true,
    "tags": [
     "remove-cell"
    ]
   },
   "outputs": [],
   "source": [
    "# !pip install google_auth_oauthlib \n",
    "# !pip install install google-api-python-client\n",
    "# !pip install pandas \n",
    "# !pip install numpy\n",
    "# !pip install matplotlib\n",
    "# !pip install google-cloud-bigquery\n",
    "# !pip install db-dtypes\n",
    "\n",
    "# DEV GUIDES\n",
    "#https://developers.google.com/analytics/devguides/reporting\n",
    "    \n",
    "\n",
    "\n"
   ]
  },
  {
   "cell_type": "code",
   "execution_count": 2,
   "id": "d76d1ebb",
   "metadata": {
    "tags": [
     "remove-cell"
    ]
   },
   "outputs": [],
   "source": [
    "import warnings\n",
    "warnings.filterwarnings('ignore')"
   ]
  },
  {
   "cell_type": "code",
   "execution_count": 1,
   "id": "brave-victor",
   "metadata": {
    "scrolled": false,
    "tags": [
     "remove-cell"
    ]
   },
   "outputs": [
    {
     "name": "stdout",
     "output_type": "stream",
     "text": [
      "Please visit this URL to authorize this application: https://accounts.google.com/o/oauth2/auth?response_type=code&client_id=713613812354-ccedl8colb27q3q6rvvvjqrpb5tcbuug.apps.googleusercontent.com&redirect_uri=http%3A%2F%2Flocalhost%3A8080%2F&scope=https%3A%2F%2Fwww.googleapis.com%2Fauth%2Fanalytics.readonly&state=TznYKevEvxjGODaBV4hvWWQsWxyWir&access_type=offline\n"
     ]
    }
   ],
   "source": [
    "from google_auth_oauthlib.flow import InstalledAppFlow\n",
    "from googleapiclient.discovery import build\n",
    "from IPython.display import display\n",
    "import os\n",
    "import pprint\n",
    "# import pandas as pd\n",
    "# import matplotlib.pyplot as plt\n",
    "# import numpy as np\n",
    "\n",
    "%load_ext autoreload\n",
    "%autoreload 2\n",
    "\n",
    "import analytics_package.analytics.charts as ac\n",
    "import analytics_hca as hca\n",
    "\n",
    "GA_PROPERTY = \"185740629\" # HCA Data Portal/Browser\n",
    "# DCP_ANALYTICS_START = \"2019-03-01\"\n",
    "DCP_ANALYTICS_START = \"2020-01-01\"\n",
    "TODAY = 'today'\n",
    "PERIOD = \"2022-06\"\n",
    "PREV_PERIOD = \"2022-05\"\n",
    "GEO_SEGMENT = \"gaid::q-RjXBSdQ-i18vXOOoXl5g\"\n",
    "\n",
    "default_params = {\n",
    "    \"property\": GA_PROPERTY,\n",
    "    \"index_key_formatter\": hca.adjust_table_index_key,\n",
    "    \"period\": PERIOD,\n",
    "    \"prev_period\": PREV_PERIOD,\n",
    "    \"segment\": GEO_SEGMENT\n",
    "}\n",
    "\n",
    "ac.authenticate_ga('ANALYTICS_REPORTING_CLIENT_SECRET_PATH')\n",
    "\n"
   ]
  },
  {
   "cell_type": "code",
   "execution_count": 2,
   "id": "09374ca5",
   "metadata": {
    "tags": [
     "remove-input"
    ]
   },
   "outputs": [
    {
     "data": {
      "text/html": [
       "\n",
       "\t\t<style>\n",
       "\t\t\t\n",
       "\t\t\t.analyticsTable {\n",
       "\t\t\t\tdisplay: grid;\n",
       "\t\t\t\t--symbol-width: 1.5em;\n",
       "\t\t\t\t--value-width: 2.9em;\n",
       "\t\t\t\t--percentage-width: 6.8em;\n",
       "\t\t\t}\n",
       "\t\t\t\n",
       "\t\t\t/*\n",
       "\t\t\t.anaEven {\n",
       "\t\t\t\tbackground: #f5f5f5;\n",
       "\t\t\t}\n",
       "\t\t\t*/\n",
       "\t\t\t\n",
       "\t\t\t.anaIndex:not(.anaColName) {\n",
       "\t\t\t\twhite-space: pre-wrap;\n",
       "\t\t\t\tline-break: anywhere;\n",
       "\t\t\t\tword-break: break-all;\n",
       "\t\t\t}\n",
       "\t\t\t\n",
       "\t\t\t.anaColName {\n",
       "\t\t\t\tfont-weight: bold;\n",
       "\t\t\t\tborder-bottom: 1px solid black;\n",
       "\t\t\t}\n",
       "\t\t\t\n",
       "\t\t\t.anaIndex, .anaColName, .anaCell {\n",
       "\t\t\t\tpadding: 0.3em;\n",
       "\t\t\t}\n",
       "\t\t\t\n",
       "\t\t\t.anaSubcolLeft, .anaIndex {\n",
       "\t\t\t\tpadding-left: 1em;\n",
       "\t\t\t}\n",
       "\t\t\t\n",
       "\t\t\t.anaSubcolRight {\n",
       "\t\t\t\tpadding-right: 1em;\n",
       "\t\t\t}\n",
       "\t\t\t\n",
       "\t\t\t.anaColName:not(.anaIndex) {\n",
       "\t\t\t\ttext-align: center;\n",
       "\t\t\t}\n",
       "\t\t\t\n",
       "\t\t\t.anaCell:not(.anaIndex) {\n",
       "\t\t\t\ttext-align: right;\n",
       "\t\t\t}\n",
       "\t\t\t\n",
       "\t\t\t.analyticsTable .up::before {\n",
       "\t\t\t\tcontent: \"↑\";\n",
       "\t\t\t\tcolor: gray;\n",
       "\t\t\t}\n",
       "\t\t\t\n",
       "\t\t\t.analyticsTable .down::before {\n",
       "\t\t\t\tcontent: \"↓\";\n",
       "\t\t\t\tcolor: gray;\n",
       "\t\t\t}\n",
       "\t\t\t\n",
       "\t\t\t.analyticsTable .new::before {\n",
       "\t\t\t\tcontent: \"+\";\n",
       "\t\t\t\tcolor: gray;\n",
       "\t\t\t}\n",
       "\t\t\t\n",
       "\t\t\t.anaPositive {\n",
       "\t\t\t\tcolor: green;\n",
       "\t\t\t}\n",
       "\t\t\t\n",
       "\t\t\t.anaNegative {\n",
       "\t\t\t\tcolor: red;\n",
       "\t\t\t}\n",
       "\t\t\t\n",
       "\t\t</style>\n",
       "\t"
      ],
      "text/plain": [
       "<IPython.core.display.HTML object>"
      ]
     },
     "metadata": {},
     "output_type": "display_data"
    }
   ],
   "source": [
    "ac.init_tables()"
   ]
  },
  {
   "cell_type": "markdown",
   "id": "ba6bbb95",
   "metadata": {},
   "source": [
    "## User acquisition"
   ]
  },
  {
   "cell_type": "markdown",
   "id": "6b65b072",
   "metadata": {},
   "source": [
    "### Monthly users and pageviews (all time)"
   ]
  },
  {
   "cell_type": "code",
   "execution_count": 6,
   "id": "c767ea49",
   "metadata": {
    "scrolled": false,
    "tags": [
     "remove-input"
    ]
   },
   "outputs": [
    {
     "data": {
      "image/png": "[encoded data removed]",
      "text/plain": [
       "<Figure size 1152x648 with 1 Axes>"
      ]
     },
     "metadata": {
      "needs_background": "light"
     },
     "output_type": "display_data"
    }
   ],
   "source": [
    "users_over_time_table = hca.plot_users_over_time(start_date=DCP_ANALYTICS_START, end_date=TODAY, **default_params)"
   ]
  },
  {
   "cell_type": "markdown",
   "id": "1c2b00a6",
   "metadata": {},
   "source": [
    "### Total unique users and unique pageviews by month (all time)"
   ]
  },
  {
   "cell_type": "code",
   "execution_count": 7,
   "id": "eb64c71d",
   "metadata": {
    "scrolled": false,
    "tags": [
     "remove-input"
    ]
   },
   "outputs": [
    {
     "data": {
      "text/html": [
       "<div class=\"analyticsTable\" style=\"grid-template-columns: repeat(1, auto) 1fr minmax(var(--value-width), min-content) minmax(var(--percentage-width), min-content) minmax(var(--value-width), min-content) minmax(var(--percentage-width), min-content)\"><div class=\"anaIndex anaColName\">Year</div><div class=\"anaIndex anaColName\">Month</div><div class=\"anaColName\" style=\"grid-column: span 2\">Users</div><div class=\"anaColName\" style=\"grid-column: span 2\">Total Unique Pageviews</div><div class=\"anaIndex anaEven\" style=\"grid-row: span 5\">2022</div><div class=\"anaIndex anaEven\" style=\"grid-row: span 1\">May</div><div class=\"anaCell anaEven anaSubcolLeft\">4964</div><div class=\"anaCell anaEven anaSubcolRight\"><div class=\"anaPositive\">(+27.22%)</div></div><div class=\"anaCell anaEven anaSubcolLeft\">26956</div><div class=\"anaCell anaEven anaSubcolRight\"><div class=\"anaPositive\">(+14.55%)</div></div><div class=\"anaIndex anaOdd\" style=\"grid-row: span 1\">April</div><div class=\"anaCell anaOdd anaSubcolLeft\">3902</div><div class=\"anaCell anaOdd anaSubcolRight\"><div class=\"anaPositive\">(+14.19%)</div></div><div class=\"anaCell anaOdd anaSubcolLeft\">23532</div><div class=\"anaCell anaOdd anaSubcolRight\"><div class=\"anaPositive\">(+8.10%)</div></div><div class=\"anaIndex anaEven\" style=\"grid-row: span 1\">March</div><div class=\"anaCell anaEven anaSubcolLeft\">3417</div><div class=\"anaCell anaEven anaSubcolRight\"><div class=\"anaPositive\">(+10.01%)</div></div><div class=\"anaCell anaEven anaSubcolLeft\">21768</div><div class=\"anaCell anaEven anaSubcolRight\"><div class=\"anaPositive\">(+20.30%)</div></div><div class=\"anaIndex anaOdd\" style=\"grid-row: span 1\">February</div><div class=\"anaCell anaOdd anaSubcolLeft\">3106</div><div class=\"anaCell anaOdd anaSubcolRight\"><div class=\"anaPositive\">(+9.44%)</div></div><div class=\"anaCell anaOdd anaSubcolLeft\">18095</div><div class=\"anaCell anaOdd anaSubcolRight\"><div class=\"anaPositive\">(+0.27%)</div></div><div class=\"anaIndex anaEven\" style=\"grid-row: span 1\">January</div><div class=\"anaCell anaEven anaSubcolLeft\">2838</div><div class=\"anaCell anaEven anaSubcolRight\"><div class=\"anaPositive\">(+18.60%)</div></div><div class=\"anaCell anaEven anaSubcolLeft\">18046</div><div class=\"anaCell anaEven anaSubcolRight\"><div class=\"anaPositive\">(+21.92%)</div></div><div class=\"anaIndex anaOdd\" style=\"grid-row: span 12\">2021</div><div class=\"anaIndex anaOdd\" style=\"grid-row: span 1\">December</div><div class=\"anaCell anaOdd anaSubcolLeft\">2393</div><div class=\"anaCell anaOdd anaSubcolRight\"><div class=\"anaNegative\">(-18.58%)</div></div><div class=\"anaCell anaOdd anaSubcolLeft\">14802</div><div class=\"anaCell anaOdd anaSubcolRight\"><div class=\"anaNegative\">(-12.32%)</div></div><div class=\"anaIndex anaEven\" style=\"grid-row: span 1\">November</div><div class=\"anaCell anaEven anaSubcolLeft\">2939</div><div class=\"anaCell anaEven anaSubcolRight\"><div class=\"anaPositive\">(+13.83%)</div></div><div class=\"anaCell anaEven anaSubcolLeft\">16881</div><div class=\"anaCell anaEven anaSubcolRight\"><div class=\"anaPositive\">(+7.90%)</div></div><div class=\"anaIndex anaOdd\" style=\"grid-row: span 1\">October</div><div class=\"anaCell anaOdd anaSubcolLeft\">2582</div><div class=\"anaCell anaOdd anaSubcolRight\"><div class=\"anaPositive\">(+7.27%)</div></div><div class=\"anaCell anaOdd anaSubcolLeft\">15645</div><div class=\"anaCell anaOdd anaSubcolRight\"><div class=\"anaPositive\">(+9.60%)</div></div><div class=\"anaIndex anaEven\" style=\"grid-row: span 1\">September</div><div class=\"anaCell anaEven anaSubcolLeft\">2407</div><div class=\"anaCell anaEven anaSubcolRight\"><div class=\"anaNegative\">(-3.53%)</div></div><div class=\"anaCell anaEven anaSubcolLeft\">14275</div><div class=\"anaCell anaEven anaSubcolRight\"><div class=\"anaNegative\">(-7.38%)</div></div><div class=\"anaIndex anaOdd\" style=\"grid-row: span 1\">August</div><div class=\"anaCell anaOdd anaSubcolLeft\">2495</div><div class=\"anaCell anaOdd anaSubcolRight\"><div class=\"anaNegative\">(-15.48%)</div></div><div class=\"anaCell anaOdd anaSubcolLeft\">15412</div><div class=\"anaCell anaOdd anaSubcolRight\"><div class=\"anaNegative\">(-15.69%)</div></div><div class=\"anaIndex anaEven\" style=\"grid-row: span 1\">July</div><div class=\"anaCell anaEven anaSubcolLeft\">2952</div><div class=\"anaCell anaEven anaSubcolRight\"><div class=\"anaNegative\">(-15.95%)</div></div><div class=\"anaCell anaEven anaSubcolLeft\">18281</div><div class=\"anaCell anaEven anaSubcolRight\"><div class=\"anaNegative\">(-9.09%)</div></div><div class=\"anaIndex anaOdd\" style=\"grid-row: span 1\">June</div><div class=\"anaCell anaOdd anaSubcolLeft\">3512</div><div class=\"anaCell anaOdd anaSubcolRight\"><div class=\"anaPositive\">(+6.52%)</div></div><div class=\"anaCell anaOdd anaSubcolLeft\">20109</div><div class=\"anaCell anaOdd anaSubcolRight\"><div class=\"anaPositive\">(+17.86%)</div></div><div class=\"anaIndex anaEven\" style=\"grid-row: span 1\">May</div><div class=\"anaCell anaEven anaSubcolLeft\">3297</div><div class=\"anaCell anaEven anaSubcolRight\"><div class=\"anaPositive\">(+6.22%)</div></div><div class=\"anaCell anaEven anaSubcolLeft\">17062</div><div class=\"anaCell anaEven anaSubcolRight\"><div class=\"anaPositive\">(+7.76%)</div></div><div class=\"anaIndex anaOdd\" style=\"grid-row: span 1\">April</div><div class=\"anaCell anaOdd anaSubcolLeft\">3104</div><div class=\"anaCell anaOdd anaSubcolRight\"><div class=\"anaPositive\">(+1.40%)</div></div><div class=\"anaCell anaOdd anaSubcolLeft\">15833</div><div class=\"anaCell anaOdd anaSubcolRight\"><div class=\"anaNegative\">(-13.45%)</div></div><div class=\"anaIndex anaEven\" style=\"grid-row: span 1\">March</div><div class=\"anaCell anaEven anaSubcolLeft\">3061</div><div class=\"anaCell anaEven anaSubcolRight\"><div class=\"anaPositive\">(+16.52%)</div></div><div class=\"anaCell anaEven anaSubcolLeft\">18294</div><div class=\"anaCell anaEven anaSubcolRight\"><div class=\"anaPositive\">(+23.52%)</div></div><div class=\"anaIndex anaOdd\" style=\"grid-row: span 1\">February</div><div class=\"anaCell anaOdd anaSubcolLeft\">2627</div><div class=\"anaCell anaOdd anaSubcolRight\"><div class=\"anaNegative\">(-4.16%)</div></div><div class=\"anaCell anaOdd anaSubcolLeft\">14810</div><div class=\"anaCell anaOdd anaSubcolRight\"><div class=\"anaNegative\">(-0.18%)</div></div><div class=\"anaIndex anaEven\" style=\"grid-row: span 1\">January</div><div class=\"anaCell anaEven anaSubcolLeft\">2741</div><div class=\"anaCell anaEven anaSubcolRight\"><div class=\"anaPositive\">(+18.30%)</div></div><div class=\"anaCell anaEven anaSubcolLeft\">14836</div><div class=\"anaCell anaEven anaSubcolRight\"><div class=\"anaPositive\">(+15.13%)</div></div><div class=\"anaIndex anaOdd\" style=\"grid-row: span 12\">2020</div><div class=\"anaIndex anaOdd\" style=\"grid-row: span 1\">December</div><div class=\"anaCell anaOdd anaSubcolLeft\">2317</div><div class=\"anaCell anaOdd anaSubcolRight\"><div class=\"anaNegative\">(-13.12%)</div></div><div class=\"anaCell anaOdd anaSubcolLeft\">12886</div><div class=\"anaCell anaOdd anaSubcolRight\"><div class=\"anaNegative\">(-10.00%)</div></div><div class=\"anaIndex anaEven\" style=\"grid-row: span 1\">November</div><div class=\"anaCell anaEven anaSubcolLeft\">2667</div><div class=\"anaCell anaEven anaSubcolRight\"><div class=\"anaPositive\">(+9.57%)</div></div><div class=\"anaCell anaEven anaSubcolLeft\">14318</div><div class=\"anaCell anaEven anaSubcolRight\"><div class=\"anaNegative\">(-6.77%)</div></div><div class=\"anaIndex anaOdd\" style=\"grid-row: span 1\">October</div><div class=\"anaCell anaOdd anaSubcolLeft\">2434</div><div class=\"anaCell anaOdd anaSubcolRight\"><div class=\"anaNegative\">(-4.59%)</div></div><div class=\"anaCell anaOdd anaSubcolLeft\">15357</div><div class=\"anaCell anaOdd anaSubcolRight\"><div class=\"anaPositive\">(+3.04%)</div></div><div class=\"anaIndex anaEven\" style=\"grid-row: span 1\">September</div><div class=\"anaCell anaEven anaSubcolLeft\">2551</div><div class=\"anaCell anaEven anaSubcolRight\"><div class=\"anaPositive\">(+32.38%)</div></div><div class=\"anaCell anaEven anaSubcolLeft\">14904</div><div class=\"anaCell anaEven anaSubcolRight\"><div class=\"anaPositive\">(+15.03%)</div></div><div class=\"anaIndex anaOdd\" style=\"grid-row: span 1\">August</div><div class=\"anaCell anaOdd anaSubcolLeft\">1927</div><div class=\"anaCell anaOdd anaSubcolRight\"><div class=\"anaNegative\">(-10.46%)</div></div><div class=\"anaCell anaOdd anaSubcolLeft\">12957</div><div class=\"anaCell anaOdd anaSubcolRight\"><div class=\"anaNegative\">(-18.90%)</div></div><div class=\"anaIndex anaEven\" style=\"grid-row: span 1\">July</div><div class=\"anaCell anaEven anaSubcolLeft\">2152</div><div class=\"anaCell anaEven anaSubcolRight\"><div class=\"anaNegative\">(-9.20%)</div></div><div class=\"anaCell anaEven anaSubcolLeft\">15977</div><div class=\"anaCell anaEven anaSubcolRight\"><div class=\"anaNegative\">(-1.57%)</div></div><div class=\"anaIndex anaOdd\" style=\"grid-row: span 1\">June</div><div class=\"anaCell anaOdd anaSubcolLeft\">2370</div><div class=\"anaCell anaOdd anaSubcolRight\"><div class=\"anaNegative\">(-2.23%)</div></div><div class=\"anaCell anaOdd anaSubcolLeft\">16232</div><div class=\"anaCell anaOdd anaSubcolRight\"><div class=\"anaNegative\">(-14.30%)</div></div><div class=\"anaIndex anaEven\" style=\"grid-row: span 1\">May</div><div class=\"anaCell anaEven anaSubcolLeft\">2424</div><div class=\"anaCell anaEven anaSubcolRight\"><div class=\"anaPositive\">(+27.71%)</div></div><div class=\"anaCell anaEven anaSubcolLeft\">18940</div><div class=\"anaCell anaEven anaSubcolRight\"><div class=\"anaPositive\">(+55.45%)</div></div><div class=\"anaIndex anaOdd\" style=\"grid-row: span 1\">April</div><div class=\"anaCell anaOdd anaSubcolLeft\">1898</div><div class=\"anaCell anaOdd anaSubcolRight\"></div><div class=\"anaCell anaOdd anaSubcolLeft\">12184</div><div class=\"anaCell anaOdd anaSubcolRight\"></div><div class=\"anaIndex anaEven\" style=\"grid-row: span 1\">March</div><div class=\"anaCell anaEven anaSubcolLeft\">0</div><div class=\"anaCell anaEven anaSubcolRight\"></div><div class=\"anaCell anaEven anaSubcolLeft\">0</div><div class=\"anaCell anaEven anaSubcolRight\"></div><div class=\"anaIndex anaOdd\" style=\"grid-row: span 1\">February</div><div class=\"anaCell anaOdd anaSubcolLeft\">0</div><div class=\"anaCell anaOdd anaSubcolRight\"></div><div class=\"anaCell anaOdd anaSubcolLeft\">0</div><div class=\"anaCell anaOdd anaSubcolRight\"></div><div class=\"anaIndex anaEven\" style=\"grid-row: span 1\">January</div><div class=\"anaCell anaEven anaSubcolLeft\">0</div><div class=\"anaCell anaEven anaSubcolRight\"></div><div class=\"anaCell anaEven anaSubcolLeft\">0</div><div class=\"anaCell anaEven anaSubcolRight\"></div><div class=\"anaIndex anaOdd\" style=\"grid-row: span 10\">2019</div><div class=\"anaIndex anaOdd\" style=\"grid-row: span 1\">December</div><div class=\"anaCell anaOdd anaSubcolLeft\">0</div><div class=\"anaCell anaOdd anaSubcolRight\"></div><div class=\"anaCell anaOdd anaSubcolLeft\">0</div><div class=\"anaCell anaOdd anaSubcolRight\"></div><div class=\"anaIndex anaEven\" style=\"grid-row: span 1\">November</div><div class=\"anaCell anaEven anaSubcolLeft\">0</div><div class=\"anaCell anaEven anaSubcolRight\"></div><div class=\"anaCell anaEven anaSubcolLeft\">0</div><div class=\"anaCell anaEven anaSubcolRight\"></div><div class=\"anaIndex anaOdd\" style=\"grid-row: span 1\">October</div><div class=\"anaCell anaOdd anaSubcolLeft\">0</div><div class=\"anaCell anaOdd anaSubcolRight\"></div><div class=\"anaCell anaOdd anaSubcolLeft\">0</div><div class=\"anaCell anaOdd anaSubcolRight\"></div><div class=\"anaIndex anaEven\" style=\"grid-row: span 1\">September</div><div class=\"anaCell anaEven anaSubcolLeft\">0</div><div class=\"anaCell anaEven anaSubcolRight\"></div><div class=\"anaCell anaEven anaSubcolLeft\">0</div><div class=\"anaCell anaEven anaSubcolRight\"></div><div class=\"anaIndex anaOdd\" style=\"grid-row: span 1\">August</div><div class=\"anaCell anaOdd anaSubcolLeft\">0</div><div class=\"anaCell anaOdd anaSubcolRight\"></div><div class=\"anaCell anaOdd anaSubcolLeft\">0</div><div class=\"anaCell anaOdd anaSubcolRight\"></div><div class=\"anaIndex anaEven\" style=\"grid-row: span 1\">July</div><div class=\"anaCell anaEven anaSubcolLeft\">0</div><div class=\"anaCell anaEven anaSubcolRight\"></div><div class=\"anaCell anaEven anaSubcolLeft\">0</div><div class=\"anaCell anaEven anaSubcolRight\"></div><div class=\"anaIndex anaOdd\" style=\"grid-row: span 1\">June</div><div class=\"anaCell anaOdd anaSubcolLeft\">0</div><div class=\"anaCell anaOdd anaSubcolRight\"></div><div class=\"anaCell anaOdd anaSubcolLeft\">0</div><div class=\"anaCell anaOdd anaSubcolRight\"></div><div class=\"anaIndex anaEven\" style=\"grid-row: span 1\">May</div><div class=\"anaCell anaEven anaSubcolLeft\">0</div><div class=\"anaCell anaEven anaSubcolRight\"></div><div class=\"anaCell anaEven anaSubcolLeft\">0</div><div class=\"anaCell anaEven anaSubcolRight\"></div><div class=\"anaIndex anaOdd\" style=\"grid-row: span 1\">April</div><div class=\"anaCell anaOdd anaSubcolLeft\">0</div><div class=\"anaCell anaOdd anaSubcolRight\"></div><div class=\"anaCell anaOdd anaSubcolLeft\">0</div><div class=\"anaCell anaOdd anaSubcolRight\"></div><div class=\"anaIndex anaEven\" style=\"grid-row: span 1\">March</div><div class=\"anaCell anaEven anaSubcolLeft\">0</div><div class=\"anaCell anaEven anaSubcolRight\"></div><div class=\"anaCell anaEven anaSubcolLeft\">0</div><div class=\"anaCell anaEven anaSubcolRight\"></div></div>"
      ],
      "text/plain": [
       "<IPython.core.display.HTML object>"
      ]
     },
     "metadata": {},
     "output_type": "display_data"
    }
   ],
   "source": [
    "display(users_over_time_table)"
   ]
  },
  {
   "cell_type": "markdown",
   "id": "61f5e5b6",
   "metadata": {},
   "source": [
    "<div style=\"page-break-after: always\"></div>"
   ]
  },
  {
   "cell_type": "markdown",
   "id": "2e6ebc29",
   "metadata": {},
   "source": [
    "### Users and sessions\n",
    "Users are distinguished based on a tracking cookie set by Google. Because cookies may not remain present over time or between devices, it's likely that total users are overcounted and returning users are undercounted."
   ]
  },
  {
   "cell_type": "code",
   "execution_count": 57,
   "id": "92a2cb6c",
   "metadata": {
    "scrolled": true,
    "tags": [
     "remove-input"
    ]
   },
   "outputs": [
    {
     "data": {
      "text/html": [
       "<div class=\"analyticsTable\" style=\"grid-template-columns: 1fr var(--symbol-width) minmax(var(--value-width), min-content) minmax(var(--percentage-width), min-content)\"><div class=\"anaIndex anaEven\">Total Users</div><div class=\"anaCell anaEven anaSubcolLeft\"></div><div class=\"anaCell anaEven\">5044</div><div class=\"anaCell anaEven anaSubcolRight\"><div class=\"anaPositive\">(+28.64%)</div></div></div>"
      ],
      "text/plain": [
       "<IPython.core.display.HTML object>"
      ]
     },
     "metadata": {},
     "output_type": "display_data"
    }
   ],
   "source": [
    "ac.show_difference_table(\"Total Users\", None, \"ga:users\", None, **default_params)"
   ]
  },
  {
   "cell_type": "code",
   "execution_count": 23,
   "id": "e3edce81",
   "metadata": {
    "scrolled": false,
    "tags": [
     "remove-input"
    ]
   },
   "outputs": [
    {
     "data": {
      "text/html": [
       "<div class=\"analyticsTable\" style=\"grid-template-columns: 1fr var(--symbol-width) minmax(var(--value-width), min-content) minmax(var(--percentage-width), min-content)\"><div class=\"anaIndex anaEven\">Returning Users</div><div class=\"anaCell anaEven anaSubcolLeft\"></div><div class=\"anaCell anaEven\">1324</div><div class=\"anaCell anaEven anaSubcolRight\"><div class=\"anaPositive\">(+15.23%)</div></div></div>"
      ],
      "text/plain": [
       "<IPython.core.display.HTML object>"
      ]
     },
     "metadata": {},
     "output_type": "display_data"
    }
   ],
   "source": [
    "ac.show_difference_table(\"Returning Users\", None, \"ga:users\", None, filters=\"ga:userType==Returning Visitor\", **default_params)"
   ]
  },
  {
   "cell_type": "code",
   "execution_count": 24,
   "id": "c103a682",
   "metadata": {
    "tags": [
     "remove-input"
    ]
   },
   "outputs": [
    {
     "data": {
      "text/html": [
       "<div class=\"analyticsTable\" style=\"grid-template-columns: 1fr var(--symbol-width) minmax(var(--value-width), min-content) minmax(var(--percentage-width), min-content)\"><div class=\"anaIndex anaEven\">Total Visits</div><div class=\"anaCell anaEven anaSubcolLeft\"></div><div class=\"anaCell anaEven\">7417</div><div class=\"anaCell anaEven anaSubcolRight\"><div class=\"anaPositive\">(+22.98%)</div></div></div>"
      ],
      "text/plain": [
       "<IPython.core.display.HTML object>"
      ]
     },
     "metadata": {},
     "output_type": "display_data"
    }
   ],
   "source": [
    "ac.show_difference_table(\"Total Visits\", None, \"ga:sessions\", None, **default_params)"
   ]
  },
  {
   "cell_type": "code",
   "execution_count": 25,
   "id": "95ba261f",
   "metadata": {
    "scrolled": false,
    "tags": [
     "remove-input"
    ]
   },
   "outputs": [
    {
     "data": {
      "text/html": [
       "<div class=\"analyticsTable\" style=\"grid-template-columns: 1fr var(--symbol-width) minmax(var(--value-width), min-content) minmax(var(--percentage-width), min-content)\"><div class=\"anaIndex anaEven\">Sessions Including Visits to Data Portal</div><div class=\"anaCell anaEven anaSubcolLeft\"></div><div class=\"anaCell anaEven\">4117</div><div class=\"anaCell anaEven anaSubcolRight\"><div class=\"anaPositive\">(+36.23%)</div></div></div>"
      ],
      "text/plain": [
       "<IPython.core.display.HTML object>"
      ]
     },
     "metadata": {},
     "output_type": "display_data"
    }
   ],
   "source": [
    "ac.show_difference_table(\"Sessions Including Visits to Data Portal\", None, \"ga:sessions\", None, filters=\"ga:pagePath!~/explore\", **default_params)"
   ]
  },
  {
   "cell_type": "code",
   "execution_count": 26,
   "id": "af69fbbe",
   "metadata": {
    "scrolled": false,
    "tags": [
     "remove-input"
    ]
   },
   "outputs": [
    {
     "data": {
      "text/html": [
       "<div class=\"analyticsTable\" style=\"grid-template-columns: 1fr var(--symbol-width) minmax(var(--value-width), min-content) minmax(var(--percentage-width), min-content)\"><div class=\"anaIndex anaEven\">Sessions Including Visits to Data Browser</div><div class=\"anaCell anaEven anaSubcolLeft\"></div><div class=\"anaCell anaEven\">3300</div><div class=\"anaCell anaEven anaSubcolRight\"><div class=\"anaPositive\">(+9.67%)</div></div></div>"
      ],
      "text/plain": [
       "<IPython.core.display.HTML object>"
      ]
     },
     "metadata": {},
     "output_type": "display_data"
    }
   ],
   "source": [
    "ac.show_difference_table(\"Sessions Including Visits to Data Browser\", None, \"ga:sessions\", None, filters=\"ga:pagePath=~/explore\", **default_params)"
   ]
  },
  {
   "cell_type": "markdown",
   "id": "930de3ed",
   "metadata": {},
   "source": [
    "### Top referrers"
   ]
  },
  {
   "cell_type": "code",
   "execution_count": 52,
   "id": "744c6670",
   "metadata": {
    "scrolled": true,
    "tags": [
     "remove-input"
    ]
   },
   "outputs": [
    {
     "data": {
      "text/html": [
       "<div class=\"analyticsTable\" style=\"grid-template-columns: 1fr var(--symbol-width) minmax(var(--value-width), min-content) minmax(var(--percentage-width), min-content)\"><div class=\"anaIndex anaColName\">Referrer</div><div class=\"anaColName\" style=\"grid-column: span 3\">Users</div><div class=\"anaIndex anaEven\">(direct)</div><div class=\"anaCell anaEven anaSubcolLeft\"></div><div class=\"anaCell anaEven\">2117</div><div class=\"anaCell anaEven anaSubcolRight\"><div class=\"anaPositive\">(+23.58%)</div></div><div class=\"anaIndex anaOdd\">google</div><div class=\"anaCell anaOdd anaSubcolLeft\"></div><div class=\"anaCell anaOdd\">1697</div><div class=\"anaCell anaOdd anaSubcolRight\"><div class=\"anaPositive\">(+31.25%)</div></div><div class=\"anaIndex anaEven\">singlecell.broadinstitute.org</div><div class=\"anaCell anaEven anaSubcolLeft\"></div><div class=\"anaCell anaEven\">570</div><div class=\"anaCell anaEven anaSubcolRight\"><div class=\"anaPositive\">(+61.47%)</div></div><div class=\"anaIndex anaOdd\">link.zhihu.com</div><div class=\"anaCell anaOdd anaSubcolLeft\"></div><div class=\"anaCell anaOdd\">220</div><div class=\"anaCell anaOdd anaSubcolRight\"><div class=\"anaPositive\">(+22.22%)</div></div><div class=\"anaIndex anaEven\">cn.bing.com</div><div class=\"anaCell anaEven anaSubcolLeft\"></div><div class=\"anaCell anaEven\">75</div><div class=\"anaCell anaEven anaSubcolRight\"><div class=\"anaNegative\">(-1.32%)</div></div><div class=\"anaIndex anaOdd\">ebi.ac.uk</div><div class=\"anaCell anaOdd anaSubcolLeft\"><div class=\"up\"></div></div><div class=\"anaCell anaOdd\">66</div><div class=\"anaCell anaOdd anaSubcolRight\"><div class=\"anaPositive\">(+26.92%)</div></div><div class=\"anaIndex anaEven\">bing</div><div class=\"anaCell anaEven anaSubcolLeft\"><div class=\"up\"></div></div><div class=\"anaCell anaEven\">64</div><div class=\"anaCell anaEven anaSubcolRight\"><div class=\"anaPositive\">(+64.10%)</div></div><div class=\"anaIndex anaOdd\">satijalab.org</div><div class=\"anaCell anaOdd anaSubcolLeft\"><div class=\"down\"></div></div><div class=\"anaCell anaOdd\">46</div><div class=\"anaCell anaOdd anaSubcolRight\"><div class=\"anaNegative\">(-30.30%)</div></div><div class=\"anaIndex anaEven\">jianshu.com</div><div class=\"anaCell anaEven anaSubcolLeft\"><div class=\"up\"></div></div><div class=\"anaCell anaEven\">38</div><div class=\"anaCell anaEven anaSubcolRight\"><div class=\"anaZero\">(+0.00%)</div></div><div class=\"anaIndex anaOdd\">nature.com</div><div class=\"anaCell anaOdd anaSubcolLeft\"><div class=\"down\"></div></div><div class=\"anaCell anaOdd\">38</div><div class=\"anaCell anaOdd anaSubcolRight\"><div class=\"anaNegative\">(-15.56%)</div></div><div class=\"anaIndex anaEven\">baidu</div><div class=\"anaCell anaEven anaSubcolLeft\"><div class=\"up\"></div></div><div class=\"anaCell anaEven\">34</div><div class=\"anaCell anaEven anaSubcolRight\"><div class=\"anaPositive\">(+142.86%)</div></div><div class=\"anaIndex anaOdd\">github.com</div><div class=\"anaCell anaOdd anaSubcolLeft\"><div class=\"down\"></div></div><div class=\"anaCell anaOdd\">23</div><div class=\"anaCell anaOdd anaSubcolRight\"><div class=\"anaNegative\">(-8.00%)</div></div><div class=\"anaIndex anaEven\">m.facebook.com</div><div class=\"anaCell anaEven anaSubcolLeft\"><div class=\"new\"></div></div><div class=\"anaCell anaEven\">23</div><div class=\"anaCell anaEven anaSubcolRight\"></div><div class=\"anaIndex anaOdd\">ncbi.nlm.nih.gov</div><div class=\"anaCell anaOdd anaSubcolLeft\"><div class=\"down\"></div></div><div class=\"anaCell anaOdd\">20</div><div class=\"anaCell anaOdd anaSubcolRight\"><div class=\"anaZero\">(+0.00%)</div></div><div class=\"anaIndex anaEven\">proteinatlas.org</div><div class=\"anaCell anaEven anaSubcolLeft\"></div><div class=\"anaCell anaEven\">20</div><div class=\"anaCell anaEven anaSubcolRight\"><div class=\"anaPositive\">(+42.86%)</div></div><div class=\"anaIndex anaOdd\">covid19cellatlas.org</div><div class=\"anaCell anaOdd anaSubcolLeft\"><div class=\"down\"></div></div><div class=\"anaCell anaOdd\">19</div><div class=\"anaCell anaOdd anaSubcolRight\"><div class=\"anaZero\">(+0.00%)</div></div><div class=\"anaIndex anaEven\">celltypist.org</div><div class=\"anaCell anaEven anaSubcolLeft\"><div class=\"new\"></div></div><div class=\"anaCell anaEven\">18</div><div class=\"anaCell anaEven anaSubcolRight\"></div><div class=\"anaIndex anaOdd\">en.wikipedia.org</div><div class=\"anaCell anaOdd anaSubcolLeft\"><div class=\"down\"></div></div><div class=\"anaCell anaOdd\">18</div><div class=\"anaCell anaOdd anaSubcolRight\"><div class=\"anaZero\">(+0.00%)</div></div><div class=\"anaIndex anaEven\">lm.facebook.com</div><div class=\"anaCell anaEven anaSubcolLeft\"><div class=\"new\"></div></div><div class=\"anaCell anaEven\">15</div><div class=\"anaCell anaEven anaSubcolRight\"></div><div class=\"anaIndex anaOdd\">azimuth.hubmapconsortium.org</div><div class=\"anaCell anaOdd anaSubcolLeft\"><div class=\"down\"></div></div><div class=\"anaCell anaOdd\">13</div><div class=\"anaCell anaOdd anaSubcolRight\"><div class=\"anaPositive\">(+18.18%)</div></div></div>"
      ],
      "text/plain": [
       "<IPython.core.display.HTML object>"
      ]
     },
     "metadata": {},
     "output_type": "display_data"
    }
   ],
   "source": [
    "ac.show_difference_table(\"Users\", \"Referrer\", \"ga:users\",\"ga:source\", **default_params)"
   ]
  },
  {
   "cell_type": "markdown",
   "id": "c7ebbb8a",
   "metadata": {},
   "source": [
    "<div style=\"page-break-after: always\"></div>"
   ]
  },
  {
   "cell_type": "markdown",
   "id": "f761d25e",
   "metadata": {},
   "source": [
    "### Social network referrers"
   ]
  },
  {
   "cell_type": "code",
   "execution_count": 30,
   "id": "bd9e008d",
   "metadata": {
    "scrolled": true,
    "tags": [
     "remove-input"
    ]
   },
   "outputs": [
    {
     "data": {
      "text/html": [
       "<div class=\"analyticsTable\" style=\"grid-template-columns: 1fr var(--symbol-width) minmax(var(--value-width), min-content) minmax(var(--percentage-width), min-content)\"><div class=\"anaIndex anaColName\">Social Network</div><div class=\"anaColName\" style=\"grid-column: span 3\">User Sessions</div><div class=\"anaIndex anaEven\">(not set)</div><div class=\"anaCell anaEven anaSubcolLeft\"></div><div class=\"anaCell anaEven\">7369</div><div class=\"anaCell anaEven anaSubcolRight\"><div class=\"anaPositive\">(+22.25%)</div></div><div class=\"anaIndex anaOdd\">Facebook</div><div class=\"anaCell anaOdd anaSubcolLeft\"></div><div class=\"anaCell anaOdd\">47</div><div class=\"anaCell anaOdd anaSubcolRight\"><div class=\"anaPositive\">(+2250.00%)</div></div><div class=\"anaIndex anaEven\">VKontakte</div><div class=\"anaCell anaEven anaSubcolLeft\"><div class=\"new\"></div></div><div class=\"anaCell anaEven\">1</div><div class=\"anaCell anaEven anaSubcolRight\"></div></div>"
      ],
      "text/plain": [
       "<IPython.core.display.HTML object>"
      ]
     },
     "metadata": {},
     "output_type": "display_data"
    }
   ],
   "source": [
    "ac.show_difference_table(\"User Sessions\", \"Social Network\", \"ga:sessions\", \"ga:socialNetwork\", **default_params)"
   ]
  },
  {
   "cell_type": "markdown",
   "id": "9719ba98",
   "metadata": {},
   "source": [
    "### Top countries"
   ]
  },
  {
   "cell_type": "code",
   "execution_count": 29,
   "id": "cca3e2c5",
   "metadata": {
    "scrolled": true,
    "tags": [
     "remove-input"
    ]
   },
   "outputs": [
    {
     "data": {
      "text/html": [
       "<div class=\"analyticsTable\" style=\"grid-template-columns: 1fr var(--symbol-width) minmax(var(--value-width), min-content) minmax(var(--percentage-width), min-content)\"><div class=\"anaIndex anaColName\">Country</div><div class=\"anaColName\" style=\"grid-column: span 3\">Users</div><div class=\"anaIndex anaEven\">United States</div><div class=\"anaCell anaEven anaSubcolLeft\"></div><div class=\"anaCell anaEven\">1361</div><div class=\"anaCell anaEven anaSubcolRight\"><div class=\"anaPositive\">(+18.86%)</div></div><div class=\"anaIndex anaOdd\">China</div><div class=\"anaCell anaOdd anaSubcolLeft\"></div><div class=\"anaCell anaOdd\">1061</div><div class=\"anaCell anaOdd anaSubcolRight\"><div class=\"anaPositive\">(+14.83%)</div></div><div class=\"anaIndex anaEven\">Germany</div><div class=\"anaCell anaEven anaSubcolLeft\"><div class=\"up\"></div></div><div class=\"anaCell anaEven\">329</div><div class=\"anaCell anaEven anaSubcolRight\"><div class=\"anaPositive\">(+117.88%)</div></div><div class=\"anaIndex anaOdd\">United Kingdom</div><div class=\"anaCell anaOdd anaSubcolLeft\"><div class=\"down\"></div></div><div class=\"anaCell anaOdd\">327</div><div class=\"anaCell anaOdd anaSubcolRight\"><div class=\"anaPositive\">(+52.09%)</div></div><div class=\"anaIndex anaEven\">Japan</div><div class=\"anaCell anaEven anaSubcolLeft\"><div class=\"down\"></div></div><div class=\"anaCell anaEven\">191</div><div class=\"anaCell anaEven anaSubcolRight\"><div class=\"anaPositive\">(+22.44%)</div></div><div class=\"anaIndex anaOdd\">Hong Kong</div><div class=\"anaCell anaOdd anaSubcolLeft\"><div class=\"up\"></div></div><div class=\"anaCell anaOdd\">149</div><div class=\"anaCell anaOdd anaSubcolRight\"><div class=\"anaPositive\">(+12.88%)</div></div><div class=\"anaIndex anaEven\">Indonesia</div><div class=\"anaCell anaEven anaSubcolLeft\"><div class=\"new\"></div></div><div class=\"anaCell anaEven\">147</div><div class=\"anaCell anaEven anaSubcolRight\"></div><div class=\"anaIndex anaOdd\">South Korea</div><div class=\"anaCell anaOdd anaSubcolLeft\"></div><div class=\"anaCell anaOdd\">135</div><div class=\"anaCell anaOdd anaSubcolRight\"><div class=\"anaPositive\">(+3.85%)</div></div><div class=\"anaIndex anaEven\">Spain</div><div class=\"anaCell anaEven anaSubcolLeft\"><div class=\"up\"></div></div><div class=\"anaCell anaEven\">95</div><div class=\"anaCell anaEven anaSubcolRight\"><div class=\"anaPositive\">(+86.27%)</div></div><div class=\"anaIndex anaOdd\">India</div><div class=\"anaCell anaOdd anaSubcolLeft\"></div><div class=\"anaCell anaOdd\">89</div><div class=\"anaCell anaOdd anaSubcolRight\"><div class=\"anaPositive\">(+18.67%)</div></div><div class=\"anaIndex anaEven\">France</div><div class=\"anaCell anaEven anaSubcolLeft\"></div><div class=\"anaCell anaEven\">87</div><div class=\"anaCell anaEven anaSubcolRight\"><div class=\"anaPositive\">(+19.18%)</div></div><div class=\"anaIndex anaOdd\">Canada</div><div class=\"anaCell anaOdd anaSubcolLeft\"><div class=\"down\"></div></div><div class=\"anaCell anaOdd\">81</div><div class=\"anaCell anaOdd anaSubcolRight\"><div class=\"anaNegative\">(-1.22%)</div></div><div class=\"anaIndex anaEven\">Australia</div><div class=\"anaCell anaEven anaSubcolLeft\"><div class=\"up\"></div></div><div class=\"anaCell anaEven\">81</div><div class=\"anaCell anaEven anaSubcolRight\"><div class=\"anaPositive\">(+76.09%)</div></div><div class=\"anaIndex anaOdd\">Switzerland</div><div class=\"anaCell anaOdd anaSubcolLeft\"><div class=\"up\"></div></div><div class=\"anaCell anaOdd\">66</div><div class=\"anaCell anaOdd anaSubcolRight\"><div class=\"anaPositive\">(+60.98%)</div></div><div class=\"anaIndex anaEven\">Nepal</div><div class=\"anaCell anaEven anaSubcolLeft\"><div class=\"down\"></div></div><div class=\"anaCell anaEven\">65</div><div class=\"anaCell anaEven anaSubcolRight\"><div class=\"anaNegative\">(-54.86%)</div></div><div class=\"anaIndex anaOdd\">Netherlands</div><div class=\"anaCell anaOdd anaSubcolLeft\"><div class=\"down\"></div></div><div class=\"anaCell anaOdd\">64</div><div class=\"anaCell anaOdd anaSubcolRight\"><div class=\"anaPositive\">(+20.75%)</div></div><div class=\"anaIndex anaEven\">Italy</div><div class=\"anaCell anaEven anaSubcolLeft\"><div class=\"down\"></div></div><div class=\"anaCell anaEven\">63</div><div class=\"anaCell anaEven anaSubcolRight\"><div class=\"anaPositive\">(+23.53%)</div></div><div class=\"anaIndex anaOdd\">Israel</div><div class=\"anaCell anaOdd anaSubcolLeft\"><div class=\"up\"></div></div><div class=\"anaCell anaOdd\">60</div><div class=\"anaCell anaOdd anaSubcolRight\"><div class=\"anaPositive\">(+66.67%)</div></div><div class=\"anaIndex anaEven\">Singapore</div><div class=\"anaCell anaEven anaSubcolLeft\"><div class=\"down\"></div></div><div class=\"anaCell anaEven\">53</div><div class=\"anaCell anaEven anaSubcolRight\"><div class=\"anaPositive\">(+3.92%)</div></div><div class=\"anaIndex anaOdd\">Sweden</div><div class=\"anaCell anaOdd anaSubcolLeft\"><div class=\"down\"></div></div><div class=\"anaCell anaOdd\">52</div><div class=\"anaCell anaOdd anaSubcolRight\"><div class=\"anaPositive\">(+13.04%)</div></div></div>"
      ],
      "text/plain": [
       "<IPython.core.display.HTML object>"
      ]
     },
     "metadata": {},
     "output_type": "display_data"
    }
   ],
   "source": [
    "ac.show_difference_table(\"Users\", \"Country\", \"ga:users\",\"ga:country\", **default_params)"
   ]
  },
  {
   "cell_type": "markdown",
   "id": "7a9eb28e",
   "metadata": {},
   "source": [
    "<div style=\"page-break-after: always\"></div>"
   ]
  },
  {
   "cell_type": "markdown",
   "id": "06526964",
   "metadata": {},
   "source": [
    "### Device category"
   ]
  },
  {
   "cell_type": "code",
   "execution_count": 27,
   "id": "15b97b43",
   "metadata": {
    "scrolled": true,
    "tags": [
     "remove-input"
    ]
   },
   "outputs": [
    {
     "data": {
      "text/html": [
       "<div class=\"analyticsTable\" style=\"grid-template-columns: 1fr var(--symbol-width) minmax(var(--value-width), min-content) minmax(var(--percentage-width), min-content) minmax(var(--value-width), min-content) minmax(var(--percentage-width), min-content)\"><div class=\"anaIndex anaColName\">Category</div><div class=\"anaColName\" style=\"grid-column: span 3\">Users</div><div class=\"anaColName\" style=\"grid-column: span 2\">Percentage of users</div><div class=\"anaIndex anaEven\">desktop</div><div class=\"anaCell anaEven anaSubcolLeft\"></div><div class=\"anaCell anaEven\">4265</div><div class=\"anaCell anaEven anaSubcolRight\"><div class=\"anaPositive\">(+22.42%)</div></div><div class=\"anaCell anaEven anaSubcolLeft\">84.52</div><div class=\"anaCell anaEven anaSubcolRight\"><div class=\"anaNegative\">(-4.88%)</div></div><div class=\"anaIndex anaOdd\">mobile</div><div class=\"anaCell anaOdd anaSubcolLeft\"></div><div class=\"anaCell anaOdd\">764</div><div class=\"anaCell anaOdd anaSubcolRight\"><div class=\"anaPositive\">(+77.67%)</div></div><div class=\"anaCell anaOdd anaSubcolLeft\">15.14</div><div class=\"anaCell anaOdd anaSubcolRight\"><div class=\"anaPositive\">(+38.06%)</div></div><div class=\"anaIndex anaEven\">tablet</div><div class=\"anaCell anaEven anaSubcolLeft\"></div><div class=\"anaCell anaEven\">17</div><div class=\"anaCell anaEven anaSubcolRight\"><div class=\"anaPositive\">(+142.86%)</div></div><div class=\"anaCell anaEven anaSubcolLeft\">0.34</div><div class=\"anaCell anaEven anaSubcolRight\"><div class=\"anaPositive\">(+88.71%)</div></div></div>"
      ],
      "text/plain": [
       "<IPython.core.display.HTML object>"
      ]
     },
     "metadata": {},
     "output_type": "display_data"
    }
   ],
   "source": [
    "ac.show_difference_table([\"Users\", \"Percentage of users\"], \"Category\", \"ga:users\", \"ga:deviceCategory\", percentage_metrics={\"ga:users\"}, **default_params)"
   ]
  },
  {
   "cell_type": "markdown",
   "id": "a0c088d2",
   "metadata": {},
   "source": [
    "### Top entrances"
   ]
  },
  {
   "cell_type": "code",
   "execution_count": 31,
   "id": "6729aa7f",
   "metadata": {
    "scrolled": true,
    "tags": [
     "remove-input"
    ]
   },
   "outputs": [
    {
     "data": {
      "text/html": [
       "<div class=\"analyticsTable\" style=\"grid-template-columns: 1fr var(--symbol-width) minmax(var(--value-width), min-content) minmax(var(--percentage-width), min-content)\"><div class=\"anaIndex anaColName\">Page</div><div class=\"anaColName\" style=\"grid-column: span 3\">Entrances</div><div class=\"anaIndex anaEven\"><a href=\"https://data.humancellatlas.org/\">/</a></div><div class=\"anaCell anaEven anaSubcolLeft\"></div><div class=\"anaCell anaEven\">2499</div><div class=\"anaCell anaEven anaSubcolRight\"><div class=\"anaPositive\">(+42.80%)</div></div><div class=\"anaIndex anaOdd\"><a href=\"https://data.humancellatlas.org/analyze/portals/single-cell-expression-atlas\">/analyze/portals/single-cell-expression-atlas</a></div><div class=\"anaCell anaOdd anaSubcolLeft\"></div><div class=\"anaCell anaOdd\">322</div><div class=\"anaCell anaOdd anaSubcolRight\"><div class=\"anaPositive\">(+28.80%)</div></div><div class=\"anaIndex anaEven\"><a href=\"https://data.humancellatlas.org/explore/projects\">/explore/projects</a></div><div class=\"anaCell anaEven anaSubcolLeft\"><div class=\"up\"></div></div><div class=\"anaCell anaEven\">205</div><div class=\"anaCell anaEven anaSubcolRight\"><div class=\"anaPositive\">(+30.57%)</div></div><div class=\"anaIndex anaOdd\"><a href=\"https://data.humancellatlas.org/analyze/portals/cellxgene\">/analyze/portals/cellxgene</a></div><div class=\"anaCell anaOdd anaSubcolLeft\"><div class=\"up\"></div></div><div class=\"anaCell anaOdd\">188</div><div class=\"anaCell anaOdd anaSubcolRight\"><div class=\"anaPositive\">(+75.70%)</div></div><div class=\"anaIndex anaEven\"><a href=\"https://data.humancellatlas.org/explore/projects/cc95ff89-2e68-4a08-a234-480eca21ce79\">Census of Immune Cells</a></div><div class=\"anaCell anaEven anaSubcolLeft\"><div class=\"down\"></div></div><div class=\"anaCell anaEven\">176</div><div class=\"anaCell anaEven anaSubcolRight\"><div class=\"anaNegative\">(-6.88%)</div></div><div class=\"anaIndex anaOdd\"><a href=\"https://data.humancellatlas.org/analyze/methods/infer\">/analyze/methods/infer</a></div><div class=\"anaCell anaOdd anaSubcolLeft\"><div class=\"down\"></div></div><div class=\"anaCell anaOdd\">113</div><div class=\"anaCell anaOdd anaSubcolRight\"><div class=\"anaNegative\">(-44.33%)</div></div><div class=\"anaIndex anaEven\"><a href=\"https://data.humancellatlas.org/pipelines/smart-seq2-workflow\">/pipelines/smart-seq2-workflow</a></div><div class=\"anaCell anaEven anaSubcolLeft\"></div><div class=\"anaCell anaEven\">104</div><div class=\"anaCell anaEven anaSubcolRight\"><div class=\"anaNegative\">(-1.89%)</div></div><div class=\"anaIndex anaOdd\"><a href=\"https://data.humancellatlas.org/explore/projects/9c20a245-f2c0-43ae-82c9-2232ec6b594f\">A multi-omics atlas of the human retina at single-cell resolution</a></div><div class=\"anaCell anaOdd anaSubcolLeft\"><div class=\"new\"></div></div><div class=\"anaCell anaOdd\">102</div><div class=\"anaCell anaOdd anaSubcolRight\"></div><div class=\"anaIndex anaEven\"><a href=\"https://data.humancellatlas.org/explore/projects/10201832-7c73-4033-9b65-3ef13d81656a\">The Tabula Sapiens: a single cell transcriptomic atlas of multiple organs from individual human donors</a></div><div class=\"anaCell anaEven anaSubcolLeft\"><div class=\"down\"></div></div><div class=\"anaCell anaEven\">80</div><div class=\"anaCell anaEven anaSubcolRight\"><div class=\"anaNegative\">(-19.19%)</div></div><div class=\"anaIndex anaOdd\"><a href=\"https://data.humancellatlas.org/explore/projects/a9301beb-e9fa-42fe-b75c-84e8a460c733\">A human cell atlas of fetal gene expression.</a></div><div class=\"anaCell anaOdd anaSubcolLeft\"><div class=\"up\"></div></div><div class=\"anaCell anaOdd\">61</div><div class=\"anaCell anaOdd anaSubcolRight\"><div class=\"anaPositive\">(+1.67%)</div></div><div class=\"anaIndex anaEven\"><a href=\"https://data.humancellatlas.org/analyze\">/analyze</a></div><div class=\"anaCell anaEven anaSubcolLeft\"><div class=\"up\"></div></div><div class=\"anaCell anaEven\">57</div><div class=\"anaCell anaEven anaSubcolRight\"><div class=\"anaPositive\">(+23.91%)</div></div><div class=\"anaIndex anaOdd\"><a href=\"https://data.humancellatlas.org/explore/projects?filter=[{&quot;facetName&quot;:&quot;organ&quot;,&quot;terms&quot;:[&quot;immune system&quot;]}]&amp;catalog=dcp1\">/explore/projects?filter=[{&quot;facetName&quot;:&quot;organ&quot;,&quot;terms&quot;:[&quot;immune system&quot;]}]&amp;catalog=dcp1</a></div><div class=\"anaCell anaOdd anaSubcolLeft\"><div class=\"down\"></div></div><div class=\"anaCell anaOdd\">52</div><div class=\"anaCell anaOdd anaSubcolRight\"><div class=\"anaNegative\">(-44.09%)</div></div><div class=\"anaIndex anaEven\"><a href=\"https://data.humancellatlas.org/explore/projects/4d6f6c96-2a83-43d8-8fe1-0f53bffd4674\">Dissecting the human liver cellular landscape by single cell RNA-seq reveals novel intrahepatic monocyte/ macrophage populations</a></div><div class=\"anaCell anaEven anaSubcolLeft\"><div class=\"down\"></div></div><div class=\"anaCell anaEven\">51</div><div class=\"anaCell anaEven anaSubcolRight\"><div class=\"anaNegative\">(-16.39%)</div></div><div class=\"anaIndex anaOdd\"><a href=\"https://data.humancellatlas.org/analyze/portals/asap\">/analyze/portals/asap</a></div><div class=\"anaCell anaOdd anaSubcolLeft\"><div class=\"new\"></div></div><div class=\"anaCell anaOdd\">45</div><div class=\"anaCell anaOdd anaSubcolRight\"></div><div class=\"anaIndex anaEven\"><a href=\"https://data.humancellatlas.org/explore/projects/a80a63f2-e223-4890-81b0-415855b89abc\">Single cell RNA-seq of brain glioblastoma samples</a></div><div class=\"anaCell anaEven anaSubcolLeft\"><div class=\"up\"></div></div><div class=\"anaCell anaEven\">44</div><div class=\"anaCell anaEven anaSubcolRight\"><div class=\"anaPositive\">(+12.82%)</div></div><div class=\"anaIndex anaOdd\"><a href=\"https://data.humancellatlas.org/analyze/portals/single-cell-portal\">/analyze/portals/single-cell-portal</a></div><div class=\"anaCell anaOdd anaSubcolLeft\"><div class=\"down\"></div></div><div class=\"anaCell anaOdd\">39</div><div class=\"anaCell anaOdd anaSubcolRight\"><div class=\"anaNegative\">(-18.75%)</div></div><div class=\"anaIndex anaEven\"><a href=\"https://data.humancellatlas.org/explore/projects/abe1a013-af7a-45ed-8c26-f3793c24a1f4\">Spatio-temporal immune zonation of the human kidney</a></div><div class=\"anaCell anaEven anaSubcolLeft\"><div class=\"down\"></div></div><div class=\"anaCell anaEven\">38</div><div class=\"anaCell anaEven anaSubcolRight\"><div class=\"anaNegative\">(-22.45%)</div></div><div class=\"anaIndex anaOdd\"><a href=\"https://data.humancellatlas.org/guides\">/guides</a></div><div class=\"anaCell anaOdd anaSubcolLeft\"><div class=\"new\"></div></div><div class=\"anaCell anaOdd\">37</div><div class=\"anaCell anaOdd anaSubcolRight\"></div><div class=\"anaIndex anaEven\"><a href=\"https://data.humancellatlas.org/analyze/portals/bioturing-browser\">/analyze/portals/bioturing-browser</a></div><div class=\"anaCell anaEven anaSubcolLeft\"><div class=\"new\"></div></div><div class=\"anaCell anaEven\">34</div><div class=\"anaCell anaEven anaSubcolRight\"></div><div class=\"anaIndex anaOdd\"><a href=\"https://data.humancellatlas.org/analyze/visualization/anatomogram\">/analyze/visualization/anatomogram</a></div><div class=\"anaCell anaOdd anaSubcolLeft\"><div class=\"new\"></div></div><div class=\"anaCell anaOdd\">34</div><div class=\"anaCell anaOdd anaSubcolRight\"></div></div>"
      ],
      "text/plain": [
       "<IPython.core.display.HTML object>"
      ]
     },
     "metadata": {},
     "output_type": "display_data"
    }
   ],
   "source": [
    "ac.show_difference_table(\"Entrances\", \"Page\", \"ga:entrances\",\"ga:pagePath\", **default_params)"
   ]
  },
  {
   "cell_type": "markdown",
   "id": "62c6d14d",
   "metadata": {},
   "source": [
    "<div style=\"page-break-after: always\"></div>"
   ]
  },
  {
   "cell_type": "markdown",
   "id": "4788a00e",
   "metadata": {},
   "source": [
    "## Downloads and exports\n",
    "### Download project manifest"
   ]
  },
  {
   "cell_type": "code",
   "execution_count": 32,
   "id": "db613ae8",
   "metadata": {
    "scrolled": false,
    "tags": [
     "remove-input"
    ]
   },
   "outputs": [
    {
     "data": {
      "text/html": [
       "<div class=\"analyticsTable\" style=\"grid-template-columns: 1fr minmax(var(--value-width), min-content) minmax(var(--percentage-width), min-content) minmax(var(--value-width), min-content) minmax(var(--percentage-width), min-content)\"><div class=\"anaIndex anaColName\">Action</div><div class=\"anaColName\" style=\"grid-column: span 2\">Users</div><div class=\"anaColName\" style=\"grid-column: span 2\">Count</div><div class=\"anaIndex anaEven\">Download Project Manifest</div><div class=\"anaCell anaEven anaSubcolLeft\">335</div><div class=\"anaCell anaEven anaSubcolRight\"><div class=\"anaPositive\">(+7.03%)</div></div><div class=\"anaCell anaEven anaSubcolLeft\">602</div><div class=\"anaCell anaEven anaSubcolRight\"><div class=\"anaPositive\">(+6.74%)</div></div></div>"
      ],
      "text/plain": [
       "<IPython.core.display.HTML object>"
      ]
     },
     "metadata": {},
     "output_type": "display_data"
    }
   ],
   "source": [
    "ac.show_difference_table([\"Users\", \"Count\"], \"Action\", [\"ga:users\", \"ga:hits\"], [\"ga:eventAction\", \"ga:eventCategory\"], filters=\"ga:eventCategory==Project;ga:eventAction==Download Project Manifest\", rows_type=\"fixed\", **default_params)"
   ]
  },
  {
   "cell_type": "markdown",
   "id": "40ea9b89",
   "metadata": {},
   "source": [
    "### Download project matrix"
   ]
  },
  {
   "cell_type": "code",
   "execution_count": 33,
   "id": "e18ca244",
   "metadata": {
    "scrolled": false,
    "tags": [
     "remove-input"
    ]
   },
   "outputs": [
    {
     "data": {
      "text/html": [
       "<div class=\"analyticsTable\" style=\"grid-template-columns: 1fr minmax(var(--value-width), min-content) minmax(var(--percentage-width), min-content) minmax(var(--value-width), min-content) minmax(var(--percentage-width), min-content)\"><div class=\"anaIndex anaColName\">Download Type</div><div class=\"anaColName\" style=\"grid-column: span 2\">Users</div><div class=\"anaColName\" style=\"grid-column: span 2\">Count</div><div class=\"anaIndex anaEven\">Project CGM Matrix</div><div class=\"anaCell anaEven anaSubcolLeft\">140</div><div class=\"anaCell anaEven anaSubcolRight\"><div class=\"anaNegative\">(-6.67%)</div></div><div class=\"anaCell anaEven anaSubcolLeft\">487</div><div class=\"anaCell anaEven anaSubcolRight\"><div class=\"anaNegative\">(-25.99%)</div></div><div class=\"anaIndex anaOdd\">Project DCP Matrix</div><div class=\"anaCell anaOdd anaSubcolLeft\">79</div><div class=\"anaCell anaOdd anaSubcolRight\"><div class=\"anaNegative\">(-5.95%)</div></div><div class=\"anaCell anaOdd anaSubcolLeft\">144</div><div class=\"anaCell anaOdd anaSubcolRight\"><div class=\"anaNegative\">(-18.64%)</div></div></div>"
      ],
      "text/plain": [
       "<IPython.core.display.HTML object>"
      ]
     },
     "metadata": {},
     "output_type": "display_data"
    }
   ],
   "source": [
    "ac.show_difference_table([\"Users\", \"Count\"], \"Download Type\", [\"ga:users\", \"ga:hits\"], [\"ga:dimension6\", \"ga:eventAction\", \"ga:eventCategory\"], filters=\"ga:eventCategory==Project;ga:eventAction==Download Project Matrix\", rows_type=\"fixed\", **default_params)"
   ]
  },
  {
   "cell_type": "markdown",
   "id": "da28c4af",
   "metadata": {},
   "source": [
    "### Request curl command for selected data"
   ]
  },
  {
   "cell_type": "code",
   "execution_count": 34,
   "id": "cb9e47bf",
   "metadata": {
    "scrolled": false,
    "tags": [
     "remove-input"
    ]
   },
   "outputs": [
    {
     "data": {
      "text/html": [
       "<div class=\"analyticsTable\" style=\"grid-template-columns: 1fr minmax(var(--value-width), min-content) minmax(var(--percentage-width), min-content) minmax(var(--value-width), min-content) minmax(var(--percentage-width), min-content)\"><div class=\"anaIndex anaColName\">curl Request From Search Results</div><div class=\"anaColName\" style=\"grid-column: span 2\">Users</div><div class=\"anaColName\" style=\"grid-column: span 2\">Count</div><div class=\"anaIndex anaEven\">Bulk Download</div><div class=\"anaCell anaEven anaSubcolLeft\">22</div><div class=\"anaCell anaEven anaSubcolRight\"><div class=\"anaPositive\">(+22.22%)</div></div><div class=\"anaCell anaEven anaSubcolLeft\">57</div><div class=\"anaCell anaEven anaSubcolRight\"><div class=\"anaPositive\">(+18.75%)</div></div></div>"
      ],
      "text/plain": [
       "<IPython.core.display.HTML object>"
      ]
     },
     "metadata": {},
     "output_type": "display_data"
    }
   ],
   "source": [
    "ac.show_difference_table([\"Users\", \"Count\"], \"curl Request From Search Results\", [\"ga:users\", \"ga:hits\"], [\"ga:dimension1\", \"ga:eventAction\", \"ga:eventCategory\"], filters=\"ga:eventAction==Request;ga:dimension1==Bulk Download\", rows_type=\"fixed\", **default_params)"
   ]
  },
  {
   "cell_type": "markdown",
   "id": "ae0dfd57",
   "metadata": {},
   "source": [
    "### Metadata request/download from selected data"
   ]
  },
  {
   "cell_type": "code",
   "execution_count": 35,
   "id": "246c95a3",
   "metadata": {
    "scrolled": false,
    "tags": [
     "remove-input"
    ]
   },
   "outputs": [
    {
     "data": {
      "text/html": [
       "<div class=\"analyticsTable\" style=\"grid-template-columns: 1fr minmax(var(--value-width), min-content) minmax(var(--percentage-width), min-content) minmax(var(--value-width), min-content) minmax(var(--percentage-width), min-content)\"><div class=\"anaIndex anaColName\">Metadata Request/Download From Search Results</div><div class=\"anaColName\" style=\"grid-column: span 2\">Users</div><div class=\"anaColName\" style=\"grid-column: span 2\">Count</div><div class=\"anaIndex anaEven\">Cohort Manifest</div><div class=\"anaCell anaEven anaSubcolLeft\">11</div><div class=\"anaCell anaEven anaSubcolRight\"><div class=\"anaNegative\">(-21.43%)</div></div><div class=\"anaCell anaEven anaSubcolLeft\">16</div><div class=\"anaCell anaEven anaSubcolRight\"><div class=\"anaNegative\">(-48.39%)</div></div><div class=\"anaIndex anaOdd\">Cohort Manifest Link</div><div class=\"anaCell anaOdd anaSubcolLeft\">9</div><div class=\"anaCell anaOdd anaSubcolRight\"><div class=\"anaNegative\">(-30.77%)</div></div><div class=\"anaCell anaOdd anaSubcolLeft\">11</div><div class=\"anaCell anaOdd anaSubcolRight\"><div class=\"anaNegative\">(-57.69%)</div></div></div>"
      ],
      "text/plain": [
       "<IPython.core.display.HTML object>"
      ]
     },
     "metadata": {},
     "output_type": "display_data"
    }
   ],
   "source": [
    "ac.show_difference_table([\"Users\", \"Count\"], \"Metadata Request/Download From Search Results\", [\"ga:users\", \"ga:hits\"], [\"ga:dimension1\", \"ga:eventAction\", \"ga:eventCategory\"], filters=\"ga:eventCategory==Manifest;ga:eventAction=~Request|Download;ga:dimension1=~Cohort Manifest|Cohort Manifest Link\", rows_type=\"fixed\", **default_params)"
   ]
  },
  {
   "cell_type": "markdown",
   "id": "68028cea",
   "metadata": {},
   "source": [
    "### Request export from selected data"
   ]
  },
  {
   "cell_type": "code",
   "execution_count": 36,
   "id": "18ac8d42",
   "metadata": {
    "scrolled": false,
    "tags": [
     "remove-input"
    ]
   },
   "outputs": [
    {
     "data": {
      "text/html": [
       "<div class=\"analyticsTable\" style=\"grid-template-columns: 1fr minmax(var(--value-width), min-content) minmax(var(--percentage-width), min-content) minmax(var(--value-width), min-content) minmax(var(--percentage-width), min-content)\"><div class=\"anaIndex anaColName\">Request Export From Search Results</div><div class=\"anaColName\" style=\"grid-column: span 2\">Users</div><div class=\"anaColName\" style=\"grid-column: span 2\">Count</div><div class=\"anaIndex anaEven\">Terra</div><div class=\"anaCell anaEven anaSubcolLeft\">20</div><div class=\"anaCell anaEven anaSubcolRight\"><div class=\"anaPositive\">(+17.65%)</div></div><div class=\"anaCell anaEven anaSubcolLeft\">24</div><div class=\"anaCell anaEven anaSubcolRight\"><div class=\"anaPositive\">(+4.35%)</div></div></div>"
      ],
      "text/plain": [
       "<IPython.core.display.HTML object>"
      ]
     },
     "metadata": {},
     "output_type": "display_data"
    }
   ],
   "source": [
    "ac.show_difference_table([\"Users\", \"Count\"], \"Request Export From Search Results\", [\"ga:users\", \"ga:hits\"], [\"ga:dimension3\", \"ga:dimension1\", \"ga:eventAction\", \"ga:eventCategory\"], filters=\"ga:eventCategory==Export;ga:eventAction==Request;ga:dimension1==Cohort Export;ga:dimension3==Terra\", rows_type=\"fixed\", **default_params)"
   ]
  },
  {
   "cell_type": "markdown",
   "id": "3a9de92f",
   "metadata": {},
   "source": [
    "### Direct file downloads (from files tab)"
   ]
  },
  {
   "cell_type": "code",
   "execution_count": 37,
   "id": "51986a0d",
   "metadata": {
    "scrolled": false,
    "tags": [
     "remove-input"
    ]
   },
   "outputs": [
    {
     "data": {
      "text/html": [
       "<div class=\"analyticsTable\" style=\"grid-template-columns: 1fr minmax(var(--value-width), min-content) minmax(var(--percentage-width), min-content) minmax(var(--value-width), min-content) minmax(var(--percentage-width), min-content)\"><div class=\"anaIndex anaColName\">Action</div><div class=\"anaColName\" style=\"grid-column: span 2\">Users</div><div class=\"anaColName\" style=\"grid-column: span 2\">Count</div><div class=\"anaIndex anaEven\">Download</div><div class=\"anaCell anaEven anaSubcolLeft\">8</div><div class=\"anaCell anaEven anaSubcolRight\"><div class=\"anaPositive\">(+33.33%)</div></div><div class=\"anaCell anaEven anaSubcolLeft\">20</div><div class=\"anaCell anaEven anaSubcolRight\"><div class=\"anaPositive\">(+81.82%)</div></div></div>"
      ],
      "text/plain": [
       "<IPython.core.display.HTML object>"
      ]
     },
     "metadata": {},
     "output_type": "display_data"
    }
   ],
   "source": [
    "ac.show_difference_table([\"Users\", \"Count\"], \"Action\", [\"ga:users\", \"ga:hits\"], [\"ga:eventAction\", \"ga:eventCategory\"], filters=\"ga:eventCategory==File;ga:eventAction==Download\", rows_type=\"fixed\", **default_params)"
   ]
  },
  {
   "cell_type": "markdown",
   "id": "771e4792",
   "metadata": {},
   "source": [
    "### Top direct file download file types (from files tab)"
   ]
  },
  {
   "cell_type": "code",
   "execution_count": 38,
   "id": "30805383",
   "metadata": {
    "scrolled": true,
    "tags": [
     "remove-input"
    ]
   },
   "outputs": [
    {
     "data": {
      "text/html": [
       "<div class=\"analyticsTable\" style=\"grid-template-columns: 1fr var(--symbol-width) minmax(var(--value-width), min-content) minmax(var(--percentage-width), min-content)\"><div class=\"anaIndex anaColName\">File Type</div><div class=\"anaColName\" style=\"grid-column: span 3\">Downloads</div><div class=\"anaIndex anaEven\">fastq.gz</div><div class=\"anaCell anaEven anaSubcolLeft\"><div class=\"new\"></div></div><div class=\"anaCell anaEven\">8</div><div class=\"anaCell anaEven anaSubcolRight\"></div><div class=\"anaIndex anaOdd\">bam</div><div class=\"anaCell anaOdd anaSubcolLeft\"><div class=\"new\"></div></div><div class=\"anaCell anaOdd\">4</div><div class=\"anaCell anaOdd anaSubcolRight\"></div><div class=\"anaIndex anaEven\">csv</div><div class=\"anaCell anaEven anaSubcolLeft\"><div class=\"new\"></div></div><div class=\"anaCell anaEven\">2</div><div class=\"anaCell anaEven anaSubcolRight\"></div><div class=\"anaIndex anaOdd\">jpg</div><div class=\"anaCell anaOdd anaSubcolLeft\"><div class=\"new\"></div></div><div class=\"anaCell anaOdd\">2</div><div class=\"anaCell anaOdd anaSubcolRight\"></div><div class=\"anaIndex anaEven\">loom</div><div class=\"anaCell anaEven anaSubcolLeft\"><div class=\"down\"></div></div><div class=\"anaCell anaEven\">2</div><div class=\"anaCell anaEven anaSubcolRight\"><div class=\"anaNegative\">(-33.33%)</div></div><div class=\"anaIndex anaOdd\">h5ad.zip</div><div class=\"anaCell anaOdd anaSubcolLeft\"><div class=\"new\"></div></div><div class=\"anaCell anaOdd\">1</div><div class=\"anaCell anaOdd anaSubcolRight\"></div><div class=\"anaIndex anaEven\">tar</div><div class=\"anaCell anaEven anaSubcolLeft\"><div class=\"new\"></div></div><div class=\"anaCell anaEven\">1</div><div class=\"anaCell anaEven anaSubcolRight\"></div></div>"
      ],
      "text/plain": [
       "<IPython.core.display.HTML object>"
      ]
     },
     "metadata": {},
     "output_type": "display_data"
    }
   ],
   "source": [
    "ac.show_difference_table(\"Downloads\", \"File Type\", \"ga:hits\", \"ga:dimension6\", filters=\"ga:eventCategory==File;ga:eventAction==Download\", **default_params)"
   ]
  },
  {
   "cell_type": "markdown",
   "id": "314f04c7",
   "metadata": {},
   "source": [
    "<div style=\"page-break-after: always\"></div>"
   ]
  },
  {
   "cell_type": "markdown",
   "id": "5fd5afaa",
   "metadata": {},
   "source": [
    "### Top \"export selected data\" queries"
   ]
  },
  {
   "cell_type": "code",
   "execution_count": 23,
   "id": "5fb87fc7",
   "metadata": {
    "scrolled": true,
    "tags": [
     "remove-input"
    ]
   },
   "outputs": [
    {
     "data": {
      "text/html": [
       "<div class=\"analyticsTable\" style=\"page-break-after: always; grid-template-columns: 1fr var(--symbol-width) minmax(var(--value-width), min-content) minmax(var(--percentage-width), min-content)\"><div class=\"anaIndex anaColName\">Query</div><div class=\"anaColName\" style=\"grid-column: span 3\">Selected for Export Count</div><div class=\"anaIndex anaEven\">export to terra\n",
       "specimenOrganPart: lower lobe of left lung, lower lobe of lung, lower lobe of right lung, lung, lung bud, lung epithelium, lung parenchyma\n",
       "Project: <a href=\"https://data.humancellatlas.org/explore/projects/c0518445-3b3b-49c6-b8fc-c41daa4eacba\">A cellular census of human lungs identifies novel cell states in health and in asthma</a>\n",
       "genusSpecies: Homo sapiens\n",
       "fileFormat: RData.gz</div><div class=\"anaCell anaEven anaSubcolLeft\"><div class=\"new\"></div></div><div class=\"anaCell anaEven\">8</div><div class=\"anaCell anaEven anaSubcolRight\"></div><div class=\"anaIndex anaOdd\">get curl command\n",
       "Project: <a href=\"https://data.humancellatlas.org/explore/projects/577c946d-6de5-4b55-a854-cd3fde40bff2\">The Single Cell Transcriptomic Landscape of Early Human Diabetic Nephropathy</a>\n",
       "genusSpecies: Homo sapiens\n",
       "fileFormat: fastq.gz, tar</div><div class=\"anaCell anaOdd anaSubcolLeft\"><div class=\"new\"></div></div><div class=\"anaCell anaOdd\">7</div><div class=\"anaCell anaOdd anaSubcolRight\"></div><div class=\"anaIndex anaEven\">get curl command\n",
       "specimenOrgan: liver\n",
       "genusSpecies: Homo sapiens\n",
       "donorDisease: normal\n",
       "fileFormat: RDS</div><div class=\"anaCell anaEven anaSubcolLeft\"><div class=\"new\"></div></div><div class=\"anaCell anaEven\">6</div><div class=\"anaCell anaEven anaSubcolRight\"></div><div class=\"anaIndex anaOdd\">download manifest\n",
       "specimenOrgan: stomach\n",
       "genusSpecies: Homo sapiens\n",
       "fileFormat: RDS</div><div class=\"anaCell anaOdd anaSubcolLeft\"><div class=\"new\"></div></div><div class=\"anaCell anaOdd\">6</div><div class=\"anaCell anaOdd anaSubcolRight\"></div><div class=\"anaIndex anaEven\">get curl command\n",
       "specimenOrgan: liver\n",
       "Project: <a href=\"https://data.humancellatlas.org/explore/projects/f2fe82f0-4454-4d84-b416-a885f3121e59\">Decoding human fetal liver haematopoiesis</a>, <a href=\"https://data.humancellatlas.org/explore/projects/4d6f6c96-2a83-43d8-8fe1-0f53bffd4674\">Dissecting the human liver cellular landscape by single cell RNA-seq reveals novel intrahepatic monocyte/ macrophage populations</a></div><div class=\"anaCell anaEven anaSubcolLeft\"><div class=\"new\"></div></div><div class=\"anaCell anaEven\">5</div><div class=\"anaCell anaEven anaSubcolRight\"></div><div class=\"anaIndex anaOdd\">export to terra\n",
       "nucleicAcidSource: single nucleus\n",
       "specimenOrgan: heart\n",
       "Project: <a href=\"https://data.humancellatlas.org/explore/projects/ad98d3cd-26fb-4ee3-99c9-8a2ab085e737\">Cells of the adult human heart</a>\n",
       "genusSpecies: Homo sapiens\n",
       "fileFormat: bam, loom</div><div class=\"anaCell anaOdd anaSubcolLeft\"><div class=\"new\"></div></div><div class=\"anaCell anaOdd\">5</div><div class=\"anaCell anaOdd anaSubcolRight\"></div><div class=\"anaIndex anaEven\">get curl command\n",
       "fileFormat: bam\n",
       "genusSpecies: Homo sapiens\n",
       "donorDisease: breast cancer\n",
       "Project: <a href=\"https://data.humancellatlas.org/explore/projects/f6133d2a-9f3d-4ef9-9c19-c23d6c7e6cc0\">Single cell sequencing identifies novel sub-populations of breast cancer cells selected under hypoxia</a></div><div class=\"anaCell anaEven anaSubcolLeft\"><div class=\"new\"></div></div><div class=\"anaCell anaEven\">4</div><div class=\"anaCell anaEven anaSubcolRight\"></div><div class=\"anaIndex anaOdd\">download manifest\n",
       "specimenOrgan: stomach\n",
       "genusSpecies: Homo sapiens\n",
       "fileFormat: RDS, fastq</div><div class=\"anaCell anaOdd anaSubcolLeft\"><div class=\"new\"></div></div><div class=\"anaCell anaOdd\">4</div><div class=\"anaCell anaOdd anaSubcolRight\"></div><div class=\"anaIndex anaEven\">get curl command, select species\n",
       "specimenOrgan: immune system\n",
       "fileFormat: fastq.gz\n",
       "Project: <a href=\"https://data.humancellatlas.org/explore/projects/cc95ff89-2e68-4a08-a234-480eca21ce79\">Census of Immune Cells</a></div><div class=\"anaCell anaEven anaSubcolLeft\"><div class=\"new\"></div></div><div class=\"anaCell anaEven\">4</div><div class=\"anaCell anaEven anaSubcolRight\"></div><div class=\"anaIndex anaOdd\">get curl command, select species\n",
       "specimenOrgan: liver\n",
       "Project: <a href=\"https://data.humancellatlas.org/explore/projects/f2fe82f0-4454-4d84-b416-a885f3121e59\">Decoding human fetal liver haematopoiesis</a>, <a href=\"https://data.humancellatlas.org/explore/projects/4d6f6c96-2a83-43d8-8fe1-0f53bffd4674\">Dissecting the human liver cellular landscape by single cell RNA-seq reveals novel intrahepatic monocyte/ macrophage populations</a></div><div class=\"anaCell anaOdd anaSubcolLeft\"><div class=\"new\"></div></div><div class=\"anaCell anaOdd\">4</div><div class=\"anaCell anaOdd anaSubcolRight\"></div></div><div class=\"analyticsTable\" style=\"page-break-after: always; grid-template-columns: 1fr var(--symbol-width) minmax(var(--value-width), min-content) minmax(var(--percentage-width), min-content)\"><div class=\"anaIndex anaColName\">Query</div><div class=\"anaColName\" style=\"grid-column: span 3\">Selected for Export Count</div><div class=\"anaIndex anaEven\">get curl command\n",
       "fileFormat: bam, fastq.gz\n",
       "genusSpecies: Homo sapiens\n",
       "donorDisease: breast cancer\n",
       "Project: <a href=\"https://data.humancellatlas.org/explore/projects/f6133d2a-9f3d-4ef9-9c19-c23d6c7e6cc0\">Single cell sequencing identifies novel sub-populations of breast cancer cells selected under hypoxia</a></div><div class=\"anaCell anaEven anaSubcolLeft\"><div class=\"new\"></div></div><div class=\"anaCell anaEven\">4</div><div class=\"anaCell anaEven anaSubcolRight\"></div><div class=\"anaIndex anaOdd\">export to terra\n",
       "specimenOrganPart: lower lobe of left lung, lower lobe of lung, lower lobe of right lung, lung, lung bud, lung epithelium, lung parenchyma\n",
       "Project: <a href=\"https://data.humancellatlas.org/explore/projects/c0518445-3b3b-49c6-b8fc-c41daa4eacba\">A cellular census of human lungs identifies novel cell states in health and in asthma</a>\n",
       "genusSpecies: Homo sapiens</div><div class=\"anaCell anaOdd anaSubcolLeft\"><div class=\"new\"></div></div><div class=\"anaCell anaOdd\">4</div><div class=\"anaCell anaOdd anaSubcolRight\"></div><div class=\"anaIndex anaEven\">download manifest, select species\n",
       "specimenOrgan: immune system\n",
       "fileFormat: fastq.gz\n",
       "Project: <a href=\"https://data.humancellatlas.org/explore/projects/cc95ff89-2e68-4a08-a234-480eca21ce79\">Census of Immune Cells</a>\n",
       "genusSpecies: Homo sapiens</div><div class=\"anaCell anaEven anaSubcolLeft\"><div class=\"new\"></div></div><div class=\"anaCell anaEven\">4</div><div class=\"anaCell anaEven anaSubcolRight\"></div><div class=\"anaIndex anaOdd\">download manifest\n",
       "specimenOrgan: lung\n",
       "Project: <a href=\"https://data.humancellatlas.org/explore/projects/c0518445-3b3b-49c6-b8fc-c41daa4eacba\">A cellular census of human lungs identifies novel cell states in health and in asthma</a>, <a href=\"https://data.humancellatlas.org/explore/projects/a9301beb-e9fa-42fe-b75c-84e8a460c733\">A human cell atlas of fetal gene expression.</a>, <a href=\"https://data.humancellatlas.org/explore/projects/c31fa434-c9ed-4263-a9b6-d9ffb9d44005\">A single-cell atlas of chromatin accessibility in the human genome</a>, <a href=\"https://data.humancellatlas.org/explore/projects/4a95101c-9ffc-4f30-a809-f04518a23803\">A single-cell reference map of transcriptional states for human blood and tissue T cell activation</a>, <a href=\"https://data.humancellatlas.org/explore/projects/957261f7-2bd6-4358-a6ed-24ee080d5cfc\">A spatial multi-omics atlas of the human lung reveals a novel immune cell survival niche</a>, <a href=\"https://data.humancellatlas.org/explore/projects/7ac8822c-4ef0-4194-adf0-74290611b1c6\">COVID-19 severity correlates with airway epithelium-immune cell interactions identified by single-cell analysis.</a>, <a href=\"https://data.humancellatlas.org/explore/projects/1dddae6e-3753-48af-b20e-fa22abad125d\">Cell Types of the Human Retina and Its Organoids at Single-Cell Resolution</a>, <a href=\"https://data.humancellatlas.org/explore/projects/b4a7d12f-6c2f-40a3-9e35-9756997857e3\">Defining the Activated Fibroblast Population in Lung Fibrosis Using Single Cell Sequencing.</a>, <a href=\"https://data.humancellatlas.org/explore/projects/5eafb94b-02d8-423e-81b8-3673da319ca0\">Differentiation of Human Intestinal Organoids with Endogenous Vascular Endothelial Cells</a>, <a href=\"https://data.humancellatlas.org/explore/projects/2a64db43-1b55-4639-aabb-8dba0145689d\">Direct exposure to SARS-CoV-2 and cigarette smoke increases infection severity and alters the stem cell-derived airway repair response</a>, <a href=\"https://data.humancellatlas.org/explore/projects/769a08d1-b8a4-4f1e-95f7-6071a9827555\">Hypertension delays viral clearance and exacerbates airway hyperinflammation in patients with COVID-19</a>, <a href=\"https://data.humancellatlas.org/explore/projects/0562d2ae-0b8a-459e-bbc0-6357108e5da9\">Improving fibroblast characterization using single-cell RNA sequencing: an optimized tissue disaggregation and data processing pipeline.</a>, <a href=\"https://data.humancellatlas.org/explore/projects/b32a9915-c81b-4cbc-af53-3a66b5da3c9a\">In Vitro and In Vivo Development of the Human Airway at Single-Cell Resolution</a>, <a href=\"https://data.humancellatlas.org/explore/projects/2f676143-80c2-4bc6-b7b4-2613fe0fadf0\">Integrative analysis of cell state changes in lung fibrosis with peripheral protein biomarkers</a>, <a href=\"https://data.humancellatlas.org/explore/projects/c4077b3c-5c98-4d26-a614-246d12c2e5d7\">Ischaemic sensitivity of human tissue by single cell RNA seq</a>, <a href=\"https://data.humancellatlas.org/explore/projects/0792db34-8047-4e62-802c-9177c9cd8e28\">Joint profiling of chromatin accessibility and gene expression in thousands of single cells</a>, <a href=\"https://data.humancellatlas.org/explore/projects/58028aa8-0ed2-49ca-b60f-15e2ed5989d5\">SARS‐CoV‐2 receptor ACE2 and TMPRSS2 are primarily expressed in bronchial transient secretory cells</a>, <a href=\"https://data.humancellatlas.org/explore/projects/d7b7beae-652b-4fc0-9bf2-bcda7c7115af\">Single Cell RNAseq of primary pulmonary endothelial cells.</a>, <a href=\"https://data.humancellatlas.org/explore/projects/65858543-530d-48a6-a670-f972b34dfe10\">Single cell RNA-sequencing on healthy and IPF lung mesenchymal cells.</a>, <a href=\"https://data.humancellatlas.org/explore/projects/daf9d982-7ce6-43f6-ab51-272577290606\">Single-Cell Transcriptomic Analysis of Human Lung Provides Insights into the Pathobiology of Pulmonary Fibrosis.</a>, <a href=\"https://data.humancellatlas.org/explore/projects/c1a9a93d-d9de-4e65-9619-a9cec1052eaa\">Single-cell RNA-sequencing reveals profibrotic roles of distinct epithelial and mesenchymal lineages in pulmonary fibrosis</a>, <a href=\"https://data.humancellatlas.org/explore/projects/ad04c8e7-9b7d-4cce-b8e9-01e31da10b94\">Single-cell Transcriptome Analysis Reveals an Anomalous Epithelial Variation and Ectopic Inflammatory Response in Chronic Obstructive Pulmonary Disease</a>, <a href=\"https://data.humancellatlas.org/explore/projects/31887183-a72c-4308-9eac-c6140313f39c\">Single-nucleus cross-tissue molecular reference maps to decipher disease gene function.</a>, <a href=\"https://data.humancellatlas.org/explore/projects/e0009214-c0a0-4a7b-96e2-d6a83e966ce0\">Tabula Muris: Transcriptomic characterization of 20 organs and tissues from Mus musculus at single cell resolution</a>, <a href=\"https://data.humancellatlas.org/explore/projects/10201832-7c73-4033-9b65-3ef13d81656a\">The Tabula Sapiens: a single cell transcriptomic atlas of multiple organs from individual human donors</a></div><div class=\"anaCell anaOdd anaSubcolLeft\"><div class=\"new\"></div></div><div class=\"anaCell anaOdd\">4</div><div class=\"anaCell anaOdd anaSubcolRight\"></div><div class=\"anaIndex anaEven\">get curl command, select species\n",
       "genusSpecies: Homo sapiens\n",
       "libraryConstructionApproach: 10x 3&#x27; v2\n",
       "fileFormat: bam\n",
       "selectedCellType: embryonic fibroblast</div><div class=\"anaCell anaEven anaSubcolLeft\"><div class=\"new\"></div></div><div class=\"anaCell anaEven\">4</div><div class=\"anaCell anaEven anaSubcolRight\"></div><div class=\"anaIndex anaOdd\">get curl command\n",
       "specimenOrgan: liver\n",
       "genusSpecies: Homo sapiens\n",
       "donorDisease: normal</div><div class=\"anaCell anaOdd anaSubcolLeft\"><div class=\"new\"></div></div><div class=\"anaCell anaOdd\">4</div><div class=\"anaCell anaOdd anaSubcolRight\"></div><div class=\"anaIndex anaEven\">get curl command\n",
       "publicationTitle: The Tabula Sapiens: a multiple organ single cell transcriptomic atlas of humans\n",
       "genusSpecies: Homo sapiens\n",
       "fileFormat: h5ad.zip</div><div class=\"anaCell anaEven anaSubcolLeft\"><div class=\"new\"></div></div><div class=\"anaCell anaEven\">4</div><div class=\"anaCell anaEven anaSubcolRight\"></div></div><div class=\"analyticsTable\" style=\"grid-template-columns: 1fr var(--symbol-width) minmax(var(--value-width), min-content) minmax(var(--percentage-width), min-content)\"><div class=\"anaIndex anaColName\">Query</div><div class=\"anaColName\" style=\"grid-column: span 3\">Selected for Export Count</div><div class=\"anaIndex anaEven\">export to terra, select species\n",
       "specimenOrganPart: lower lobe of left lung, lower lobe of lung, lower lobe of right lung, lung, lung bud, lung epithelium, lung parenchyma\n",
       "Project: <a href=\"https://data.humancellatlas.org/explore/projects/c0518445-3b3b-49c6-b8fc-c41daa4eacba\">A cellular census of human lungs identifies novel cell states in health and in asthma</a>\n",
       "genusSpecies: Homo sapiens\n",
       "fileFormat: RData.gz</div><div class=\"anaCell anaEven anaSubcolLeft\"><div class=\"new\"></div></div><div class=\"anaCell anaEven\">4</div><div class=\"anaCell anaEven anaSubcolRight\"></div><div class=\"anaIndex anaOdd\">download manifest\n",
       "specimenOrgan: lung\n",
       "Project: <a href=\"https://data.humancellatlas.org/explore/projects/c0518445-3b3b-49c6-b8fc-c41daa4eacba\">A cellular census of human lungs identifies novel cell states in health and in asthma</a>, <a href=\"https://data.humancellatlas.org/explore/projects/a9301beb-e9fa-42fe-b75c-84e8a460c733\">A human cell atlas of fetal gene expression.</a>, <a href=\"https://data.humancellatlas.org/explore/projects/c31fa434-c9ed-4263-a9b6-d9ffb9d44005\">A single-cell atlas of chromatin accessibility in the human genome</a>, <a href=\"https://data.humancellatlas.org/explore/projects/4a95101c-9ffc-4f30-a809-f04518a23803\">A single-cell reference map of transcriptional states for human blood and tissue T cell activation</a>, <a href=\"https://data.humancellatlas.org/explore/projects/957261f7-2bd6-4358-a6ed-24ee080d5cfc\">A spatial multi-omics atlas of the human lung reveals a novel immune cell survival niche</a>, <a href=\"https://data.humancellatlas.org/explore/projects/7ac8822c-4ef0-4194-adf0-74290611b1c6\">COVID-19 severity correlates with airway epithelium-immune cell interactions identified by single-cell analysis.</a>, <a href=\"https://data.humancellatlas.org/explore/projects/1dddae6e-3753-48af-b20e-fa22abad125d\">Cell Types of the Human Retina and Its Organoids at Single-Cell Resolution</a>, <a href=\"https://data.humancellatlas.org/explore/projects/b4a7d12f-6c2f-40a3-9e35-9756997857e3\">Defining the Activated Fibroblast Population in Lung Fibrosis Using Single Cell Sequencing.</a>, <a href=\"https://data.humancellatlas.org/explore/projects/5eafb94b-02d8-423e-81b8-3673da319ca0\">Differentiation of Human Intestinal Organoids with Endogenous Vascular Endothelial Cells</a>, <a href=\"https://data.humancellatlas.org/explore/projects/2a64db43-1b55-4639-aabb-8dba0145689d\">Direct exposure to SARS-CoV-2 and cigarette smoke increases infection severity and alters the stem cell-derived airway repair response</a>, <a href=\"https://data.humancellatlas.org/explore/projects/769a08d1-b8a4-4f1e-95f7-6071a9827555\">Hypertension delays viral clearance and exacerbates airway hyperinflammation in patients with COVID-19</a>, <a href=\"https://data.humancellatlas.org/explore/projects/0562d2ae-0b8a-459e-bbc0-6357108e5da9\">Improving fibroblast characterization using single-cell RNA sequencing: an optimized tissue disaggregation and data processing pipeline.</a>, <a href=\"https://data.humancellatlas.org/explore/projects/b32a9915-c81b-4cbc-af53-3a66b5da3c9a\">In Vitro and In Vivo Development of the Human Airway at Single-Cell Resolution</a>, <a href=\"https://data.humancellatlas.org/explore/projects/2f676143-80c2-4bc6-b7b4-2613fe0fadf0\">Integrative analysis of cell state changes in lung fibrosis with peripheral protein biomarkers</a>, <a href=\"https://data.humancellatlas.org/explore/projects/c4077b3c-5c98-4d26-a614-246d12c2e5d7\">Ischaemic sensitivity of human tissue by single cell RNA seq</a>, <a href=\"https://data.humancellatlas.org/explore/projects/0792db34-8047-4e62-802c-9177c9cd8e28\">Joint profiling of chromatin accessibility and gene expression in thousands of single cells</a>, <a href=\"https://data.humancellatlas.org/explore/projects/58028aa8-0ed2-49ca-b60f-15e2ed5989d5\">SARS‐CoV‐2 receptor ACE2 and TMPRSS2 are primarily expressed in bronchial transient secretory cells</a>, <a href=\"https://data.humancellatlas.org/explore/projects/d7b7beae-652b-4fc0-9bf2-bcda7c7115af\">Single Cell RNAseq of primary pulmonary endothelial cells.</a>, <a href=\"https://data.humancellatlas.org/explore/projects/65858543-530d-48a6-a670-f972b34dfe10\">Single cell RNA-sequencing on healthy and IPF lung mesenchymal cells.</a>, <a href=\"https://data.humancellatlas.org/explore/projects/daf9d982-7ce6-43f6-ab51-272577290606\">Single-Cell Transcriptomic Analysis of Human Lung Provides Insights into the Pathobiology of Pulmonary Fibrosis.</a>, <a href=\"https://data.humancellatlas.org/explore/projects/c1a9a93d-d9de-4e65-9619-a9cec1052eaa\">Single-cell RNA-sequencing reveals profibrotic roles of distinct epithelial and mesenchymal lineages in pulmonary fibrosis</a>, <a href=\"https://data.humancellatlas.org/explore/projects/ad04c8e7-9b7d-4cce-b8e9-01e31da10b94\">Single-cell Transcriptome Analysis Reveals an Anomalous Epithelial Variation and Ectopic Inflammatory Response in Chronic Obstructive Pulmonary Disease</a>, <a href=\"https://data.humancellatlas.org/explore/projects/31887183-a72c-4308-9eac-c6140313f39c\">Single-nucleus cross-tissue molecular reference maps to decipher disease gene function.</a>, <a href=\"https://data.humancellatlas.org/explore/projects/e0009214-c0a0-4a7b-96e2-d6a83e966ce0\">Tabula Muris: Transcriptomic characterization of 20 organs and tissues from Mus musculus at single cell resolution</a>, <a href=\"https://data.humancellatlas.org/explore/projects/10201832-7c73-4033-9b65-3ef13d81656a\">The Tabula Sapiens: a single cell transcriptomic atlas of multiple organs from individual human donors</a>\n",
       "genusSpecies: Homo sapiens\n",
       "fileFormat: .txt</div><div class=\"anaCell anaOdd anaSubcolLeft\"><div class=\"new\"></div></div><div class=\"anaCell anaOdd\">4</div><div class=\"anaCell anaOdd anaSubcolRight\"></div><div class=\"anaIndex anaEven\">get curl command, select species\n",
       "donorDisease: tongue cancer\n",
       "Project: <a href=\"https://data.humancellatlas.org/explore/projects/3089d311-f9ed-44dd-bb10-397059bad4dc\">Immune landscape of viral- and carcinogen-drived head and neck cancer</a>\n",
       "fileFormat: bam, fastq.gz\n",
       "specimenDisease: human papilloma virus infection\n",
       "genusSpecies: Homo sapiens</div><div class=\"anaCell anaEven anaSubcolLeft\"><div class=\"new\"></div></div><div class=\"anaCell anaEven\">3</div><div class=\"anaCell anaEven anaSubcolRight\"></div></div>"
      ],
      "text/plain": [
       "<IPython.core.display.HTML object>"
      ]
     },
     "metadata": {},
     "output_type": "display_data"
    }
   ],
   "source": [
    "ac.show_difference_table(\"Selected for Export Count\", \"Query\", \"ga:pageviews\", \"ga:pagePath\", filters=\"ga:pagePath=~/explore/export/export-to-terra|/explore/export/get-curl-command|/explore/export/download-manifest\", rows_limit=24, split_vertical=[14], **default_params)"
   ]
  },
  {
   "cell_type": "markdown",
   "id": "7d781353",
   "metadata": {},
   "source": [
    "<div style=\"page-break-after: always\"></div>"
   ]
  },
  {
   "cell_type": "markdown",
   "id": "a017b0dd",
   "metadata": {},
   "source": [
    "## Entities\n",
    "### Entity tabs selections (project, samples, files)"
   ]
  },
  {
   "cell_type": "code",
   "execution_count": 40,
   "id": "615a50a1",
   "metadata": {
    "scrolled": false,
    "tags": [
     "remove-input"
    ]
   },
   "outputs": [
    {
     "data": {
      "text/html": [
       "<div class=\"analyticsTable\" style=\"grid-template-columns: 1fr var(--symbol-width) minmax(var(--value-width), min-content) minmax(var(--percentage-width), min-content)\"><div class=\"anaIndex anaColName\">Entity Tab</div><div class=\"anaColName\" style=\"grid-column: span 3\">Count</div><div class=\"anaIndex anaEven\">Projects</div><div class=\"anaCell anaEven anaSubcolLeft\"></div><div class=\"anaCell anaEven\">622</div><div class=\"anaCell anaEven anaSubcolRight\"><div class=\"anaPositive\">(+27.20%)</div></div><div class=\"anaIndex anaOdd\">Samples</div><div class=\"anaCell anaOdd anaSubcolLeft\"></div><div class=\"anaCell anaOdd\">344</div><div class=\"anaCell anaOdd anaSubcolRight\"><div class=\"anaPositive\">(+21.99%)</div></div><div class=\"anaIndex anaEven\">Files</div><div class=\"anaCell anaEven anaSubcolLeft\"></div><div class=\"anaCell anaEven\">198</div><div class=\"anaCell anaEven anaSubcolRight\"><div class=\"anaPositive\">(+31.13%)</div></div></div>"
      ],
      "text/plain": [
       "<IPython.core.display.HTML object>"
      ]
     },
     "metadata": {},
     "output_type": "display_data"
    }
   ],
   "source": [
    "ac.show_difference_table(\"Count\", \"Entity Tab\", \"ga:hits\", \"ga:eventLabel\", filters=\"ga:eventCategory==Entity;ga:eventAction==Select Tab\", **default_params)"
   ]
  },
  {
   "cell_type": "markdown",
   "id": "f60027fa",
   "metadata": {},
   "source": [
    "## Search facets\n",
    "### Top facets"
   ]
  },
  {
   "cell_type": "code",
   "execution_count": 41,
   "id": "b7fde3a7",
   "metadata": {
    "scrolled": true,
    "tags": [
     "remove-input"
    ]
   },
   "outputs": [
    {
     "data": {
      "text/html": [
       "<div class=\"analyticsTable\" style=\"grid-template-columns: 1fr var(--symbol-width) minmax(var(--value-width), min-content) minmax(var(--percentage-width), min-content)\"><div class=\"anaIndex anaColName\">Facet</div><div class=\"anaColName\" style=\"grid-column: span 3\">Count</div><div class=\"anaIndex anaEven\">projectId</div><div class=\"anaCell anaEven anaSubcolLeft\"></div><div class=\"anaCell anaEven\">736</div><div class=\"anaCell anaEven anaSubcolRight\"><div class=\"anaPositive\">(+12.54%)</div></div><div class=\"anaIndex anaOdd\">specimenOrgan</div><div class=\"anaCell anaOdd anaSubcolLeft\"></div><div class=\"anaCell anaOdd\">453</div><div class=\"anaCell anaOdd anaSubcolRight\"><div class=\"anaNegative\">(-12.55%)</div></div><div class=\"anaIndex anaEven\">genusSpecies</div><div class=\"anaCell anaEven anaSubcolLeft\"><div class=\"up\"></div></div><div class=\"anaCell anaEven\">333</div><div class=\"anaCell anaEven anaSubcolRight\"><div class=\"anaNegative\">(-7.76%)</div></div><div class=\"anaIndex anaOdd\">specimenOrganPart</div><div class=\"anaCell anaOdd anaSubcolLeft\"><div class=\"up\"></div></div><div class=\"anaCell anaOdd\">303</div><div class=\"anaCell anaOdd anaSubcolRight\"><div class=\"anaPositive\">(+8.21%)</div></div><div class=\"anaIndex anaEven\">fileFormat</div><div class=\"anaCell anaEven anaSubcolLeft\"><div class=\"down\"></div></div><div class=\"anaCell anaEven\">270</div><div class=\"anaCell anaEven anaSubcolRight\"><div class=\"anaNegative\">(-37.06%)</div></div><div class=\"anaIndex anaOdd\">libraryConstructionApproach</div><div class=\"anaCell anaOdd anaSubcolLeft\"></div><div class=\"anaCell anaOdd\">254</div><div class=\"anaCell anaOdd anaSubcolRight\"><div class=\"anaPositive\">(+22.71%)</div></div><div class=\"anaIndex anaEven\">specimenDisease</div><div class=\"anaCell anaEven anaSubcolLeft\"><div class=\"up\"></div></div><div class=\"anaCell anaEven\">203</div><div class=\"anaCell anaEven anaSubcolRight\"><div class=\"anaPositive\">(+23.03%)</div></div><div class=\"anaIndex anaOdd\">donorDisease</div><div class=\"anaCell anaOdd anaSubcolLeft\"><div class=\"up\"></div></div><div class=\"anaCell anaOdd\">175</div><div class=\"anaCell anaOdd anaSubcolRight\"><div class=\"anaPositive\">(+2.94%)</div></div><div class=\"anaIndex anaEven\">modelOrgan</div><div class=\"anaCell anaEven anaSubcolLeft\"><div class=\"down\"></div></div><div class=\"anaCell anaEven\">162</div><div class=\"anaCell anaEven anaSubcolRight\"><div class=\"anaNegative\">(-13.37%)</div></div><div class=\"anaIndex anaOdd\">selectedCellType</div><div class=\"anaCell anaOdd anaSubcolLeft\"><div class=\"down\"></div></div><div class=\"anaCell anaOdd\">162</div><div class=\"anaCell anaOdd anaSubcolRight\"><div class=\"anaNegative\">(-14.74%)</div></div><div class=\"anaIndex anaEven\">sampleEntityType</div><div class=\"anaCell anaEven anaSubcolLeft\"><div class=\"up\"></div></div><div class=\"anaCell anaEven\">112</div><div class=\"anaCell anaEven anaSubcolRight\"><div class=\"anaNegative\">(-1.75%)</div></div><div class=\"anaIndex anaOdd\">nucleicAcidSource</div><div class=\"anaCell anaOdd anaSubcolLeft\"><div class=\"up\"></div></div><div class=\"anaCell anaOdd\">93</div><div class=\"anaCell anaOdd anaSubcolRight\"><div class=\"anaPositive\">(+12.05%)</div></div><div class=\"anaIndex anaEven\">developmentStage</div><div class=\"anaCell anaEven anaSubcolLeft\"><div class=\"down\"></div></div><div class=\"anaCell anaEven\">51</div><div class=\"anaCell anaEven anaSubcolRight\"><div class=\"anaNegative\">(-55.65%)</div></div><div class=\"anaIndex anaOdd\">contentDescription</div><div class=\"anaCell anaOdd anaSubcolLeft\"><div class=\"up\"></div></div><div class=\"anaCell anaOdd\">51</div><div class=\"anaCell anaOdd anaSubcolRight\"><div class=\"anaPositive\">(+2.00%)</div></div><div class=\"anaIndex anaEven\">biologicalSex</div><div class=\"anaCell anaEven anaSubcolLeft\"><div class=\"up\"></div></div><div class=\"anaCell anaEven\">45</div><div class=\"anaCell anaEven anaSubcolRight\"><div class=\"anaPositive\">(+73.08%)</div></div><div class=\"anaIndex anaOdd\">workflow</div><div class=\"anaCell anaOdd anaSubcolLeft\"></div><div class=\"anaCell anaOdd\">44</div><div class=\"anaCell anaOdd anaSubcolRight\"><div class=\"anaPositive\">(+25.71%)</div></div><div class=\"anaIndex anaEven\">fileSource</div><div class=\"anaCell anaEven anaSubcolLeft\"><div class=\"up\"></div></div><div class=\"anaCell anaEven\">25</div><div class=\"anaCell anaEven anaSubcolRight\"><div class=\"anaPositive\">(+78.57%)</div></div><div class=\"anaIndex anaOdd\">instrumentManufacturerModel</div><div class=\"anaCell anaOdd anaSubcolLeft\"><div class=\"up\"></div></div><div class=\"anaCell anaOdd\">24</div><div class=\"anaCell anaOdd anaSubcolRight\"><div class=\"anaPositive\">(+100.00%)</div></div><div class=\"anaIndex anaEven\">projectTitle</div><div class=\"anaCell anaEven anaSubcolLeft\"><div class=\"down\"></div></div><div class=\"anaCell anaEven\">20</div><div class=\"anaCell anaEven anaSubcolRight\"><div class=\"anaNegative\">(-75.90%)</div></div><div class=\"anaIndex anaOdd\">project</div><div class=\"anaCell anaOdd anaSubcolLeft\"></div><div class=\"anaCell anaOdd\">17</div><div class=\"anaCell anaOdd anaSubcolRight\"><div class=\"anaPositive\">(+54.55%)</div></div></div>"
      ],
      "text/plain": [
       "<IPython.core.display.HTML object>"
      ]
     },
     "metadata": {},
     "output_type": "display_data"
    }
   ],
   "source": [
    "ac.show_difference_table(\"Count\", \"Facet\", \"ga:hits\", \"ga:dimension9\", filters=\"ga:eventCategory==Search;ga:eventAction==Select\", **default_params)"
   ]
  },
  {
   "cell_type": "markdown",
   "id": "35c40808",
   "metadata": {},
   "source": [
    "<div style=\"page-break-after: always\"></div>"
   ]
  },
  {
   "cell_type": "markdown",
   "id": "70ff5050",
   "metadata": {},
   "source": [
    "### Top facet terms"
   ]
  },
  {
   "cell_type": "code",
   "execution_count": 42,
   "id": "a56a1474",
   "metadata": {
    "scrolled": true,
    "tags": [
     "remove-input"
    ]
   },
   "outputs": [
    {
     "data": {
      "text/html": [
       "<div class=\"analyticsTable\" style=\"grid-template-columns: repeat(1, auto) 1fr var(--symbol-width) minmax(var(--value-width), min-content) minmax(var(--percentage-width), min-content)\"><div class=\"anaIndex anaColName\">Facet</div><div class=\"anaIndex anaColName\">Term</div><div class=\"anaColName\" style=\"grid-column: span 3\">Count</div><div class=\"anaIndex anaEven\">genusSpecies</div><div class=\"anaIndex anaEven\">Homo sapiens</div><div class=\"anaCell anaEven anaSubcolLeft\"></div><div class=\"anaCell anaEven\">303</div><div class=\"anaCell anaEven anaSubcolRight\"><div class=\"anaNegative\">(-6.77%)</div></div><div class=\"anaIndex anaOdd\">specimenDisease</div><div class=\"anaIndex anaOdd\">normal</div><div class=\"anaCell anaOdd anaSubcolLeft\"><div class=\"up\"></div></div><div class=\"anaCell anaOdd\">83</div><div class=\"anaCell anaOdd anaSubcolRight\"><div class=\"anaPositive\">(+5.06%)</div></div><div class=\"anaIndex anaEven\">nucleicAcidSource</div><div class=\"anaIndex anaEven\">single cell</div><div class=\"anaCell anaEven anaSubcolLeft\"><div class=\"up\"></div></div><div class=\"anaCell anaEven\">71</div><div class=\"anaCell anaEven anaSubcolRight\"><div class=\"anaPositive\">(+9.23%)</div></div><div class=\"anaIndex anaOdd\">sampleEntityType</div><div class=\"anaIndex anaOdd\">specimens</div><div class=\"anaCell anaOdd anaSubcolLeft\"></div><div class=\"anaCell anaOdd\">69</div><div class=\"anaCell anaOdd anaSubcolRight\"><div class=\"anaPositive\">(+1.47%)</div></div><div class=\"anaIndex anaEven\">donorDisease</div><div class=\"anaIndex anaEven\">normal</div><div class=\"anaCell anaEven anaSubcolLeft\"><div class=\"down\"></div></div><div class=\"anaCell anaEven\">63</div><div class=\"anaCell anaEven anaSubcolRight\"><div class=\"anaNegative\">(-22.22%)</div></div><div class=\"anaIndex anaOdd\">fileFormat</div><div class=\"anaIndex anaOdd\">fastq.gz</div><div class=\"anaCell anaOdd anaSubcolLeft\"><div class=\"up\"></div></div><div class=\"anaCell anaOdd\">50</div><div class=\"anaCell anaOdd anaSubcolRight\"><div class=\"anaPositive\">(+28.21%)</div></div><div class=\"anaIndex anaEven\">projectId</div><div class=\"anaIndex anaEven\">1M Immune Cells</div><div class=\"anaCell anaEven anaSubcolLeft\"><div class=\"up\"></div></div><div class=\"anaCell anaEven\">43</div><div class=\"anaCell anaEven anaSubcolRight\"><div class=\"anaPositive\">(+26.47%)</div></div><div class=\"anaIndex anaOdd\">specimenOrgan</div><div class=\"anaIndex anaOdd\">blood</div><div class=\"anaCell anaOdd anaSubcolLeft\"></div><div class=\"anaCell anaOdd\">42</div><div class=\"anaCell anaOdd anaSubcolRight\"><div class=\"anaPositive\">(+20.00%)</div></div><div class=\"anaIndex anaEven\">projectId</div><div class=\"anaIndex anaEven\">1M Neurons</div><div class=\"anaCell anaEven anaSubcolLeft\"><div class=\"new\"></div></div><div class=\"anaCell anaEven\">34</div><div class=\"anaCell anaEven anaSubcolRight\"></div><div class=\"anaIndex anaOdd\">projectId</div><div class=\"anaIndex anaOdd\">tabulaSapiens</div><div class=\"anaCell anaOdd anaSubcolLeft\"><div class=\"up\"></div></div><div class=\"anaCell anaOdd\">33</div><div class=\"anaCell anaOdd anaSubcolRight\"><div class=\"anaPositive\">(+26.92%)</div></div><div class=\"anaIndex anaEven\">modelOrgan</div><div class=\"anaIndex anaEven\">brain</div><div class=\"anaCell anaEven anaSubcolLeft\"><div class=\"up\"></div></div><div class=\"anaCell anaEven\">30</div><div class=\"anaCell anaEven anaSubcolRight\"><div class=\"anaNegative\">(-6.25%)</div></div><div class=\"anaIndex anaOdd\">genusSpecies</div><div class=\"anaIndex anaOdd\">Mus musculus</div><div class=\"anaCell anaOdd anaSubcolLeft\"><div class=\"down\"></div></div><div class=\"anaCell anaOdd\">29</div><div class=\"anaCell anaOdd anaSubcolRight\"><div class=\"anaNegative\">(-12.12%)</div></div><div class=\"anaIndex anaEven\">specimenOrgan</div><div class=\"anaIndex anaEven\">brain</div><div class=\"anaCell anaEven anaSubcolLeft\"><div class=\"down\"></div></div><div class=\"anaCell anaEven\">29</div><div class=\"anaCell anaEven anaSubcolRight\"><div class=\"anaNegative\">(-14.71%)</div></div><div class=\"anaIndex anaOdd\">specimenOrgan</div><div class=\"anaIndex anaOdd\">bone marrow</div><div class=\"anaCell anaOdd anaSubcolLeft\"><div class=\"new\"></div></div><div class=\"anaCell anaOdd\">28</div><div class=\"anaCell anaOdd anaSubcolRight\"></div><div class=\"anaIndex anaEven\">modelOrgan</div><div class=\"anaIndex anaEven\">lung</div><div class=\"anaCell anaEven anaSubcolLeft\"><div class=\"new\"></div></div><div class=\"anaCell anaEven\">26</div><div class=\"anaCell anaEven anaSubcolRight\"></div><div class=\"anaIndex anaOdd\">libraryConstructionApproach</div><div class=\"anaIndex anaOdd\">10x 3&#x27; v2</div><div class=\"anaCell anaOdd anaSubcolLeft\"><div class=\"new\"></div></div><div class=\"anaCell anaOdd\">25</div><div class=\"anaCell anaOdd anaSubcolRight\"></div><div class=\"anaIndex anaEven\">fileFormat</div><div class=\"anaIndex anaEven\">bam</div><div class=\"anaCell anaEven anaSubcolLeft\"><div class=\"new\"></div></div><div class=\"anaCell anaEven\">25</div><div class=\"anaCell anaEven anaSubcolRight\"></div><div class=\"anaIndex anaOdd\">specimenOrganPart</div><div class=\"anaIndex anaOdd\">bone marrow</div><div class=\"anaCell anaOdd anaSubcolLeft\"><div class=\"down\"></div></div><div class=\"anaCell anaOdd\">25</div><div class=\"anaCell anaOdd anaSubcolRight\"><div class=\"anaNegative\">(-16.67%)</div></div><div class=\"anaIndex anaEven\">specimenOrgan</div><div class=\"anaIndex anaEven\">kidney</div><div class=\"anaCell anaEven anaSubcolLeft\"><div class=\"new\"></div></div><div class=\"anaCell anaEven\">25</div><div class=\"anaCell anaEven anaSubcolRight\"></div><div class=\"anaIndex anaOdd\">modelOrgan</div><div class=\"anaIndex anaOdd\">kidney</div><div class=\"anaCell anaOdd anaSubcolLeft\"></div><div class=\"anaCell anaOdd\">23</div><div class=\"anaCell anaOdd anaSubcolRight\"><div class=\"anaNegative\">(-8.00%)</div></div></div>"
      ],
      "text/plain": [
       "<IPython.core.display.HTML object>"
      ]
     },
     "metadata": {},
     "output_type": "display_data"
    }
   ],
   "source": [
    "ac.show_difference_table(\"Count\", [\"Facet\", \"Term\"], \"ga:hits\", [\"ga:dimension9\", \"ga:dimension10\"], filters=\"ga:eventCategory==Search;ga:eventAction==Select\", **default_params)"
   ]
  },
  {
   "cell_type": "markdown",
   "id": "0612d05b",
   "metadata": {},
   "source": [
    "<div style=\"page-break-after: always\"></div>"
   ]
  },
  {
   "cell_type": "markdown",
   "id": "fa8aed84",
   "metadata": {},
   "source": [
    "## Projects\n",
    "### Top project detail pages"
   ]
  },
  {
   "cell_type": "code",
   "execution_count": 43,
   "id": "c38a26da",
   "metadata": {
    "scrolled": true,
    "tags": [
     "remove-input"
    ]
   },
   "outputs": [
    {
     "data": {
      "text/html": [
       "<div class=\"analyticsTable\" style=\"grid-template-columns: 1fr var(--symbol-width) minmax(var(--value-width), min-content) minmax(var(--percentage-width), min-content)\"><div class=\"anaIndex anaColName\">Project</div><div class=\"anaColName\" style=\"grid-column: span 3\">Count</div><div class=\"anaIndex anaEven\"><a href=\"https://data.humancellatlas.org/explore/projects/cc95ff89-2e68-4a08-a234-480eca21ce79\">Census of Immune Cells</a></div><div class=\"anaCell anaEven anaSubcolLeft\"></div><div class=\"anaCell anaEven\">524</div><div class=\"anaCell anaEven anaSubcolRight\"><div class=\"anaPositive\">(+7.60%)</div></div><div class=\"anaIndex anaOdd\"><a href=\"https://data.humancellatlas.org/explore/projects/10201832-7c73-4033-9b65-3ef13d81656a\">The Tabula Sapiens: a single cell transcriptomic atlas of multiple organs from individual human donors</a></div><div class=\"anaCell anaOdd anaSubcolLeft\"></div><div class=\"anaCell anaOdd\">297</div><div class=\"anaCell anaOdd anaSubcolRight\"><div class=\"anaNegative\">(-11.34%)</div></div><div class=\"anaIndex anaEven\"><a href=\"https://data.humancellatlas.org/explore/projects/a9301beb-e9fa-42fe-b75c-84e8a460c733\">A human cell atlas of fetal gene expression.</a></div><div class=\"anaCell anaEven anaSubcolLeft\"></div><div class=\"anaCell anaEven\">255</div><div class=\"anaCell anaEven anaSubcolRight\"><div class=\"anaPositive\">(+26.24%)</div></div><div class=\"anaIndex anaOdd\"><a href=\"https://data.humancellatlas.org/explore/projects/4a95101c-9ffc-4f30-a809-f04518a23803\">A single-cell reference map of transcriptional states for human blood and tissue T cell activation</a></div><div class=\"anaCell anaOdd anaSubcolLeft\"><div class=\"up\"></div></div><div class=\"anaCell anaOdd\">154</div><div class=\"anaCell anaOdd anaSubcolRight\"><div class=\"anaPositive\">(+17.56%)</div></div><div class=\"anaIndex anaEven\"><a href=\"https://data.humancellatlas.org/explore/projects/74b6d569-3b11-42ef-b6b1-a0454522b4a0\">1.3 Million Brain Cells from E18 Mice</a></div><div class=\"anaCell anaEven anaSubcolLeft\"><div class=\"up\"></div></div><div class=\"anaCell anaEven\">142</div><div class=\"anaCell anaEven anaSubcolRight\"><div class=\"anaPositive\">(+32.71%)</div></div><div class=\"anaIndex anaOdd\"><a href=\"https://data.humancellatlas.org/explore/projects/9c20a245-f2c0-43ae-82c9-2232ec6b594f\">A multi-omics atlas of the human retina at single-cell resolution</a></div><div class=\"anaCell anaOdd anaSubcolLeft\"><div class=\"new\"></div></div><div class=\"anaCell anaOdd\">138</div><div class=\"anaCell anaOdd anaSubcolRight\"></div><div class=\"anaIndex anaEven\"><a href=\"https://data.humancellatlas.org/explore/projects/957261f7-2bd6-4358-a6ed-24ee080d5cfc\">A spatial multi-omics atlas of the human lung reveals a novel immune cell survival niche</a></div><div class=\"anaCell anaEven anaSubcolLeft\"><div class=\"new\"></div></div><div class=\"anaCell anaEven\">117</div><div class=\"anaCell anaEven anaSubcolRight\"></div><div class=\"anaIndex anaOdd\"><a href=\"https://data.humancellatlas.org/explore/projects/4d6f6c96-2a83-43d8-8fe1-0f53bffd4674\">Dissecting the human liver cellular landscape by single cell RNA-seq reveals novel intrahepatic monocyte/ macrophage populations</a></div><div class=\"anaCell anaOdd anaSubcolLeft\"><div class=\"down\"></div></div><div class=\"anaCell anaOdd\">106</div><div class=\"anaCell anaOdd anaSubcolRight\"><div class=\"anaNegative\">(-23.19%)</div></div><div class=\"anaIndex anaEven\"><a href=\"https://data.humancellatlas.org/explore/projects/c1810dbc-16d2-45c3-b45e-3e675f88d87b\">A cell atlas of human thymic development defines T cell repertoire formation</a></div><div class=\"anaCell anaEven anaSubcolLeft\"><div class=\"new\"></div></div><div class=\"anaCell anaEven\">102</div><div class=\"anaCell anaEven anaSubcolRight\"></div><div class=\"anaIndex anaOdd\"><a href=\"https://data.humancellatlas.org/explore/projects/a80a63f2-e223-4890-81b0-415855b89abc\">Single cell RNA-seq of brain glioblastoma samples</a></div><div class=\"anaCell anaOdd anaSubcolLeft\"><div class=\"up\"></div></div><div class=\"anaCell anaOdd\">100</div><div class=\"anaCell anaOdd anaSubcolRight\"><div class=\"anaNegative\">(-4.76%)</div></div><div class=\"anaIndex anaEven\"><a href=\"https://data.humancellatlas.org/explore/projects/52b29aa4-c8d6-42b4-807a-b35be94469ca\">A survey of human brain transcriptome diversity at the single cell level</a></div><div class=\"anaCell anaEven anaSubcolLeft\"><div class=\"down\"></div></div><div class=\"anaCell anaEven\">96</div><div class=\"anaCell anaEven anaSubcolRight\"><div class=\"anaNegative\">(-11.11%)</div></div><div class=\"anaIndex anaOdd\"><a href=\"https://data.humancellatlas.org/explore/projects/376a7f55-b876-4f60-9cf3-ed7bc83d5415\">Single-cell transcriptome profiling of an adult human cell atlas of 15 major organs</a></div><div class=\"anaCell anaOdd anaSubcolLeft\"><div class=\"down\"></div></div><div class=\"anaCell anaOdd\">96</div><div class=\"anaCell anaOdd anaSubcolRight\"><div class=\"anaNegative\">(-25.00%)</div></div><div class=\"anaIndex anaEven\"><a href=\"https://data.humancellatlas.org/explore/projects/091cf39b-01bc-42e5-9437-f419a66c8a45\">Profiling of CD34+ cells from human bone marrow to understand hematopoiesis</a></div><div class=\"anaCell anaEven anaSubcolLeft\"><div class=\"down\"></div></div><div class=\"anaCell anaEven\">92</div><div class=\"anaCell anaEven anaSubcolRight\"><div class=\"anaNegative\">(-29.23%)</div></div><div class=\"anaIndex anaOdd\"><a href=\"https://data.humancellatlas.org/explore/projects/7c75f07c-608d-4c4a-a1b7-b13d11c0ad31\">Single-Cell Map of Diverse Immune Phenotypes in the Breast Tumor Microenvironment.</a></div><div class=\"anaCell anaOdd anaSubcolLeft\"><div class=\"up\"></div></div><div class=\"anaCell anaOdd\">84</div><div class=\"anaCell anaOdd anaSubcolRight\"><div class=\"anaPositive\">(+10.53%)</div></div><div class=\"anaIndex anaEven\"><a href=\"https://data.humancellatlas.org/explore/projects/abe1a013-af7a-45ed-8c26-f3793c24a1f4\">Spatio-temporal immune zonation of the human kidney</a></div><div class=\"anaCell anaEven anaSubcolLeft\"><div class=\"down\"></div></div><div class=\"anaCell anaEven\">83</div><div class=\"anaCell anaEven anaSubcolRight\"><div class=\"anaNegative\">(-14.43%)</div></div><div class=\"anaIndex anaOdd\"><a href=\"https://data.humancellatlas.org/explore/projects/c0518445-3b3b-49c6-b8fc-c41daa4eacba\">A cellular census of human lungs identifies novel cell states in health and in asthma</a></div><div class=\"anaCell anaOdd anaSubcolLeft\"><div class=\"new\"></div></div><div class=\"anaCell anaOdd\">83</div><div class=\"anaCell anaOdd anaSubcolRight\"></div><div class=\"anaIndex anaEven\"><a href=\"https://data.humancellatlas.org/explore/projects/e0009214-c0a0-4a7b-96e2-d6a83e966ce0\">Tabula Muris: Transcriptomic characterization of 20 organs and tissues from Mus musculus at single cell resolution</a></div><div class=\"anaCell anaEven anaSubcolLeft\"><div class=\"down\"></div></div><div class=\"anaCell anaEven\">82</div><div class=\"anaCell anaEven anaSubcolRight\"><div class=\"anaNegative\">(-2.38%)</div></div><div class=\"anaIndex anaOdd\"><a href=\"https://data.humancellatlas.org/explore/projects/ad98d3cd-26fb-4ee3-99c9-8a2ab085e737\">Cells of the adult human heart</a></div><div class=\"anaCell anaOdd anaSubcolLeft\"><div class=\"down\"></div></div><div class=\"anaCell anaOdd\">82</div><div class=\"anaCell anaOdd anaSubcolRight\"><div class=\"anaPositive\">(+2.50%)</div></div><div class=\"anaIndex anaEven\"><a href=\"https://data.humancellatlas.org/explore/projects/6c040a93-8cf8-4fd5-98de-2297eb07e9f6\">Characterization of the transcriptional landscape of human developing hippocampus</a></div><div class=\"anaCell anaEven anaSubcolLeft\"><div class=\"new\"></div></div><div class=\"anaCell anaEven\">81</div><div class=\"anaCell anaEven anaSubcolRight\"></div><div class=\"anaIndex anaOdd\"><a href=\"https://data.humancellatlas.org/explore/projects/53c53cd4-8127-4e12-bc7f-8fe1610a715c\">A Cellular Anatomy of the Normal Adult Human Prostate and Prostatic Urethra</a></div><div class=\"anaCell anaOdd anaSubcolLeft\"><div class=\"down\"></div></div><div class=\"anaCell anaOdd\">80</div><div class=\"anaCell anaOdd anaSubcolRight\"><div class=\"anaNegative\">(-36.00%)</div></div></div>"
      ],
      "text/plain": [
       "<IPython.core.display.HTML object>"
      ]
     },
     "metadata": {},
     "output_type": "display_data"
    }
   ],
   "source": [
    "ac.show_difference_table(\"Count\", \"Project\", \"ga:pageviews\", \"ga:pagePath\", filters=\"ga:pagePath=~^(\\\\/explore\\\\/projects\\\\/[0-9a-fA-F]{8}\\\\-[0-9a-fA-F]{4}\\\\-[0-9a-fA-F]{4}\\\\-[0-9a-fA-F]{4}\\\\-[0-9a-fA-F]{12})(\\\\/?\\\\?{0}|\\\\/?\\\\?{1}.*)$\", **default_params)"
   ]
  },
  {
   "cell_type": "markdown",
   "id": "4d7c8113",
   "metadata": {},
   "source": [
    "### Withdrawn/deprecated projects visits"
   ]
  },
  {
   "cell_type": "code",
   "execution_count": 45,
   "id": "85f86313",
   "metadata": {
    "scrolled": false,
    "tags": [
     "remove-input"
    ]
   },
   "outputs": [
    {
     "data": {
      "text/html": [
       "<div class=\"analyticsTable\" style=\"grid-template-columns: 1fr var(--symbol-width) minmax(var(--value-width), min-content) minmax(var(--percentage-width), min-content)\"><div class=\"anaIndex anaEven\">View Withdrawn Project</div><div class=\"anaCell anaEven anaSubcolLeft\"></div><div class=\"anaCell anaEven\">2</div><div class=\"anaCell anaEven anaSubcolRight\"><div class=\"anaNegative\">(-50.00%)</div></div></div>"
      ],
      "text/plain": [
       "<IPython.core.display.HTML object>"
      ]
     },
     "metadata": {},
     "output_type": "display_data"
    }
   ],
   "source": [
    "ac.show_difference_table(\"Count\", \"Project Type\", \"ga:hits\", \"ga:eventAction\", filters=\"ga:eventAction=~View Deprecated Project|View Withdrawn Project\", **default_params)"
   ]
  },
  {
   "cell_type": "markdown",
   "id": "117281c5",
   "metadata": {},
   "source": [
    "<div style=\"page-break-after: always\"></div>"
   ]
  },
  {
   "cell_type": "markdown",
   "id": "61b1584b",
   "metadata": {},
   "source": [
    "### Analysis protocol portal links"
   ]
  },
  {
   "cell_type": "code",
   "execution_count": 46,
   "id": "61f3c68e",
   "metadata": {
    "scrolled": true,
    "tags": [
     "remove-input"
    ]
   },
   "outputs": [
    {
     "data": {
      "text/html": [
       "<div class=\"analyticsTable\" style=\"grid-template-columns: 1fr var(--symbol-width) minmax(var(--value-width), min-content) minmax(var(--percentage-width), min-content)\"><div class=\"anaIndex anaColName\">Analysis Protocol</div><div class=\"anaColName\" style=\"grid-column: span 3\">Count</div><div class=\"anaIndex anaEven\">optimus_post_processing_v1.0.0</div><div class=\"anaCell anaEven anaSubcolLeft\"></div><div class=\"anaCell anaEven\">16</div><div class=\"anaCell anaEven anaSubcolRight\"><div class=\"anaNegative\">(-23.81%)</div></div><div class=\"anaIndex anaOdd\">optimus_v4.2.3</div><div class=\"anaCell anaOdd anaSubcolLeft\"><div class=\"up\"></div></div><div class=\"anaCell anaOdd\">4</div><div class=\"anaCell anaOdd anaSubcolRight\"><div class=\"anaPositive\">(+33.33%)</div></div><div class=\"anaIndex anaEven\">optimus_v4.2.2</div><div class=\"anaCell anaEven anaSubcolLeft\"><div class=\"down\"></div></div><div class=\"anaCell anaEven\">2</div><div class=\"anaCell anaEven anaSubcolRight\"><div class=\"anaNegative\">(-66.67%)</div></div><div class=\"anaIndex anaOdd\">optimus_v1.3.2</div><div class=\"anaCell anaOdd anaSubcolLeft\"><div class=\"down\"></div></div><div class=\"anaCell anaOdd\">1</div><div class=\"anaCell anaOdd anaSubcolRight\"><div class=\"anaNegative\">(-75.00%)</div></div></div>"
      ],
      "text/plain": [
       "<IPython.core.display.HTML object>"
      ]
     },
     "metadata": {},
     "output_type": "display_data"
    }
   ],
   "source": [
    "ac.show_difference_table(\"Count\", \"Analysis Protocol\", \"ga:hits\", \"ga:eventLabel\", filters=\"ga:eventCategory==Portal Link;ga:eventAction==Click\", **default_params)"
   ]
  },
  {
   "cell_type": "markdown",
   "id": "cd9060de",
   "metadata": {},
   "source": [
    "### Project detail supplementary links visits (from external resources)"
   ]
  },
  {
   "cell_type": "code",
   "execution_count": 44,
   "id": "f714e61d",
   "metadata": {
    "scrolled": true,
    "tags": [
     "remove-input"
    ]
   },
   "outputs": [
    {
     "data": {
      "text/html": [
       "<div class=\"analyticsTable\" style=\"grid-template-columns: 1fr var(--symbol-width) minmax(var(--value-width), min-content) minmax(var(--percentage-width), min-content)\"><div class=\"anaIndex anaColName\">Link</div><div class=\"anaColName\" style=\"grid-column: span 3\">Visits</div><div class=\"anaIndex anaEven\">https://tabula-sapiens-portal.ds.czbiohub.org/home</div><div class=\"anaCell anaEven anaSubcolLeft\"></div><div class=\"anaCell anaEven\">9</div><div class=\"anaCell anaEven anaSubcolRight\"><div class=\"anaPositive\">(+28.57%)</div></div><div class=\"anaIndex anaOdd\">https://descartes.brotmanbaty.org/bbi/human-gene-expression-during-development/</div><div class=\"anaCell anaOdd anaSubcolLeft\"><div class=\"up\"></div></div><div class=\"anaCell anaOdd\">5</div><div class=\"anaCell anaOdd anaSubcolRight\"><div class=\"anaPositive\">(+150.00%)</div></div><div class=\"anaIndex anaEven\">https://github.com/cssmillie/ulcerative_colitis</div><div class=\"anaCell anaEven anaSubcolLeft\"><div class=\"new\"></div></div><div class=\"anaCell anaEven\">4</div><div class=\"anaCell anaEven anaSubcolRight\"></div><div class=\"anaIndex anaOdd\">https://support.10xgenomics.com/single-cell-gene-expression/datasets/1.3.0/1M_neurons</div><div class=\"anaCell anaOdd anaSubcolLeft\"><div class=\"new\"></div></div><div class=\"anaCell anaOdd\">3</div><div class=\"anaCell anaOdd anaSubcolRight\"></div><div class=\"anaIndex anaEven\">https://cellxgene.cziscience.com/collections/c9706a92-0e5f-46c1-96d8-20e42467f287</div><div class=\"anaCell anaEven anaSubcolLeft\"><div class=\"new\"></div></div><div class=\"anaCell anaEven\">3</div><div class=\"anaCell anaEven anaSubcolRight\"></div><div class=\"anaIndex anaOdd\">https://cellxgene.cziscience.com/collections/af893e86-8e9f-41f1-a474-ef05359b1fb7</div><div class=\"anaCell anaOdd anaSubcolLeft\"><div class=\"new\"></div></div><div class=\"anaCell anaOdd\">3</div><div class=\"anaCell anaOdd anaSubcolRight\"></div><div class=\"anaIndex anaEven\">https://cells-test.gi.ucsc.edu/?ds=early-brain</div><div class=\"anaCell anaEven anaSubcolLeft\"><div class=\"new\"></div></div><div class=\"anaCell anaEven\">3</div><div class=\"anaCell anaEven anaSubcolRight\"></div><div class=\"anaIndex anaOdd\">https://github.com/dpeerlab/Palantir/</div><div class=\"anaCell anaOdd anaSubcolLeft\"><div class=\"new\"></div></div><div class=\"anaCell anaOdd\">3</div><div class=\"anaCell anaOdd anaSubcolRight\"></div><div class=\"anaIndex anaEven\">http://www.jasonspencelab.com/protocols</div><div class=\"anaCell anaEven anaSubcolLeft\"><div class=\"new\"></div></div><div class=\"anaCell anaEven\">3</div><div class=\"anaCell anaEven anaSubcolRight\"></div><div class=\"anaIndex anaOdd\">https://singlecell.broadinstitute.org/single_cell/study/SCP259</div><div class=\"anaCell anaOdd anaSubcolLeft\"><div class=\"new\"></div></div><div class=\"anaCell anaOdd\">3</div><div class=\"anaCell anaOdd anaSubcolRight\"></div><div class=\"anaIndex anaEven\">http://retinalstemcellresearch.co.uk/CorneaCellAtlas/</div><div class=\"anaCell anaEven anaSubcolLeft\"><div class=\"new\"></div></div><div class=\"anaCell anaEven\">3</div><div class=\"anaCell anaEven anaSubcolRight\"></div><div class=\"anaIndex anaOdd\">https://developmentcellatlas.ncl.ac.uk/datasets/HCA_thymus/</div><div class=\"anaCell anaOdd anaSubcolLeft\"><div class=\"down\"></div></div><div class=\"anaCell anaOdd\">2</div><div class=\"anaCell anaOdd anaSubcolRight\"><div class=\"anaNegative\">(-50.00%)</div></div><div class=\"anaIndex anaEven\">ftp://ftp.ncbi.nlm.nih.gov/geo/series/GSE96nnn/GSE96583/suppl/GSE96583_RAW.tar,ftp://ftp.ncbi.nlm.nih.gov/geo/series/GSE96nnn/GSE96583/suppl/GSE96583_batch1.genes.tsv.gz,ftp://ftp.ncbi.nlm.nih.gov/geo/series/GSE96nnn/GSE96583/suppl/GSE96583_batch1.total.tsne.df.tsv.gz,ftp://ftp.ncbi.nlm.nih.gov/geo/series/GSE96nnn/GSE96583/suppl/GSE96583_batch2.genes.tsv.gz,ftp://ftp.ncbi.nlm.nih.gov/geo/series/GSE96nnn/GSE96583/suppl/GSE96583_batch2.total.tsne.df.tsv.gz,ftp://ftp.ncbi.nlm.nih.gov/geo/series/GSE96nnn/GSE96583/suppl/GSE96583_genes.txt.gz</div><div class=\"anaCell anaEven anaSubcolLeft\"><div class=\"new\"></div></div><div class=\"anaCell anaEven\">2</div><div class=\"anaCell anaEven anaSubcolRight\"></div><div class=\"anaIndex anaOdd\">https://www.ebi.ac.uk/gxa/sc/experiments/E-EHCA-2/Results</div><div class=\"anaCell anaOdd anaSubcolLeft\"><div class=\"up\"></div></div><div class=\"anaCell anaOdd\">2</div><div class=\"anaCell anaOdd anaSubcolRight\"><div class=\"anaPositive\">(+100.00%)</div></div><div class=\"anaIndex anaEven\">https://singlecell.broadinstitute.org/single_cell/study/SCP1479/single-nucleus-cross-tissue-molecular-reference-maps</div><div class=\"anaCell anaEven anaSubcolLeft\"><div class=\"down\"></div></div><div class=\"anaCell anaEven\">2</div><div class=\"anaCell anaEven anaSubcolRight\"><div class=\"anaZero\">(+0.00%)</div></div><div class=\"anaIndex anaOdd\">https://www.ebi.ac.uk/gxa/sc/experiments/E-MTAB-5061/Results</div><div class=\"anaCell anaOdd anaSubcolLeft\"><div class=\"down\"></div></div><div class=\"anaCell anaOdd\">2</div><div class=\"anaCell anaOdd anaSubcolRight\"><div class=\"anaZero\">(+0.00%)</div></div><div class=\"anaIndex anaEven\">https://fbm.cellatlas.io/</div><div class=\"anaCell anaEven anaSubcolLeft\"><div class=\"new\"></div></div><div class=\"anaCell anaEven\">2</div><div class=\"anaCell anaEven anaSubcolRight\"></div><div class=\"anaIndex anaOdd\">https://insight.jci.org/articles/view/150861/sd/1</div><div class=\"anaCell anaOdd anaSubcolLeft\"><div class=\"new\"></div></div><div class=\"anaCell anaOdd\">2</div><div class=\"anaCell anaOdd anaSubcolRight\"></div><div class=\"anaIndex anaEven\">ftp://ftp.ncbi.nlm.nih.gov/geo/series/GSE117nnn/GSE117498/suppl/GSE117498_RAW.tar</div><div class=\"anaCell anaEven anaSubcolLeft\"><div class=\"new\"></div></div><div class=\"anaCell anaEven\">2</div><div class=\"anaCell anaEven anaSubcolRight\"></div><div class=\"anaIndex anaOdd\">https://github.com/agneantanaviciute/colonmesenchymescrnaseq</div><div class=\"anaCell anaOdd anaSubcolLeft\"><div class=\"new\"></div></div><div class=\"anaCell anaOdd\">2</div><div class=\"anaCell anaOdd anaSubcolRight\"></div></div>"
      ],
      "text/plain": [
       "<IPython.core.display.HTML object>"
      ]
     },
     "metadata": {},
     "output_type": "display_data"
    }
   ],
   "source": [
    "ac.show_difference_table(\"Visits\", \"Link\", \"ga:hits\", [\"ga:dimension4\", \"ga:dimension6\", \"ga:eventLabel\"], filters=\"ga:eventCategory==Project;ga:eventAction==View External Resource\", rows_limit=28, **default_params)"
   ]
  },
  {
   "cell_type": "markdown",
   "id": "b397bddb",
   "metadata": {},
   "source": [
    "<div style=\"page-break-after: always\"></div>"
   ]
  },
  {
   "cell_type": "markdown",
   "id": "b4f930db",
   "metadata": {},
   "source": [
    "## Data Portal\n",
    "### Top landing pages"
   ]
  },
  {
   "cell_type": "code",
   "execution_count": 47,
   "id": "5fc13339",
   "metadata": {
    "scrolled": true,
    "tags": [
     "remove-input"
    ]
   },
   "outputs": [
    {
     "data": {
      "text/html": [
       "<div class=\"analyticsTable\" style=\"grid-template-columns: 1fr var(--symbol-width) minmax(var(--value-width), min-content) minmax(var(--percentage-width), min-content)\"><div class=\"anaIndex anaColName\">Path</div><div class=\"anaColName\" style=\"grid-column: span 3\">Count</div><div class=\"anaIndex anaEven\"><a href=\"https://data.humancellatlas.org/\">/</a></div><div class=\"anaCell anaEven anaSubcolLeft\"></div><div class=\"anaCell anaEven\">2499</div><div class=\"anaCell anaEven anaSubcolRight\"><div class=\"anaPositive\">(+42.80%)</div></div><div class=\"anaIndex anaOdd\"><a href=\"https://data.humancellatlas.org/analyze/portals/single-cell-expression-atlas\">/analyze/portals/single-cell-expression-atlas</a></div><div class=\"anaCell anaOdd anaSubcolLeft\"></div><div class=\"anaCell anaOdd\">322</div><div class=\"anaCell anaOdd anaSubcolRight\"><div class=\"anaPositive\">(+28.80%)</div></div><div class=\"anaIndex anaEven\"><a href=\"https://data.humancellatlas.org/analyze/portals/cellxgene\">/analyze/portals/cellxgene</a></div><div class=\"anaCell anaEven anaSubcolLeft\"><div class=\"up\"></div></div><div class=\"anaCell anaEven\">188</div><div class=\"anaCell anaEven anaSubcolRight\"><div class=\"anaPositive\">(+75.70%)</div></div><div class=\"anaIndex anaOdd\"><a href=\"https://data.humancellatlas.org/analyze/methods/infer\">/analyze/methods/infer</a></div><div class=\"anaCell anaOdd anaSubcolLeft\"><div class=\"down\"></div></div><div class=\"anaCell anaOdd\">113</div><div class=\"anaCell anaOdd anaSubcolRight\"><div class=\"anaNegative\">(-44.33%)</div></div><div class=\"anaIndex anaEven\"><a href=\"https://data.humancellatlas.org/pipelines/smart-seq2-workflow\">/pipelines/smart-seq2-workflow</a></div><div class=\"anaCell anaEven anaSubcolLeft\"></div><div class=\"anaCell anaEven\">104</div><div class=\"anaCell anaEven anaSubcolRight\"><div class=\"anaNegative\">(-1.89%)</div></div><div class=\"anaIndex anaOdd\"><a href=\"https://data.humancellatlas.org/analyze\">/analyze</a></div><div class=\"anaCell anaOdd anaSubcolLeft\"><div class=\"up\"></div></div><div class=\"anaCell anaOdd\">57</div><div class=\"anaCell anaOdd anaSubcolRight\"><div class=\"anaPositive\">(+23.91%)</div></div><div class=\"anaIndex anaEven\"><a href=\"https://data.humancellatlas.org/analyze/portals/asap\">/analyze/portals/asap</a></div><div class=\"anaCell anaEven anaSubcolLeft\"><div class=\"up\"></div></div><div class=\"anaCell anaEven\">45</div><div class=\"anaCell anaEven anaSubcolRight\"><div class=\"anaPositive\">(+66.67%)</div></div><div class=\"anaIndex anaOdd\"><a href=\"https://data.humancellatlas.org/analyze/portals/single-cell-portal\">/analyze/portals/single-cell-portal</a></div><div class=\"anaCell anaOdd anaSubcolLeft\"><div class=\"down\"></div></div><div class=\"anaCell anaOdd\">39</div><div class=\"anaCell anaOdd anaSubcolRight\"><div class=\"anaNegative\">(-18.75%)</div></div><div class=\"anaIndex anaEven\"><a href=\"https://data.humancellatlas.org/guides\">/guides</a></div><div class=\"anaCell anaEven anaSubcolLeft\"><div class=\"up\"></div></div><div class=\"anaCell anaEven\">37</div><div class=\"anaCell anaEven anaSubcolRight\"><div class=\"anaPositive\">(+42.31%)</div></div><div class=\"anaIndex anaOdd\"><a href=\"https://data.humancellatlas.org/analyze/portals/bioturing-browser\">/analyze/portals/bioturing-browser</a></div><div class=\"anaCell anaOdd anaSubcolLeft\"><div class=\"up\"></div></div><div class=\"anaCell anaOdd\">34</div><div class=\"anaCell anaOdd anaSubcolRight\"><div class=\"anaPositive\">(+112.50%)</div></div><div class=\"anaIndex anaEven\"><a href=\"https://data.humancellatlas.org/analyze/visualization/anatomogram\">/analyze/visualization/anatomogram</a></div><div class=\"anaCell anaEven anaSubcolLeft\"><div class=\"up\"></div></div><div class=\"anaCell anaEven\">34</div><div class=\"anaCell anaEven anaSubcolRight\"><div class=\"anaPositive\">(+36.00%)</div></div><div class=\"anaIndex anaOdd\"><a href=\"https://data.humancellatlas.org/metadata\">/metadata</a></div><div class=\"anaCell anaOdd anaSubcolLeft\"><div class=\"up\"></div></div><div class=\"anaCell anaOdd\">33</div><div class=\"anaCell anaOdd anaSubcolRight\"><div class=\"anaPositive\">(+73.68%)</div></div><div class=\"anaIndex anaEven\"><a href=\"https://data.humancellatlas.org/pipelines/optimus-workflow\">/pipelines/optimus-workflow</a></div><div class=\"anaCell anaEven anaSubcolLeft\"><div class=\"down\"></div></div><div class=\"anaCell anaEven\">25</div><div class=\"anaCell anaEven anaSubcolRight\"><div class=\"anaNegative\">(-3.85%)</div></div><div class=\"anaIndex anaOdd\"><a href=\"https://data.humancellatlas.org/pipelines\">/pipelines</a></div><div class=\"anaCell anaOdd anaSubcolLeft\"><div class=\"down\"></div></div><div class=\"anaCell anaOdd\">25</div><div class=\"anaCell anaOdd anaSubcolRight\"><div class=\"anaNegative\">(-28.57%)</div></div><div class=\"anaIndex anaEven\"><a href=\"https://data.humancellatlas.org/help\">/help</a></div><div class=\"anaCell anaEven anaSubcolLeft\"></div><div class=\"anaCell anaEven\">24</div><div class=\"anaCell anaEven anaSubcolRight\"><div class=\"anaPositive\">(+41.18%)</div></div><div class=\"anaIndex anaOdd\"><a href=\"https://data.humancellatlas.org/contribute\">/contribute</a></div><div class=\"anaCell anaOdd anaSubcolLeft\"><div class=\"new\"></div></div><div class=\"anaCell anaOdd\">21</div><div class=\"anaCell anaOdd anaSubcolRight\"></div><div class=\"anaIndex anaEven\"><a href=\"https://data.humancellatlas.org/analyze/methods/omnibrowser\">/analyze/methods/omnibrowser</a></div><div class=\"anaCell anaEven anaSubcolLeft\"><div class=\"up\"></div></div><div class=\"anaCell anaEven\">20</div><div class=\"anaCell anaEven anaSubcolRight\"><div class=\"anaPositive\">(+66.67%)</div></div><div class=\"anaIndex anaOdd\"><a href=\"https://data.humancellatlas.org/guides/consumer-vignettes/matrices\">/guides/consumer-vignettes/matrices</a></div><div class=\"anaCell anaOdd anaSubcolLeft\"><div class=\"down\"></div></div><div class=\"anaCell anaOdd\">17</div><div class=\"anaCell anaOdd anaSubcolRight\"><div class=\"anaNegative\">(-22.73%)</div></div><div class=\"anaIndex anaEven\"><a href=\"https://data.humancellatlas.org/analyze/portals/ucsc-cell-browser\">/analyze/portals/ucsc-cell-browser</a></div><div class=\"anaCell anaEven anaSubcolLeft\"><div class=\"new\"></div></div><div class=\"anaCell anaEven\">17</div><div class=\"anaCell anaEven anaSubcolRight\"></div><div class=\"anaIndex anaOdd\"><a href=\"https://data.humancellatlas.org/metadata/structure\">/metadata/structure</a></div><div class=\"anaCell anaOdd anaSubcolLeft\"><div class=\"new\"></div></div><div class=\"anaCell anaOdd\">17</div><div class=\"anaCell anaOdd anaSubcolRight\"></div></div>"
      ],
      "text/plain": [
       "<IPython.core.display.HTML object>"
      ]
     },
     "metadata": {},
     "output_type": "display_data"
    }
   ],
   "source": [
    "ac.show_difference_table(\"Count\", \"Path\", \"ga:entrances\", \"ga:landingPagePath\", filters=\"ga:landingPagePath!~^\\/explore\", **default_params)"
   ]
  },
  {
   "cell_type": "markdown",
   "id": "5acab9fc",
   "metadata": {},
   "source": [
    "<div style=\"page-break-after: always\"></div>"
   ]
  },
  {
   "cell_type": "markdown",
   "id": "de401b92",
   "metadata": {},
   "source": [
    "### Top pages"
   ]
  },
  {
   "cell_type": "code",
   "execution_count": 48,
   "id": "bc0752ae",
   "metadata": {
    "scrolled": true,
    "tags": [
     "remove-input"
    ]
   },
   "outputs": [
    {
     "data": {
      "text/html": [
       "<div class=\"analyticsTable\" style=\"grid-template-columns: 1fr var(--symbol-width) minmax(var(--value-width), min-content) minmax(var(--percentage-width), min-content)\"><div class=\"anaIndex anaColName\">Path</div><div class=\"anaColName\" style=\"grid-column: span 3\">Count</div><div class=\"anaIndex anaEven\"><a href=\"https://data.humancellatlas.org/\">/</a></div><div class=\"anaCell anaEven anaSubcolLeft\"></div><div class=\"anaCell anaEven\">3717</div><div class=\"anaCell anaEven anaSubcolRight\"><div class=\"anaPositive\">(+41.44%)</div></div><div class=\"anaIndex anaOdd\"><a href=\"https://data.humancellatlas.org/analyze\">/analyze</a></div><div class=\"anaCell anaOdd anaSubcolLeft\"></div><div class=\"anaCell anaOdd\">765</div><div class=\"anaCell anaOdd anaSubcolRight\"><div class=\"anaPositive\">(+15.04%)</div></div><div class=\"anaIndex anaEven\"><a href=\"https://data.humancellatlas.org/analyze/portals/single-cell-expression-atlas\">/analyze/portals/single-cell-expression-atlas</a></div><div class=\"anaCell anaEven anaSubcolLeft\"></div><div class=\"anaCell anaEven\">571</div><div class=\"anaCell anaEven anaSubcolRight\"><div class=\"anaPositive\">(+28.89%)</div></div><div class=\"anaIndex anaOdd\"><a href=\"https://data.humancellatlas.org/metadata\">/metadata</a></div><div class=\"anaCell anaOdd anaSubcolLeft\"></div><div class=\"anaCell anaOdd\">525</div><div class=\"anaCell anaOdd anaSubcolRight\"><div class=\"anaPositive\">(+19.32%)</div></div><div class=\"anaIndex anaEven\"><a href=\"https://data.humancellatlas.org/guides\">/guides</a></div><div class=\"anaCell anaEven anaSubcolLeft\"><div class=\"up\"></div></div><div class=\"anaCell anaEven\">417</div><div class=\"anaCell anaEven anaSubcolRight\"><div class=\"anaPositive\">(+22.65%)</div></div><div class=\"anaIndex anaOdd\"><a href=\"https://data.humancellatlas.org/pipelines\">/pipelines</a></div><div class=\"anaCell anaOdd anaSubcolLeft\"><div class=\"down\"></div></div><div class=\"anaCell anaOdd\">374</div><div class=\"anaCell anaOdd anaSubcolRight\"><div class=\"anaPositive\">(+7.78%)</div></div><div class=\"anaIndex anaEven\"><a href=\"https://data.humancellatlas.org/analyze/portals/cellxgene\">/analyze/portals/cellxgene</a></div><div class=\"anaCell anaEven anaSubcolLeft\"><div class=\"up\"></div></div><div class=\"anaCell anaEven\">364</div><div class=\"anaCell anaEven anaSubcolRight\"><div class=\"anaPositive\">(+56.90%)</div></div><div class=\"anaIndex anaOdd\"><a href=\"https://data.humancellatlas.org/analyze/portals/single-cell-portal\">/analyze/portals/single-cell-portal</a></div><div class=\"anaCell anaOdd anaSubcolLeft\"><div class=\"up\"></div></div><div class=\"anaCell anaOdd\">178</div><div class=\"anaCell anaOdd anaSubcolRight\"><div class=\"anaPositive\">(+9.20%)</div></div><div class=\"anaIndex anaEven\"><a href=\"https://data.humancellatlas.org/pipelines/smart-seq2-workflow\">/pipelines/smart-seq2-workflow</a></div><div class=\"anaCell anaEven anaSubcolLeft\"></div><div class=\"anaCell anaEven\">174</div><div class=\"anaCell anaEven anaSubcolRight\"><div class=\"anaPositive\">(+6.75%)</div></div><div class=\"anaIndex anaOdd\"><a href=\"https://data.humancellatlas.org/analyze/portals/asap\">/analyze/portals/asap</a></div><div class=\"anaCell anaOdd anaSubcolLeft\"><div class=\"up\"></div></div><div class=\"anaCell anaOdd\">171</div><div class=\"anaCell anaOdd anaSubcolRight\"><div class=\"anaPositive\">(+4.91%)</div></div><div class=\"anaIndex anaEven\"><a href=\"https://data.humancellatlas.org/apis\">/apis</a></div><div class=\"anaCell anaEven anaSubcolLeft\"><div class=\"up\"></div></div><div class=\"anaCell anaEven\">160</div><div class=\"anaCell anaEven anaSubcolRight\"><div class=\"anaPositive\">(+13.48%)</div></div><div class=\"anaIndex anaOdd\"><a href=\"https://data.humancellatlas.org/dcp-updates\">/dcp-updates</a></div><div class=\"anaCell anaOdd anaSubcolLeft\"><div class=\"up\"></div></div><div class=\"anaCell anaOdd\">144</div><div class=\"anaCell anaOdd anaSubcolRight\"><div class=\"anaPositive\">(+10.77%)</div></div><div class=\"anaIndex anaEven\"><a href=\"https://data.humancellatlas.org/analyze/visualization\">/analyze/visualization</a></div><div class=\"anaCell anaEven anaSubcolLeft\"><div class=\"up\"></div></div><div class=\"anaCell anaEven\">144</div><div class=\"anaCell anaEven anaSubcolRight\"><div class=\"anaPositive\">(+25.22%)</div></div><div class=\"anaIndex anaOdd\"><a href=\"https://data.humancellatlas.org/analyze/methods/infer\">/analyze/methods/infer</a></div><div class=\"anaCell anaOdd anaSubcolLeft\"><div class=\"down\"></div></div><div class=\"anaCell anaOdd\">139</div><div class=\"anaCell anaOdd anaSubcolRight\"><div class=\"anaNegative\">(-49.08%)</div></div><div class=\"anaIndex anaEven\"><a href=\"https://data.humancellatlas.org/analyze/methods\">/analyze/methods</a></div><div class=\"anaCell anaEven anaSubcolLeft\"><div class=\"up\"></div></div><div class=\"anaCell anaEven\">139</div><div class=\"anaCell anaEven anaSubcolRight\"><div class=\"anaPositive\">(+25.23%)</div></div><div class=\"anaIndex anaOdd\"><a href=\"https://data.humancellatlas.org/contribute\">/contribute</a></div><div class=\"anaCell anaOdd anaSubcolLeft\"><div class=\"up\"></div></div><div class=\"anaCell anaOdd\">137</div><div class=\"anaCell anaOdd anaSubcolRight\"><div class=\"anaPositive\">(+37.00%)</div></div><div class=\"anaIndex anaEven\"><a href=\"https://data.humancellatlas.org/analyze/portals/bioturing-browser\">/analyze/portals/bioturing-browser</a></div><div class=\"anaCell anaEven anaSubcolLeft\"><div class=\"up\"></div></div><div class=\"anaCell anaEven\">117</div><div class=\"anaCell anaEven anaSubcolRight\"><div class=\"anaPositive\">(+18.18%)</div></div><div class=\"anaIndex anaOdd\"><a href=\"https://data.humancellatlas.org/analyze/portals/cambridge-cell-atlas\">/analyze/portals/cambridge-cell-atlas</a></div><div class=\"anaCell anaOdd anaSubcolLeft\"><div class=\"new\"></div></div><div class=\"anaCell anaOdd\">115</div><div class=\"anaCell anaOdd anaSubcolRight\"></div><div class=\"anaIndex anaEven\"><a href=\"https://data.humancellatlas.org/pipelines/optimus-workflow\">/pipelines/optimus-workflow</a></div><div class=\"anaCell anaEven anaSubcolLeft\"><div class=\"down\"></div></div><div class=\"anaCell anaEven\">111</div><div class=\"anaCell anaEven anaSubcolRight\"><div class=\"anaZero\">(+0.00%)</div></div><div class=\"anaIndex anaOdd\"><a href=\"https://data.humancellatlas.org/metadata/dictionary/biomaterial/cell_line\">/metadata/dictionary/biomaterial/cell_line</a></div><div class=\"anaCell anaOdd anaSubcolLeft\"><div class=\"new\"></div></div><div class=\"anaCell anaOdd\">111</div><div class=\"anaCell anaOdd anaSubcolRight\"></div></div>"
      ],
      "text/plain": [
       "<IPython.core.display.HTML object>"
      ]
     },
     "metadata": {},
     "output_type": "display_data"
    }
   ],
   "source": [
    "ac.show_difference_table(\"Count\", \"Path\", \"ga:pageviews\", \"ga:pagePath\", filters=\"ga:pagePath!~^\\/explore\", **default_params)"
   ]
  },
  {
   "cell_type": "markdown",
   "id": "659e9be5",
   "metadata": {},
   "source": [
    "<div style=\"page-break-after: always\"></div>"
   ]
  },
  {
   "cell_type": "markdown",
   "id": "88ccb4a9",
   "metadata": {},
   "source": [
    "### Top searches"
   ]
  },
  {
   "cell_type": "code",
   "execution_count": 49,
   "id": "f8fc0670",
   "metadata": {
    "scrolled": true,
    "tags": [
     "remove-input"
    ]
   },
   "outputs": [
    {
     "data": {
      "text/html": [
       "<div class=\"analyticsTable\" style=\"grid-template-columns: 1fr var(--symbol-width) minmax(var(--value-width), min-content) minmax(var(--percentage-width), min-content)\"><div class=\"anaIndex anaColName\">Search Text</div><div class=\"anaColName\" style=\"grid-column: span 3\">Count</div><div class=\"anaIndex anaEven\">H</div><div class=\"anaCell anaEven anaSubcolLeft\"><div class=\"new\"></div></div><div class=\"anaCell anaEven\">3</div><div class=\"anaCell anaEven anaSubcolRight\"></div><div class=\"anaIndex anaOdd\">P</div><div class=\"anaCell anaOdd anaSubcolLeft\"><div class=\"new\"></div></div><div class=\"anaCell anaOdd\">2</div><div class=\"anaCell anaOdd anaSubcolRight\"></div><div class=\"anaIndex anaEven\">SACS</div><div class=\"anaCell anaEven anaSubcolLeft\"><div class=\"new\"></div></div><div class=\"anaCell anaEven\">2</div><div class=\"anaCell anaEven anaSubcolRight\"></div><div class=\"anaIndex anaOdd\">pericyt</div><div class=\"anaCell anaOdd anaSubcolLeft\"><div class=\"new\"></div></div><div class=\"anaCell anaOdd\">1</div><div class=\"anaCell anaOdd anaSubcolRight\"></div><div class=\"anaIndex anaEven\">macrophages</div><div class=\"anaCell anaEven anaSubcolLeft\"><div class=\"new\"></div></div><div class=\"anaCell anaEven\">1</div><div class=\"anaCell anaEven anaSubcolRight\"></div><div class=\"anaIndex anaOdd\">me</div><div class=\"anaCell anaOdd anaSubcolLeft\"><div class=\"new\"></div></div><div class=\"anaCell anaOdd\">1</div><div class=\"anaCell anaOdd anaSubcolRight\"></div><div class=\"anaIndex anaEven\">me&#x27;l</div><div class=\"anaCell anaEven anaSubcolLeft\"><div class=\"new\"></div></div><div class=\"anaCell anaEven\">1</div><div class=\"anaCell anaEven anaSubcolRight\"></div><div class=\"anaIndex anaOdd\">me&#x27;la</div><div class=\"anaCell anaOdd anaSubcolLeft\"><div class=\"new\"></div></div><div class=\"anaCell anaOdd\">1</div><div class=\"anaCell anaOdd anaSubcolRight\"></div><div class=\"anaIndex anaEven\">me&#x27;le</div><div class=\"anaCell anaEven anaSubcolLeft\"><div class=\"new\"></div></div><div class=\"anaCell anaEven\">1</div><div class=\"anaCell anaEven anaSubcolRight\"></div><div class=\"anaIndex anaOdd\">me&#x27;le&#x27;no&#x27;m</div><div class=\"anaCell anaOdd anaSubcolLeft\"><div class=\"new\"></div></div><div class=\"anaCell anaOdd\">1</div><div class=\"anaCell anaOdd anaSubcolRight\"></div><div class=\"anaIndex anaEven\">melano</div><div class=\"anaCell anaEven anaSubcolLeft\"><div class=\"new\"></div></div><div class=\"anaCell anaEven\">1</div><div class=\"anaCell anaEven anaSubcolRight\"></div><div class=\"anaIndex anaOdd\">melanoma</div><div class=\"anaCell anaOdd anaSubcolLeft\"><div class=\"new\"></div></div><div class=\"anaCell anaOdd\">1</div><div class=\"anaCell anaOdd anaSubcolRight\"></div><div class=\"anaIndex anaEven\">melen</div><div class=\"anaCell anaEven anaSubcolLeft\"><div class=\"new\"></div></div><div class=\"anaCell anaEven\">1</div><div class=\"anaCell anaEven anaSubcolRight\"></div><div class=\"anaIndex anaOdd\">osteo</div><div class=\"anaCell anaOdd anaSubcolLeft\"><div class=\"new\"></div></div><div class=\"anaCell anaOdd\">1</div><div class=\"anaCell anaOdd anaSubcolRight\"></div><div class=\"anaIndex anaEven\">Brin</div><div class=\"anaCell anaEven anaSubcolLeft\"><div class=\"new\"></div></div><div class=\"anaCell anaEven\">1</div><div class=\"anaCell anaEven anaSubcolRight\"></div><div class=\"anaIndex anaOdd\">gill</div><div class=\"anaCell anaOdd anaSubcolLeft\"><div class=\"new\"></div></div><div class=\"anaCell anaOdd\">1</div><div class=\"anaCell anaOdd anaSubcolRight\"></div><div class=\"anaIndex anaEven\">pericyte</div><div class=\"anaCell anaEven anaSubcolLeft\"><div class=\"new\"></div></div><div class=\"anaCell anaEven\">1</div><div class=\"anaCell anaEven anaSubcolRight\"></div><div class=\"anaIndex anaOdd\">pericytes</div><div class=\"anaCell anaOdd anaSubcolLeft\"><div class=\"new\"></div></div><div class=\"anaCell anaOdd\">1</div><div class=\"anaCell anaOdd anaSubcolRight\"></div><div class=\"anaIndex anaEven\">sa</div><div class=\"anaCell anaEven anaSubcolLeft\"><div class=\"new\"></div></div><div class=\"anaCell anaEven\">1</div><div class=\"anaCell anaEven anaSubcolRight\"></div><div class=\"anaIndex anaOdd\">sa&#x27;ca</div><div class=\"anaCell anaOdd anaSubcolLeft\"><div class=\"new\"></div></div><div class=\"anaCell anaOdd\">1</div><div class=\"anaCell anaOdd anaSubcolRight\"></div></div>"
      ],
      "text/plain": [
       "<IPython.core.display.HTML object>"
      ]
     },
     "metadata": {},
     "output_type": "display_data"
    }
   ],
   "source": [
    "ac.show_difference_table(\"Count\", \"Search Text\", \"ga:hits\", [\"ga:eventLabel\", \"ga:eventAction\"], filters=\"ga:eventCategory==Search;ga:eventAction==Enter Text\", **default_params)"
   ]
  },
  {
   "cell_type": "markdown",
   "id": "5e41d918",
   "metadata": {},
   "source": [
    "<div style=\"page-break-after: always\"></div>"
   ]
  },
  {
   "cell_type": "markdown",
   "id": "03dd7c38",
   "metadata": {},
   "source": [
    "### Top selected search results"
   ]
  },
  {
   "cell_type": "code",
   "execution_count": 50,
   "id": "353d5667",
   "metadata": {
    "scrolled": true,
    "tags": [
     "remove-input"
    ]
   },
   "outputs": [
    {
     "data": {
      "text/html": [
       "<div class=\"analyticsTable\" style=\"grid-template-columns: 1fr var(--symbol-width) minmax(var(--value-width), min-content) minmax(var(--percentage-width), min-content)\"><div class=\"anaIndex anaColName\">Search Result</div><div class=\"anaColName\" style=\"grid-column: span 3\">Count</div><div class=\"anaIndex anaEven\"><a href=\"https://data.humancellatlas.org/metadata/dictionary/biomaterial/human_specific\">/metadata/dictionary/biomaterial/human_specific</a></div><div class=\"anaCell anaEven anaSubcolLeft\"><div class=\"new\"></div></div><div class=\"anaCell anaEven\">2</div><div class=\"anaCell anaEven anaSubcolRight\"></div><div class=\"anaIndex anaOdd\"><a href=\"https://data.humancellatlas.org/metadata/dictionary/biomaterial/cell_line#growth_conditions-feeder_layer_type\">/metadata/dictionary/biomaterial/cell_line#growth_conditions-feeder_layer_type</a></div><div class=\"anaCell anaOdd anaSubcolLeft\"><div class=\"new\"></div></div><div class=\"anaCell anaOdd\">1</div><div class=\"anaCell anaOdd anaSubcolRight\"></div></div>"
      ],
      "text/plain": [
       "<IPython.core.display.HTML object>"
      ]
     },
     "metadata": {},
     "output_type": "display_data"
    }
   ],
   "source": [
    "ac.show_difference_table(\"Count\", \"Search Result\", \"ga:hits\", [\"ga:eventLabel\", \"ga:eventAction\"], filters=\"ga:eventCategory==Search;ga:eventAction==Click\", **default_params)"
   ]
  },
  {
   "cell_type": "markdown",
   "id": "744f7d6d",
   "metadata": {},
   "source": [
    "<div style=\"page-break-after: always\"></div>"
   ]
  }
 ],
 "metadata": {
  "celltoolbar": "Tags",
  "kernelspec": {
   "display_name": "Python 3 (ipykernel)",
   "language": "python",
   "name": "python3"
  },
  "language_info": {
   "codemirror_mode": {
    "name": "ipython",
    "version": 3
   },
   "file_extension": ".py",
   "mimetype": "text/x-python",
   "name": "python",
   "nbconvert_exporter": "python",
   "pygments_lexer": "ipython3",
   "version": "3.9.7"
  }
 },
 "nbformat": 4,
 "nbformat_minor": 5
}
