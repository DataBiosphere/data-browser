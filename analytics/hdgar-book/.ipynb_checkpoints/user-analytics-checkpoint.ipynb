{
 "cells": [
  {
   "cell_type": "markdown",
   "id": "db60961c",
   "metadata": {},
   "source": [
    "# HCA DCP User Analytics - Q1 2022 vs Q4 2021\n",
    "\n",
    "This section displays metrics collected from Google Analytics HCA DCP Data Portal and Data Browser and compares Q1 2022 with the previous quarter (Q4 2021). The generation of this report is now coded in Jupiter notebooks and can be rerun easily and modified or consolidated as desired. \n",
    "\n",
    "### Geographic exclusions\n",
    "\n",
    "The data presented excludes access from Cambridge, UK and surrounds, Cambridge MA and surrounds, and San Francisco, CA and surrounds an attempt to exclude the HCA DCP development team member activity from the report.\n",
    "\n",
    "\n",
    "### Key to tables\n",
    "\n",
    "On the tables:\n",
    "\n",
    "* Diffs e.g. (+19.04%) compare the later quarter with the previous quarter.\n",
    "* \"+\" Indicates the entry is new in the report in the current quarter.\n",
    "* \"↑\" Indicates the entry has moved up in rank since the last quarter.\n",
    "* \"↓\" Indicates the entry has moved down in rank since the last quarter.\n",
    "\n"
   ]
  },
  {
   "cell_type": "code",
   "execution_count": 19,
   "id": "worthy-distinction",
   "metadata": {
    "scrolled": true,
    "tags": [
     "remove-cell"
    ]
   },
   "outputs": [],
   "source": [
    "# !pip install google_auth_oauthlib \n",
    "# !pip install install google-api-python-client\n",
    "# !pip install pandas \n",
    "# !pip install numpy\n",
    "# !pip install matplotlib\n",
    "# !pip install google-cloud-bigquery\n",
    "# !pip install db-dtypes\n",
    "\n",
    "# DEV GUIDES\n",
    "#https://developers.google.com/analytics/devguides/reporting\n",
    "    \n",
    "\n",
    "\n"
   ]
  },
  {
   "cell_type": "code",
   "execution_count": 2,
   "id": "d76d1ebb",
   "metadata": {
    "tags": [
     "remove-cell"
    ]
   },
   "outputs": [],
   "source": [
    "import warnings\n",
    "warnings.filterwarnings('ignore')"
   ]
  },
  {
   "cell_type": "code",
   "execution_count": 81,
   "id": "brave-victor",
   "metadata": {
    "scrolled": false,
    "tags": [
     "remove-cell"
    ]
   },
   "outputs": [
    {
     "name": "stdout",
     "output_type": "stream",
     "text": [
      "The autoreload extension is already loaded. To reload it, use:\n",
      "  %reload_ext autoreload\n"
     ]
    }
   ],
   "source": [
    "from google_auth_oauthlib.flow import InstalledAppFlow\n",
    "from googleapiclient.discovery import build\n",
    "from IPython.display import display\n",
    "import os\n",
    "import pprint\n",
    "# import pandas as pd\n",
    "# import matplotlib.pyplot as plt\n",
    "# import numpy as np\n",
    "\n",
    "%load_ext autoreload\n",
    "%autoreload 2\n",
    "\n",
    "import analytics_package.charts as ac\n",
    "import analytics_hca as hca\n",
    "\n",
    "GA_PROPERTY = \"185740629\" # HCA Data Portal/Browser\n",
    "DCP_ANALYTICS_START = \"2019-03-01\"\n",
    "TODAY = 'today'\n",
    "PERIOD = \"2021Q4\"\n",
    "PREV_PERIOD = \"2022Q1\"\n",
    "GEO_SEGMENT = \"gaid::q-RjXBSdQ-i18vXOOoXl5g\"\n",
    "\n",
    "default_params = {\n",
    "    \"property\": GA_PROPERTY,\n",
    "    \"index_key_formatter\": hca.adjust_table_index_key,\n",
    "    \"period\": PERIOD,\n",
    "    \"prev_period\": PREV_PERIOD,\n",
    "    \"segment\": GEO_SEGMENT\n",
    "}\n",
    "\n",
    "ac.authenticate_ga()\n",
    "\n"
   ]
  },
  {
   "cell_type": "code",
   "execution_count": 82,
   "id": "964fe9c6",
   "metadata": {
    "tags": [
     "remove-input"
    ]
   },
   "outputs": [
    {
     "data": {
      "text/html": [
       "\n",
       "\t\t<style>\n",
       "\t\t\t\n",
       "\t\t\t.analyticsTable {\n",
       "\t\t\t\tdisplay: grid;\n",
       "\t\t\t}\n",
       "\t\t\t\n",
       "\t\t\t/*\n",
       "\t\t\t.anaEven {\n",
       "\t\t\t\tbackground: #f5f5f5;\n",
       "\t\t\t}\n",
       "\t\t\t*/\n",
       "\t\t\t\n",
       "\t\t\t.anaIndex:not(.anaColName) {\n",
       "\t\t\t\twhite-space: pre-wrap;\n",
       "\t\t\t\tline-break: anywhere;\n",
       "\t\t\t}\n",
       "\t\t\t\n",
       "\t\t\t.anaColName {\n",
       "\t\t\t\tfont-weight: bold;\n",
       "\t\t\t\tborder-bottom: 1px solid black;\n",
       "\t\t\t}\n",
       "\t\t\t\n",
       "\t\t\t.anaIndex, .anaColName, .anaCell {\n",
       "\t\t\t\tpadding: 0.3em;\n",
       "\t\t\t}\n",
       "\t\t\t\n",
       "\t\t\t.anaSubcolLeft, .anaIndex {\n",
       "\t\t\t\tpadding-left: 0.7em;\n",
       "\t\t\t}\n",
       "\t\t\t\n",
       "\t\t\t.anaSubcolRight {\n",
       "\t\t\t\tpadding-right: 0.7em;\n",
       "\t\t\t}\n",
       "\t\t\t\n",
       "\t\t\t.anaColName:not(.anaIndex) {\n",
       "\t\t\t\ttext-align: center;\n",
       "\t\t\t}\n",
       "\t\t\t\n",
       "\t\t\t.anaCell:not(.anaIndex) {\n",
       "\t\t\t\ttext-align: right;\n",
       "\t\t\t}\n",
       "\t\t\t\n",
       "\t\t\t.analyticsTable .up::before {\n",
       "\t\t\t\tcontent: \"↑\";\n",
       "\t\t\t\tcolor: gray;\n",
       "\t\t\t}\n",
       "\t\t\t\n",
       "\t\t\t.analyticsTable .down::before {\n",
       "\t\t\t\tcontent: \"↓\";\n",
       "\t\t\t\tcolor: gray;\n",
       "\t\t\t}\n",
       "\t\t\t\n",
       "\t\t\t.analyticsTable .new::before {\n",
       "\t\t\t\tcontent: \"+\";\n",
       "\t\t\t\tcolor: gray;\n",
       "\t\t\t}\n",
       "\t\t\t\n",
       "\t\t\t.anaPositive {\n",
       "\t\t\t\tcolor: green;\n",
       "\t\t\t}\n",
       "\t\t\t\n",
       "\t\t\t.anaNegative {\n",
       "\t\t\t\tcolor: red;\n",
       "\t\t\t}\n",
       "\t\t\t\n",
       "\t\t</style>\n",
       "\t"
      ],
      "text/plain": [
       "<IPython.core.display.HTML object>"
      ]
     },
     "metadata": {},
     "output_type": "display_data"
    }
   ],
   "source": [
    "ac.init_tables()"
   ]
  },
  {
   "cell_type": "markdown",
   "id": "e20059eb",
   "metadata": {},
   "source": [
    "<div style=\"page-break-after: always\"></div>"
   ]
  },
  {
   "cell_type": "markdown",
   "id": "ba6bbb95",
   "metadata": {},
   "source": [
    "## User acquisition"
   ]
  },
  {
   "cell_type": "markdown",
   "id": "6b65b072",
   "metadata": {},
   "source": [
    "### Daily users and pageviews (all time)"
   ]
  },
  {
   "cell_type": "code",
   "execution_count": 44,
   "id": "c767ea49",
   "metadata": {
    "scrolled": false,
    "tags": [
     "remove-input"
    ]
   },
   "outputs": [
    {
     "data": {
      "image/png": "[encoded data removed]",
      "text/plain": [
       "<Figure size 1152x648 with 1 Axes>"
      ]
     },
     "metadata": {
      "needs_background": "light"
     },
     "output_type": "display_data"
    },
    {
     "data": {
      "image/png": "[encoded data removed]",
      "text/plain": [
       "<Figure size 1152x648 with 1 Axes>"
      ]
     },
     "metadata": {
      "needs_background": "light"
     },
     "output_type": "display_data"
    }
   ],
   "source": [
    "users_over_time_table = hca.plot_users_over_time(start_date=DCP_ANALYTICS_START, end_date=TODAY, **default_params)"
   ]
  },
  {
   "cell_type": "markdown",
   "id": "1c2b00a6",
   "metadata": {},
   "source": [
    "### Total unique users and unique pageviews by quarter (all time)"
   ]
  },
  {
   "cell_type": "code",
   "execution_count": 45,
   "id": "eb64c71d",
   "metadata": {
    "tags": [
     "remove-input"
    ]
   },
   "outputs": [
    {
     "data": {
      "text/html": [
       "<div class=\"analyticsTable\" style=\"grid-template-columns: repeat(1, auto) 1fr minmax(3em, min-content) minmax(6em, min-content) minmax(3em, min-content) minmax(6em, min-content)\"><div class=\"anaIndex anaColName\">Year</div><div class=\"anaIndex anaColName\">Quarter</div><div class=\"anaColName\" style=\"grid-column: span 2\">Total Daily Users</div><div class=\"anaColName\" style=\"grid-column: span 2\">Total Unique Pageviews</div><div class=\"anaIndex anaEven\" style=\"grid-row: span 4\">2019</div><div class=\"anaIndex anaEven\" style=\"grid-row: span 1\">1</div><div class=\"anaCell anaEven anaSubcolLeft\">0</div><div class=\"anaCell anaEven anaSubcolRight\"></div><div class=\"anaCell anaEven anaSubcolLeft\">0</div><div class=\"anaCell anaEven anaSubcolRight\"></div><div class=\"anaIndex anaOdd\" style=\"grid-row: span 1\">2</div><div class=\"anaCell anaOdd anaSubcolLeft\">0</div><div class=\"anaCell anaOdd anaSubcolRight\"></div><div class=\"anaCell anaOdd anaSubcolLeft\">0</div><div class=\"anaCell anaOdd anaSubcolRight\"></div><div class=\"anaIndex anaEven\" style=\"grid-row: span 1\">3</div><div class=\"anaCell anaEven anaSubcolLeft\">0</div><div class=\"anaCell anaEven anaSubcolRight\"></div><div class=\"anaCell anaEven anaSubcolLeft\">0</div><div class=\"anaCell anaEven anaSubcolRight\"></div><div class=\"anaIndex anaOdd\" style=\"grid-row: span 1\">4</div><div class=\"anaCell anaOdd anaSubcolLeft\">0</div><div class=\"anaCell anaOdd anaSubcolRight\"></div><div class=\"anaCell anaOdd anaSubcolLeft\">0</div><div class=\"anaCell anaOdd anaSubcolRight\"></div><div class=\"anaIndex anaEven\" style=\"grid-row: span 4\">2020</div><div class=\"anaIndex anaEven\" style=\"grid-row: span 1\">1</div><div class=\"anaCell anaEven anaSubcolLeft\">463</div><div class=\"anaCell anaEven anaSubcolRight\"></div><div class=\"anaCell anaEven anaSubcolLeft\">1647</div><div class=\"anaCell anaEven anaSubcolRight\"></div><div class=\"anaIndex anaOdd\" style=\"grid-row: span 1\">2</div><div class=\"anaCell anaOdd anaSubcolLeft\">10898</div><div class=\"anaCell anaOdd anaSubcolRight\"><div class=\"anaPositive\">(+2253.78%)</div></div><div class=\"anaCell anaOdd anaSubcolLeft\">56303</div><div class=\"anaCell anaOdd anaSubcolRight\"><div class=\"anaPositive\">(+3318.52%)</div></div><div class=\"anaIndex anaEven\" style=\"grid-row: span 1\">3</div><div class=\"anaCell anaEven anaSubcolLeft\">8795</div><div class=\"anaCell anaEven anaSubcolRight\"><div class=\"anaNegative\">(-19.30%)</div></div><div class=\"anaCell anaEven anaSubcolLeft\">43838</div><div class=\"anaCell anaEven anaSubcolRight\"><div class=\"anaNegative\">(-22.14%)</div></div><div class=\"anaIndex anaOdd\" style=\"grid-row: span 1\">4</div><div class=\"anaCell anaOdd anaSubcolLeft\">9522</div><div class=\"anaCell anaOdd anaSubcolRight\"><div class=\"anaPositive\">(+8.27%)</div></div><div class=\"anaCell anaOdd anaSubcolLeft\">42561</div><div class=\"anaCell anaOdd anaSubcolRight\"><div class=\"anaNegative\">(-2.91%)</div></div><div class=\"anaIndex anaEven\" style=\"grid-row: span 4\">2021</div><div class=\"anaIndex anaEven\" style=\"grid-row: span 1\">1</div><div class=\"anaCell anaEven anaSubcolLeft\">10536</div><div class=\"anaCell anaEven anaSubcolRight\"><div class=\"anaPositive\">(+10.65%)</div></div><div class=\"anaCell anaEven anaSubcolLeft\">47940</div><div class=\"anaCell anaEven anaSubcolRight\"><div class=\"anaPositive\">(+12.64%)</div></div><div class=\"anaIndex anaOdd\" style=\"grid-row: span 1\">2</div><div class=\"anaCell anaOdd anaSubcolLeft\">12309</div><div class=\"anaCell anaOdd anaSubcolRight\"><div class=\"anaPositive\">(+16.83%)</div></div><div class=\"anaCell anaOdd anaSubcolLeft\">53004</div><div class=\"anaCell anaOdd anaSubcolRight\"><div class=\"anaPositive\">(+10.56%)</div></div><div class=\"anaIndex anaEven\" style=\"grid-row: span 1\">3</div><div class=\"anaCell anaEven anaSubcolLeft\">10221</div><div class=\"anaCell anaEven anaSubcolRight\"><div class=\"anaNegative\">(-16.96%)</div></div><div class=\"anaCell anaEven anaSubcolLeft\">47968</div><div class=\"anaCell anaEven anaSubcolRight\"><div class=\"anaNegative\">(-9.50%)</div></div><div class=\"anaIndex anaOdd\" style=\"grid-row: span 1\">4</div><div class=\"anaCell anaOdd anaSubcolLeft\">10282</div><div class=\"anaCell anaOdd anaSubcolRight\"><div class=\"anaPositive\">(+0.60%)</div></div><div class=\"anaCell anaOdd anaSubcolLeft\">47328</div><div class=\"anaCell anaOdd anaSubcolRight\"><div class=\"anaNegative\">(-1.33%)</div></div><div class=\"anaIndex anaEven\" style=\"grid-row: span 2\">2022</div><div class=\"anaIndex anaEven\" style=\"grid-row: span 1\">1</div><div class=\"anaCell anaEven anaSubcolLeft\">11892</div><div class=\"anaCell anaEven anaSubcolRight\"><div class=\"anaPositive\">(+15.66%)</div></div><div class=\"anaCell anaEven anaSubcolLeft\">57909</div><div class=\"anaCell anaEven anaSubcolRight\"><div class=\"anaPositive\">(+22.36%)</div></div><div class=\"anaIndex anaOdd\" style=\"grid-row: span 1\">2</div><div class=\"anaCell anaOdd anaSubcolLeft\">11067</div><div class=\"anaCell anaOdd anaSubcolRight\"><div class=\"anaNegative\">(-6.94%)</div></div><div class=\"anaCell anaOdd anaSubcolLeft\">49767</div><div class=\"anaCell anaOdd anaSubcolRight\"><div class=\"anaNegative\">(-14.06%)</div></div></div>"
      ],
      "text/plain": [
       "<IPython.core.display.HTML object>"
      ]
     },
     "metadata": {},
     "output_type": "display_data"
    }
   ],
   "source": [
    "display(users_over_time_table)"
   ]
  },
  {
   "cell_type": "markdown",
   "id": "2e6ebc29",
   "metadata": {},
   "source": [
    "### Users and sessions"
   ]
  },
  {
   "cell_type": "code",
   "execution_count": 46,
   "id": "92a2cb6c",
   "metadata": {
    "scrolled": true,
    "tags": [
     "remove-input"
    ]
   },
   "outputs": [
    {
     "data": {
      "text/html": [
       "<div class=\"analyticsTable\" style=\"grid-template-columns: 1fr 1em minmax(3em, min-content) minmax(6em, min-content)\"><div class=\"anaIndex anaEven\">Total Users</div><div class=\"anaCell anaEven anaSubcolLeft\"></div><div class=\"anaCell anaEven\">7677</div><div class=\"anaCell anaEven anaSubcolRight\"><div class=\"anaNegative\">(-13.04%)</div></div></div>"
      ],
      "text/plain": [
       "<IPython.core.display.HTML object>"
      ]
     },
     "metadata": {},
     "output_type": "display_data"
    }
   ],
   "source": [
    "ac.show_difference_table(\"Total Users\", None, \"ga:users\", None, **default_params)"
   ]
  },
  {
   "cell_type": "code",
   "execution_count": 47,
   "id": "e3edce81",
   "metadata": {
    "scrolled": false,
    "tags": [
     "remove-input"
    ]
   },
   "outputs": [
    {
     "data": {
      "text/html": [
       "<div class=\"analyticsTable\" style=\"grid-template-columns: 1fr 1em minmax(3em, min-content) minmax(6em, min-content)\"><div class=\"anaIndex anaEven\">Returning Users</div><div class=\"anaCell anaEven anaSubcolLeft\"></div><div class=\"anaCell anaEven\">2043</div><div class=\"anaCell anaEven anaSubcolRight\"><div class=\"anaNegative\">(-11.25%)</div></div></div>"
      ],
      "text/plain": [
       "<IPython.core.display.HTML object>"
      ]
     },
     "metadata": {},
     "output_type": "display_data"
    }
   ],
   "source": [
    "ac.show_difference_table(\"Returning Users\", None, \"ga:users\", None, filters=\"ga:userType==Returning Visitor\", **default_params)"
   ]
  },
  {
   "cell_type": "code",
   "execution_count": 48,
   "id": "c103a682",
   "metadata": {
    "tags": [
     "remove-input"
    ]
   },
   "outputs": [
    {
     "data": {
      "text/html": [
       "<div class=\"analyticsTable\" style=\"grid-template-columns: 1fr 1em minmax(3em, min-content) minmax(6em, min-content)\"><div class=\"anaIndex anaEven\">Total Visits</div><div class=\"anaCell anaEven anaSubcolLeft\"></div><div class=\"anaCell anaEven\">12252</div><div class=\"anaCell anaEven anaSubcolRight\"><div class=\"anaNegative\">(-13.54%)</div></div></div>"
      ],
      "text/plain": [
       "<IPython.core.display.HTML object>"
      ]
     },
     "metadata": {},
     "output_type": "display_data"
    }
   ],
   "source": [
    "ac.show_difference_table(\"Total Visits\", None, \"ga:sessions\", None, **default_params)"
   ]
  },
  {
   "cell_type": "code",
   "execution_count": 49,
   "id": "95ba261f",
   "metadata": {
    "scrolled": false,
    "tags": [
     "remove-input"
    ]
   },
   "outputs": [
    {
     "data": {
      "text/html": [
       "<div class=\"analyticsTable\" style=\"grid-template-columns: 1fr 1em minmax(3em, min-content) minmax(6em, min-content)\"><div class=\"anaIndex anaEven\">Sessions Including Visits to Data Portal</div><div class=\"anaCell anaEven anaSubcolLeft\"></div><div class=\"anaCell anaEven\">7848</div><div class=\"anaCell anaEven anaSubcolRight\"><div class=\"anaNegative\">(-9.37%)</div></div></div>"
      ],
      "text/plain": [
       "<IPython.core.display.HTML object>"
      ]
     },
     "metadata": {},
     "output_type": "display_data"
    }
   ],
   "source": [
    "ac.show_difference_table(\"Sessions Including Visits to Data Portal\", None, \"ga:sessions\", None, filters=\"ga:pagePath!~/explore\", **default_params)"
   ]
  },
  {
   "cell_type": "code",
   "execution_count": 50,
   "id": "af69fbbe",
   "metadata": {
    "scrolled": false,
    "tags": [
     "remove-input"
    ]
   },
   "outputs": [
    {
     "data": {
      "text/html": [
       "<div class=\"analyticsTable\" style=\"grid-template-columns: 1fr 1em minmax(3em, min-content) minmax(6em, min-content)\"><div class=\"anaIndex anaEven\">Sessions Including Visits to Data Browser</div><div class=\"anaCell anaEven anaSubcolLeft\"></div><div class=\"anaCell anaEven\">4404</div><div class=\"anaCell anaEven anaSubcolRight\"><div class=\"anaNegative\">(-20.10%)</div></div></div>"
      ],
      "text/plain": [
       "<IPython.core.display.HTML object>"
      ]
     },
     "metadata": {},
     "output_type": "display_data"
    }
   ],
   "source": [
    "ac.show_difference_table(\"Sessions Including Visits to Data Browser\", None, \"ga:sessions\", None, filters=\"ga:pagePath=~/explore\", **default_params)"
   ]
  },
  {
   "cell_type": "markdown",
   "id": "930de3ed",
   "metadata": {},
   "source": [
    "### Top referrers"
   ]
  },
  {
   "cell_type": "code",
   "execution_count": 80,
   "id": "744c6670",
   "metadata": {
    "scrolled": false,
    "tags": [
     "remove-input"
    ]
   },
   "outputs": [
    {
     "data": {
      "text/html": [
       "<div>\n",
       "<style scoped>\n",
       "    .dataframe tbody tr th:only-of-type {\n",
       "        vertical-align: middle;\n",
       "    }\n",
       "\n",
       "    .dataframe tbody tr th {\n",
       "        vertical-align: top;\n",
       "    }\n",
       "\n",
       "    .dataframe thead th {\n",
       "        text-align: right;\n",
       "    }\n",
       "</style>\n",
       "<table border=\"1\" class=\"dataframe\">\n",
       "  <thead>\n",
       "    <tr style=\"text-align: right;\">\n",
       "      <th></th>\n",
       "      <th>ga:users</th>\n",
       "    </tr>\n",
       "    <tr>\n",
       "      <th>ga:source</th>\n",
       "      <th></th>\n",
       "    </tr>\n",
       "  </thead>\n",
       "  <tbody>\n",
       "    <tr>\n",
       "      <th>(direct)</th>\n",
       "      <td>3156</td>\n",
       "    </tr>\n",
       "    <tr>\n",
       "      <th>google</th>\n",
       "      <td>3109</td>\n",
       "    </tr>\n",
       "    <tr>\n",
       "      <th>link.zhihu.com</th>\n",
       "      <td>171</td>\n",
       "    </tr>\n",
       "    <tr>\n",
       "      <th>nature.com</th>\n",
       "      <td>170</td>\n",
       "    </tr>\n",
       "    <tr>\n",
       "      <th>cn.bing.com</th>\n",
       "      <td>152</td>\n",
       "    </tr>\n",
       "    <tr>\n",
       "      <th>ebi.ac.uk</th>\n",
       "      <td>132</td>\n",
       "    </tr>\n",
       "    <tr>\n",
       "      <th>bing</th>\n",
       "      <td>128</td>\n",
       "    </tr>\n",
       "    <tr>\n",
       "      <th>satijalab.org</th>\n",
       "      <td>113</td>\n",
       "    </tr>\n",
       "    <tr>\n",
       "      <th>covid19cellatlas.org</th>\n",
       "      <td>88</td>\n",
       "    </tr>\n",
       "    <tr>\n",
       "      <th>baidu</th>\n",
       "      <td>81</td>\n",
       "    </tr>\n",
       "    <tr>\n",
       "      <th>jianshu.com</th>\n",
       "      <td>73</td>\n",
       "    </tr>\n",
       "    <tr>\n",
       "      <th>github.com</th>\n",
       "      <td>67</td>\n",
       "    </tr>\n",
       "    <tr>\n",
       "      <th>en.wikipedia.org</th>\n",
       "      <td>55</td>\n",
       "    </tr>\n",
       "    <tr>\n",
       "      <th>proteinatlas.org</th>\n",
       "      <td>43</td>\n",
       "    </tr>\n",
       "    <tr>\n",
       "      <th>chanzuckerberg.com</th>\n",
       "      <td>42</td>\n",
       "    </tr>\n",
       "    <tr>\n",
       "      <th>ncbi.nlm.nih.gov</th>\n",
       "      <td>32</td>\n",
       "    </tr>\n",
       "    <tr>\n",
       "      <th>duckduckgo</th>\n",
       "      <td>26</td>\n",
       "    </tr>\n",
       "    <tr>\n",
       "      <th>azimuth.hubmapconsortium.org</th>\n",
       "      <td>25</td>\n",
       "    </tr>\n",
       "    <tr>\n",
       "      <th>kb.10xgenomics.com</th>\n",
       "      <td>21</td>\n",
       "    </tr>\n",
       "    <tr>\n",
       "      <th>asap.epfl.ch</th>\n",
       "      <td>18</td>\n",
       "    </tr>\n",
       "  </tbody>\n",
       "</table>\n",
       "</div>"
      ],
      "text/plain": [
       "                              ga:users\n",
       "ga:source                             \n",
       "(direct)                          3156\n",
       "google                            3109\n",
       "link.zhihu.com                     171\n",
       "nature.com                         170\n",
       "cn.bing.com                        152\n",
       "ebi.ac.uk                          132\n",
       "bing                               128\n",
       "satijalab.org                      113\n",
       "covid19cellatlas.org                88\n",
       "baidu                               81\n",
       "jianshu.com                         73\n",
       "github.com                          67\n",
       "en.wikipedia.org                    55\n",
       "proteinatlas.org                    43\n",
       "chanzuckerberg.com                  42\n",
       "ncbi.nlm.nih.gov                    32\n",
       "duckduckgo                          26\n",
       "azimuth.hubmapconsortium.org        25\n",
       "kb.10xgenomics.com                  21\n",
       "asap.epfl.ch                        18"
      ]
     },
     "metadata": {},
     "output_type": "display_data"
    },
    {
     "data": {
      "text/html": [
       "<div>\n",
       "<style scoped>\n",
       "    .dataframe tbody tr th:only-of-type {\n",
       "        vertical-align: middle;\n",
       "    }\n",
       "\n",
       "    .dataframe tbody tr th {\n",
       "        vertical-align: top;\n",
       "    }\n",
       "\n",
       "    .dataframe thead th {\n",
       "        text-align: right;\n",
       "    }\n",
       "</style>\n",
       "<table border=\"1\" class=\"dataframe\">\n",
       "  <thead>\n",
       "    <tr style=\"text-align: right;\">\n",
       "      <th></th>\n",
       "      <th>ga:users</th>\n",
       "    </tr>\n",
       "    <tr>\n",
       "      <th>ga:source</th>\n",
       "      <th></th>\n",
       "    </tr>\n",
       "  </thead>\n",
       "  <tbody>\n",
       "    <tr>\n",
       "      <th>(direct)</th>\n",
       "      <td>3757</td>\n",
       "    </tr>\n",
       "    <tr>\n",
       "      <th>google</th>\n",
       "      <td>3665</td>\n",
       "    </tr>\n",
       "    <tr>\n",
       "      <th>link.zhihu.com</th>\n",
       "      <td>227</td>\n",
       "    </tr>\n",
       "    <tr>\n",
       "      <th>cn.bing.com</th>\n",
       "      <td>198</td>\n",
       "    </tr>\n",
       "    <tr>\n",
       "      <th>satijalab.org</th>\n",
       "      <td>141</td>\n",
       "    </tr>\n",
       "    <tr>\n",
       "      <th>bing</th>\n",
       "      <td>130</td>\n",
       "    </tr>\n",
       "    <tr>\n",
       "      <th>nature.com</th>\n",
       "      <td>116</td>\n",
       "    </tr>\n",
       "    <tr>\n",
       "      <th>baidu</th>\n",
       "      <td>107</td>\n",
       "    </tr>\n",
       "    <tr>\n",
       "      <th>covid19cellatlas.org</th>\n",
       "      <td>92</td>\n",
       "    </tr>\n",
       "    <tr>\n",
       "      <th>ebi.ac.uk</th>\n",
       "      <td>87</td>\n",
       "    </tr>\n",
       "    <tr>\n",
       "      <th>github.com</th>\n",
       "      <td>80</td>\n",
       "    </tr>\n",
       "    <tr>\n",
       "      <th>jianshu.com</th>\n",
       "      <td>65</td>\n",
       "    </tr>\n",
       "    <tr>\n",
       "      <th>en.wikipedia.org</th>\n",
       "      <td>53</td>\n",
       "    </tr>\n",
       "    <tr>\n",
       "      <th>ncbi.nlm.nih.gov</th>\n",
       "      <td>43</td>\n",
       "    </tr>\n",
       "    <tr>\n",
       "      <th>azimuth.hubmapconsortium.org</th>\n",
       "      <td>42</td>\n",
       "    </tr>\n",
       "    <tr>\n",
       "      <th>proteinatlas.org</th>\n",
       "      <td>40</td>\n",
       "    </tr>\n",
       "    <tr>\n",
       "      <th>duckduckgo</th>\n",
       "      <td>27</td>\n",
       "    </tr>\n",
       "    <tr>\n",
       "      <th>chanzuckerberg.com</th>\n",
       "      <td>25</td>\n",
       "    </tr>\n",
       "    <tr>\n",
       "      <th>yahoo</th>\n",
       "      <td>22</td>\n",
       "    </tr>\n",
       "    <tr>\n",
       "      <th>heartcellatlas.org</th>\n",
       "      <td>22</td>\n",
       "    </tr>\n",
       "  </tbody>\n",
       "</table>\n",
       "</div>"
      ],
      "text/plain": [
       "                              ga:users\n",
       "ga:source                             \n",
       "(direct)                          3757\n",
       "google                            3665\n",
       "link.zhihu.com                     227\n",
       "cn.bing.com                        198\n",
       "satijalab.org                      141\n",
       "bing                               130\n",
       "nature.com                         116\n",
       "baidu                              107\n",
       "covid19cellatlas.org                92\n",
       "ebi.ac.uk                           87\n",
       "github.com                          80\n",
       "jianshu.com                         65\n",
       "en.wikipedia.org                    53\n",
       "ncbi.nlm.nih.gov                    43\n",
       "azimuth.hubmapconsortium.org        42\n",
       "proteinatlas.org                    40\n",
       "duckduckgo                          27\n",
       "chanzuckerberg.com                  25\n",
       "yahoo                               22\n",
       "heartcellatlas.org                  22"
      ]
     },
     "metadata": {},
     "output_type": "display_data"
    },
    {
     "data": {
      "text/html": [
       "<div class=\"analyticsTable\" style=\"grid-template-columns: 1fr 1.5em minmax(3em, min-content) minmax(6em, min-content)\"><div class=\"anaIndex anaColName\">Referrer</div><div class=\"anaColName\" style=\"grid-column: span 3\">Users</div><div class=\"anaIndex anaEven\">(direct)</div><div class=\"anaCell anaEven anaSubcolLeft\"></div><div class=\"anaCell anaEven\">3156</div><div class=\"anaCell anaEven anaSubcolRight\"><div class=\"anaNegative\">(-16.00%)</div></div><div class=\"anaIndex anaOdd\">google</div><div class=\"anaCell anaOdd anaSubcolLeft\"></div><div class=\"anaCell anaOdd\">3109</div><div class=\"anaCell anaOdd anaSubcolRight\"><div class=\"anaNegative\">(-15.17%)</div></div><div class=\"anaIndex anaEven\">link.zhihu.com</div><div class=\"anaCell anaEven anaSubcolLeft\"></div><div class=\"anaCell anaEven\">171</div><div class=\"anaCell anaEven anaSubcolRight\"><div class=\"anaNegative\">(-24.67%)</div></div><div class=\"anaIndex anaOdd\">nature.com</div><div class=\"anaCell anaOdd anaSubcolLeft\"><div class=\"up\"></div></div><div class=\"anaCell anaOdd\">170</div><div class=\"anaCell anaOdd anaSubcolRight\"><div class=\"anaPositive\">(+46.55%)</div></div><div class=\"anaIndex anaEven\">cn.bing.com</div><div class=\"anaCell anaEven anaSubcolLeft\"><div class=\"down\"></div></div><div class=\"anaCell anaEven\">152</div><div class=\"anaCell anaEven anaSubcolRight\"><div class=\"anaNegative\">(-23.23%)</div></div><div class=\"anaIndex anaOdd\">ebi.ac.uk</div><div class=\"anaCell anaOdd anaSubcolLeft\"><div class=\"up\"></div></div><div class=\"anaCell anaOdd\">132</div><div class=\"anaCell anaOdd anaSubcolRight\"><div class=\"anaPositive\">(+51.72%)</div></div><div class=\"anaIndex anaEven\">bing</div><div class=\"anaCell anaEven anaSubcolLeft\"><div class=\"down\"></div></div><div class=\"anaCell anaEven\">128</div><div class=\"anaCell anaEven anaSubcolRight\"><div class=\"anaNegative\">(-1.54%)</div></div><div class=\"anaIndex anaOdd\">satijalab.org</div><div class=\"anaCell anaOdd anaSubcolLeft\"><div class=\"down\"></div></div><div class=\"anaCell anaOdd\">113</div><div class=\"anaCell anaOdd anaSubcolRight\"><div class=\"anaNegative\">(-19.86%)</div></div><div class=\"anaIndex anaEven\">covid19cellatlas.org</div><div class=\"anaCell anaEven anaSubcolLeft\"></div><div class=\"anaCell anaEven\">88</div><div class=\"anaCell anaEven anaSubcolRight\"><div class=\"anaNegative\">(-4.35%)</div></div><div class=\"anaIndex anaOdd\">baidu</div><div class=\"anaCell anaOdd anaSubcolLeft\"><div class=\"down\"></div></div><div class=\"anaCell anaOdd\">81</div><div class=\"anaCell anaOdd anaSubcolRight\"><div class=\"anaNegative\">(-24.30%)</div></div><div class=\"anaIndex anaEven\">jianshu.com</div><div class=\"anaCell anaEven anaSubcolLeft\"><div class=\"up\"></div></div><div class=\"anaCell anaEven\">73</div><div class=\"anaCell anaEven anaSubcolRight\"><div class=\"anaPositive\">(+12.31%)</div></div><div class=\"anaIndex anaOdd\">github.com</div><div class=\"anaCell anaOdd anaSubcolLeft\"><div class=\"down\"></div></div><div class=\"anaCell anaOdd\">67</div><div class=\"anaCell anaOdd anaSubcolRight\"><div class=\"anaNegative\">(-16.25%)</div></div><div class=\"anaIndex anaEven\">en.wikipedia.org</div><div class=\"anaCell anaEven anaSubcolLeft\"></div><div class=\"anaCell anaEven\">55</div><div class=\"anaCell anaEven anaSubcolRight\"><div class=\"anaPositive\">(+3.77%)</div></div><div class=\"anaIndex anaOdd\">proteinatlas.org</div><div class=\"anaCell anaOdd anaSubcolLeft\"><div class=\"up\"></div></div><div class=\"anaCell anaOdd\">43</div><div class=\"anaCell anaOdd anaSubcolRight\"><div class=\"anaPositive\">(+7.50%)</div></div><div class=\"anaIndex anaEven\">chanzuckerberg.com</div><div class=\"anaCell anaEven anaSubcolLeft\"><div class=\"up\"></div></div><div class=\"anaCell anaEven\">42</div><div class=\"anaCell anaEven anaSubcolRight\"><div class=\"anaPositive\">(+68.00%)</div></div><div class=\"anaIndex anaOdd\">ncbi.nlm.nih.gov</div><div class=\"anaCell anaOdd anaSubcolLeft\"><div class=\"down\"></div></div><div class=\"anaCell anaOdd\">32</div><div class=\"anaCell anaOdd anaSubcolRight\"><div class=\"anaNegative\">(-25.58%)</div></div><div class=\"anaIndex anaEven\">duckduckgo</div><div class=\"anaCell anaEven anaSubcolLeft\"></div><div class=\"anaCell anaEven\">26</div><div class=\"anaCell anaEven anaSubcolRight\"><div class=\"anaNegative\">(-3.70%)</div></div><div class=\"anaIndex anaOdd\">azimuth.hubmapconsortium.org</div><div class=\"anaCell anaOdd anaSubcolLeft\"><div class=\"down\"></div></div><div class=\"anaCell anaOdd\">25</div><div class=\"anaCell anaOdd anaSubcolRight\"><div class=\"anaNegative\">(-40.48%)</div></div><div class=\"anaIndex anaEven\">kb.10xgenomics.com</div><div class=\"anaCell anaEven anaSubcolLeft\"><div class=\"new\"></div></div><div class=\"anaCell anaEven\">21</div><div class=\"anaCell anaEven anaSubcolRight\"></div><div class=\"anaIndex anaOdd\">asap.epfl.ch</div><div class=\"anaCell anaOdd anaSubcolLeft\"><div class=\"new\"></div></div><div class=\"anaCell anaOdd\">18</div><div class=\"anaCell anaOdd anaSubcolRight\"></div></div>"
      ],
      "text/plain": [
       "<IPython.core.display.HTML object>"
      ]
     },
     "metadata": {},
     "output_type": "display_data"
    }
   ],
   "source": [
    "ac.show_difference_table(\"Users\", \"Referrer\", \"ga:users\",\"ga:source\", **default_params)"
   ]
  },
  {
   "cell_type": "markdown",
   "id": "9719ba98",
   "metadata": {},
   "source": [
    "### Top countries"
   ]
  },
  {
   "cell_type": "code",
   "execution_count": 52,
   "id": "cca3e2c5",
   "metadata": {
    "scrolled": false,
    "tags": [
     "remove-input"
    ]
   },
   "outputs": [
    {
     "data": {
      "text/html": [
       "<div class=\"analyticsTable\" style=\"grid-template-columns: 1fr 1em minmax(3em, min-content) minmax(6em, min-content)\"><div class=\"anaIndex anaColName\">Country</div><div class=\"anaColName\" style=\"grid-column: span 3\">Users</div><div class=\"anaIndex anaEven\">United States</div><div class=\"anaCell anaEven anaSubcolLeft\"></div><div class=\"anaCell anaEven\">2048</div><div class=\"anaCell anaEven anaSubcolRight\"><div class=\"anaNegative\">(-21.35%)</div></div><div class=\"anaIndex anaOdd\">China</div><div class=\"anaCell anaOdd anaSubcolLeft\"></div><div class=\"anaCell anaOdd\">1545</div><div class=\"anaCell anaOdd anaSubcolRight\"><div class=\"anaNegative\">(-19.45%)</div></div><div class=\"anaIndex anaEven\">United Kingdom</div><div class=\"anaCell anaEven anaSubcolLeft\"></div><div class=\"anaCell anaEven\">483</div><div class=\"anaCell anaEven anaSubcolRight\"><div class=\"anaNegative\">(-11.21%)</div></div><div class=\"anaIndex anaOdd\">Germany</div><div class=\"anaCell anaOdd anaSubcolLeft\"></div><div class=\"anaCell anaOdd\">375</div><div class=\"anaCell anaOdd anaSubcolRight\"><div class=\"anaNegative\">(-14.97%)</div></div><div class=\"anaIndex anaEven\">Japan</div><div class=\"anaCell anaEven anaSubcolLeft\"><div class=\"up\"></div></div><div class=\"anaCell anaEven\">325</div><div class=\"anaCell anaEven anaSubcolRight\"><div class=\"anaNegative\">(-3.85%)</div></div><div class=\"anaIndex anaOdd\">Indonesia</div><div class=\"anaCell anaOdd anaSubcolLeft\"><div class=\"up\"></div></div><div class=\"anaCell anaOdd\">307</div><div class=\"anaCell anaOdd anaSubcolRight\"><div class=\"anaPositive\">(+73.45%)</div></div><div class=\"anaIndex anaEven\">South Korea</div><div class=\"anaCell anaEven anaSubcolLeft\"><div class=\"down\"></div></div><div class=\"anaCell anaEven\">250</div><div class=\"anaCell anaEven anaSubcolRight\"><div class=\"anaNegative\">(-32.98%)</div></div><div class=\"anaIndex anaOdd\">Hong Kong</div><div class=\"anaCell anaOdd anaSubcolLeft\"></div><div class=\"anaCell anaOdd\">219</div><div class=\"anaCell anaOdd anaSubcolRight\"><div class=\"anaPositive\">(+12.31%)</div></div><div class=\"anaIndex anaEven\">France</div><div class=\"anaCell anaEven anaSubcolLeft\"><div class=\"down\"></div></div><div class=\"anaCell anaEven\">200</div><div class=\"anaCell anaEven anaSubcolRight\"><div class=\"anaNegative\">(-6.54%)</div></div><div class=\"anaIndex anaOdd\">India</div><div class=\"anaCell anaOdd anaSubcolLeft\"><div class=\"up\"></div></div><div class=\"anaCell anaOdd\">163</div><div class=\"anaCell anaOdd anaSubcolRight\"><div class=\"anaNegative\">(-6.86%)</div></div><div class=\"anaIndex anaEven\">Canada</div><div class=\"anaCell anaEven anaSubcolLeft\"><div class=\"down\"></div></div><div class=\"anaCell anaEven\">162</div><div class=\"anaCell anaEven anaSubcolRight\"><div class=\"anaNegative\">(-8.47%)</div></div><div class=\"anaIndex anaOdd\">Australia</div><div class=\"anaCell anaOdd anaSubcolLeft\"><div class=\"up\"></div></div><div class=\"anaCell anaOdd\">140</div><div class=\"anaCell anaOdd anaSubcolRight\"><div class=\"anaPositive\">(+21.74%)</div></div><div class=\"anaIndex anaEven\">Sweden</div><div class=\"anaCell anaEven anaSubcolLeft\"><div class=\"up\"></div></div><div class=\"anaCell anaEven\">123</div><div class=\"anaCell anaEven anaSubcolRight\"><div class=\"anaPositive\">(+6.96%)</div></div><div class=\"anaIndex anaOdd\">Italy</div><div class=\"anaCell anaOdd anaSubcolLeft\"><div class=\"down\"></div></div><div class=\"anaCell anaOdd\">110</div><div class=\"anaCell anaOdd anaSubcolRight\"><div class=\"anaNegative\">(-9.09%)</div></div><div class=\"anaIndex anaEven\">Singapore</div><div class=\"anaCell anaEven anaSubcolLeft\"><div class=\"up\"></div></div><div class=\"anaCell anaEven\">110</div><div class=\"anaCell anaEven anaSubcolRight\"><div class=\"anaPositive\">(+0.92%)</div></div><div class=\"anaIndex anaOdd\">Taiwan</div><div class=\"anaCell anaOdd anaSubcolLeft\"><div class=\"up\"></div></div><div class=\"anaCell anaOdd\">98</div><div class=\"anaCell anaOdd anaSubcolRight\"><div class=\"anaPositive\">(+13.95%)</div></div><div class=\"anaIndex anaEven\">Switzerland</div><div class=\"anaCell anaEven anaSubcolLeft\"></div><div class=\"anaCell anaEven\">96</div><div class=\"anaCell anaEven anaSubcolRight\"><div class=\"anaNegative\">(-15.04%)</div></div><div class=\"anaIndex anaOdd\">Netherlands</div><div class=\"anaCell anaOdd anaSubcolLeft\"><div class=\"down\"></div></div><div class=\"anaCell anaOdd\">96</div><div class=\"anaCell anaOdd anaSubcolRight\"><div class=\"anaNegative\">(-15.04%)</div></div><div class=\"anaIndex anaEven\">Spain</div><div class=\"anaCell anaEven anaSubcolLeft\"><div class=\"down\"></div></div><div class=\"anaCell anaEven\">92</div><div class=\"anaCell anaEven anaSubcolRight\"><div class=\"anaNegative\">(-27.56%)</div></div><div class=\"anaIndex anaOdd\">Belgium</div><div class=\"anaCell anaOdd anaSubcolLeft\"><div class=\"down\"></div></div><div class=\"anaCell anaOdd\">79</div><div class=\"anaCell anaOdd anaSubcolRight\"><div class=\"anaNegative\">(-21.00%)</div></div></div>"
      ],
      "text/plain": [
       "<IPython.core.display.HTML object>"
      ]
     },
     "metadata": {},
     "output_type": "display_data"
    }
   ],
   "source": [
    "ac.show_difference_table(\"Users\", \"Country\", \"ga:users\",\"ga:country\", **default_params)"
   ]
  },
  {
   "cell_type": "markdown",
   "id": "4ad9c65f",
   "metadata": {},
   "source": [
    "### Social network referrers"
   ]
  },
  {
   "cell_type": "code",
   "execution_count": 57,
   "id": "0c710a81",
   "metadata": {
    "scrolled": false,
    "tags": [
     "remove-input"
    ]
   },
   "outputs": [
    {
     "data": {
      "text/html": [
       "<div class=\"analyticsTable\" style=\"grid-template-columns: 1fr 1.5em minmax(3em, min-content) minmax(6em, min-content)\"><div class=\"anaIndex anaColName\">Social Network</div><div class=\"anaColName\" style=\"grid-column: span 3\">User Sessions</div><div class=\"anaIndex anaEven\">(not set)</div><div class=\"anaCell anaEven anaSubcolLeft\"></div><div class=\"anaCell anaEven\">12230</div><div class=\"anaCell anaEven anaSubcolRight\"><div class=\"anaNegative\">(-13.56%)</div></div><div class=\"anaIndex anaOdd\">Facebook</div><div class=\"anaCell anaOdd anaSubcolLeft\"><div class=\"up\"></div></div><div class=\"anaCell anaOdd\">7</div><div class=\"anaCell anaOdd anaSubcolRight\"><div class=\"anaZero\">(+0.00%)</div></div><div class=\"anaIndex anaEven\">LinkedIn</div><div class=\"anaCell anaEven anaSubcolLeft\"><div class=\"new\"></div></div><div class=\"anaCell anaEven\">5</div><div class=\"anaCell anaEven anaSubcolRight\"></div><div class=\"anaIndex anaOdd\">ResearchGate</div><div class=\"anaCell anaOdd anaSubcolLeft\"><div class=\"up\"></div></div><div class=\"anaCell anaOdd\">3</div><div class=\"anaCell anaOdd anaSubcolRight\"><div class=\"anaPositive\">(+50.00%)</div></div><div class=\"anaIndex anaEven\">Twitter</div><div class=\"anaCell anaEven anaSubcolLeft\"><div class=\"down\"></div></div><div class=\"anaCell anaEven\">3</div><div class=\"anaCell anaEven anaSubcolRight\"><div class=\"anaNegative\">(-66.67%)</div></div><div class=\"anaIndex anaOdd\">FC2</div><div class=\"anaCell anaOdd anaSubcolLeft\"><div class=\"up\"></div></div><div class=\"anaCell anaOdd\">2</div><div class=\"anaCell anaOdd anaSubcolRight\"><div class=\"anaPositive\">(+100.00%)</div></div><div class=\"anaIndex anaEven\">Tencent</div><div class=\"anaCell anaEven anaSubcolLeft\"><div class=\"new\"></div></div><div class=\"anaCell anaEven\">1</div><div class=\"anaCell anaEven anaSubcolRight\"></div><div class=\"anaIndex anaOdd\">reddit</div><div class=\"anaCell anaOdd anaSubcolLeft\"><div class=\"down\"></div></div><div class=\"anaCell anaOdd\">1</div><div class=\"anaCell anaOdd anaSubcolRight\"><div class=\"anaNegative\">(-66.67%)</div></div></div>"
      ],
      "text/plain": [
       "<IPython.core.display.HTML object>"
      ]
     },
     "metadata": {},
     "output_type": "display_data"
    }
   ],
   "source": [
    "ac.show_difference_table(\"User Sessions\", \"Social Network\", \"ga:sessions\", \"ga:socialNetwork\", **default_params)"
   ]
  },
  {
   "cell_type": "markdown",
   "id": "a0c088d2",
   "metadata": {},
   "source": [
    "### Top entrances"
   ]
  },
  {
   "cell_type": "code",
   "execution_count": 65,
   "id": "6729aa7f",
   "metadata": {
    "scrolled": false,
    "tags": [
     "remove-input"
    ]
   },
   "outputs": [
    {
     "data": {
      "text/html": [
       "<div class=\"analyticsTable\" style=\"grid-template-columns: 1fr 1.5em minmax(3em, min-content) minmax(6em, min-content)\"><div class=\"anaIndex anaColName\">Page</div><div class=\"anaColName\" style=\"grid-column: span 3\">Entrances</div><div class=\"anaIndex anaEven\">/</div><div class=\"anaCell anaEven anaSubcolLeft\"></div><div class=\"anaCell anaEven\">4400</div><div class=\"anaCell anaEven anaSubcolRight\"><div class=\"anaNegative\">(-10.80%)</div></div><div class=\"anaIndex anaOdd\">/analyze/portals/single-cell-expression-atlas</div><div class=\"anaCell anaOdd anaSubcolLeft\"></div><div class=\"anaCell anaOdd\">797</div><div class=\"anaCell anaOdd anaSubcolRight\"><div class=\"anaNegative\">(-17.92%)</div></div><div class=\"anaIndex anaEven\"><a href=\"https://data.humancellatlas.org/explore/projects/cc95ff89-2e68-4a08-a234-480eca21ce79\">Census of Immune Cells</a></div><div class=\"anaCell anaEven anaSubcolLeft\"></div><div class=\"anaCell anaEven\">448</div><div class=\"anaCell anaEven anaSubcolRight\"><div class=\"anaNegative\">(-8.76%)</div></div><div class=\"anaIndex anaOdd\">/explore/projects</div><div class=\"anaCell anaOdd anaSubcolLeft\"></div><div class=\"anaCell anaOdd\">423</div><div class=\"anaCell anaOdd anaSubcolRight\"><div class=\"anaNegative\">(-9.62%)</div></div><div class=\"anaIndex anaEven\">/analyze/methods/infer</div><div class=\"anaCell anaEven anaSubcolLeft\"></div><div class=\"anaCell anaEven\">305</div><div class=\"anaCell anaEven anaSubcolRight\"><div class=\"anaNegative\">(-6.44%)</div></div><div class=\"anaIndex anaOdd\">/pipelines/smart-seq2-workflow</div><div class=\"anaCell anaOdd anaSubcolLeft\"><div class=\"up\"></div></div><div class=\"anaCell anaOdd\">279</div><div class=\"anaCell anaOdd anaSubcolRight\"><div class=\"anaNegative\">(-5.10%)</div></div><div class=\"anaIndex anaEven\">/analyze/portals/cellxgene</div><div class=\"anaCell anaEven anaSubcolLeft\"><div class=\"down\"></div></div><div class=\"anaCell anaEven\">210</div><div class=\"anaCell anaEven anaSubcolRight\"><div class=\"anaNegative\">(-31.60%)</div></div><div class=\"anaIndex anaOdd\">/explore/projects?filter=[{&quot;facetName&quot;:&quot;organ&quot;,&quot;terms&quot;:[&quot;immune system&quot;]}]&amp;catalog=dcp1</div><div class=\"anaCell anaOdd anaSubcolLeft\"></div><div class=\"anaCell anaOdd\">169</div><div class=\"anaCell anaOdd anaSubcolRight\"><div class=\"anaNegative\">(-14.65%)</div></div><div class=\"anaIndex anaEven\">/analyze</div><div class=\"anaCell anaEven anaSubcolLeft\"><div class=\"up\"></div></div><div class=\"anaCell anaEven\">153</div><div class=\"anaCell anaEven anaSubcolRight\"><div class=\"anaPositive\">(+30.77%)</div></div><div class=\"anaIndex anaOdd\"><a href=\"https://data.humancellatlas.org/explore/projects/4d6f6c96-2a83-43d8-8fe1-0f53bffd4674\">Dissecting the human liver cellular landscape by single cell RNA-seq reveals novel intrahepatic monocyte/ macrophage populations</a></div><div class=\"anaCell anaOdd anaSubcolLeft\"><div class=\"down\"></div></div><div class=\"anaCell anaOdd\">141</div><div class=\"anaCell anaOdd anaSubcolRight\"><div class=\"anaNegative\">(-0.70%)</div></div><div class=\"anaIndex anaEven\">/analyze/portals/single-cell-portal</div><div class=\"anaCell anaEven anaSubcolLeft\"><div class=\"up\"></div></div><div class=\"anaCell anaEven\">131</div><div class=\"anaCell anaEven anaSubcolRight\"><div class=\"anaPositive\">(+18.02%)</div></div><div class=\"anaIndex anaOdd\">/analyze/portals/asap</div><div class=\"anaCell anaOdd anaSubcolLeft\"><div class=\"up\"></div></div><div class=\"anaCell anaOdd\">118</div><div class=\"anaCell anaOdd anaSubcolRight\"><div class=\"anaPositive\">(+28.26%)</div></div><div class=\"anaIndex anaEven\"><a href=\"https://data.humancellatlas.org/explore/projects/abe1a013-af7a-45ed-8c26-f3793c24a1f4\">Spatio-temporal immune zonation of the human kidney</a></div><div class=\"anaCell anaEven anaSubcolLeft\"><div class=\"down\"></div></div><div class=\"anaCell anaEven\">112</div><div class=\"anaCell anaEven anaSubcolRight\"><div class=\"anaNegative\">(-0.88%)</div></div><div class=\"anaIndex anaOdd\"><a href=\"https://data.humancellatlas.org/explore/projects/091cf39b-01bc-42e5-9437-f419a66c8a45\">Profiling of CD34+ cells from human bone marrow to understand hematopoiesis</a></div><div class=\"anaCell anaOdd anaSubcolLeft\"><div class=\"down\"></div></div><div class=\"anaCell anaOdd\">110</div><div class=\"anaCell anaOdd anaSubcolRight\"><div class=\"anaPositive\">(+19.57%)</div></div><div class=\"anaIndex anaEven\">/metadata</div><div class=\"anaCell anaEven anaSubcolLeft\"><div class=\"new\"></div></div><div class=\"anaCell anaEven\">93</div><div class=\"anaCell anaEven anaSubcolRight\"></div><div class=\"anaIndex anaOdd\">/analyze/portals/bioturing-browser</div><div class=\"anaCell anaOdd anaSubcolLeft\"><div class=\"new\"></div></div><div class=\"anaCell anaOdd\">87</div><div class=\"anaCell anaOdd anaSubcolRight\"></div><div class=\"anaIndex anaEven\">/analyze/visualization/anatomogram</div><div class=\"anaCell anaEven anaSubcolLeft\"><div class=\"up\"></div></div><div class=\"anaCell anaEven\">83</div><div class=\"anaCell anaEven anaSubcolRight\"><div class=\"anaPositive\">(+12.16%)</div></div><div class=\"anaIndex anaOdd\"><a href=\"https://data.humancellatlas.org/explore/projects/c4077b3c-5c98-4d26-a614-246d12c2e5d7\">Ischaemic sensitivity of human tissue by single cell RNA seq</a></div><div class=\"anaCell anaOdd anaSubcolLeft\"><div class=\"down\"></div></div><div class=\"anaCell anaOdd\">71</div><div class=\"anaCell anaOdd anaSubcolRight\"><div class=\"anaNegative\">(-14.46%)</div></div><div class=\"anaIndex anaEven\">/pipelines</div><div class=\"anaCell anaEven anaSubcolLeft\"><div class=\"new\"></div></div><div class=\"anaCell anaEven\">67</div><div class=\"anaCell anaEven anaSubcolRight\"></div><div class=\"anaIndex anaOdd\">/pipelines/optimus-workflow</div><div class=\"anaCell anaOdd anaSubcolLeft\"><div class=\"down\"></div></div><div class=\"anaCell anaOdd\">64</div><div class=\"anaCell anaOdd anaSubcolRight\"><div class=\"anaNegative\">(-20.00%)</div></div></div>"
      ],
      "text/plain": [
       "<IPython.core.display.HTML object>"
      ]
     },
     "metadata": {},
     "output_type": "display_data"
    }
   ],
   "source": [
    "ac.show_difference_table(\"Entrances\", \"Page\", \"ga:entrances\",\"ga:pagePath\", **default_params)"
   ]
  },
  {
   "cell_type": "markdown",
   "id": "4788a00e",
   "metadata": {},
   "source": [
    "## Downloads and exports\n",
    "### Download project manifest"
   ]
  },
  {
   "cell_type": "code",
   "execution_count": 58,
   "id": "db613ae8",
   "metadata": {
    "scrolled": false,
    "tags": [
     "remove-input"
    ]
   },
   "outputs": [
    {
     "data": {
      "text/html": [
       "<div class=\"analyticsTable\" style=\"grid-template-columns: 1fr 1.5em minmax(3em, min-content) minmax(6em, min-content) minmax(3em, min-content) minmax(6em, min-content)\"><div class=\"anaIndex anaColName\">Action</div><div class=\"anaColName\" style=\"grid-column: span 3\">Users</div><div class=\"anaColName\" style=\"grid-column: span 2\">Count</div><div class=\"anaIndex anaEven\">Download Project Manifest</div><div class=\"anaCell anaEven anaSubcolLeft\"></div><div class=\"anaCell anaEven\">518</div><div class=\"anaCell anaEven anaSubcolRight\"><div class=\"anaNegative\">(-19.31%)</div></div><div class=\"anaCell anaEven anaSubcolLeft\">1009</div><div class=\"anaCell anaEven anaSubcolRight\"><div class=\"anaNegative\">(-28.94%)</div></div></div>"
      ],
      "text/plain": [
       "<IPython.core.display.HTML object>"
      ]
     },
     "metadata": {},
     "output_type": "display_data"
    }
   ],
   "source": [
    "ac.show_difference_table([\"Users\", \"Count\"], \"Action\", [\"ga:users\", \"ga:hits\"], [\"ga:eventAction\", \"ga:eventCategory\"], filters=\"ga:eventCategory==Project;ga:eventAction==Download Project Manifest\", rows_type=\"fixed\", **default_params)"
   ]
  },
  {
   "cell_type": "markdown",
   "id": "40ea9b89",
   "metadata": {},
   "source": [
    "### Download project matrix"
   ]
  },
  {
   "cell_type": "code",
   "execution_count": 60,
   "id": "e18ca244",
   "metadata": {
    "scrolled": false,
    "tags": [
     "remove-input"
    ]
   },
   "outputs": [
    {
     "data": {
      "text/html": [
       "<div class=\"analyticsTable\" style=\"grid-template-columns: 1fr 1.5em minmax(3em, min-content) minmax(6em, min-content) minmax(3em, min-content) minmax(6em, min-content)\"><div class=\"anaIndex anaColName\">Download Type</div><div class=\"anaColName\" style=\"grid-column: span 3\">Users</div><div class=\"anaColName\" style=\"grid-column: span 2\">Count</div><div class=\"anaIndex anaEven\">Project CGM Matrix</div><div class=\"anaCell anaEven anaSubcolLeft\"></div><div class=\"anaCell anaEven\">274</div><div class=\"anaCell anaEven anaSubcolRight\"><div class=\"anaNegative\">(-3.86%)</div></div><div class=\"anaCell anaEven anaSubcolLeft\">991</div><div class=\"anaCell anaEven anaSubcolRight\"><div class=\"anaNegative\">(-31.13%)</div></div><div class=\"anaIndex anaOdd\">Project DCP Matrix</div><div class=\"anaCell anaOdd anaSubcolLeft\"></div><div class=\"anaCell anaOdd\">195</div><div class=\"anaCell anaOdd anaSubcolRight\"><div class=\"anaPositive\">(+7.14%)</div></div><div class=\"anaCell anaOdd anaSubcolLeft\">553</div><div class=\"anaCell anaOdd anaSubcolRight\"><div class=\"anaPositive\">(+33.57%)</div></div></div>"
      ],
      "text/plain": [
       "<IPython.core.display.HTML object>"
      ]
     },
     "metadata": {},
     "output_type": "display_data"
    }
   ],
   "source": [
    "ac.show_difference_table([\"Users\", \"Count\"], \"Download Type\", [\"ga:users\", \"ga:hits\"], [\"ga:dimension6\", \"ga:eventAction\", \"ga:eventCategory\"], filters=\"ga:eventCategory==Project;ga:eventAction==Download Project Matrix\", rows_type=\"fixed\", **default_params)"
   ]
  },
  {
   "cell_type": "markdown",
   "id": "da28c4af",
   "metadata": {},
   "source": [
    "### Request curl command for selected data"
   ]
  },
  {
   "cell_type": "code",
   "execution_count": 64,
   "id": "cb9e47bf",
   "metadata": {
    "scrolled": false,
    "tags": [
     "remove-input"
    ]
   },
   "outputs": [
    {
     "data": {
      "text/html": [
       "<div class=\"analyticsTable\" style=\"grid-template-columns: 1fr minmax(3em, min-content) minmax(6em, min-content) minmax(3em, min-content) minmax(6em, min-content)\"><div class=\"anaIndex anaColName\">curl Request From Search Results</div><div class=\"anaColName\" style=\"grid-column: span 2\">Users</div><div class=\"anaColName\" style=\"grid-column: span 2\">Count</div><div class=\"anaIndex anaEven\">Bulk Download</div><div class=\"anaCell anaEven anaSubcolLeft\">58</div><div class=\"anaCell anaEven anaSubcolRight\"><div class=\"anaPositive\">(+28.89%)</div></div><div class=\"anaCell anaEven anaSubcolLeft\">164</div><div class=\"anaCell anaEven anaSubcolRight\"><div class=\"anaPositive\">(+37.82%)</div></div></div>"
      ],
      "text/plain": [
       "<IPython.core.display.HTML object>"
      ]
     },
     "metadata": {},
     "output_type": "display_data"
    }
   ],
   "source": [
    "ac.show_difference_table([\"Users\", \"Count\"], \"curl Request From Search Results\", [\"ga:users\", \"ga:hits\"], [\"ga:dimension1\", \"ga:eventAction\", \"ga:eventCategory\"], filters=\"ga:eventAction==Request;ga:dimension1==Bulk Download\", rows_type=\"fixed\", **default_params)"
   ]
  },
  {
   "cell_type": "markdown",
   "id": "ae0dfd57",
   "metadata": {},
   "source": [
    "### Metadata request/download from selected data"
   ]
  },
  {
   "cell_type": "code",
   "execution_count": 66,
   "id": "246c95a3",
   "metadata": {
    "scrolled": false,
    "tags": [
     "remove-input"
    ]
   },
   "outputs": [
    {
     "data": {
      "text/html": [
       "<div class=\"analyticsTable\" style=\"grid-template-columns: 1fr minmax(3em, min-content) minmax(6em, min-content) minmax(3em, min-content) minmax(6em, min-content)\"><div class=\"anaIndex anaColName\">Metadata Request/Download From Search Results</div><div class=\"anaColName\" style=\"grid-column: span 2\">Users</div><div class=\"anaColName\" style=\"grid-column: span 2\">Count</div><div class=\"anaIndex anaEven\">Cohort Manifest</div><div class=\"anaCell anaEven anaSubcolLeft\">41</div><div class=\"anaCell anaEven anaSubcolRight\"><div class=\"anaPositive\">(+46.43%)</div></div><div class=\"anaCell anaEven anaSubcolLeft\">126</div><div class=\"anaCell anaEven anaSubcolRight\"><div class=\"anaPositive\">(+96.88%)</div></div><div class=\"anaIndex anaOdd\">Cohort Manifest Link</div><div class=\"anaCell anaOdd anaSubcolLeft\">22</div><div class=\"anaCell anaOdd anaSubcolRight\"><div class=\"anaPositive\">(+29.41%)</div></div><div class=\"anaCell anaOdd anaSubcolLeft\">39</div><div class=\"anaCell anaOdd anaSubcolRight\"><div class=\"anaPositive\">(+39.29%)</div></div></div>"
      ],
      "text/plain": [
       "<IPython.core.display.HTML object>"
      ]
     },
     "metadata": {},
     "output_type": "display_data"
    }
   ],
   "source": [
    "ac.show_difference_table([\"Users\", \"Count\"], \"Metadata Request/Download From Search Results\", [\"ga:users\", \"ga:hits\"], [\"ga:dimension1\", \"ga:eventAction\", \"ga:eventCategory\"], filters=\"ga:eventCategory==Manifest;ga:eventAction=~Request|Download;ga:dimension1=~Cohort Manifest|Cohort Manifest Link\", rows_type=\"fixed\", **default_params)"
   ]
  },
  {
   "cell_type": "markdown",
   "id": "68028cea",
   "metadata": {},
   "source": [
    "### Request export from selected data"
   ]
  },
  {
   "cell_type": "code",
   "execution_count": 67,
   "id": "18ac8d42",
   "metadata": {
    "scrolled": false,
    "tags": [
     "remove-input"
    ]
   },
   "outputs": [
    {
     "data": {
      "text/html": [
       "<div class=\"analyticsTable\" style=\"grid-template-columns: 1fr minmax(3em, min-content) minmax(6em, min-content) minmax(3em, min-content) minmax(6em, min-content)\"><div class=\"anaIndex anaColName\">Request Export From Search Results</div><div class=\"anaColName\" style=\"grid-column: span 2\">Users</div><div class=\"anaColName\" style=\"grid-column: span 2\">Count</div><div class=\"anaIndex anaEven\">Terra</div><div class=\"anaCell anaEven anaSubcolLeft\">43</div><div class=\"anaCell anaEven anaSubcolRight\"><div class=\"anaPositive\">(+16.22%)</div></div><div class=\"anaCell anaEven anaSubcolLeft\">70</div><div class=\"anaCell anaEven anaSubcolRight\"><div class=\"anaNegative\">(-2.78%)</div></div></div>"
      ],
      "text/plain": [
       "<IPython.core.display.HTML object>"
      ]
     },
     "metadata": {},
     "output_type": "display_data"
    }
   ],
   "source": [
    "ac.show_difference_table([\"Users\", \"Count\"], \"Request Export From Search Results\", [\"ga:users\", \"ga:hits\"], [\"ga:dimension3\", \"ga:dimension1\", \"ga:eventAction\", \"ga:eventCategory\"], filters=\"ga:eventCategory==Export;ga:eventAction==Request;ga:dimension1==Cohort Export;ga:dimension3==Terra\", rows_type=\"fixed\", **default_params)"
   ]
  },
  {
   "cell_type": "markdown",
   "id": "3a9de92f",
   "metadata": {},
   "source": [
    "### Direct file downloads (from files tab)"
   ]
  },
  {
   "cell_type": "code",
   "execution_count": 68,
   "id": "51986a0d",
   "metadata": {
    "scrolled": false,
    "tags": [
     "remove-input"
    ]
   },
   "outputs": [
    {
     "data": {
      "text/html": [
       "<div class=\"analyticsTable\" style=\"grid-template-columns: 1fr minmax(3em, min-content) minmax(6em, min-content) minmax(3em, min-content) minmax(6em, min-content)\"><div class=\"anaIndex anaColName\">Action</div><div class=\"anaColName\" style=\"grid-column: span 2\">Users</div><div class=\"anaColName\" style=\"grid-column: span 2\">Count</div><div class=\"anaIndex anaEven\">Download</div><div class=\"anaCell anaEven anaSubcolLeft\">29</div><div class=\"anaCell anaEven anaSubcolRight\"><div class=\"anaPositive\">(+52.63%)</div></div><div class=\"anaCell anaEven anaSubcolLeft\">263</div><div class=\"anaCell anaEven anaSubcolRight\"><div class=\"anaPositive\">(+874.07%)</div></div></div>"
      ],
      "text/plain": [
       "<IPython.core.display.HTML object>"
      ]
     },
     "metadata": {},
     "output_type": "display_data"
    }
   ],
   "source": [
    "ac.show_difference_table([\"Users\", \"Count\"], \"Action\", [\"ga:users\", \"ga:hits\"], [\"ga:eventAction\", \"ga:eventCategory\"], filters=\"ga:eventCategory==File;ga:eventAction==Download\", rows_type=\"fixed\", **default_params)"
   ]
  },
  {
   "cell_type": "markdown",
   "id": "771e4792",
   "metadata": {},
   "source": [
    "### Top direct file download file types (from files tab)"
   ]
  },
  {
   "cell_type": "code",
   "execution_count": 70,
   "id": "30805383",
   "metadata": {
    "scrolled": false,
    "tags": [
     "remove-input"
    ]
   },
   "outputs": [
    {
     "data": {
      "text/html": [
       "<div class=\"analyticsTable\" style=\"grid-template-columns: 1fr 1.5em minmax(3em, min-content) minmax(6em, min-content)\"><div class=\"anaIndex anaColName\">File Type</div><div class=\"anaColName\" style=\"grid-column: span 3\">Downloads</div><div class=\"anaIndex anaEven\">fastq.gz</div><div class=\"anaCell anaEven anaSubcolLeft\"><div class=\"up\"></div></div><div class=\"anaCell anaEven\">197</div><div class=\"anaCell anaEven anaSubcolRight\"><div class=\"anaPositive\">(+4825.00%)</div></div><div class=\"anaIndex anaOdd\">loom</div><div class=\"anaCell anaOdd anaSubcolLeft\"></div><div class=\"anaCell anaOdd\">20</div><div class=\"anaCell anaOdd anaSubcolRight\"><div class=\"anaPositive\">(+300.00%)</div></div><div class=\"anaIndex anaEven\">txt.gz</div><div class=\"anaCell anaEven anaSubcolLeft\"><div class=\"new\"></div></div><div class=\"anaCell anaEven\">8</div><div class=\"anaCell anaEven anaSubcolRight\"></div><div class=\"anaIndex anaOdd\">bam</div><div class=\"anaCell anaOdd anaSubcolLeft\"><div class=\"down\"></div></div><div class=\"anaCell anaOdd\">7</div><div class=\"anaCell anaOdd anaSubcolRight\"><div class=\"anaZero\">(+0.00%)</div></div><div class=\"anaIndex anaEven\">fastq</div><div class=\"anaCell anaEven anaSubcolLeft\"><div class=\"new\"></div></div><div class=\"anaCell anaEven\">7</div><div class=\"anaCell anaEven anaSubcolRight\"></div><div class=\"anaIndex anaOdd\">csv</div><div class=\"anaCell anaOdd anaSubcolLeft\"><div class=\"up\"></div></div><div class=\"anaCell anaOdd\">5</div><div class=\"anaCell anaOdd anaSubcolRight\"><div class=\"anaPositive\">(+400.00%)</div></div><div class=\"anaIndex anaEven\">txt</div><div class=\"anaCell anaEven anaSubcolLeft\"><div class=\"new\"></div></div><div class=\"anaCell anaEven\">4</div><div class=\"anaCell anaEven anaSubcolRight\"></div><div class=\"anaIndex anaOdd\">Rds</div><div class=\"anaCell anaOdd anaSubcolLeft\"><div class=\"new\"></div></div><div class=\"anaCell anaOdd\">3</div><div class=\"anaCell anaOdd anaSubcolRight\"></div><div class=\"anaIndex anaEven\">tar.gz</div><div class=\"anaCell anaEven anaSubcolLeft\"><div class=\"new\"></div></div><div class=\"anaCell anaEven\">3</div><div class=\"anaCell anaEven anaSubcolRight\"></div><div class=\"anaIndex anaOdd\">tsv.gz</div><div class=\"anaCell anaOdd anaSubcolLeft\"><div class=\"down\"></div></div><div class=\"anaCell anaOdd\">3</div><div class=\"anaCell anaOdd anaSubcolRight\"><div class=\"anaNegative\">(-25.00%)</div></div><div class=\"anaIndex anaEven\">csv.gz</div><div class=\"anaCell anaEven anaSubcolLeft\"><div class=\"new\"></div></div><div class=\"anaCell anaEven\">2</div><div class=\"anaCell anaEven anaSubcolRight\"></div><div class=\"anaIndex anaOdd\">zip</div><div class=\"anaCell anaOdd anaSubcolLeft\"><div class=\"down\"></div></div><div class=\"anaCell anaOdd\">2</div><div class=\"anaCell anaOdd anaSubcolRight\"><div class=\"anaZero\">(+0.00%)</div></div><div class=\"anaIndex anaEven\">rds.gz</div><div class=\"anaCell anaEven anaSubcolLeft\"><div class=\"new\"></div></div><div class=\"anaCell anaEven\">1</div><div class=\"anaCell anaEven anaSubcolRight\"></div><div class=\"anaIndex anaOdd\">tsv</div><div class=\"anaCell anaOdd anaSubcolLeft\"><div class=\"new\"></div></div><div class=\"anaCell anaOdd\">1</div><div class=\"anaCell anaOdd anaSubcolRight\"></div></div>"
      ],
      "text/plain": [
       "<IPython.core.display.HTML object>"
      ]
     },
     "metadata": {},
     "output_type": "display_data"
    }
   ],
   "source": [
    "ac.show_difference_table(\"Downloads\", \"File Type\", \"ga:hits\", \"ga:dimension6\", filters=\"ga:eventCategory==File;ga:eventAction==Download\", **default_params)"
   ]
  },
  {
   "cell_type": "markdown",
   "id": "5fd5afaa",
   "metadata": {},
   "source": [
    "### Top \"export selected data\" queries"
   ]
  },
  {
   "cell_type": "code",
   "execution_count": 71,
   "id": "5fb87fc7",
   "metadata": {
    "scrolled": false,
    "tags": [
     "remove-input"
    ]
   },
   "outputs": [
    {
     "data": {
      "text/html": [
       "<div class=\"analyticsTable\" style=\"grid-template-columns: 1fr 1.5em minmax(3em, min-content) minmax(6em, min-content)\"><div class=\"anaIndex anaColName\">Query</div><div class=\"anaColName\" style=\"grid-column: span 3\">Selected for Export Count</div><div class=\"anaIndex anaEven\">download manifest, select species\r\n",
       "specimenOrgan: immune system\r\n",
       "Project: Single-Cell Map of Diverse Immune Phenotypes in the Breast Tumor Microenvironment.\r\n",
       "genusSpecies: Homo sapiens\r\n",
       "fileFormat: tar</div><div class=\"anaCell anaEven anaSubcolLeft\"><div class=\"new\"></div></div><div class=\"anaCell anaEven\">13</div><div class=\"anaCell anaEven anaSubcolRight\"></div><div class=\"anaIndex anaOdd\">get curl command, select species\r\n",
       "organ: immune system\r\n",
       "Project: Census of Immune Cells</div><div class=\"anaCell anaOdd anaSubcolLeft\"><div class=\"up\"></div></div><div class=\"anaCell anaOdd\">12</div><div class=\"anaCell anaOdd anaSubcolRight\"><div class=\"anaPositive\">(+50.00%)</div></div><div class=\"anaIndex anaEven\">get curl command\r\n",
       "organ: immune system\r\n",
       "Project: Census of Immune Cells</div><div class=\"anaCell anaEven anaSubcolLeft\"><div class=\"up\"></div></div><div class=\"anaCell anaEven\">10</div><div class=\"anaCell anaEven anaSubcolRight\"><div class=\"anaPositive\">(+100.00%)</div></div><div class=\"anaIndex anaOdd\">get curl command, select species\r\n",
       "specimenOrgan: liver\r\n",
       "Project: Single cell analysis of human fetal liver captures the transcriptional profile of hepatobiliary hybrid progenitors\r\n",
       "libraryConstructionApproach: Smart-seq2\r\n",
       "fileFormat: fastq.gz\r\n",
       "specimenDisease: normal\r\n",
       "genusSpecies: Homo sapiens\r\n",
       "nucleicAcidSource: single cell\r\n",
       "selectedCellType: hepatocyte</div><div class=\"anaCell anaOdd anaSubcolLeft\"><div class=\"new\"></div></div><div class=\"anaCell anaOdd\">10</div><div class=\"anaCell anaOdd anaSubcolRight\"></div><div class=\"anaIndex anaEven\">download manifest, select species\r\n",
       "genusSpecies: Homo sapiens\r\n",
       "specimenOrgan: heart\r\n",
       "specimenDisease: normal\r\n",
       "nucleicAcidSource: single cell\r\n",
       "fileFormat: loom\r\n",
       "Project: A human cell atlas of fetal gene expression.</div><div class=\"anaCell anaEven anaSubcolLeft\"><div class=\"new\"></div></div><div class=\"anaCell anaEven\">10</div><div class=\"anaCell anaEven anaSubcolRight\"></div><div class=\"anaIndex anaOdd\">export to terra\r\n",
       "specimenOrgan: immune system\r\n",
       "Project: Single-Cell Map of Diverse Immune Phenotypes in the Breast Tumor Microenvironment.\r\n",
       "genusSpecies: Homo sapiens\r\n",
       "fileFormat: tar</div><div class=\"anaCell anaOdd anaSubcolLeft\"><div class=\"new\"></div></div><div class=\"anaCell anaOdd\">10</div><div class=\"anaCell anaOdd anaSubcolRight\"></div><div class=\"anaIndex anaEven\">export to terra, select species\r\n",
       "specimenOrgan: immune system\r\n",
       "Project: Single-Cell Map of Diverse Immune Phenotypes in the Breast Tumor Microenvironment.\r\n",
       "genusSpecies: Homo sapiens\r\n",
       "fileFormat: tar</div><div class=\"anaCell anaEven anaSubcolLeft\"><div class=\"new\"></div></div><div class=\"anaCell anaEven\">9</div><div class=\"anaCell anaEven anaSubcolRight\"></div><div class=\"anaIndex anaOdd\">export to terra\r\n",
       "projectTitle: Census of Immune Cells\r\n",
       "Project: Census of Immune Cells\r\n",
       "genusSpecies: Homo sapiens\r\n",
       "fileFormat: bam, csv</div><div class=\"anaCell anaOdd anaSubcolLeft\"><div class=\"new\"></div></div><div class=\"anaCell anaOdd\">9</div><div class=\"anaCell anaOdd anaSubcolRight\"></div><div class=\"anaIndex anaEven\">get curl command\r\n",
       "specimenOrgan: liver\r\n",
       "Project: Single cell analysis of human fetal liver captures the transcriptional profile of hepatobiliary hybrid progenitors\r\n",
       "libraryConstructionApproach: Smart-seq2\r\n",
       "fileFormat: fastq.gz\r\n",
       "specimenDisease: normal\r\n",
       "genusSpecies: Homo sapiens\r\n",
       "nucleicAcidSource: single cell\r\n",
       "selectedCellType: hepatocyte</div><div class=\"anaCell anaEven anaSubcolLeft\"><div class=\"new\"></div></div><div class=\"anaCell anaEven\">8</div><div class=\"anaCell anaEven anaSubcolRight\"></div><div class=\"anaIndex anaOdd\">get curl command\r\n",
       "organ: immune system\r\n",
       "genusSpecies: Homo sapiens</div><div class=\"anaCell anaOdd anaSubcolLeft\"><div class=\"new\"></div></div><div class=\"anaCell anaOdd\">8</div><div class=\"anaCell anaOdd anaSubcolRight\"></div><div class=\"anaIndex anaEven\">get curl command, select species\r\n",
       "specimenOrgan: kidney\r\n",
       "Project: Comparative analysis of kidney organoid and adult human kidney single cell and single nucleus transcriptomes</div><div class=\"anaCell anaEven anaSubcolLeft\"><div class=\"new\"></div></div><div class=\"anaCell anaEven\">8</div><div class=\"anaCell anaEven anaSubcolRight\"></div><div class=\"anaIndex anaOdd\">download manifest\r\n",
       "specimenOrgan: immune system\r\n",
       "Project: Single-Cell Map of Diverse Immune Phenotypes in the Breast Tumor Microenvironment.\r\n",
       "genusSpecies: Homo sapiens\r\n",
       "fileFormat: tar</div><div class=\"anaCell anaOdd anaSubcolLeft\"><div class=\"new\"></div></div><div class=\"anaCell anaOdd\">8</div><div class=\"anaCell anaOdd anaSubcolRight\"></div><div class=\"anaIndex anaEven\">get curl command\r\n",
       "specimenOrgan: kidney\r\n",
       "Project: Comparative analysis of kidney organoid and adult human kidney single cell and single nucleus transcriptomes</div><div class=\"anaCell anaEven anaSubcolLeft\"><div class=\"new\"></div></div><div class=\"anaCell anaEven\">7</div><div class=\"anaCell anaEven anaSubcolRight\"></div><div class=\"anaIndex anaOdd\">get curl command\r\n",
       "specimenOrgan: immune system\r\n",
       "Project: Single-Cell Map of Diverse Immune Phenotypes in the Breast Tumor Microenvironment.\r\n",
       "genusSpecies: Homo sapiens\r\n",
       "fileFormat: tar</div><div class=\"anaCell anaOdd anaSubcolLeft\"><div class=\"new\"></div></div><div class=\"anaCell anaOdd\">7</div><div class=\"anaCell anaOdd anaSubcolRight\"></div><div class=\"anaIndex anaEven\">/explore/export/get-curl-command/select-species</div><div class=\"anaCell anaEven anaSubcolLeft\"><div class=\"down\"></div></div><div class=\"anaCell anaEven\">7</div><div class=\"anaCell anaEven anaSubcolRight\"><div class=\"anaNegative\">(-12.50%)</div></div><div class=\"anaIndex anaOdd\">get curl command, select species\r\n",
       "specimenOrgan: immune system\r\n",
       "Project: Single-Cell Map of Diverse Immune Phenotypes in the Breast Tumor Microenvironment.\r\n",
       "genusSpecies: Homo sapiens\r\n",
       "fileFormat: tar</div><div class=\"anaCell anaOdd anaSubcolLeft\"><div class=\"new\"></div></div><div class=\"anaCell anaOdd\">7</div><div class=\"anaCell anaOdd anaSubcolRight\"></div><div class=\"anaIndex anaEven\">export to terra\r\n",
       "specimenOrgan: brain\r\n",
       "Project: 1.3 Million Brain Cells from E18 Mice, Systematic comparative analysis of single cell RNA-sequencing methods, Tabula Muris: Transcriptomic characterization of 20 organs and tissues from Mus musculus at single cell resolution\r\n",
       "genusSpecies: Mus musculus\r\n",
       "fileFormat: bam</div><div class=\"anaCell anaEven anaSubcolLeft\"><div class=\"new\"></div></div><div class=\"anaCell anaEven\">7</div><div class=\"anaCell anaEven anaSubcolRight\"></div><div class=\"anaIndex anaOdd\">get curl command\r\n",
       "Project: 1.3 Million Brain Cells from E18 Mice</div><div class=\"anaCell anaOdd anaSubcolLeft\"><div class=\"new\"></div></div><div class=\"anaCell anaOdd\">7</div><div class=\"anaCell anaOdd anaSubcolRight\"></div><div class=\"anaIndex anaEven\">download manifest\r\n",
       "genusSpecies: Homo sapiens\r\n",
       "specimenOrgan: heart\r\n",
       "specimenDisease: normal\r\n",
       "nucleicAcidSource: single cell\r\n",
       "fileFormat: loom\r\n",
       "Project: A human cell atlas of fetal gene expression.</div><div class=\"anaCell anaEven anaSubcolLeft\"><div class=\"new\"></div></div><div class=\"anaCell anaEven\">7</div><div class=\"anaCell anaEven anaSubcolRight\"></div><div class=\"anaIndex anaOdd\">get curl command, select species\r\n",
       "Project: 1.3 Million Brain Cells from E18 Mice</div><div class=\"anaCell anaOdd anaSubcolLeft\"><div class=\"new\"></div></div><div class=\"anaCell anaOdd\">6</div><div class=\"anaCell anaOdd anaSubcolRight\"></div></div>"
      ],
      "text/plain": [
       "<IPython.core.display.HTML object>"
      ]
     },
     "metadata": {},
     "output_type": "display_data"
    }
   ],
   "source": [
    "ac.show_difference_table(\"Selected for Export Count\", \"Query\", \"ga:pageviews\", \"ga:pagePath\", filters=\"ga:pagePath=~/explore/export/export-to-terra|/explore/export/get-curl-command|/explore/export/download-manifest\", **default_params)"
   ]
  },
  {
   "cell_type": "markdown",
   "id": "a017b0dd",
   "metadata": {},
   "source": [
    "## Entities\n",
    "### Entity tabs selections (project, samples, files)"
   ]
  },
  {
   "cell_type": "code",
   "execution_count": 73,
   "id": "615a50a1",
   "metadata": {
    "scrolled": true,
    "tags": [
     "remove-input"
    ]
   },
   "outputs": [
    {
     "data": {
      "text/html": [
       "<div class=\"analyticsTable\" style=\"grid-template-columns: 1fr 1.5em minmax(3em, min-content) minmax(6em, min-content)\"><div class=\"anaIndex anaColName\">Entity Tab</div><div class=\"anaColName\" style=\"grid-column: span 3\">Count</div><div class=\"anaIndex anaEven\">Projects</div><div class=\"anaCell anaEven anaSubcolLeft\"></div><div class=\"anaCell anaEven\">1248</div><div class=\"anaCell anaEven anaSubcolRight\"><div class=\"anaPositive\">(+9.09%)</div></div><div class=\"anaIndex anaOdd\">Samples</div><div class=\"anaCell anaOdd anaSubcolLeft\"></div><div class=\"anaCell anaOdd\">682</div><div class=\"anaCell anaOdd anaSubcolRight\"><div class=\"anaPositive\">(+1.34%)</div></div><div class=\"anaIndex anaEven\">Files</div><div class=\"anaCell anaEven anaSubcolLeft\"></div><div class=\"anaCell anaEven\">452</div><div class=\"anaCell anaEven anaSubcolRight\"><div class=\"anaPositive\">(+0.44%)</div></div></div>"
      ],
      "text/plain": [
       "<IPython.core.display.HTML object>"
      ]
     },
     "metadata": {},
     "output_type": "display_data"
    }
   ],
   "source": [
    "ac.show_difference_table(\"Count\", \"Entity Tab\", \"ga:hits\", \"ga:eventLabel\", filters=\"ga:eventCategory==Entity;ga:eventAction==Select Tab\", **default_params)"
   ]
  },
  {
   "cell_type": "markdown",
   "id": "f60027fa",
   "metadata": {},
   "source": [
    "## Search facets\n",
    "### Top facets"
   ]
  },
  {
   "cell_type": "code",
   "execution_count": 74,
   "id": "b7fde3a7",
   "metadata": {
    "scrolled": false,
    "tags": [
     "remove-input"
    ]
   },
   "outputs": [
    {
     "data": {
      "text/html": [
       "<div class=\"analyticsTable\" style=\"grid-template-columns: 1fr 1.5em minmax(3em, min-content) minmax(6em, min-content)\"><div class=\"anaIndex anaColName\">Facet</div><div class=\"anaColName\" style=\"grid-column: span 3\">Count</div><div class=\"anaIndex anaEven\">projectId</div><div class=\"anaCell anaEven anaSubcolLeft\"></div><div class=\"anaCell anaEven\">1809</div><div class=\"anaCell anaEven anaSubcolRight\"><div class=\"anaNegative\">(-0.55%)</div></div><div class=\"anaIndex anaOdd\">specimenOrgan</div><div class=\"anaCell anaOdd anaSubcolLeft\"><div class=\"up\"></div></div><div class=\"anaCell anaOdd\">1130</div><div class=\"anaCell anaOdd anaSubcolRight\"><div class=\"anaPositive\">(+3.01%)</div></div><div class=\"anaIndex anaEven\">genusSpecies</div><div class=\"anaCell anaEven anaSubcolLeft\"><div class=\"up\"></div></div><div class=\"anaCell anaEven\">1040</div><div class=\"anaCell anaEven anaSubcolRight\"><div class=\"anaNegative\">(-1.42%)</div></div><div class=\"anaIndex anaOdd\">fileFormat</div><div class=\"anaCell anaOdd anaSubcolLeft\"><div class=\"down\"></div></div><div class=\"anaCell anaOdd\">820</div><div class=\"anaCell anaOdd anaSubcolRight\"><div class=\"anaNegative\">(-30.92%)</div></div><div class=\"anaIndex anaEven\">libraryConstructionApproach</div><div class=\"anaCell anaEven anaSubcolLeft\"></div><div class=\"anaCell anaEven\">652</div><div class=\"anaCell anaEven anaSubcolRight\"><div class=\"anaNegative\">(-19.01%)</div></div><div class=\"anaIndex anaOdd\">donorDisease</div><div class=\"anaCell anaOdd anaSubcolLeft\"><div class=\"up\"></div></div><div class=\"anaCell anaOdd\">642</div><div class=\"anaCell anaOdd anaSubcolRight\"><div class=\"anaPositive\">(+23.70%)</div></div><div class=\"anaIndex anaEven\">specimenOrganPart</div><div class=\"anaCell anaEven anaSubcolLeft\"><div class=\"down\"></div></div><div class=\"anaCell anaEven\">623</div><div class=\"anaCell anaEven anaSubcolRight\"><div class=\"anaNegative\">(-17.59%)</div></div><div class=\"anaIndex anaOdd\">selectedCellType</div><div class=\"anaCell anaOdd anaSubcolLeft\"><div class=\"up\"></div></div><div class=\"anaCell anaOdd\">507</div><div class=\"anaCell anaOdd anaSubcolRight\"><div class=\"anaPositive\">(+90.60%)</div></div><div class=\"anaIndex anaEven\">specimenDisease</div><div class=\"anaCell anaEven anaSubcolLeft\"><div class=\"down\"></div></div><div class=\"anaCell anaEven\">360</div><div class=\"anaCell anaEven anaSubcolRight\"><div class=\"anaNegative\">(-31.03%)</div></div><div class=\"anaIndex anaOdd\">modelOrgan</div><div class=\"anaCell anaOdd anaSubcolLeft\"><div class=\"down\"></div></div><div class=\"anaCell anaOdd\">304</div><div class=\"anaCell anaOdd anaSubcolRight\"><div class=\"anaNegative\">(-11.11%)</div></div><div class=\"anaIndex anaEven\">nucleicAcidSource</div><div class=\"anaCell anaEven anaSubcolLeft\"><div class=\"up\"></div></div><div class=\"anaCell anaEven\">280</div><div class=\"anaCell anaEven anaSubcolRight\"><div class=\"anaPositive\">(+14.75%)</div></div><div class=\"anaIndex anaOdd\">developmentStage</div><div class=\"anaCell anaOdd anaSubcolLeft\"><div class=\"up\"></div></div><div class=\"anaCell anaOdd\">218</div><div class=\"anaCell anaOdd anaSubcolRight\"><div class=\"anaPositive\">(+14.14%)</div></div><div class=\"anaIndex anaEven\">sampleEntityType</div><div class=\"anaCell anaEven anaSubcolLeft\"><div class=\"down\"></div></div><div class=\"anaCell anaEven\">217</div><div class=\"anaCell anaEven anaSubcolRight\"><div class=\"anaNegative\">(-20.80%)</div></div><div class=\"anaIndex anaOdd\">contentDescription</div><div class=\"anaCell anaOdd anaSubcolLeft\"><div class=\"up\"></div></div><div class=\"anaCell anaOdd\">171</div><div class=\"anaCell anaOdd anaSubcolRight\"><div class=\"anaPositive\">(+15.54%)</div></div><div class=\"anaIndex anaEven\">projectTitle</div><div class=\"anaCell anaEven anaSubcolLeft\"><div class=\"down\"></div></div><div class=\"anaCell anaEven\">161</div><div class=\"anaCell anaEven anaSubcolRight\"><div class=\"anaNegative\">(-50.76%)</div></div><div class=\"anaIndex anaOdd\">biologicalSex</div><div class=\"anaCell anaOdd anaSubcolLeft\"></div><div class=\"anaCell anaOdd\">108</div><div class=\"anaCell anaOdd anaSubcolRight\"><div class=\"anaNegative\">(-13.60%)</div></div><div class=\"anaIndex anaEven\">publicationTitle</div><div class=\"anaCell anaEven anaSubcolLeft\"><div class=\"new\"></div></div><div class=\"anaCell anaEven\">63</div><div class=\"anaCell anaEven anaSubcolRight\"></div><div class=\"anaIndex anaOdd\">project</div><div class=\"anaCell anaOdd anaSubcolLeft\"><div class=\"down\"></div></div><div class=\"anaCell anaOdd\">63</div><div class=\"anaCell anaOdd anaSubcolRight\"><div class=\"anaNegative\">(-13.70%)</div></div><div class=\"anaIndex anaEven\">workflow</div><div class=\"anaCell anaEven anaSubcolLeft\"><div class=\"down\"></div></div><div class=\"anaCell anaEven\">48</div><div class=\"anaCell anaEven anaSubcolRight\"><div class=\"anaNegative\">(-33.33%)</div></div><div class=\"anaIndex anaOdd\">organismAgeRange</div><div class=\"anaCell anaOdd anaSubcolLeft\"></div><div class=\"anaCell anaOdd\">46</div><div class=\"anaCell anaOdd anaSubcolRight\"><div class=\"anaPositive\">(+43.75%)</div></div></div>"
      ],
      "text/plain": [
       "<IPython.core.display.HTML object>"
      ]
     },
     "metadata": {},
     "output_type": "display_data"
    }
   ],
   "source": [
    "ac.show_difference_table(\"Count\", \"Facet\", \"ga:hits\", \"ga:dimension9\", filters=\"ga:eventCategory==Search;ga:eventAction==Select\", **default_params)"
   ]
  },
  {
   "cell_type": "markdown",
   "id": "70ff5050",
   "metadata": {},
   "source": [
    "### Top facet terms"
   ]
  },
  {
   "cell_type": "code",
   "execution_count": 75,
   "id": "a56a1474",
   "metadata": {
    "scrolled": false,
    "tags": [
     "remove-input"
    ]
   },
   "outputs": [
    {
     "data": {
      "text/html": [
       "<div class=\"analyticsTable\" style=\"grid-template-columns: repeat(1, auto) 1fr 1.5em minmax(3em, min-content) minmax(6em, min-content)\"><div class=\"anaIndex anaColName\">Facet</div><div class=\"anaIndex anaColName\">Term</div><div class=\"anaColName\" style=\"grid-column: span 3\">Count</div><div class=\"anaIndex anaEven\">genusSpecies</div><div class=\"anaIndex anaEven\">Homo sapiens</div><div class=\"anaCell anaEven anaSubcolLeft\"></div><div class=\"anaCell anaEven\">775</div><div class=\"anaCell anaEven anaSubcolRight\"><div class=\"anaPositive\">(+2.65%)</div></div><div class=\"anaIndex anaOdd\">donorDisease</div><div class=\"anaIndex anaOdd\">normal</div><div class=\"anaCell anaOdd anaSubcolLeft\"><div class=\"up\"></div></div><div class=\"anaCell anaOdd\">227</div><div class=\"anaCell anaOdd anaSubcolRight\"><div class=\"anaPositive\">(+17.01%)</div></div><div class=\"anaIndex anaEven\">nucleicAcidSource</div><div class=\"anaIndex anaEven\">single cell</div><div class=\"anaCell anaEven anaSubcolLeft\"></div><div class=\"anaCell anaEven\">221</div><div class=\"anaCell anaEven anaSubcolRight\"><div class=\"anaPositive\">(+12.18%)</div></div><div class=\"anaIndex anaOdd\">specimenDisease</div><div class=\"anaIndex anaOdd\">normal</div><div class=\"anaCell anaOdd anaSubcolLeft\"><div class=\"down\"></div></div><div class=\"anaCell anaOdd\">205</div><div class=\"anaCell anaOdd anaSubcolRight\"><div class=\"anaNegative\">(-7.24%)</div></div><div class=\"anaIndex anaEven\">genusSpecies</div><div class=\"anaIndex anaEven\">Homo Sapiens</div><div class=\"anaCell anaEven anaSubcolLeft\"></div><div class=\"anaCell anaEven\">166</div><div class=\"anaCell anaEven anaSubcolRight\"><div class=\"anaNegative\">(-11.70%)</div></div><div class=\"anaIndex anaOdd\">fileFormat</div><div class=\"anaIndex anaOdd\">fastq.gz</div><div class=\"anaCell anaOdd anaSubcolLeft\"><div class=\"up\"></div></div><div class=\"anaCell anaOdd\">147</div><div class=\"anaCell anaOdd anaSubcolRight\"><div class=\"anaPositive\">(+12.21%)</div></div><div class=\"anaIndex anaEven\">projectId</div><div class=\"anaIndex anaEven\">1M Immune Cells</div><div class=\"anaCell anaEven anaSubcolLeft\"><div class=\"up\"></div></div><div class=\"anaCell anaEven\">146</div><div class=\"anaCell anaEven anaSubcolRight\"><div class=\"anaPositive\">(+19.67%)</div></div><div class=\"anaIndex anaOdd\">sampleEntityType</div><div class=\"anaIndex anaOdd\">specimens</div><div class=\"anaCell anaOdd anaSubcolLeft\"><div class=\"down\"></div></div><div class=\"anaCell anaOdd\">134</div><div class=\"anaCell anaOdd anaSubcolRight\"><div class=\"anaNegative\">(-21.64%)</div></div><div class=\"anaIndex anaEven\">specimenOrgan</div><div class=\"anaIndex anaEven\">blood</div><div class=\"anaCell anaEven anaSubcolLeft\"><div class=\"up\"></div></div><div class=\"anaCell anaEven\">130</div><div class=\"anaCell anaEven anaSubcolRight\"><div class=\"anaPositive\">(+47.73%)</div></div><div class=\"anaIndex anaOdd\">fileFormat</div><div class=\"anaIndex anaOdd\">loom</div><div class=\"anaCell anaOdd anaSubcolLeft\"><div class=\"up\"></div></div><div class=\"anaCell anaOdd\">113</div><div class=\"anaCell anaOdd anaSubcolRight\"><div class=\"anaPositive\">(+32.94%)</div></div><div class=\"anaIndex anaEven\">specimenOrganPart</div><div class=\"anaIndex anaEven\">bone marrow</div><div class=\"anaCell anaEven anaSubcolLeft\"><div class=\"down\"></div></div><div class=\"anaCell anaEven\">111</div><div class=\"anaCell anaEven anaSubcolRight\"><div class=\"anaPositive\">(+19.35%)</div></div><div class=\"anaIndex anaOdd\">specimenOrgan</div><div class=\"anaIndex anaOdd\">bone marrow</div><div class=\"anaCell anaOdd anaSubcolLeft\"><div class=\"up\"></div></div><div class=\"anaCell anaOdd\">92</div><div class=\"anaCell anaOdd anaSubcolRight\"><div class=\"anaPositive\">(+67.27%)</div></div><div class=\"anaIndex anaEven\">genusSpecies</div><div class=\"anaIndex anaEven\">Mus musculus</div><div class=\"anaCell anaEven anaSubcolLeft\"><div class=\"down\"></div></div><div class=\"anaCell anaEven\">89</div><div class=\"anaCell anaEven anaSubcolRight\"><div class=\"anaPositive\">(+7.23%)</div></div><div class=\"anaIndex anaOdd\">specimenOrgan</div><div class=\"anaIndex anaOdd\">brain</div><div class=\"anaCell anaOdd anaSubcolLeft\"><div class=\"new\"></div></div><div class=\"anaCell anaOdd\">84</div><div class=\"anaCell anaOdd anaSubcolRight\"></div><div class=\"anaIndex anaEven\">projectId</div><div class=\"anaIndex anaEven\">1M Neurons</div><div class=\"anaCell anaEven anaSubcolLeft\"><div class=\"new\"></div></div><div class=\"anaCell anaEven\">64</div><div class=\"anaCell anaEven anaSubcolRight\"></div><div class=\"anaIndex anaOdd\">specimenOrganPart</div><div class=\"anaIndex anaOdd\">blood</div><div class=\"anaCell anaOdd anaSubcolLeft\"><div class=\"new\"></div></div><div class=\"anaCell anaOdd\">63</div><div class=\"anaCell anaOdd anaSubcolRight\"></div><div class=\"anaIndex anaEven\">specimenOrgan</div><div class=\"anaIndex anaEven\">immune system</div><div class=\"anaCell anaEven anaSubcolLeft\"><div class=\"new\"></div></div><div class=\"anaCell anaEven\">61</div><div class=\"anaCell anaEven anaSubcolRight\"></div><div class=\"anaIndex anaOdd\">modelOrgan</div><div class=\"anaIndex anaOdd\">brain</div><div class=\"anaCell anaOdd anaSubcolLeft\"><div class=\"down\"></div></div><div class=\"anaCell anaOdd\">61</div><div class=\"anaCell anaOdd anaSubcolRight\"><div class=\"anaNegative\">(-1.61%)</div></div><div class=\"anaIndex anaEven\">libraryConstructionApproach</div><div class=\"anaIndex anaEven\">10X 3&#x27; v2 sequencing</div><div class=\"anaCell anaEven anaSubcolLeft\"><div class=\"down\"></div></div><div class=\"anaCell anaEven\">60</div><div class=\"anaCell anaEven anaSubcolRight\"><div class=\"anaPositive\">(+7.14%)</div></div><div class=\"anaIndex anaOdd\">contentDescription</div><div class=\"anaIndex anaOdd\">Count Matrix</div><div class=\"anaCell anaOdd anaSubcolLeft\"><div class=\"new\"></div></div><div class=\"anaCell anaOdd\">59</div><div class=\"anaCell anaOdd anaSubcolRight\"></div></div>"
      ],
      "text/plain": [
       "<IPython.core.display.HTML object>"
      ]
     },
     "metadata": {},
     "output_type": "display_data"
    }
   ],
   "source": [
    "ac.show_difference_table(\"Count\", [\"Facet\", \"Term\"], \"ga:hits\", [\"ga:dimension9\", \"ga:dimension10\"], filters=\"ga:eventCategory==Search;ga:eventAction==Select\", **default_params)"
   ]
  },
  {
   "cell_type": "markdown",
   "id": "fa8aed84",
   "metadata": {},
   "source": [
    "## Projects\n",
    "### Top project detail pages"
   ]
  },
  {
   "cell_type": "code",
   "execution_count": 76,
   "id": "197ef3f5",
   "metadata": {
    "scrolled": false,
    "tags": [
     "remove-input"
    ]
   },
   "outputs": [
    {
     "data": {
      "text/html": [
       "<div class=\"analyticsTable\" style=\"grid-template-columns: 1fr 1.5em minmax(3em, min-content) minmax(6em, min-content)\"><div class=\"anaIndex anaColName\">Project</div><div class=\"anaColName\" style=\"grid-column: span 3\">Count</div><div class=\"anaIndex anaEven\"><a href=\"https://data.humancellatlas.org/explore/projects/cc95ff89-2e68-4a08-a234-480eca21ce79\">Census of Immune Cells</a></div><div class=\"anaCell anaEven anaSubcolLeft\"></div><div class=\"anaCell anaEven\">1410</div><div class=\"anaCell anaEven anaSubcolRight\"><div class=\"anaPositive\">(+14.17%)</div></div><div class=\"anaIndex anaOdd\"><a href=\"https://data.humancellatlas.org/explore/projects/a9301beb-e9fa-42fe-b75c-84e8a460c733\">A human cell atlas of fetal gene expression.</a></div><div class=\"anaCell anaOdd anaSubcolLeft\"></div><div class=\"anaCell anaOdd\">348</div><div class=\"anaCell anaOdd anaSubcolRight\"><div class=\"anaNegative\">(-11.45%)</div></div><div class=\"anaIndex anaEven\"><a href=\"https://data.humancellatlas.org/explore/projects/4a95101c-9ffc-4f30-a809-f04518a23803\">A single-cell reference map of transcriptional states for human blood and tissue T cell activation</a></div><div class=\"anaCell anaEven anaSubcolLeft\"></div><div class=\"anaCell anaEven\">342</div><div class=\"anaCell anaEven anaSubcolRight\"><div class=\"anaNegative\">(-4.20%)</div></div><div class=\"anaIndex anaOdd\"><a href=\"https://data.humancellatlas.org/explore/projects/455b46e6-d8ea-4611-861e-de720a562ada\">Transcriptomic characterisation of haematopoietic stem and progenitor cells from human adult bone marrow, spleen and peripheral blood</a></div><div class=\"anaCell anaOdd anaSubcolLeft\"><div class=\"up\"></div></div><div class=\"anaCell anaOdd\">329</div><div class=\"anaCell anaOdd anaSubcolRight\"><div class=\"anaPositive\">(+38.82%)</div></div><div class=\"anaIndex anaEven\"><a href=\"https://data.humancellatlas.org/explore/projects/74b6d569-3b11-42ef-b6b1-a0454522b4a0\">1.3 Million Brain Cells from E18 Mice</a></div><div class=\"anaCell anaEven anaSubcolLeft\"></div><div class=\"anaCell anaEven\">307</div><div class=\"anaCell anaEven anaSubcolRight\"><div class=\"anaPositive\">(+3.02%)</div></div><div class=\"anaIndex anaOdd\"><a href=\"https://data.humancellatlas.org/explore/projects/376a7f55-b876-4f60-9cf3-ed7bc83d5415\">Single-cell transcriptome profiling of an adult human cell atlas of 15 major organs</a></div><div class=\"anaCell anaOdd anaSubcolLeft\"><div class=\"up\"></div></div><div class=\"anaCell anaOdd\">282</div><div class=\"anaCell anaOdd anaSubcolRight\"><div class=\"anaPositive\">(+2.55%)</div></div><div class=\"anaIndex anaEven\"><a href=\"https://data.humancellatlas.org/explore/projects/091cf39b-01bc-42e5-9437-f419a66c8a45\">Profiling of CD34+ cells from human bone marrow to understand hematopoiesis</a></div><div class=\"anaCell anaEven anaSubcolLeft\"><div class=\"up\"></div></div><div class=\"anaCell anaEven\">247</div><div class=\"anaCell anaEven anaSubcolRight\"><div class=\"anaNegative\">(-2.37%)</div></div><div class=\"anaIndex anaOdd\"><a href=\"https://data.humancellatlas.org/explore/projects/4d6f6c96-2a83-43d8-8fe1-0f53bffd4674\">Dissecting the human liver cellular landscape by single cell RNA-seq reveals novel intrahepatic monocyte/ macrophage populations</a></div><div class=\"anaCell anaOdd anaSubcolLeft\"><div class=\"down\"></div></div><div class=\"anaCell anaOdd\">239</div><div class=\"anaCell anaOdd anaSubcolRight\"><div class=\"anaNegative\">(-15.55%)</div></div><div class=\"anaIndex anaEven\"><a href=\"https://data.humancellatlas.org/explore/projects/abe1a013-af7a-45ed-8c26-f3793c24a1f4\">Spatio-temporal immune zonation of the human kidney</a></div><div class=\"anaCell anaEven anaSubcolLeft\"><div class=\"down\"></div></div><div class=\"anaCell anaEven\">229</div><div class=\"anaCell anaEven anaSubcolRight\"><div class=\"anaNegative\">(-11.24%)</div></div><div class=\"anaIndex anaOdd\"><a href=\"https://data.humancellatlas.org/explore/projects/c1810dbc-16d2-45c3-b45e-3e675f88d87b\">A cell atlas of human thymic development defines T cell repertoire formation</a></div><div class=\"anaCell anaOdd anaSubcolLeft\"><div class=\"up\"></div></div><div class=\"anaCell anaOdd\">223</div><div class=\"anaCell anaOdd anaSubcolRight\"><div class=\"anaPositive\">(+12.63%)</div></div><div class=\"anaIndex anaEven\"><a href=\"https://data.humancellatlas.org/explore/projects/c4077b3c-5c98-4d26-a614-246d12c2e5d7\">Ischaemic sensitivity of human tissue by single cell RNA seq</a></div><div class=\"anaCell anaEven anaSubcolLeft\"><div class=\"up\"></div></div><div class=\"anaCell anaEven\">202</div><div class=\"anaCell anaEven anaSubcolRight\"><div class=\"anaNegative\">(-6.91%)</div></div><div class=\"anaIndex anaOdd\"><a href=\"https://data.humancellatlas.org/explore/projects/7c75f07c-608d-4c4a-a1b7-b13d11c0ad31\">Single-Cell Map of Diverse Immune Phenotypes in the Breast Tumor Microenvironment.</a></div><div class=\"anaCell anaOdd anaSubcolLeft\"><div class=\"new\"></div></div><div class=\"anaCell anaOdd\">199</div><div class=\"anaCell anaOdd anaSubcolRight\"></div><div class=\"anaIndex anaEven\"><a href=\"https://data.humancellatlas.org/explore/projects/f0f89c14-7460-4bab-9d42-22228a91f185\">AIDA pilot data</a></div><div class=\"anaCell anaEven anaSubcolLeft\"><div class=\"down\"></div></div><div class=\"anaCell anaEven\">190</div><div class=\"anaCell anaEven anaSubcolRight\"><div class=\"anaNegative\">(-22.13%)</div></div><div class=\"anaIndex anaOdd\"><a href=\"https://data.humancellatlas.org/explore/projects/ad98d3cd-26fb-4ee3-99c9-8a2ab085e737\">Cells of the adult human heart</a></div><div class=\"anaCell anaOdd anaSubcolLeft\"><div class=\"down\"></div></div><div class=\"anaCell anaOdd\">161</div><div class=\"anaCell anaOdd anaSubcolRight\"><div class=\"anaNegative\">(-53.06%)</div></div><div class=\"anaIndex anaEven\"><a href=\"https://data.humancellatlas.org/explore/projects/cc95ff89-2e68-4a08-a234-480eca21ce79?catalog=dcp1\">Census of Immune Cells</a></div><div class=\"anaCell anaEven anaSubcolLeft\"><div class=\"up\"></div></div><div class=\"anaCell anaEven\">150</div><div class=\"anaCell anaEven anaSubcolRight\"><div class=\"anaNegative\">(-8.54%)</div></div><div class=\"anaIndex anaOdd\"><a href=\"https://data.humancellatlas.org/explore/projects/e0009214-c0a0-4a7b-96e2-d6a83e966ce0\">Tabula Muris: Transcriptomic characterization of 20 organs and tissues from Mus musculus at single cell resolution</a></div><div class=\"anaCell anaOdd anaSubcolLeft\"></div><div class=\"anaCell anaOdd\">134</div><div class=\"anaCell anaOdd anaSubcolRight\"><div class=\"anaNegative\">(-21.18%)</div></div><div class=\"anaIndex anaEven\"><a href=\"https://data.humancellatlas.org/explore/projects/53c53cd4-8127-4e12-bc7f-8fe1610a715c\">A Cellular Anatomy of the Normal Adult Human Prostate and Prostatic Urethra</a></div><div class=\"anaCell anaEven anaSubcolLeft\"><div class=\"down\"></div></div><div class=\"anaCell anaEven\">132</div><div class=\"anaCell anaEven anaSubcolRight\"><div class=\"anaNegative\">(-30.16%)</div></div><div class=\"anaIndex anaOdd\"><a href=\"https://data.humancellatlas.org/explore/projects/c41dffbf-ad83-447c-a0e1-13e689d9b258\">Resolving the fibrotic niche of human liver cirrhosis using single-cell transcriptomics</a></div><div class=\"anaCell anaOdd anaSubcolLeft\"><div class=\"new\"></div></div><div class=\"anaCell anaOdd\">130</div><div class=\"anaCell anaOdd anaSubcolRight\"></div><div class=\"anaIndex anaEven\"><a href=\"https://data.humancellatlas.org/explore/projects/b963bd4b-4bc1-4404-8425-69d74bc636b8\">The cellular immune response to COVID-19 deciphered by single cell multi-omics across three UK centres</a></div><div class=\"anaCell anaEven anaSubcolLeft\"><div class=\"new\"></div></div><div class=\"anaCell anaEven\">130</div><div class=\"anaCell anaEven anaSubcolRight\"></div><div class=\"anaIndex anaOdd\"><a href=\"https://data.humancellatlas.org/explore/projects/94023a08-611d-4f22-a8c9-90956e091b2e\">Healthy human kidney cell type single cell RNA-seq data</a></div><div class=\"anaCell anaOdd anaSubcolLeft\"><div class=\"new\"></div></div><div class=\"anaCell anaOdd\">116</div><div class=\"anaCell anaOdd anaSubcolRight\"></div></div>"
      ],
      "text/plain": [
       "<IPython.core.display.HTML object>"
      ]
     },
     "metadata": {},
     "output_type": "display_data"
    }
   ],
   "source": [
    "ac.show_difference_table(\"Count\", \"Project\", \"ga:pageviews\", \"ga:pagePath\", filters=\"ga:pagePath=~^(\\\\/explore\\\\/projects\\\\/[0-9a-fA-F]{8}\\\\-[0-9a-fA-F]{4}\\\\-[0-9a-fA-F]{4}\\\\-[0-9a-fA-F]{4}\\\\-[0-9a-fA-F]{12})(\\\\/?\\\\?{0}|\\\\/?\\\\?{1}.*)$\", **default_params)"
   ]
  },
  {
   "cell_type": "markdown",
   "id": "cd9060de",
   "metadata": {},
   "source": [
    "### Project detail supplementary links visits (from external resources)"
   ]
  },
  {
   "cell_type": "code",
   "execution_count": 77,
   "id": "c814852a",
   "metadata": {
    "scrolled": false,
    "tags": [
     "remove-input"
    ]
   },
   "outputs": [
    {
     "data": {
      "text/html": [
       "<div class=\"analyticsTable\" style=\"grid-template-columns: 1fr 1.5em minmax(3em, min-content) minmax(6em, min-content)\"><div class=\"anaIndex anaColName\">Link</div><div class=\"anaColName\" style=\"grid-column: span 3\">Visits</div><div class=\"anaIndex anaEven\">http://www.kidneycellatlas.org/</div><div class=\"anaCell anaEven anaSubcolLeft\"><div class=\"up\"></div></div><div class=\"anaCell anaEven\">8</div><div class=\"anaCell anaEven anaSubcolRight\"><div class=\"anaPositive\">(+33.33%)</div></div><div class=\"anaIndex anaOdd\">https://support.10xgenomics.com/single-cell-gene-expression/datasets/1.3.0/1M_neurons</div><div class=\"anaCell anaOdd anaSubcolLeft\"><div class=\"up\"></div></div><div class=\"anaCell anaOdd\">8</div><div class=\"anaCell anaOdd anaSubcolRight\"><div class=\"anaPositive\">(+166.67%)</div></div><div class=\"anaIndex anaEven\">https://descartes.brotmanbaty.org/bbi/human-gene-expression-during-development/</div><div class=\"anaCell anaEven anaSubcolLeft\"><div class=\"down\"></div></div><div class=\"anaCell anaEven\">8</div><div class=\"anaCell anaEven anaSubcolRight\"><div class=\"anaNegative\">(-27.27%)</div></div><div class=\"anaIndex anaOdd\">https://github.com/BaderLab/HumanLiver</div><div class=\"anaCell anaOdd anaSubcolLeft\"><div class=\"up\"></div></div><div class=\"anaCell anaOdd\">6</div><div class=\"anaCell anaOdd anaSubcolRight\"><div class=\"anaPositive\">(+20.00%)</div></div><div class=\"anaIndex anaEven\">https://www.tissuestabilitycellatlas.org/</div><div class=\"anaCell anaEven anaSubcolLeft\"><div class=\"new\"></div></div><div class=\"anaCell anaEven\">5</div><div class=\"anaCell anaEven anaSubcolRight\"></div><div class=\"anaIndex anaOdd\">https://doi.org/10.5281/zenodo.3572421</div><div class=\"anaCell anaOdd anaSubcolLeft\"><div class=\"up\"></div></div><div class=\"anaCell anaOdd\">4</div><div class=\"anaCell anaOdd anaSubcolRight\"><div class=\"anaPositive\">(+100.00%)</div></div><div class=\"anaIndex anaEven\">https://developmentcellatlas.ncl.ac.uk/datasets/HCA_thymus/</div><div class=\"anaCell anaEven anaSubcolLeft\"><div class=\"down\"></div></div><div class=\"anaCell anaEven\">4</div><div class=\"anaCell anaEven anaSubcolRight\"><div class=\"anaNegative\">(-33.33%)</div></div><div class=\"anaIndex anaOdd\">ftp://ftp.ncbi.nlm.nih.gov/geo/series/GSE102nnn/GSE102596/suppl/GSE102596_RAW.tar</div><div class=\"anaCell anaOdd anaSubcolLeft\"><div class=\"new\"></div></div><div class=\"anaCell anaOdd\">4</div><div class=\"anaCell anaOdd anaSubcolRight\"></div><div class=\"anaIndex anaEven\">https://doi.org/10.25548/W-R8CM;  https://git.biohpc.swmed.edu/StrandLab/sc-TissueMapper_Pr; http://strandlab.net/analysis.php</div><div class=\"anaCell anaEven anaSubcolLeft\"><div class=\"up\"></div></div><div class=\"anaCell anaEven\">4</div><div class=\"anaCell anaEven anaSubcolRight\"><div class=\"anaPositive\">(+100.00%)</div></div><div class=\"anaIndex anaOdd\">https://developmentcellatlas.ncl.ac.uk/datasets/hca_liver/</div><div class=\"anaCell anaOdd anaSubcolLeft\"><div class=\"up\"></div></div><div class=\"anaCell anaOdd\">3</div><div class=\"anaCell anaOdd anaSubcolRight\"><div class=\"anaZero\">(+0.00%)</div></div><div class=\"anaIndex anaEven\">https://www.ebi.ac.uk/gxa/sc/experiments/E-MTAB-5061/Results</div><div class=\"anaCell anaEven anaSubcolLeft\"></div><div class=\"anaCell anaEven\">2</div><div class=\"anaCell anaEven anaSubcolRight\"><div class=\"anaNegative\">(-33.33%)</div></div><div class=\"anaIndex anaOdd\">https://singlecell.broadinstitute.org/single_cell/study/SCP1219 ; https://duos.\n",
       "broadinstitute.org (study ID DUOS-000130)</div><div class=\"anaCell anaOdd anaSubcolLeft\"><div class=\"up\"></div></div><div class=\"anaCell anaOdd\">2</div><div class=\"anaCell anaOdd anaSubcolRight\"><div class=\"anaZero\">(+0.00%)</div></div><div class=\"anaIndex anaEven\">https://github.com/constantAmateur/scKidneyTumors</div><div class=\"anaCell anaEven anaSubcolLeft\"><div class=\"new\"></div></div><div class=\"anaCell anaEven\">2</div><div class=\"anaCell anaEven anaSubcolRight\"></div><div class=\"anaIndex anaOdd\">https://github.com/bjstewart1/kidney_sc_immune</div><div class=\"anaCell anaOdd anaSubcolLeft\"><div class=\"new\"></div></div><div class=\"anaCell anaOdd\">2</div><div class=\"anaCell anaOdd anaSubcolRight\"></div><div class=\"anaIndex anaEven\">http://humphreyslab.com/SingleCell/</div><div class=\"anaCell anaEven anaSubcolLeft\"><div class=\"new\"></div></div><div class=\"anaCell anaEven\">2</div><div class=\"anaCell anaEven anaSubcolRight\"></div><div class=\"anaIndex anaOdd\">ftp://ftp.ncbi.nlm.nih.gov/geo/series/GSE67nnn/GSE67835/suppl/GSE67835_RAW.tar</div><div class=\"anaCell anaOdd anaSubcolLeft\"><div class=\"new\"></div></div><div class=\"anaCell anaOdd\">1</div><div class=\"anaCell anaOdd anaSubcolRight\"></div><div class=\"anaIndex anaEven\">ftp://ftp.ncbi.nlm.nih.gov/geo/series/GSE75nnn/GSE75659/suppl/GSE75659_RAW.tar</div><div class=\"anaCell anaEven anaSubcolLeft\"><div class=\"down\"></div></div><div class=\"anaCell anaEven\">1</div><div class=\"anaCell anaEven anaSubcolRight\"><div class=\"anaNegative\">(-66.67%)</div></div><div class=\"anaIndex anaOdd\">ftp://ftp.ncbi.nlm.nih.gov/geo/series/GSE84nnn/GSE84465/suppl/GSE84465_GBM_All_data.csv.gz,ftp://ftp.ncbi.nlm.nih.gov/geo/series/GSE84nnn/GSE84465/suppl/GSE84465_RAW.tar</div><div class=\"anaCell anaOdd anaSubcolLeft\"><div class=\"new\"></div></div><div class=\"anaCell anaOdd\">1</div><div class=\"anaCell anaOdd anaSubcolRight\"></div><div class=\"anaIndex anaEven\">https://www.ebi.ac.uk/gxa/sc/experiments/E-GEOD-81547/Results</div><div class=\"anaCell anaEven anaSubcolLeft\"><div class=\"new\"></div></div><div class=\"anaCell anaEven\">1</div><div class=\"anaCell anaEven anaSubcolRight\"></div><div class=\"anaIndex anaOdd\">https://www.ebi.ac.uk/arrayexpress/experiments/E-MTAB-6678/</div><div class=\"anaCell anaOdd anaSubcolLeft\"><div class=\"new\"></div></div><div class=\"anaCell anaOdd\">1</div><div class=\"anaCell anaOdd anaSubcolRight\"></div></div>"
      ],
      "text/plain": [
       "<IPython.core.display.HTML object>"
      ]
     },
     "metadata": {},
     "output_type": "display_data"
    }
   ],
   "source": [
    "ac.show_difference_table(\"Visits\", \"Link\", \"ga:hits\", [\"ga:dimension4\", \"ga:dimension6\", \"ga:eventLabel\"], filters=\"ga:eventCategory==Project;ga:eventAction==View External Resource\", **default_params)"
   ]
  },
  {
   "cell_type": "markdown",
   "id": "bb8260e5",
   "metadata": {},
   "source": [
    "### Withdrawn/deprecated projects visits"
   ]
  },
  {
   "cell_type": "code",
   "execution_count": 65,
   "id": "6fb4f6ba",
   "metadata": {
    "scrolled": false,
    "tags": [
     "remove-input"
    ]
   },
   "outputs": [
    {
     "data": {
      "text/html": [
       "<style type=\"text/css\">\n",
       "#T_c4201  {\n",
       "  width: 100%;\n",
       "  table-layout: auto;\n",
       "}\n",
       "#T_c4201 th.col_heading {\n",
       "  text-align: center;\n",
       "}\n",
       "#T_c4201 thead > tr:nth-child(2) {\n",
       "  display: none;\n",
       "}\n",
       "#T_c4201 th.index_name {\n",
       "  text-align: left;\n",
       "}\n",
       "#T_c4201 th.row_heading {\n",
       "  text-align: left;\n",
       "  white-space: pre-wrap;\n",
       "}\n",
       "#T_c4201 td.col1 {\n",
       "  text-align: left;\n",
       "  padding-left: 0;\n",
       "}\n",
       "#T_c4201 .up::before {\n",
       "  content: \"↑\\00a0\";\n",
       "  color: gray;\n",
       "}\n",
       "#T_c4201 .down::before {\n",
       "  content: \"↓\\00a0\";\n",
       "  color: gray;\n",
       "}\n",
       "#T_c4201 .new::before {\n",
       "  content: \"+\\00a0\";\n",
       "  color: gray;\n",
       "}\n",
       "#T_c4201_row0_col1 {\n",
       "  color: green;\n",
       "}\n",
       "</style>\n",
       "<table id=\"T_c4201\">\n",
       "  <thead>\n",
       "    <tr>\n",
       "      <th class=\"blank level0\" >&nbsp;</th>\n",
       "      <th id=\"T_c4201_level0_col0\" class=\"col_heading level0 col0\" colspan=\"2\">Count</th>\n",
       "    </tr>\n",
       "    <tr>\n",
       "      <th class=\"blank level1\" >&nbsp;</th>\n",
       "      <th id=\"T_c4201_level1_col0\" class=\"col_heading level1 col0\" >Value</th>\n",
       "      <th id=\"T_c4201_level1_col1\" class=\"col_heading level1 col1\" >% Change</th>\n",
       "    </tr>\n",
       "    <tr>\n",
       "      <th class=\"index_name level0\" >Project Type</th>\n",
       "      <th class=\"blank col0\" >&nbsp;</th>\n",
       "      <th class=\"blank col1\" >&nbsp;</th>\n",
       "    </tr>\n",
       "  </thead>\n",
       "  <tbody>\n",
       "    <tr>\n",
       "      <th id=\"T_c4201_level0_row0\" class=\"row_heading level0 row0\" >View Withdrawn Project</th>\n",
       "      <td id=\"T_c4201_row0_col0\" class=\"data row0 col0\" >9</td>\n",
       "      <td id=\"T_c4201_row0_col1\" class=\"data row0 col1\" >(+28.57%)</td>\n",
       "    </tr>\n",
       "  </tbody>\n",
       "</table>\n"
      ],
      "text/plain": [
       "<pandas.io.formats.style.Styler at 0x32b62c34f0>"
      ]
     },
     "metadata": {},
     "output_type": "display_data"
    }
   ],
   "source": [
    "ac.show_difference_table(\"Count\", \"Project Type\", \"ga:hits\", \"ga:eventAction\", filters=\"ga:eventAction=~View Deprecated Project|View Withdrawn Project\", **default_params)"
   ]
  },
  {
   "cell_type": "markdown",
   "id": "42e6eb34",
   "metadata": {},
   "source": [
    "### Analysis protocol portal links"
   ]
  },
  {
   "cell_type": "code",
   "execution_count": 69,
   "id": "bab4cf72",
   "metadata": {
    "scrolled": false,
    "tags": [
     "remove-input"
    ]
   },
   "outputs": [
    {
     "data": {
      "text/html": [
       "<style type=\"text/css\">\n",
       "#T_5f244  {\n",
       "  width: 100%;\n",
       "  table-layout: auto;\n",
       "}\n",
       "#T_5f244 th.col_heading {\n",
       "  text-align: center;\n",
       "}\n",
       "#T_5f244 thead > tr:nth-child(2) {\n",
       "  display: none;\n",
       "}\n",
       "#T_5f244 th.index_name {\n",
       "  text-align: left;\n",
       "}\n",
       "#T_5f244 th.row_heading {\n",
       "  text-align: left;\n",
       "  white-space: pre-wrap;\n",
       "}\n",
       "#T_5f244 td.col1 {\n",
       "  text-align: left;\n",
       "  padding-left: 0;\n",
       "}\n",
       "#T_5f244 .up::before {\n",
       "  content: \"↑\\00a0\";\n",
       "  color: gray;\n",
       "}\n",
       "#T_5f244 .down::before {\n",
       "  content: \"↓\\00a0\";\n",
       "  color: gray;\n",
       "}\n",
       "#T_5f244 .new::before {\n",
       "  content: \"+\\00a0\";\n",
       "  color: gray;\n",
       "}\n",
       "#T_5f244_row1_col1, #T_5f244_row2_col1 {\n",
       "  color: red;\n",
       "}\n",
       "</style>\n",
       "<table id=\"T_5f244\">\n",
       "  <thead>\n",
       "    <tr>\n",
       "      <th class=\"blank level0\" >&nbsp;</th>\n",
       "      <th id=\"T_5f244_level0_col0\" class=\"col_heading level0 col0\" colspan=\"2\">Count</th>\n",
       "    </tr>\n",
       "    <tr>\n",
       "      <th class=\"blank level1\" >&nbsp;</th>\n",
       "      <th id=\"T_5f244_level1_col0\" class=\"col_heading level1 col0\" >Value</th>\n",
       "      <th id=\"T_5f244_level1_col1\" class=\"col_heading level1 col1\" >% Change</th>\n",
       "    </tr>\n",
       "    <tr>\n",
       "      <th class=\"index_name level0\" >Analysis Protocol</th>\n",
       "      <th class=\"blank col0\" >&nbsp;</th>\n",
       "      <th class=\"blank col1\" >&nbsp;</th>\n",
       "    </tr>\n",
       "  </thead>\n",
       "  <tbody>\n",
       "    <tr>\n",
       "      <th id=\"T_5f244_level0_row0\" class=\"row_heading level0 row0\" >optimus_post_processing_v1.0.0</th>\n",
       "      <td id=\"T_5f244_row0_col0\" class=\"data row0 col0\" >65</td>\n",
       "      <td id=\"T_5f244_row0_col1\" class=\"data row0 col1\" >(+0.00%)</td>\n",
       "    </tr>\n",
       "    <tr>\n",
       "      <th id=\"T_5f244_level0_row1\" class=\"row_heading level0 row1\" >optimus_v4.2.2</th>\n",
       "      <td id=\"T_5f244_row1_col0\" class=\"data row1 col0\" >15</td>\n",
       "      <td id=\"T_5f244_row1_col1\" class=\"data row1 col1\" >(-51.61%)</td>\n",
       "    </tr>\n",
       "    <tr>\n",
       "      <th id=\"T_5f244_level0_row2\" class=\"row_heading level0 row2\" >optimus_v4.2.3</th>\n",
       "      <td id=\"T_5f244_row2_col0\" class=\"data row2 col0\" >7</td>\n",
       "      <td id=\"T_5f244_row2_col1\" class=\"data row2 col1\" >(-36.36%)</td>\n",
       "    </tr>\n",
       "    <tr>\n",
       "      <th id=\"T_5f244_level0_row3\" class=\"row_heading level0 row3\" >optimus_v1.3.2</th>\n",
       "      <td id=\"T_5f244_row3_col0\" class=\"data row3 col0 new\" >6</td>\n",
       "      <td id=\"T_5f244_row3_col1\" class=\"data row3 col1\" ></td>\n",
       "    </tr>\n",
       "  </tbody>\n",
       "</table>\n"
      ],
      "text/plain": [
       "<pandas.io.formats.style.Styler at 0x32b6141e80>"
      ]
     },
     "metadata": {},
     "output_type": "display_data"
    }
   ],
   "source": [
    "ac.show_difference_table(\"Count\", \"Analysis Protocol\", \"ga:hits\", \"ga:eventLabel\", filters=\"ga:eventCategory==Portal Link;ga:eventAction==Click\", **default_params)"
   ]
  },
  {
   "cell_type": "markdown",
   "id": "b4f930db",
   "metadata": {},
   "source": [
    "## Data Portal\n",
    "### Top landing pages"
   ]
  },
  {
   "cell_type": "code",
   "execution_count": 68,
   "id": "5fc13339",
   "metadata": {
    "scrolled": false,
    "tags": [
     "remove-input"
    ]
   },
   "outputs": [
    {
     "data": {
      "text/html": [
       "<style type=\"text/css\">\n",
       "#T_ff3cc  {\n",
       "  width: 100%;\n",
       "  table-layout: auto;\n",
       "}\n",
       "#T_ff3cc th.col_heading {\n",
       "  text-align: center;\n",
       "}\n",
       "#T_ff3cc thead > tr:nth-child(2) {\n",
       "  display: none;\n",
       "}\n",
       "#T_ff3cc th.index_name {\n",
       "  text-align: left;\n",
       "}\n",
       "#T_ff3cc th.row_heading {\n",
       "  text-align: left;\n",
       "  white-space: pre-wrap;\n",
       "}\n",
       "#T_ff3cc td.col1 {\n",
       "  text-align: left;\n",
       "  padding-left: 0;\n",
       "}\n",
       "#T_ff3cc .up::before {\n",
       "  content: \"↑\\00a0\";\n",
       "  color: gray;\n",
       "}\n",
       "#T_ff3cc .down::before {\n",
       "  content: \"↓\\00a0\";\n",
       "  color: gray;\n",
       "}\n",
       "#T_ff3cc .new::before {\n",
       "  content: \"+\\00a0\";\n",
       "  color: gray;\n",
       "}\n",
       "#T_ff3cc_row0_col1, #T_ff3cc_row1_col1, #T_ff3cc_row2_col1, #T_ff3cc_row3_col1, #T_ff3cc_row9_col1 {\n",
       "  color: green;\n",
       "}\n",
       "#T_ff3cc_row4_col1, #T_ff3cc_row5_col1, #T_ff3cc_row6_col1, #T_ff3cc_row7_col1, #T_ff3cc_row8_col1, #T_ff3cc_row10_col1, #T_ff3cc_row11_col1, #T_ff3cc_row12_col1, #T_ff3cc_row13_col1, #T_ff3cc_row15_col1, #T_ff3cc_row16_col1, #T_ff3cc_row18_col1 {\n",
       "  color: red;\n",
       "}\n",
       "</style>\n",
       "<table id=\"T_ff3cc\">\n",
       "  <thead>\n",
       "    <tr>\n",
       "      <th class=\"blank level0\" >&nbsp;</th>\n",
       "      <th id=\"T_ff3cc_level0_col0\" class=\"col_heading level0 col0\" colspan=\"2\">Count</th>\n",
       "    </tr>\n",
       "    <tr>\n",
       "      <th class=\"blank level1\" >&nbsp;</th>\n",
       "      <th id=\"T_ff3cc_level1_col0\" class=\"col_heading level1 col0\" >Value</th>\n",
       "      <th id=\"T_ff3cc_level1_col1\" class=\"col_heading level1 col1\" >% Change</th>\n",
       "    </tr>\n",
       "    <tr>\n",
       "      <th class=\"index_name level0\" >Path</th>\n",
       "      <th class=\"blank col0\" >&nbsp;</th>\n",
       "      <th class=\"blank col1\" >&nbsp;</th>\n",
       "    </tr>\n",
       "  </thead>\n",
       "  <tbody>\n",
       "    <tr>\n",
       "      <th id=\"T_ff3cc_level0_row0\" class=\"row_heading level0 row0\" >/</th>\n",
       "      <td id=\"T_ff3cc_row0_col0\" class=\"data row0 col0\" >5764</td>\n",
       "      <td id=\"T_ff3cc_row0_col1\" class=\"data row0 col1\" >(+11.38%)</td>\n",
       "    </tr>\n",
       "    <tr>\n",
       "      <th id=\"T_ff3cc_level0_row1\" class=\"row_heading level0 row1\" >/analyze/portals/single-cell-expression-atlas</th>\n",
       "      <td id=\"T_ff3cc_row1_col0\" class=\"data row1 col0\" >1056</td>\n",
       "      <td id=\"T_ff3cc_row1_col1\" class=\"data row1 col1\" >(+21.80%)</td>\n",
       "    </tr>\n",
       "    <tr>\n",
       "      <th id=\"T_ff3cc_level0_row2\" class=\"row_heading level0 row2\" >/analyze/portals/cellxgene</th>\n",
       "      <td id=\"T_ff3cc_row2_col0\" class=\"data row2 col0 up\" >354</td>\n",
       "      <td id=\"T_ff3cc_row2_col1\" class=\"data row2 col1\" >(+37.74%)</td>\n",
       "    </tr>\n",
       "    <tr>\n",
       "      <th id=\"T_ff3cc_level0_row3\" class=\"row_heading level0 row3\" >/analyze/methods/infer</th>\n",
       "      <td id=\"T_ff3cc_row3_col0\" class=\"data row3 col0\" >339</td>\n",
       "      <td id=\"T_ff3cc_row3_col1\" class=\"data row3 col1\" >(+4.63%)</td>\n",
       "    </tr>\n",
       "    <tr>\n",
       "      <th id=\"T_ff3cc_level0_row4\" class=\"row_heading level0 row4\" >/pipelines/smart-seq2-workflow</th>\n",
       "      <td id=\"T_ff3cc_row4_col0\" class=\"data row4 col0 down\" >321</td>\n",
       "      <td id=\"T_ff3cc_row4_col1\" class=\"data row4 col1\" >(-3.89%)</td>\n",
       "    </tr>\n",
       "    <tr>\n",
       "      <th id=\"T_ff3cc_level0_row5\" class=\"row_heading level0 row5\" >/analyze</th>\n",
       "      <td id=\"T_ff3cc_row5_col0\" class=\"data row5 col0\" >125</td>\n",
       "      <td id=\"T_ff3cc_row5_col1\" class=\"data row5 col1\" >(-27.33%)</td>\n",
       "    </tr>\n",
       "    <tr>\n",
       "      <th id=\"T_ff3cc_level0_row6\" class=\"row_heading level0 row6\" >/analyze/portals/single-cell-portal</th>\n",
       "      <td id=\"T_ff3cc_row6_col0\" class=\"data row6 col0\" >124</td>\n",
       "      <td id=\"T_ff3cc_row6_col1\" class=\"data row6 col1\" >(-16.22%)</td>\n",
       "    </tr>\n",
       "    <tr>\n",
       "      <th id=\"T_ff3cc_level0_row7\" class=\"row_heading level0 row7\" >/analyze/portals/asap</th>\n",
       "      <td id=\"T_ff3cc_row7_col0\" class=\"data row7 col0 up\" >95</td>\n",
       "      <td id=\"T_ff3cc_row7_col1\" class=\"data row7 col1\" >(-21.49%)</td>\n",
       "    </tr>\n",
       "    <tr>\n",
       "      <th id=\"T_ff3cc_level0_row8\" class=\"row_heading level0 row8\" >/metadata</th>\n",
       "      <td id=\"T_ff3cc_row8_col0\" class=\"data row8 col0 down\" >91</td>\n",
       "      <td id=\"T_ff3cc_row8_col1\" class=\"data row8 col1\" >(-27.78%)</td>\n",
       "    </tr>\n",
       "    <tr>\n",
       "      <th id=\"T_ff3cc_level0_row9\" class=\"row_heading level0 row9\" >/pipelines/optimus-workflow</th>\n",
       "      <td id=\"T_ff3cc_row9_col0\" class=\"data row9 col0 up\" >90</td>\n",
       "      <td id=\"T_ff3cc_row9_col1\" class=\"data row9 col1\" >(+16.88%)</td>\n",
       "    </tr>\n",
       "    <tr>\n",
       "      <th id=\"T_ff3cc_level0_row10\" class=\"row_heading level0 row10\" >/analyze/visualization/anatomogram</th>\n",
       "      <td id=\"T_ff3cc_row10_col0\" class=\"data row10 col0 up\" >77</td>\n",
       "      <td id=\"T_ff3cc_row10_col1\" class=\"data row10 col1\" >(-10.47%)</td>\n",
       "    </tr>\n",
       "    <tr>\n",
       "      <th id=\"T_ff3cc_level0_row11\" class=\"row_heading level0 row11\" >/analyze/portals/bioturing-browser</th>\n",
       "      <td id=\"T_ff3cc_row11_col0\" class=\"data row11 col0 down\" >74</td>\n",
       "      <td id=\"T_ff3cc_row11_col1\" class=\"data row11 col1\" >(-16.85%)</td>\n",
       "    </tr>\n",
       "    <tr>\n",
       "      <th id=\"T_ff3cc_level0_row12\" class=\"row_heading level0 row12\" >/guides</th>\n",
       "      <td id=\"T_ff3cc_row12_col0\" class=\"data row12 col0 down\" >74</td>\n",
       "      <td id=\"T_ff3cc_row12_col1\" class=\"data row12 col1\" >(-21.28%)</td>\n",
       "    </tr>\n",
       "    <tr>\n",
       "      <th id=\"T_ff3cc_level0_row13\" class=\"row_heading level0 row13\" >/pipelines</th>\n",
       "      <td id=\"T_ff3cc_row13_col0\" class=\"data row13 col0\" >63</td>\n",
       "      <td id=\"T_ff3cc_row13_col1\" class=\"data row13 col1\" >(-16.00%)</td>\n",
       "    </tr>\n",
       "    <tr>\n",
       "      <th id=\"T_ff3cc_level0_row14\" class=\"row_heading level0 row14\" >/guides/consumer-vignettes/matrices</th>\n",
       "      <td id=\"T_ff3cc_row14_col0\" class=\"data row14 col0 new\" >57</td>\n",
       "      <td id=\"T_ff3cc_row14_col1\" class=\"data row14 col1\" ></td>\n",
       "    </tr>\n",
       "    <tr>\n",
       "      <th id=\"T_ff3cc_level0_row15\" class=\"row_heading level0 row15\" >/dcp-updates</th>\n",
       "      <td id=\"T_ff3cc_row15_col0\" class=\"data row15 col0 up\" >54</td>\n",
       "      <td id=\"T_ff3cc_row15_col1\" class=\"data row15 col1\" >(-11.48%)</td>\n",
       "    </tr>\n",
       "    <tr>\n",
       "      <th id=\"T_ff3cc_level0_row16\" class=\"row_heading level0 row16\" >/analyze/portals/ucsc-xena</th>\n",
       "      <td id=\"T_ff3cc_row16_col0\" class=\"data row16 col0\" >53</td>\n",
       "      <td id=\"T_ff3cc_row16_col1\" class=\"data row16 col1\" >(-14.52%)</td>\n",
       "    </tr>\n",
       "    <tr>\n",
       "      <th id=\"T_ff3cc_level0_row17\" class=\"row_heading level0 row17\" >/analyze/portals/ucsc-cell-browser</th>\n",
       "      <td id=\"T_ff3cc_row17_col0\" class=\"data row17 col0 new\" >45</td>\n",
       "      <td id=\"T_ff3cc_row17_col1\" class=\"data row17 col1\" ></td>\n",
       "    </tr>\n",
       "    <tr>\n",
       "      <th id=\"T_ff3cc_level0_row18\" class=\"row_heading level0 row18\" >/contribute</th>\n",
       "      <td id=\"T_ff3cc_row18_col0\" class=\"data row18 col0 down\" >44</td>\n",
       "      <td id=\"T_ff3cc_row18_col1\" class=\"data row18 col1\" >(-37.14%)</td>\n",
       "    </tr>\n",
       "    <tr>\n",
       "      <th id=\"T_ff3cc_level0_row19\" class=\"row_heading level0 row19\" >/contribute/contributing-data-suitability</th>\n",
       "      <td id=\"T_ff3cc_row19_col0\" class=\"data row19 col0 new\" >43</td>\n",
       "      <td id=\"T_ff3cc_row19_col1\" class=\"data row19 col1\" ></td>\n",
       "    </tr>\n",
       "  </tbody>\n",
       "</table>\n"
      ],
      "text/plain": [
       "<pandas.io.formats.style.Styler at 0x32b619c700>"
      ]
     },
     "metadata": {},
     "output_type": "display_data"
    }
   ],
   "source": [
    "ac.show_difference_table(\"Count\", \"Path\", \"ga:entrances\", \"ga:landingPagePath\", filters=\"ga:landingPagePath!~^\\/explore\", **default_params)"
   ]
  },
  {
   "cell_type": "markdown",
   "id": "de401b92",
   "metadata": {},
   "source": [
    "### Top pages"
   ]
  },
  {
   "cell_type": "code",
   "execution_count": 70,
   "id": "bc0752ae",
   "metadata": {
    "scrolled": false,
    "tags": [
     "remove-input"
    ]
   },
   "outputs": [
    {
     "data": {
      "text/html": [
       "<style type=\"text/css\">\n",
       "#T_7a860  {\n",
       "  width: 100%;\n",
       "  table-layout: auto;\n",
       "}\n",
       "#T_7a860 th.col_heading {\n",
       "  text-align: center;\n",
       "}\n",
       "#T_7a860 thead > tr:nth-child(2) {\n",
       "  display: none;\n",
       "}\n",
       "#T_7a860 th.index_name {\n",
       "  text-align: left;\n",
       "}\n",
       "#T_7a860 th.row_heading {\n",
       "  text-align: left;\n",
       "  white-space: pre-wrap;\n",
       "}\n",
       "#T_7a860 td.col1 {\n",
       "  text-align: left;\n",
       "  padding-left: 0;\n",
       "}\n",
       "#T_7a860 .up::before {\n",
       "  content: \"↑\\00a0\";\n",
       "  color: gray;\n",
       "}\n",
       "#T_7a860 .down::before {\n",
       "  content: \"↓\\00a0\";\n",
       "  color: gray;\n",
       "}\n",
       "#T_7a860 .new::before {\n",
       "  content: \"+\\00a0\";\n",
       "  color: gray;\n",
       "}\n",
       "#T_7a860_row0_col1, #T_7a860_row1_col1, #T_7a860_row2_col1, #T_7a860_row3_col1, #T_7a860_row6_col1, #T_7a860_row9_col1, #T_7a860_row10_col1, #T_7a860_row12_col1, #T_7a860_row13_col1 {\n",
       "  color: green;\n",
       "}\n",
       "#T_7a860_row4_col1, #T_7a860_row5_col1, #T_7a860_row7_col1, #T_7a860_row8_col1, #T_7a860_row11_col1, #T_7a860_row15_col1, #T_7a860_row17_col1, #T_7a860_row18_col1, #T_7a860_row19_col1 {\n",
       "  color: red;\n",
       "}\n",
       "</style>\n",
       "<table id=\"T_7a860\">\n",
       "  <thead>\n",
       "    <tr>\n",
       "      <th class=\"blank level0\" >&nbsp;</th>\n",
       "      <th id=\"T_7a860_level0_col0\" class=\"col_heading level0 col0\" colspan=\"2\">Count</th>\n",
       "    </tr>\n",
       "    <tr>\n",
       "      <th class=\"blank level1\" >&nbsp;</th>\n",
       "      <th id=\"T_7a860_level1_col0\" class=\"col_heading level1 col0\" >Value</th>\n",
       "      <th id=\"T_7a860_level1_col1\" class=\"col_heading level1 col1\" >% Change</th>\n",
       "    </tr>\n",
       "    <tr>\n",
       "      <th class=\"index_name level0\" >Path</th>\n",
       "      <th class=\"blank col0\" >&nbsp;</th>\n",
       "      <th class=\"blank col1\" >&nbsp;</th>\n",
       "    </tr>\n",
       "  </thead>\n",
       "  <tbody>\n",
       "    <tr>\n",
       "      <th id=\"T_7a860_level0_row0\" class=\"row_heading level0 row0\" >/</th>\n",
       "      <td id=\"T_7a860_row0_col0\" class=\"data row0 col0\" >8843</td>\n",
       "      <td id=\"T_7a860_row0_col1\" class=\"data row0 col1\" >(+2.09%)</td>\n",
       "    </tr>\n",
       "    <tr>\n",
       "      <th id=\"T_7a860_level0_row1\" class=\"row_heading level0 row1\" >/analyze</th>\n",
       "      <td id=\"T_7a860_row1_col0\" class=\"data row1 col0\" >1666</td>\n",
       "      <td id=\"T_7a860_row1_col1\" class=\"data row1 col1\" >(+7.69%)</td>\n",
       "    </tr>\n",
       "    <tr>\n",
       "      <th id=\"T_7a860_level0_row2\" class=\"row_heading level0 row2\" >/analyze/portals/single-cell-expression-atlas</th>\n",
       "      <td id=\"T_7a860_row2_col0\" class=\"data row2 col0\" >1654</td>\n",
       "      <td id=\"T_7a860_row2_col1\" class=\"data row2 col1\" >(+18.06%)</td>\n",
       "    </tr>\n",
       "    <tr>\n",
       "      <th id=\"T_7a860_level0_row3\" class=\"row_heading level0 row3\" >/metadata</th>\n",
       "      <td id=\"T_7a860_row3_col0\" class=\"data row3 col0\" >1261</td>\n",
       "      <td id=\"T_7a860_row3_col1\" class=\"data row3 col1\" >(+10.03%)</td>\n",
       "    </tr>\n",
       "    <tr>\n",
       "      <th id=\"T_7a860_level0_row4\" class=\"row_heading level0 row4\" >/guides</th>\n",
       "      <td id=\"T_7a860_row4_col0\" class=\"data row4 col0\" >924</td>\n",
       "      <td id=\"T_7a860_row4_col1\" class=\"data row4 col1\" >(-11.41%)</td>\n",
       "    </tr>\n",
       "    <tr>\n",
       "      <th id=\"T_7a860_level0_row5\" class=\"row_heading level0 row5\" >/pipelines</th>\n",
       "      <td id=\"T_7a860_row5_col0\" class=\"data row5 col0\" >855</td>\n",
       "      <td id=\"T_7a860_row5_col1\" class=\"data row5 col1\" >(-3.39%)</td>\n",
       "    </tr>\n",
       "    <tr>\n",
       "      <th id=\"T_7a860_level0_row6\" class=\"row_heading level0 row6\" >/analyze/portals/cellxgene</th>\n",
       "      <td id=\"T_7a860_row6_col0\" class=\"data row6 col0\" >692</td>\n",
       "      <td id=\"T_7a860_row6_col1\" class=\"data row6 col1\" >(+16.69%)</td>\n",
       "    </tr>\n",
       "    <tr>\n",
       "      <th id=\"T_7a860_level0_row7\" class=\"row_heading level0 row7\" >/analyze/portals/single-cell-portal</th>\n",
       "      <td id=\"T_7a860_row7_col0\" class=\"data row7 col0 up\" >507</td>\n",
       "      <td id=\"T_7a860_row7_col1\" class=\"data row7 col1\" >(-2.50%)</td>\n",
       "    </tr>\n",
       "    <tr>\n",
       "      <th id=\"T_7a860_level0_row8\" class=\"row_heading level0 row8\" >/pipelines/smart-seq2-workflow</th>\n",
       "      <td id=\"T_7a860_row8_col0\" class=\"data row8 col0 down\" >467</td>\n",
       "      <td id=\"T_7a860_row8_col1\" class=\"data row8 col1\" >(-10.71%)</td>\n",
       "    </tr>\n",
       "    <tr>\n",
       "      <th id=\"T_7a860_level0_row9\" class=\"row_heading level0 row9\" >/dcp-updates</th>\n",
       "      <td id=\"T_7a860_row9_col0\" class=\"data row9 col0 up\" >440</td>\n",
       "      <td id=\"T_7a860_row9_col1\" class=\"data row9 col1\" >(+72.55%)</td>\n",
       "    </tr>\n",
       "    <tr>\n",
       "      <th id=\"T_7a860_level0_row10\" class=\"row_heading level0 row10\" >/analyze/methods/infer</th>\n",
       "      <td id=\"T_7a860_row10_col0\" class=\"data row10 col0\" >428</td>\n",
       "      <td id=\"T_7a860_row10_col1\" class=\"data row10 col1\" >(+3.38%)</td>\n",
       "    </tr>\n",
       "    <tr>\n",
       "      <th id=\"T_7a860_level0_row11\" class=\"row_heading level0 row11\" >/analyze/portals/asap</th>\n",
       "      <td id=\"T_7a860_row11_col0\" class=\"data row11 col0 down\" >426</td>\n",
       "      <td id=\"T_7a860_row11_col1\" class=\"data row11 col1\" >(-8.19%)</td>\n",
       "    </tr>\n",
       "    <tr>\n",
       "      <th id=\"T_7a860_level0_row12\" class=\"row_heading level0 row12\" >/contribute</th>\n",
       "      <td id=\"T_7a860_row12_col0\" class=\"data row12 col0 down\" >414</td>\n",
       "      <td id=\"T_7a860_row12_col1\" class=\"data row12 col1\" >(+1.22%)</td>\n",
       "    </tr>\n",
       "    <tr>\n",
       "      <th id=\"T_7a860_level0_row13\" class=\"row_heading level0 row13\" >/apis</th>\n",
       "      <td id=\"T_7a860_row13_col0\" class=\"data row13 col0 up\" >391</td>\n",
       "      <td id=\"T_7a860_row13_col1\" class=\"data row13 col1\" >(+12.68%)</td>\n",
       "    </tr>\n",
       "    <tr>\n",
       "      <th id=\"T_7a860_level0_row14\" class=\"row_heading level0 row14\" >/analyze/methods</th>\n",
       "      <td id=\"T_7a860_row14_col0\" class=\"data row14 col0 up\" >352</td>\n",
       "      <td id=\"T_7a860_row14_col1\" class=\"data row14 col1\" >(+0.00%)</td>\n",
       "    </tr>\n",
       "    <tr>\n",
       "      <th id=\"T_7a860_level0_row15\" class=\"row_heading level0 row15\" >/pipelines/optimus-workflow</th>\n",
       "      <td id=\"T_7a860_row15_col0\" class=\"data row15 col0 down\" >352</td>\n",
       "      <td id=\"T_7a860_row15_col1\" class=\"data row15 col1\" >(-6.88%)</td>\n",
       "    </tr>\n",
       "    <tr>\n",
       "      <th id=\"T_7a860_level0_row16\" class=\"row_heading level0 row16\" >/analyze/portals/cambridge-cell-atlas</th>\n",
       "      <td id=\"T_7a860_row16_col0\" class=\"data row16 col0 new\" >319</td>\n",
       "      <td id=\"T_7a860_row16_col1\" class=\"data row16 col1\" ></td>\n",
       "    </tr>\n",
       "    <tr>\n",
       "      <th id=\"T_7a860_level0_row17\" class=\"row_heading level0 row17\" >/analyze/visualization</th>\n",
       "      <td id=\"T_7a860_row17_col0\" class=\"data row17 col0 down\" >304</td>\n",
       "      <td id=\"T_7a860_row17_col1\" class=\"data row17 col1\" >(-13.64%)</td>\n",
       "    </tr>\n",
       "    <tr>\n",
       "      <th id=\"T_7a860_level0_row18\" class=\"row_heading level0 row18\" >/analyze/portals/bioturing-browser</th>\n",
       "      <td id=\"T_7a860_row18_col0\" class=\"data row18 col0 down\" >301</td>\n",
       "      <td id=\"T_7a860_row18_col1\" class=\"data row18 col1\" >(-12.50%)</td>\n",
       "    </tr>\n",
       "    <tr>\n",
       "      <th id=\"T_7a860_level0_row19\" class=\"row_heading level0 row19\" >/guides/consumer-vignettes/matrices</th>\n",
       "      <td id=\"T_7a860_row19_col0\" class=\"data row19 col0 down\" >282</td>\n",
       "      <td id=\"T_7a860_row19_col1\" class=\"data row19 col1\" >(-26.94%)</td>\n",
       "    </tr>\n",
       "  </tbody>\n",
       "</table>\n"
      ],
      "text/plain": [
       "<pandas.io.formats.style.Styler at 0x32b62c3a00>"
      ]
     },
     "metadata": {},
     "output_type": "display_data"
    }
   ],
   "source": [
    "ac.show_difference_table(\"Count\", \"Path\", \"ga:pageviews\", \"ga:pagePath\", filters=\"ga:pagePath!~^\\/explore\", **default_params)"
   ]
  },
  {
   "cell_type": "markdown",
   "id": "88ccb4a9",
   "metadata": {},
   "source": [
    "### Top searches"
   ]
  },
  {
   "cell_type": "code",
   "execution_count": 71,
   "id": "f8fc0670",
   "metadata": {
    "scrolled": false,
    "tags": [
     "remove-input"
    ]
   },
   "outputs": [
    {
     "data": {
      "text/html": [
       "<style type=\"text/css\">\n",
       "#T_cda1f  {\n",
       "  width: 100%;\n",
       "  table-layout: auto;\n",
       "}\n",
       "#T_cda1f th.col_heading {\n",
       "  text-align: center;\n",
       "}\n",
       "#T_cda1f thead > tr:nth-child(2) {\n",
       "  display: none;\n",
       "}\n",
       "#T_cda1f th.index_name {\n",
       "  text-align: left;\n",
       "}\n",
       "#T_cda1f th.row_heading {\n",
       "  text-align: left;\n",
       "  white-space: pre-wrap;\n",
       "}\n",
       "#T_cda1f td.col1 {\n",
       "  text-align: left;\n",
       "  padding-left: 0;\n",
       "}\n",
       "#T_cda1f .up::before {\n",
       "  content: \"↑\\00a0\";\n",
       "  color: gray;\n",
       "}\n",
       "#T_cda1f .down::before {\n",
       "  content: \"↓\\00a0\";\n",
       "  color: gray;\n",
       "}\n",
       "#T_cda1f .new::before {\n",
       "  content: \"+\\00a0\";\n",
       "  color: gray;\n",
       "}\n",
       "</style>\n",
       "<table id=\"T_cda1f\">\n",
       "  <thead>\n",
       "    <tr>\n",
       "      <th class=\"blank level0\" >&nbsp;</th>\n",
       "      <th id=\"T_cda1f_level0_col0\" class=\"col_heading level0 col0\" colspan=\"2\">Count</th>\n",
       "    </tr>\n",
       "    <tr>\n",
       "      <th class=\"blank level1\" >&nbsp;</th>\n",
       "      <th id=\"T_cda1f_level1_col0\" class=\"col_heading level1 col0\" >Value</th>\n",
       "      <th id=\"T_cda1f_level1_col1\" class=\"col_heading level1 col1\" >% Change</th>\n",
       "    </tr>\n",
       "    <tr>\n",
       "      <th class=\"index_name level0\" >Search Text</th>\n",
       "      <th class=\"blank col0\" >&nbsp;</th>\n",
       "      <th class=\"blank col1\" >&nbsp;</th>\n",
       "    </tr>\n",
       "  </thead>\n",
       "  <tbody>\n",
       "    <tr>\n",
       "      <th id=\"T_cda1f_level0_row0\" class=\"row_heading level0 row0\" >p</th>\n",
       "      <td id=\"T_cda1f_row0_col0\" class=\"data row0 col0 new\" >4</td>\n",
       "      <td id=\"T_cda1f_row0_col1\" class=\"data row0 col1\" ></td>\n",
       "    </tr>\n",
       "    <tr>\n",
       "      <th id=\"T_cda1f_level0_row1\" class=\"row_heading level0 row1\" >imag</th>\n",
       "      <td id=\"T_cda1f_row1_col0\" class=\"data row1 col0 new\" >3</td>\n",
       "      <td id=\"T_cda1f_row1_col1\" class=\"data row1 col1\" ></td>\n",
       "    </tr>\n",
       "    <tr>\n",
       "      <th id=\"T_cda1f_level0_row2\" class=\"row_heading level0 row2\" >bone marrow</th>\n",
       "      <td id=\"T_cda1f_row2_col0\" class=\"data row2 col0 new\" >3</td>\n",
       "      <td id=\"T_cda1f_row2_col1\" class=\"data row2 col1\" ></td>\n",
       "    </tr>\n",
       "    <tr>\n",
       "      <th id=\"T_cda1f_level0_row3\" class=\"row_heading level0 row3\" >ethnicity</th>\n",
       "      <td id=\"T_cda1f_row3_col0\" class=\"data row3 col0 new\" >3</td>\n",
       "      <td id=\"T_cda1f_row3_col1\" class=\"data row3 col1\" ></td>\n",
       "    </tr>\n",
       "    <tr>\n",
       "      <th id=\"T_cda1f_level0_row4\" class=\"row_heading level0 row4\" >content</th>\n",
       "      <td id=\"T_cda1f_row4_col0\" class=\"data row4 col0 new\" >3</td>\n",
       "      <td id=\"T_cda1f_row4_col1\" class=\"data row4 col1\" ></td>\n",
       "    </tr>\n",
       "    <tr>\n",
       "      <th id=\"T_cda1f_level0_row5\" class=\"row_heading level0 row5\" >acce</th>\n",
       "      <td id=\"T_cda1f_row5_col0\" class=\"data row5 col0 new\" >3</td>\n",
       "      <td id=\"T_cda1f_row5_col1\" class=\"data row5 col1\" ></td>\n",
       "    </tr>\n",
       "    <tr>\n",
       "      <th id=\"T_cda1f_level0_row6\" class=\"row_heading level0 row6\" >accession</th>\n",
       "      <td id=\"T_cda1f_row6_col0\" class=\"data row6 col0 new\" >3</td>\n",
       "      <td id=\"T_cda1f_row6_col1\" class=\"data row6 col1\" ></td>\n",
       "    </tr>\n",
       "    <tr>\n",
       "      <th id=\"T_cda1f_level0_row7\" class=\"row_heading level0 row7\" >mondo</th>\n",
       "      <td id=\"T_cda1f_row7_col0\" class=\"data row7 col0 new\" >3</td>\n",
       "      <td id=\"T_cda1f_row7_col1\" class=\"data row7 col1\" ></td>\n",
       "    </tr>\n",
       "    <tr>\n",
       "      <th id=\"T_cda1f_level0_row8\" class=\"row_heading level0 row8\" >bone</th>\n",
       "      <td id=\"T_cda1f_row8_col0\" class=\"data row8 col0 new\" >3</td>\n",
       "      <td id=\"T_cda1f_row8_col1\" class=\"data row8 col1\" ></td>\n",
       "    </tr>\n",
       "    <tr>\n",
       "      <th id=\"T_cda1f_level0_row9\" class=\"row_heading level0 row9\" >mfsd</th>\n",
       "      <td id=\"T_cda1f_row9_col0\" class=\"data row9 col0 new\" >2</td>\n",
       "      <td id=\"T_cda1f_row9_col1\" class=\"data row9 col1\" ></td>\n",
       "    </tr>\n",
       "    <tr>\n",
       "      <th id=\"T_cda1f_level0_row10\" class=\"row_heading level0 row10\" >ethn</th>\n",
       "      <td id=\"T_cda1f_row10_col0\" class=\"data row10 col0 new\" >2</td>\n",
       "      <td id=\"T_cda1f_row10_col1\" class=\"data row10 col1\" ></td>\n",
       "    </tr>\n",
       "    <tr>\n",
       "      <th id=\"T_cda1f_level0_row11\" class=\"row_heading level0 row11\" >sa</th>\n",
       "      <td id=\"T_cda1f_row11_col0\" class=\"data row11 col0 new\" >2</td>\n",
       "      <td id=\"T_cda1f_row11_col1\" class=\"data row11 col1\" ></td>\n",
       "    </tr>\n",
       "    <tr>\n",
       "      <th id=\"T_cda1f_level0_row12\" class=\"row_heading level0 row12\" >e</th>\n",
       "      <td id=\"T_cda1f_row12_col0\" class=\"data row12 col0 new\" >2</td>\n",
       "      <td id=\"T_cda1f_row12_col1\" class=\"data row12 col1\" ></td>\n",
       "    </tr>\n",
       "    <tr>\n",
       "      <th id=\"T_cda1f_level0_row13\" class=\"row_heading level0 row13\" >bone ma</th>\n",
       "      <td id=\"T_cda1f_row13_col0\" class=\"data row13 col0 new\" >2</td>\n",
       "      <td id=\"T_cda1f_row13_col1\" class=\"data row13 col1\" ></td>\n",
       "    </tr>\n",
       "    <tr>\n",
       "      <th id=\"T_cda1f_level0_row14\" class=\"row_heading level0 row14\" >curat</th>\n",
       "      <td id=\"T_cda1f_row14_col0\" class=\"data row14 col0 new\" >2</td>\n",
       "      <td id=\"T_cda1f_row14_col1\" class=\"data row14 col1\" ></td>\n",
       "    </tr>\n",
       "    <tr>\n",
       "      <th id=\"T_cda1f_level0_row15\" class=\"row_heading level0 row15\" >Library Construction Method</th>\n",
       "      <td id=\"T_cda1f_row15_col0\" class=\"data row15 col0 new\" >2</td>\n",
       "      <td id=\"T_cda1f_row15_col1\" class=\"data row15 col1\" ></td>\n",
       "    </tr>\n",
       "    <tr>\n",
       "      <th id=\"T_cda1f_level0_row16\" class=\"row_heading level0 row16\" >brain</th>\n",
       "      <td id=\"T_cda1f_row16_col0\" class=\"data row16 col0 new\" >2</td>\n",
       "      <td id=\"T_cda1f_row16_col1\" class=\"data row16 col1\" ></td>\n",
       "    </tr>\n",
       "    <tr>\n",
       "      <th id=\"T_cda1f_level0_row17\" class=\"row_heading level0 row17\" >bul</th>\n",
       "      <td id=\"T_cda1f_row17_col0\" class=\"data row17 col0 new\" >2</td>\n",
       "      <td id=\"T_cda1f_row17_col1\" class=\"data row17 col1\" ></td>\n",
       "    </tr>\n",
       "    <tr>\n",
       "      <th id=\"T_cda1f_level0_row18\" class=\"row_heading level0 row18\" >bulk</th>\n",
       "      <td id=\"T_cda1f_row18_col0\" class=\"data row18 col0 new\" >2</td>\n",
       "      <td id=\"T_cda1f_row18_col1\" class=\"data row18 col1\" ></td>\n",
       "    </tr>\n",
       "    <tr>\n",
       "      <th id=\"T_cda1f_level0_row19\" class=\"row_heading level0 row19\" >none</th>\n",
       "      <td id=\"T_cda1f_row19_col0\" class=\"data row19 col0 new\" >2</td>\n",
       "      <td id=\"T_cda1f_row19_col1\" class=\"data row19 col1\" ></td>\n",
       "    </tr>\n",
       "  </tbody>\n",
       "</table>\n"
      ],
      "text/plain": [
       "<pandas.io.formats.style.Styler at 0x32b619c5e0>"
      ]
     },
     "metadata": {},
     "output_type": "display_data"
    }
   ],
   "source": [
    "ac.show_difference_table(\"Count\", \"Search Text\", \"ga:hits\", [\"ga:eventLabel\", \"ga:eventAction\"], filters=\"ga:eventCategory==Search;ga:eventAction==Enter Text\", **default_params)"
   ]
  },
  {
   "cell_type": "markdown",
   "id": "03dd7c38",
   "metadata": {},
   "source": [
    "### Top selected search results"
   ]
  },
  {
   "cell_type": "code",
   "execution_count": 72,
   "id": "353d5667",
   "metadata": {
    "scrolled": false,
    "tags": [
     "remove-input"
    ]
   },
   "outputs": [
    {
     "data": {
      "text/html": [
       "<style type=\"text/css\">\n",
       "#T_fbe75  {\n",
       "  width: 100%;\n",
       "  table-layout: auto;\n",
       "}\n",
       "#T_fbe75 th.col_heading {\n",
       "  text-align: center;\n",
       "}\n",
       "#T_fbe75 thead > tr:nth-child(2) {\n",
       "  display: none;\n",
       "}\n",
       "#T_fbe75 th.index_name {\n",
       "  text-align: left;\n",
       "}\n",
       "#T_fbe75 th.row_heading {\n",
       "  text-align: left;\n",
       "  white-space: pre-wrap;\n",
       "}\n",
       "#T_fbe75 td.col1 {\n",
       "  text-align: left;\n",
       "  padding-left: 0;\n",
       "}\n",
       "#T_fbe75 .up::before {\n",
       "  content: \"↑\\00a0\";\n",
       "  color: gray;\n",
       "}\n",
       "#T_fbe75 .down::before {\n",
       "  content: \"↓\\00a0\";\n",
       "  color: gray;\n",
       "}\n",
       "#T_fbe75 .new::before {\n",
       "  content: \"+\\00a0\";\n",
       "  color: gray;\n",
       "}\n",
       "</style>\n",
       "<table id=\"T_fbe75\">\n",
       "  <thead>\n",
       "    <tr>\n",
       "      <th class=\"blank level0\" >&nbsp;</th>\n",
       "      <th id=\"T_fbe75_level0_col0\" class=\"col_heading level0 col0\" colspan=\"2\">Count</th>\n",
       "    </tr>\n",
       "    <tr>\n",
       "      <th class=\"blank level1\" >&nbsp;</th>\n",
       "      <th id=\"T_fbe75_level1_col0\" class=\"col_heading level1 col0\" >Value</th>\n",
       "      <th id=\"T_fbe75_level1_col1\" class=\"col_heading level1 col1\" >% Change</th>\n",
       "    </tr>\n",
       "    <tr>\n",
       "      <th class=\"index_name level0\" >Search Result</th>\n",
       "      <th class=\"blank col0\" >&nbsp;</th>\n",
       "      <th class=\"blank col1\" >&nbsp;</th>\n",
       "    </tr>\n",
       "  </thead>\n",
       "  <tbody>\n",
       "    <tr>\n",
       "      <th id=\"T_fbe75_level0_row0\" class=\"row_heading level0 row0\" >/metadata/dictionary/biomaterial/human_specific#ethnicity</th>\n",
       "      <td id=\"T_fbe75_row0_col0\" class=\"data row0 col0 new\" >5</td>\n",
       "      <td id=\"T_fbe75_row0_col1\" class=\"data row0 col1\" ></td>\n",
       "    </tr>\n",
       "    <tr>\n",
       "      <th id=\"T_fbe75_level0_row1\" class=\"row_heading level0 row1\" >/metadata/dictionary/file/file_core#content_description</th>\n",
       "      <td id=\"T_fbe75_row1_col0\" class=\"data row1 col0 new\" >4</td>\n",
       "      <td id=\"T_fbe75_row1_col1\" class=\"data row1 col1\" ></td>\n",
       "    </tr>\n",
       "    <tr>\n",
       "      <th id=\"T_fbe75_level0_row2\" class=\"row_heading level0 row2\" >/metadata/dictionary/protocol/library_preparation_protocol#library_construction_method</th>\n",
       "      <td id=\"T_fbe75_row2_col0\" class=\"data row2 col0 new\" >3</td>\n",
       "      <td id=\"T_fbe75_row2_col1\" class=\"data row2 col1\" ></td>\n",
       "    </tr>\n",
       "    <tr>\n",
       "      <th id=\"T_fbe75_level0_row3\" class=\"row_heading level0 row3\" >/metadata/dictionary/biomaterial/specimen_from_organism</th>\n",
       "      <td id=\"T_fbe75_row3_col0\" class=\"data row3 col0 new\" >2</td>\n",
       "      <td id=\"T_fbe75_row3_col1\" class=\"data row3 col1\" ></td>\n",
       "    </tr>\n",
       "    <tr>\n",
       "      <th id=\"T_fbe75_level0_row4\" class=\"row_heading level0 row4\" >/metadata/dictionary/ontology/library_construction_ontology</th>\n",
       "      <td id=\"T_fbe75_row4_col0\" class=\"data row4 col0 new\" >2</td>\n",
       "      <td id=\"T_fbe75_row4_col1\" class=\"data row4 col1\" ></td>\n",
       "    </tr>\n",
       "    <tr>\n",
       "      <th id=\"T_fbe75_level0_row5\" class=\"row_heading level0 row5\" >/metadata/dictionary/protocol/library_preparation_protocol#nucleic_acid_source</th>\n",
       "      <td id=\"T_fbe75_row5_col0\" class=\"data row5 col0 new\" >2</td>\n",
       "      <td id=\"T_fbe75_row5_col1\" class=\"data row5 col1\" ></td>\n",
       "    </tr>\n",
       "    <tr>\n",
       "      <th id=\"T_fbe75_level0_row6\" class=\"row_heading level0 row6\" >/metadata/dictionary/ontology/ethnicity_ontology</th>\n",
       "      <td id=\"T_fbe75_row6_col0\" class=\"data row6 col0 new\" >2</td>\n",
       "      <td id=\"T_fbe75_row6_col1\" class=\"data row6 col1\" ></td>\n",
       "    </tr>\n",
       "    <tr>\n",
       "      <th id=\"T_fbe75_level0_row7\" class=\"row_heading level0 row7\" >/metadata/dictionary/ontology/cell_type_ontology</th>\n",
       "      <td id=\"T_fbe75_row7_col0\" class=\"data row7 col0 new\" >2</td>\n",
       "      <td id=\"T_fbe75_row7_col1\" class=\"data row7 col1\" ></td>\n",
       "    </tr>\n",
       "    <tr>\n",
       "      <th id=\"T_fbe75_level0_row8\" class=\"row_heading level0 row8\" >/metadata/dictionary/ontology/cell_cycle_ontology</th>\n",
       "      <td id=\"T_fbe75_row8_col0\" class=\"data row8 col0 new\" >2</td>\n",
       "      <td id=\"T_fbe75_row8_col1\" class=\"data row8 col1\" ></td>\n",
       "    </tr>\n",
       "    <tr>\n",
       "      <th id=\"T_fbe75_level0_row9\" class=\"row_heading level0 row9\" >/metadata/dictionary/biomaterial/imaged_specimen</th>\n",
       "      <td id=\"T_fbe75_row9_col0\" class=\"data row9 col0 new\" >2</td>\n",
       "      <td id=\"T_fbe75_row9_col1\" class=\"data row9 col1\" ></td>\n",
       "    </tr>\n",
       "    <tr>\n",
       "      <th id=\"T_fbe75_level0_row10\" class=\"row_heading level0 row10\" >/metadata/dictionary/file/file_core#format</th>\n",
       "      <td id=\"T_fbe75_row10_col0\" class=\"data row10 col0 new\" >2</td>\n",
       "      <td id=\"T_fbe75_row10_col1\" class=\"data row10 col1\" ></td>\n",
       "    </tr>\n",
       "    <tr>\n",
       "      <th id=\"T_fbe75_level0_row11\" class=\"row_heading level0 row11\" >/metadata/dictionary/process/analysis_process#provenance</th>\n",
       "      <td id=\"T_fbe75_row11_col0\" class=\"data row11 col0 new\" >1</td>\n",
       "      <td id=\"T_fbe75_row11_col1\" class=\"data row11 col1\" ></td>\n",
       "    </tr>\n",
       "    <tr>\n",
       "      <th id=\"T_fbe75_level0_row12\" class=\"row_heading level0 row12\" >/metadata/dictionary/process/analysis_process#timestamp_start_utc</th>\n",
       "      <td id=\"T_fbe75_row12_col0\" class=\"data row12 col0 new\" >1</td>\n",
       "      <td id=\"T_fbe75_row12_col1\" class=\"data row12 col1\" ></td>\n",
       "    </tr>\n",
       "    <tr>\n",
       "      <th id=\"T_fbe75_level0_row13\" class=\"row_heading level0 row13\" >/metadata/dictionary/project/contact#project_role</th>\n",
       "      <td id=\"T_fbe75_row13_col0\" class=\"data row13 col0 new\" >1</td>\n",
       "      <td id=\"T_fbe75_row13_col1\" class=\"data row13 col1\" ></td>\n",
       "    </tr>\n",
       "    <tr>\n",
       "      <th id=\"T_fbe75_level0_row14\" class=\"row_heading level0 row14\" >/metadata/dictionary/project/project#contributors</th>\n",
       "      <td id=\"T_fbe75_row14_col0\" class=\"data row14 col0 new\" >1</td>\n",
       "      <td id=\"T_fbe75_row14_col1\" class=\"data row14 col1\" ></td>\n",
       "    </tr>\n",
       "    <tr>\n",
       "      <th id=\"T_fbe75_level0_row15\" class=\"row_heading level0 row15\" >/metadata/dictionary/project/publication#official_hca_publication</th>\n",
       "      <td id=\"T_fbe75_row15_col0\" class=\"data row15 col0 new\" >1</td>\n",
       "      <td id=\"T_fbe75_row15_col1\" class=\"data row15 col1\" ></td>\n",
       "    </tr>\n",
       "    <tr>\n",
       "      <th id=\"T_fbe75_level0_row16\" class=\"row_heading level0 row16\" >/metadata/dictionary/biomaterial/biomaterial_core</th>\n",
       "      <td id=\"T_fbe75_row16_col0\" class=\"data row16 col0 new\" >1</td>\n",
       "      <td id=\"T_fbe75_row16_col1\" class=\"data row16 col1\" ></td>\n",
       "    </tr>\n",
       "    <tr>\n",
       "      <th id=\"T_fbe75_level0_row17\" class=\"row_heading level0 row17\" >/metadata/dictionary/protocol/collection_protocol</th>\n",
       "      <td id=\"T_fbe75_row17_col0\" class=\"data row17 col0 new\" >1</td>\n",
       "      <td id=\"T_fbe75_row17_col1\" class=\"data row17 col1\" ></td>\n",
       "    </tr>\n",
       "    <tr>\n",
       "      <th id=\"T_fbe75_level0_row18\" class=\"row_heading level0 row18\" >/metadata/dictionary/process/analysis_process</th>\n",
       "      <td id=\"T_fbe75_row18_col0\" class=\"data row18 col0 new\" >1</td>\n",
       "      <td id=\"T_fbe75_row18_col1\" class=\"data row18 col1\" ></td>\n",
       "    </tr>\n",
       "    <tr>\n",
       "      <th id=\"T_fbe75_level0_row19\" class=\"row_heading level0 row19\" >/metadata/dictionary/protocol/differentiation_protocol#small_molecules</th>\n",
       "      <td id=\"T_fbe75_row19_col0\" class=\"data row19 col0 new\" >1</td>\n",
       "      <td id=\"T_fbe75_row19_col1\" class=\"data row19 col1\" ></td>\n",
       "    </tr>\n",
       "  </tbody>\n",
       "</table>\n"
      ],
      "text/plain": [
       "<pandas.io.formats.style.Styler at 0x32b5b664f0>"
      ]
     },
     "metadata": {},
     "output_type": "display_data"
    }
   ],
   "source": [
    "ac.show_difference_table(\"Count\", \"Search Result\", \"ga:hits\", [\"ga:eventLabel\", \"ga:eventAction\"], filters=\"ga:eventCategory==Search;ga:eventAction==Click\", **default_params)"
   ]
  },
  {
   "cell_type": "code",
   "execution_count": null,
   "id": "ea0c8498",
   "metadata": {},
   "outputs": [],
   "source": []
  }
 ],
 "metadata": {
  "celltoolbar": "Tags",
  "kernelspec": {
   "display_name": "Python 3 (ipykernel)",
   "language": "python",
   "name": "python3"
  },
  "language_info": {
   "codemirror_mode": {
    "name": "ipython",
    "version": 3
   },
   "file_extension": ".py",
   "mimetype": "text/x-python",
   "name": "python",
   "nbconvert_exporter": "python",
   "pygments_lexer": "ipython3",
   "version": "3.9.7"
  }
 },
 "nbformat": 4,
 "nbformat_minor": 5
}
