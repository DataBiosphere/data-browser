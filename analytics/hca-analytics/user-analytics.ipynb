{
 "cells": [
  {
   "attachments": {},
   "cell_type": "markdown",
   "id": "db60961c",
   "metadata": {},
   "source": [
    "```{image} hca-logo.png\n",
    ":width: 200px\n",
    ":class: analytics-logo\n",
    "```\n",
    "\n",
    "# HCA DCP User Analytics - December vs November 2023\n",
    "\n",
    "This section displays metrics collected from Google Analytics HCA DCP Data Portal and Data Browser and compares December 2023 with the previous month (November 2023). The generation of this report is now coded in Jupiter notebooks and can be rerun easily and modified or consolidated as desired. \n",
    "\n",
    "\n",
    "### Key to tables\n",
    "\n",
    "On the tables:\n",
    "\n",
    "* Diffs, e.g. <span style=\"color: green\">(+19.04%)</span> or <span style=\"color: red\">(-12.03%)</span>, compare the later month with the previous month.\n",
    "* \"+\" Indicates the entry is new in the report in the current month.\n",
    "* \"↑\" Indicates the entry has moved up in rank since the last month.\n",
    "* \"↓\" Indicates the entry has moved down in rank since the last month.\n",
    "\n"
   ]
  },
  {
   "cell_type": "code",
   "execution_count": 19,
   "id": "d76d1ebb",
   "metadata": {
    "tags": [
     "remove-cell"
    ]
   },
   "outputs": [],
   "source": [
    "import warnings\n",
    "warnings.filterwarnings('ignore')"
   ]
  },
  {
   "cell_type": "code",
   "execution_count": 6,
   "id": "brave-victor",
   "metadata": {
    "scrolled": false,
    "tags": [
     "remove-cell"
    ]
   },
   "outputs": [
    {
     "name": "stdout",
     "output_type": "stream",
     "text": [
      "The autoreload extension is already loaded. To reload it, use:\n",
      "  %reload_ext autoreload\n"
     ]
    }
   ],
   "source": [
    "from google_auth_oauthlib.flow import InstalledAppFlow\n",
    "from googleapiclient.discovery import build\n",
    "from IPython.display import display\n",
    "import os\n",
    "import pprint\n",
    "# import pandas as pd\n",
    "# import matplotlib.pyplot as plt\n",
    "# import numpy as np\n",
    "\n",
    "%load_ext autoreload\n",
    "%autoreload 2\n",
    "\n",
    "import analytics.charts as ac\n",
    "import analytics_hca as hca\n",
    "\n",
    "GA_PROPERTY = \"361323030\" # data.humancellatlas.org - GA4\n",
    "# DCP_ANALYTICS_START = \"2019-03-01\"\n",
    "DCP_ANALYTICS_START = \"2021-01-01\"\n",
    "TODAY = 'today'\n",
    "PERIOD = \"2023-12\"\n",
    "PREV_PERIOD = \"2023-11\"\n",
    "SECRET_NAME = 'ANALYTICS_REPORTING_CLIENT_SECRET_PATH'\n",
    "\n",
    "GA3_END = \"2023-06-30\"\n",
    "GA4_START = \"2023-07-01\"\n"
   ]
  },
  {
   "cell_type": "code",
   "execution_count": 7,
   "id": "f4ede9ed",
   "metadata": {
    "tags": [
     "remove-cell"
    ]
   },
   "outputs": [
    {
     "name": "stdout",
     "output_type": "stream",
     "text": [
      "Please visit this URL to authorize this application: https://accounts.google.com/o/oauth2/auth?response_type=code&client_id=713613812354-ccedl8colb27q3q6rvvvjqrpb5tcbuug.apps.googleusercontent.com&redirect_uri=http%3A%2F%2Flocalhost%3A8083%2F&scope=https%3A%2F%2Fwww.googleapis.com%2Fauth%2Fanalytics.readonly&state=wGAbiTRtNDrpv363FtBjrSPE5iL7V5&access_type=offline\n"
     ]
    }
   ],
   "source": [
    "default_params = {\n",
    "    \"service_system\": ac.authenticate_ga4(SECRET_NAME),\n",
    "    \"property\": GA_PROPERTY,\n",
    "    \"index_key_formatter\": hca.adjust_table_index_key,\n",
    "    \"period\": PERIOD,\n",
    "    \"prev_period\": PREV_PERIOD\n",
    "}"
   ]
  },
  {
   "cell_type": "code",
   "execution_count": 22,
   "id": "09374ca5",
   "metadata": {
    "tags": [
     "remove-input"
    ]
   },
   "outputs": [
    {
     "data": {
      "text/html": [
       "\n",
       "\t\t<style>\n",
       "\t\t\t\n",
       "\t\t\t.analyticsTable {\n",
       "\t\t\t\tdisplay: grid;\n",
       "\t\t\t\t--symbol-width: 1.5em;\n",
       "\t\t\t\t--value-width: 2.9em;\n",
       "\t\t\t\t--percentage-width: 6.8em;\n",
       "\t\t\t}\n",
       "\t\t\t\n",
       "\t\t\t/*\n",
       "\t\t\t.anaEven {\n",
       "\t\t\t\tbackground: #f5f5f5;\n",
       "\t\t\t}\n",
       "\t\t\t*/\n",
       "\t\t\t\n",
       "\t\t\t.anaIndex:not(.anaColName) {\n",
       "\t\t\t\twhite-space: pre-wrap;\n",
       "\t\t\t\tline-break: anywhere;\n",
       "\t\t\t\tword-break: break-all;\n",
       "\t\t\t}\n",
       "\t\t\t\n",
       "\t\t\t.anaColName {\n",
       "\t\t\t\tfont-weight: bold;\n",
       "\t\t\t\tborder-bottom: 1px solid black;\n",
       "\t\t\t}\n",
       "\t\t\t\n",
       "\t\t\t.anaIndex, .anaColName, .anaCell {\n",
       "\t\t\t\tpadding: 0.3em;\n",
       "\t\t\t}\n",
       "\t\t\t\n",
       "\t\t\t.anaSubcolLeft, .anaIndex {\n",
       "\t\t\t\tpadding-left: 1em;\n",
       "\t\t\t}\n",
       "\t\t\t\n",
       "\t\t\t.anaSubcolRight {\n",
       "\t\t\t\tpadding-right: 1em;\n",
       "\t\t\t}\n",
       "\t\t\t\n",
       "\t\t\t.anaColName:not(.anaIndex) {\n",
       "\t\t\t\ttext-align: right;\n",
       "\t\t\t}\n",
       "\n",
       "\t\t\t.anaColName.anaMultiCol {\n",
       "\t\t\t\ttext-align: center;\n",
       "\t\t\t}\n",
       "\t\t\t\n",
       "\t\t\t.anaCell:not(.anaIndex) {\n",
       "\t\t\t\ttext-align: right;\n",
       "\t\t\t}\n",
       "\t\t\t\n",
       "\t\t\t.analyticsTable .up::before {\n",
       "\t\t\t\tcontent: \"↑\";\n",
       "\t\t\t\tcolor: gray;\n",
       "\t\t\t}\n",
       "\t\t\t\n",
       "\t\t\t.analyticsTable .down::before {\n",
       "\t\t\t\tcontent: \"↓\";\n",
       "\t\t\t\tcolor: gray;\n",
       "\t\t\t}\n",
       "\t\t\t\n",
       "\t\t\t.analyticsTable .new::before {\n",
       "\t\t\t\tcontent: \"+\";\n",
       "\t\t\t\tcolor: gray;\n",
       "\t\t\t}\n",
       "\t\t\t\n",
       "\t\t\t.anaPositive {\n",
       "\t\t\t\tcolor: green;\n",
       "\t\t\t}\n",
       "\t\t\t\n",
       "\t\t\t.anaNegative {\n",
       "\t\t\t\tcolor: red;\n",
       "\t\t\t}\n",
       "\t\t\t\n",
       "\t\t</style>\n",
       "\t"
      ],
      "text/plain": [
       "<IPython.core.display.HTML object>"
      ]
     },
     "metadata": {},
     "output_type": "display_data"
    }
   ],
   "source": [
    "ac.init_tables()"
   ]
  },
  {
   "cell_type": "code",
   "execution_count": 23,
   "id": "d81273a4",
   "metadata": {
    "tags": [
     "remove-cell"
    ]
   },
   "outputs": [],
   "source": [
    "# ga3_service_system = ac.authenticate_ga(SECRET_NAME)"
   ]
  },
  {
   "cell_type": "code",
   "execution_count": 24,
   "id": "290b5404",
   "metadata": {
    "tags": [
     "remove-cell"
    ]
   },
   "outputs": [],
   "source": [
    "# ga3_users_over_time_params = {\n",
    "#     \"start_date\": DCP_ANALYTICS_START,\n",
    "#     \"end_date\": GA3_END,\n",
    "#     \"service_system\": ga3_service_system,\n",
    "#     \"property\": \"185740629\",\n",
    "#     \"segment\": \"gaid::q-RjXBSdQ-i18vXOOoXl5g\"\n",
    "# }\n",
    "# \n",
    "# hca.save_ga3_users_over_time_data({}, {}, **ga3_users_over_time_params)"
   ]
  },
  {
   "cell_type": "markdown",
   "id": "ba6bbb95",
   "metadata": {},
   "source": [
    "## User acquisition"
   ]
  },
  {
   "cell_type": "markdown",
   "id": "6b65b072",
   "metadata": {},
   "source": [
    "### Monthly users and pageviews (all time)"
   ]
  },
  {
   "cell_type": "code",
   "execution_count": 25,
   "id": "c767ea49",
   "metadata": {
    "scrolled": false,
    "tags": [
     "remove-input"
    ]
   },
   "outputs": [
    {
     "data": {
      "image/png": "[encoded data removed]",
      "text/plain": [
       "<Figure size 1600x900 with 1 Axes>"
      ]
     },
     "metadata": {},
     "output_type": "display_data"
    }
   ],
   "source": [
    "users_over_time_table = hca.plot_users_over_time(start_date=GA4_START, end_date=TODAY, **default_params)"
   ]
  },
  {
   "cell_type": "markdown",
   "id": "a871ba73",
   "metadata": {},
   "source": [
    "<div style=\"page-break-after: always\"></div>"
   ]
  },
  {
   "cell_type": "markdown",
   "id": "1c2b00a6",
   "metadata": {},
   "source": [
    "### Total unique users and unique pageviews by month (all time)"
   ]
  },
  {
   "cell_type": "code",
   "execution_count": 26,
   "id": "eb64c71d",
   "metadata": {
    "scrolled": false,
    "tags": [
     "remove-input"
    ]
   },
   "outputs": [
    {
     "data": {
      "text/html": [
       "<div class=\"analyticsTable\" style=\"grid-template-columns: repeat(1, auto) 1fr minmax(var(--value-width), min-content) minmax(var(--percentage-width), min-content) minmax(var(--value-width), min-content) minmax(var(--percentage-width), min-content)\"><div class=\"anaIndex anaColName\">Year</div><div class=\"anaIndex anaColName\">Month</div><div class=\"anaColName anaMultiCol\" style=\"grid-column: span 2\">Users</div><div class=\"anaColName anaMultiCol\" style=\"grid-column: span 2\">Total Pageviews</div><div class=\"anaIndex anaEven\" style=\"grid-row: span 7\">2023</div><div class=\"anaIndex anaEven\" style=\"grid-row: span 1\">July</div><div class=\"anaCell anaEven anaSubcolLeft\">7088</div><div class=\"anaCell anaEven anaSubcolRight\"><div class=\"anaNegative\">(-8.87%)</div></div><div class=\"anaCell anaEven anaSubcolLeft\">60969</div><div class=\"anaCell anaEven anaSubcolRight\"><div class=\"anaPositive\">(+38.11%)</div></div><div class=\"anaIndex anaOdd\" style=\"grid-row: span 1\">June</div><div class=\"anaCell anaOdd anaSubcolLeft\">7778</div><div class=\"anaCell anaOdd anaSubcolRight\"><div class=\"anaPositive\">(+5.34%)</div></div><div class=\"anaCell anaOdd anaSubcolLeft\">44146</div><div class=\"anaCell anaOdd anaSubcolRight\"><div class=\"anaNegative\">(-9.50%)</div></div><div class=\"anaIndex anaEven\" style=\"grid-row: span 1\">May</div><div class=\"anaCell anaEven anaSubcolLeft\">7384</div><div class=\"anaCell anaEven anaSubcolRight\"><div class=\"anaPositive\">(+14.18%)</div></div><div class=\"anaCell anaEven anaSubcolLeft\">48780</div><div class=\"anaCell anaEven anaSubcolRight\"><div class=\"anaPositive\">(+23.50%)</div></div><div class=\"anaIndex anaOdd\" style=\"grid-row: span 1\">April</div><div class=\"anaCell anaOdd anaSubcolLeft\">6467</div><div class=\"anaCell anaOdd anaSubcolRight\"><div class=\"anaNegative\">(-1.63%)</div></div><div class=\"anaCell anaOdd anaSubcolLeft\">39497</div><div class=\"anaCell anaOdd anaSubcolRight\"><div class=\"anaPositive\">(+1.89%)</div></div><div class=\"anaIndex anaEven\" style=\"grid-row: span 1\">March</div><div class=\"anaCell anaEven anaSubcolLeft\">6574</div><div class=\"anaCell anaEven anaSubcolRight\"><div class=\"anaPositive\">(+12.28%)</div></div><div class=\"anaCell anaEven anaSubcolLeft\">38763</div><div class=\"anaCell anaEven anaSubcolRight\"><div class=\"anaPositive\">(+25.85%)</div></div><div class=\"anaIndex anaOdd\" style=\"grid-row: span 1\">February</div><div class=\"anaCell anaOdd anaSubcolLeft\">5855</div><div class=\"anaCell anaOdd anaSubcolRight\"><div class=\"anaPositive\">(+30.98%)</div></div><div class=\"anaCell anaOdd anaSubcolLeft\">30800</div><div class=\"anaCell anaOdd anaSubcolRight\"><div class=\"anaPositive\">(+19.40%)</div></div><div class=\"anaIndex anaEven\" style=\"grid-row: span 1\">January</div><div class=\"anaCell anaEven anaSubcolLeft\">4470</div><div class=\"anaCell anaEven anaSubcolRight\"><div class=\"anaNegative\">(-4.57%)</div></div><div class=\"anaCell anaEven anaSubcolLeft\">25796</div><div class=\"anaCell anaEven anaSubcolRight\"><div class=\"anaNegative\">(-1.06%)</div></div><div class=\"anaIndex anaOdd\" style=\"grid-row: span 12\">2022</div><div class=\"anaIndex anaOdd\" style=\"grid-row: span 1\">December</div><div class=\"anaCell anaOdd anaSubcolLeft\">4684</div><div class=\"anaCell anaOdd anaSubcolRight\"><div class=\"anaNegative\">(-5.66%)</div></div><div class=\"anaCell anaOdd anaSubcolLeft\">26073</div><div class=\"anaCell anaOdd anaSubcolRight\"><div class=\"anaNegative\">(-9.87%)</div></div><div class=\"anaIndex anaEven\" style=\"grid-row: span 1\">November</div><div class=\"anaCell anaEven anaSubcolLeft\">4965</div><div class=\"anaCell anaEven anaSubcolRight\"><div class=\"anaPositive\">(+1.51%)</div></div><div class=\"anaCell anaEven anaSubcolLeft\">28929</div><div class=\"anaCell anaEven anaSubcolRight\"><div class=\"anaNegative\">(-0.36%)</div></div><div class=\"anaIndex anaOdd\" style=\"grid-row: span 1\">October</div><div class=\"anaCell anaOdd anaSubcolLeft\">4891</div><div class=\"anaCell anaOdd anaSubcolRight\"><div class=\"anaPositive\">(+2.62%)</div></div><div class=\"anaCell anaOdd anaSubcolLeft\">29034</div><div class=\"anaCell anaOdd anaSubcolRight\"><div class=\"anaPositive\">(+1.13%)</div></div><div class=\"anaIndex anaEven\" style=\"grid-row: span 1\">September</div><div class=\"anaCell anaEven anaSubcolLeft\">4766</div><div class=\"anaCell anaEven anaSubcolRight\"><div class=\"anaPositive\">(+10.73%)</div></div><div class=\"anaCell anaEven anaSubcolLeft\">28711</div><div class=\"anaCell anaEven anaSubcolRight\"><div class=\"anaPositive\">(+3.50%)</div></div><div class=\"anaIndex anaOdd\" style=\"grid-row: span 1\">August</div><div class=\"anaCell anaOdd anaSubcolLeft\">4304</div><div class=\"anaCell anaOdd anaSubcolRight\"><div class=\"anaPositive\">(+4.67%)</div></div><div class=\"anaCell anaOdd anaSubcolLeft\">27741</div><div class=\"anaCell anaOdd anaSubcolRight\"><div class=\"anaNegative\">(-6.38%)</div></div><div class=\"anaIndex anaEven\" style=\"grid-row: span 1\">July</div><div class=\"anaCell anaEven anaSubcolLeft\">4112</div><div class=\"anaCell anaEven anaSubcolRight\"><div class=\"anaNegative\">(-1.67%)</div></div><div class=\"anaCell anaEven anaSubcolLeft\">29631</div><div class=\"anaCell anaEven anaSubcolRight\"><div class=\"anaNegative\">(-4.08%)</div></div><div class=\"anaIndex anaOdd\" style=\"grid-row: span 1\">June</div><div class=\"anaCell anaOdd anaSubcolLeft\">4182</div><div class=\"anaCell anaOdd anaSubcolRight\"><div class=\"anaNegative\">(-15.69%)</div></div><div class=\"anaCell anaOdd anaSubcolLeft\">30890</div><div class=\"anaCell anaOdd anaSubcolRight\"><div class=\"anaNegative\">(-7.12%)</div></div><div class=\"anaIndex anaEven\" style=\"grid-row: span 1\">May</div><div class=\"anaCell anaEven anaSubcolLeft\">4960</div><div class=\"anaCell anaEven anaSubcolRight\"><div class=\"anaPositive\">(+27.21%)</div></div><div class=\"anaCell anaEven anaSubcolLeft\">33258</div><div class=\"anaCell anaEven anaSubcolRight\"><div class=\"anaPositive\">(+13.16%)</div></div><div class=\"anaIndex anaOdd\" style=\"grid-row: span 1\">April</div><div class=\"anaCell anaOdd anaSubcolLeft\">3899</div><div class=\"anaCell anaOdd anaSubcolRight\"><div class=\"anaPositive\">(+14.27%)</div></div><div class=\"anaCell anaOdd anaSubcolLeft\">29391</div><div class=\"anaCell anaOdd anaSubcolRight\"><div class=\"anaPositive\">(+8.40%)</div></div><div class=\"anaIndex anaEven\" style=\"grid-row: span 1\">March</div><div class=\"anaCell anaEven anaSubcolLeft\">3412</div><div class=\"anaCell anaEven anaSubcolRight\"><div class=\"anaPositive\">(+9.92%)</div></div><div class=\"anaCell anaEven anaSubcolLeft\">27114</div><div class=\"anaCell anaEven anaSubcolRight\"><div class=\"anaPositive\">(+22.05%)</div></div><div class=\"anaIndex anaOdd\" style=\"grid-row: span 1\">February</div><div class=\"anaCell anaOdd anaSubcolLeft\">3104</div><div class=\"anaCell anaOdd anaSubcolRight\"><div class=\"anaPositive\">(+9.45%)</div></div><div class=\"anaCell anaOdd anaSubcolLeft\">22216</div><div class=\"anaCell anaOdd anaSubcolRight\"><div class=\"anaNegative\">(-1.05%)</div></div><div class=\"anaIndex anaEven\" style=\"grid-row: span 1\">January</div><div class=\"anaCell anaEven anaSubcolLeft\">2836</div><div class=\"anaCell anaEven anaSubcolRight\"><div class=\"anaPositive\">(+18.46%)</div></div><div class=\"anaCell anaEven anaSubcolLeft\">22452</div><div class=\"anaCell anaEven anaSubcolRight\"><div class=\"anaPositive\">(+13.07%)</div></div><div class=\"anaIndex anaOdd\" style=\"grid-row: span 12\">2021</div><div class=\"anaIndex anaOdd\" style=\"grid-row: span 1\">December</div><div class=\"anaCell anaOdd anaSubcolLeft\">2394</div><div class=\"anaCell anaOdd anaSubcolRight\"><div class=\"anaNegative\">(-18.52%)</div></div><div class=\"anaCell anaOdd anaSubcolLeft\">19856</div><div class=\"anaCell anaOdd anaSubcolRight\"><div class=\"anaNegative\">(-18.65%)</div></div><div class=\"anaIndex anaEven\" style=\"grid-row: span 1\">November</div><div class=\"anaCell anaEven anaSubcolLeft\">2938</div><div class=\"anaCell anaEven anaSubcolRight\"><div class=\"anaPositive\">(+13.70%)</div></div><div class=\"anaCell anaEven anaSubcolLeft\">24409</div><div class=\"anaCell anaEven anaSubcolRight\"><div class=\"anaPositive\">(+6.30%)</div></div><div class=\"anaIndex anaOdd\" style=\"grid-row: span 1\">October</div><div class=\"anaCell anaOdd anaSubcolLeft\">2584</div><div class=\"anaCell anaOdd anaSubcolRight\"><div class=\"anaPositive\">(+7.44%)</div></div><div class=\"anaCell anaOdd anaSubcolLeft\">22963</div><div class=\"anaCell anaOdd anaSubcolRight\"><div class=\"anaPositive\">(+12.43%)</div></div><div class=\"anaIndex anaEven\" style=\"grid-row: span 1\">September</div><div class=\"anaCell anaEven anaSubcolLeft\">2405</div><div class=\"anaCell anaEven anaSubcolRight\"><div class=\"anaNegative\">(-3.65%)</div></div><div class=\"anaCell anaEven anaSubcolLeft\">20424</div><div class=\"anaCell anaEven anaSubcolRight\"><div class=\"anaNegative\">(-5.88%)</div></div><div class=\"anaIndex anaOdd\" style=\"grid-row: span 1\">August</div><div class=\"anaCell anaOdd anaSubcolLeft\">2496</div><div class=\"anaCell anaOdd anaSubcolRight\"><div class=\"anaNegative\">(-15.50%)</div></div><div class=\"anaCell anaOdd anaSubcolLeft\">21700</div><div class=\"anaCell anaOdd anaSubcolRight\"><div class=\"anaNegative\">(-15.11%)</div></div><div class=\"anaIndex anaEven\" style=\"grid-row: span 1\">July</div><div class=\"anaCell anaEven anaSubcolLeft\">2954</div><div class=\"anaCell anaEven anaSubcolRight\"><div class=\"anaPositive\">(+56.21%)</div></div><div class=\"anaCell anaEven anaSubcolLeft\">25562</div><div class=\"anaCell anaEven anaSubcolRight\"><div class=\"anaPositive\">(+53.22%)</div></div><div class=\"anaIndex anaOdd\" style=\"grid-row: span 1\">June</div><div class=\"anaCell anaOdd anaSubcolLeft\">1891</div><div class=\"anaCell anaOdd anaSubcolRight\"></div><div class=\"anaCell anaOdd anaSubcolLeft\">16683</div><div class=\"anaCell anaOdd anaSubcolRight\"></div><div class=\"anaIndex anaEven\" style=\"grid-row: span 1\">May</div><div class=\"anaCell anaEven anaSubcolLeft\">0</div><div class=\"anaCell anaEven anaSubcolRight\"></div><div class=\"anaCell anaEven anaSubcolLeft\">0</div><div class=\"anaCell anaEven anaSubcolRight\"></div><div class=\"anaIndex anaOdd\" style=\"grid-row: span 1\">April</div><div class=\"anaCell anaOdd anaSubcolLeft\">0</div><div class=\"anaCell anaOdd anaSubcolRight\"></div><div class=\"anaCell anaOdd anaSubcolLeft\">0</div><div class=\"anaCell anaOdd anaSubcolRight\"></div><div class=\"anaIndex anaEven\" style=\"grid-row: span 1\">March</div><div class=\"anaCell anaEven anaSubcolLeft\">0</div><div class=\"anaCell anaEven anaSubcolRight\"></div><div class=\"anaCell anaEven anaSubcolLeft\">0</div><div class=\"anaCell anaEven anaSubcolRight\"></div><div class=\"anaIndex anaOdd\" style=\"grid-row: span 1\">February</div><div class=\"anaCell anaOdd anaSubcolLeft\">0</div><div class=\"anaCell anaOdd anaSubcolRight\"></div><div class=\"anaCell anaOdd anaSubcolLeft\">0</div><div class=\"anaCell anaOdd anaSubcolRight\"></div><div class=\"anaIndex anaEven\" style=\"grid-row: span 1\">January</div><div class=\"anaCell anaEven anaSubcolLeft\">0</div><div class=\"anaCell anaEven anaSubcolRight\"></div><div class=\"anaCell anaEven anaSubcolLeft\">0</div><div class=\"anaCell anaEven anaSubcolRight\"></div></div>"
      ],
      "text/plain": [
       "<IPython.core.display.HTML object>"
      ]
     },
     "metadata": {},
     "output_type": "display_data"
    }
   ],
   "source": [
    "display(users_over_time_table)"
   ]
  },
  {
   "cell_type": "markdown",
   "id": "61f5e5b6",
   "metadata": {},
   "source": [
    "<div style=\"page-break-after: always\"></div>"
   ]
  },
  {
   "cell_type": "markdown",
   "id": "2e6ebc29",
   "metadata": {},
   "source": [
    "### Users and sessions\n",
    "Users are distinguished based on a tracking cookie set by Google. Because cookies may not remain present over time or between devices, it's likely that total users are overcounted and returning users are undercounted."
   ]
  },
  {
   "cell_type": "code",
   "execution_count": 27,
   "id": "92a2cb6c",
   "metadata": {
    "scrolled": true,
    "tags": [
     "remove-input"
    ]
   },
   "outputs": [
    {
     "data": {
      "text/html": [
       "<div class=\"analyticsTable\" style=\"grid-template-columns: 1fr var(--symbol-width) minmax(var(--value-width), min-content) minmax(var(--percentage-width), min-content)\"><div class=\"anaIndex anaEven\">Total Users</div><div class=\"anaCell anaEven anaSubcolLeft\"></div><div class=\"anaCell anaEven\">7217</div><div class=\"anaCell anaEven anaSubcolRight\"><div class=\"anaPositive\">(+7.89%)</div></div></div>"
      ],
      "text/plain": [
       "<IPython.core.display.HTML object>"
      ]
     },
     "metadata": {},
     "output_type": "display_data"
    }
   ],
   "source": [
    "ac.show_difference_table(\"Total Users\", None, \"totalUsers\", None, **default_params)"
   ]
  },
  {
   "cell_type": "code",
   "execution_count": 28,
   "id": "e3edce81",
   "metadata": {
    "scrolled": false,
    "tags": [
     "remove-input"
    ]
   },
   "outputs": [
    {
     "data": {
      "text/html": [
       "<div class=\"analyticsTable\" style=\"grid-template-columns: 1fr var(--symbol-width) minmax(var(--value-width), min-content) minmax(var(--percentage-width), min-content)\"><div class=\"anaIndex anaEven\">Returning Users</div><div class=\"anaCell anaEven anaSubcolLeft\"></div><div class=\"anaCell anaEven\">2415</div><div class=\"anaCell anaEven anaSubcolRight\"><div class=\"anaPositive\">(+16.89%)</div></div></div>"
      ],
      "text/plain": [
       "<IPython.core.display.HTML object>"
      ]
     },
     "metadata": {},
     "output_type": "display_data"
    }
   ],
   "source": [
    "ac.show_difference_table(\"Returning Users\", None, \"totalUsers\", None, dimension_filter=\"newVsReturning==returning\", **default_params)"
   ]
  },
  {
   "cell_type": "code",
   "execution_count": 29,
   "id": "c103a682",
   "metadata": {
    "tags": [
     "remove-input"
    ]
   },
   "outputs": [
    {
     "data": {
      "text/html": [
       "<div class=\"analyticsTable\" style=\"grid-template-columns: 1fr var(--symbol-width) minmax(var(--value-width), min-content) minmax(var(--percentage-width), min-content)\"><div class=\"anaIndex anaEven\">Total Visits</div><div class=\"anaCell anaEven anaSubcolLeft\"></div><div class=\"anaCell anaEven\">12774</div><div class=\"anaCell anaEven anaSubcolRight\"><div class=\"anaPositive\">(+14.69%)</div></div></div>"
      ],
      "text/plain": [
       "<IPython.core.display.HTML object>"
      ]
     },
     "metadata": {},
     "output_type": "display_data"
    }
   ],
   "source": [
    "ac.show_difference_table(\"Total Visits\", None, \"sessions\", None, **default_params)"
   ]
  },
  {
   "cell_type": "code",
   "execution_count": 9,
   "id": "95ba261f",
   "metadata": {
    "scrolled": false,
    "tags": [
     "remove-input"
    ]
   },
   "outputs": [
    {
     "data": {
      "text/html": [
       "<div class=\"analyticsTable\" style=\"grid-template-columns: 1fr var(--symbol-width) minmax(var(--value-width), min-content) minmax(var(--percentage-width), min-content)\"><div class=\"anaIndex anaEven\">Sessions Including Visits to Data Portal</div><div class=\"anaCell anaEven anaSubcolLeft\"></div><div class=\"anaCell anaEven\">6569</div><div class=\"anaCell anaEven anaSubcolRight\"><div class=\"anaPositive\">(+7.41%)</div></div></div>"
      ],
      "text/plain": [
       "<IPython.core.display.HTML object>"
      ]
     },
     "metadata": {},
     "output_type": "display_data"
    }
   ],
   "source": [
    "ac.show_difference_table(\"Sessions Including Visits to Data Portal\", None, \"sessions\", None, dimension_filter=\"pagePath!~/explore\", **default_params)"
   ]
  },
  {
   "cell_type": "code",
   "execution_count": 10,
   "id": "af69fbbe",
   "metadata": {
    "scrolled": false,
    "tags": [
     "remove-input"
    ]
   },
   "outputs": [
    {
     "data": {
      "text/html": [
       "<div class=\"analyticsTable\" style=\"grid-template-columns: 1fr var(--symbol-width) minmax(var(--value-width), min-content) minmax(var(--percentage-width), min-content)\"><div class=\"anaIndex anaEven\">Sessions Including Visits to Data Browser</div><div class=\"anaCell anaEven anaSubcolLeft\"></div><div class=\"anaCell anaEven\">9903</div><div class=\"anaCell anaEven anaSubcolRight\"><div class=\"anaPositive\">(+18.77%)</div></div></div>"
      ],
      "text/plain": [
       "<IPython.core.display.HTML object>"
      ]
     },
     "metadata": {},
     "output_type": "display_data"
    }
   ],
   "source": [
    "ac.show_difference_table(\"Sessions Including Visits to Data Browser\", None, \"sessions\", None, dimension_filter=\"pagePath=~/explore\", **default_params)"
   ]
  },
  {
   "cell_type": "markdown",
   "id": "8cbf3582",
   "metadata": {},
   "source": [
    "### Device category"
   ]
  },
  {
   "cell_type": "code",
   "execution_count": 32,
   "id": "4f8f59ad",
   "metadata": {
    "tags": [
     "remove-input"
    ]
   },
   "outputs": [
    {
     "data": {
      "text/html": [
       "<div class=\"analyticsTable\" style=\"grid-template-columns: 1fr var(--symbol-width) minmax(var(--value-width), min-content) minmax(var(--percentage-width), min-content) minmax(var(--value-width), min-content) minmax(var(--percentage-width), min-content)\"><div class=\"anaIndex anaColName\">Category</div><div class=\"anaColName anaMultiCol\" style=\"grid-column: span 3\">Users</div><div class=\"anaColName anaMultiCol\" style=\"grid-column: span 2\">Percentage of users</div><div class=\"anaIndex anaEven\">desktop</div><div class=\"anaCell anaEven anaSubcolLeft\"></div><div class=\"anaCell anaEven\">6536</div><div class=\"anaCell anaEven anaSubcolRight\"><div class=\"anaPositive\">(+5.10%)</div></div><div class=\"anaCell anaEven anaSubcolLeft\">89.50</div><div class=\"anaCell anaEven anaSubcolRight\"><div class=\"anaNegative\">(-3.44%)</div></div><div class=\"anaIndex anaOdd\">mobile</div><div class=\"anaCell anaOdd anaSubcolLeft\"></div><div class=\"anaCell anaOdd\">735</div><div class=\"anaCell anaOdd anaSubcolRight\"><div class=\"anaPositive\">(+56.05%)</div></div><div class=\"anaCell anaOdd anaSubcolLeft\">10.06</div><div class=\"anaCell anaOdd anaSubcolRight\"><div class=\"anaPositive\">(+43.38%)</div></div><div class=\"anaIndex anaEven\">tablet</div><div class=\"anaCell anaEven anaSubcolLeft\"></div><div class=\"anaCell anaEven\">32</div><div class=\"anaCell anaEven anaSubcolRight\"><div class=\"anaPositive\">(+60.00%)</div></div><div class=\"anaCell anaEven anaSubcolLeft\">0.44</div><div class=\"anaCell anaEven anaSubcolRight\"><div class=\"anaPositive\">(+47.01%)</div></div></div>"
      ],
      "text/plain": [
       "<IPython.core.display.HTML object>"
      ]
     },
     "metadata": {},
     "output_type": "display_data"
    }
   ],
   "source": [
    "ac.show_difference_table([\"Users\", \"Percentage of users\"], \"Category\", \"totalUsers\", \"deviceCategory\", percentage_metrics={\"totalUsers\"}, **default_params)"
   ]
  },
  {
   "cell_type": "markdown",
   "id": "67b2e080",
   "metadata": {},
   "source": [
    "### Social network referrers"
   ]
  },
  {
   "cell_type": "code",
   "execution_count": 33,
   "id": "49c016fd",
   "metadata": {
    "tags": [
     "remove-input"
    ]
   },
   "outputs": [
    {
     "data": {
      "text/html": [
       "<div class=\"analyticsTable\" style=\"grid-template-columns: 1fr var(--symbol-width) minmax(var(--value-width), min-content) minmax(var(--percentage-width), min-content)\"><div class=\"anaIndex anaColName\">Social Network</div><div class=\"anaColName anaMultiCol\" style=\"grid-column: span 3\">User Sessions</div><div class=\"anaIndex anaEven\">LinkedIn</div><div class=\"anaCell anaEven anaSubcolLeft\"><div class=\"up\"></div></div><div class=\"anaCell anaEven\">6</div><div class=\"anaCell anaEven anaSubcolRight\"><div class=\"anaPositive\">(+100.00%)</div></div><div class=\"anaIndex anaOdd\">m.facebook.com</div><div class=\"anaCell anaOdd anaSubcolLeft\"><div class=\"up\"></div></div><div class=\"anaCell anaOdd\">2</div><div class=\"anaCell anaOdd anaSubcolRight\"><div class=\"anaPositive\">(+100.00%)</div></div><div class=\"anaIndex anaEven\">reddit.com</div><div class=\"anaCell anaEven anaSubcolLeft\"><div class=\"up\"></div></div><div class=\"anaCell anaEven\">2</div><div class=\"anaCell anaEven anaSubcolRight\"><div class=\"anaPositive\">(+100.00%)</div></div><div class=\"anaIndex anaOdd\">l.facebook.com</div><div class=\"anaCell anaOdd anaSubcolLeft\"><div class=\"new\"></div></div><div class=\"anaCell anaOdd\">1</div><div class=\"anaCell anaOdd anaSubcolRight\"></div></div>"
      ],
      "text/plain": [
       "<IPython.core.display.HTML object>"
      ]
     },
     "metadata": {},
     "output_type": "display_data"
    }
   ],
   "source": [
    "ac.show_difference_table(\"User Sessions\", \"Social Network\", \"sessions\", \"sessionSource\", dimension_filter=\"sessionDefaultChannelGroup=@Social\", **default_params)"
   ]
  },
  {
   "cell_type": "markdown",
   "id": "a1a7aec7",
   "metadata": {},
   "source": [
    "<div style=\"page-break-after: always\"></div>"
   ]
  },
  {
   "cell_type": "markdown",
   "id": "930de3ed",
   "metadata": {},
   "source": [
    "### Top referrers"
   ]
  },
  {
   "cell_type": "code",
   "execution_count": 34,
   "id": "744c6670",
   "metadata": {
    "scrolled": true,
    "tags": [
     "remove-input"
    ]
   },
   "outputs": [
    {
     "data": {
      "text/html": [
       "<div class=\"analyticsTable\" style=\"grid-template-columns: 1fr var(--symbol-width) minmax(var(--value-width), min-content) minmax(var(--percentage-width), min-content)\"><div class=\"anaIndex anaColName\">Referrer</div><div class=\"anaColName anaMultiCol\" style=\"grid-column: span 3\">Users</div><div class=\"anaIndex anaEven\">(direct)</div><div class=\"anaCell anaEven anaSubcolLeft\"></div><div class=\"anaCell anaEven\">3239</div><div class=\"anaCell anaEven anaSubcolRight\"><div class=\"anaPositive\">(+15.93%)</div></div><div class=\"anaIndex anaOdd\">google</div><div class=\"anaCell anaOdd anaSubcolLeft\"></div><div class=\"anaCell anaOdd\">1828</div><div class=\"anaCell anaOdd anaSubcolRight\"><div class=\"anaNegative\">(-3.64%)</div></div><div class=\"anaIndex anaEven\">singlecell.broadinstitute.org</div><div class=\"anaCell anaEven anaSubcolLeft\"></div><div class=\"anaCell anaEven\">1244</div><div class=\"anaCell anaEven anaSubcolRight\"><div class=\"anaPositive\">(+2.30%)</div></div><div class=\"anaIndex anaOdd\">link.zhihu.com</div><div class=\"anaCell anaOdd anaSubcolLeft\"></div><div class=\"anaCell anaOdd\">315</div><div class=\"anaCell anaOdd anaSubcolRight\"><div class=\"anaPositive\">(+7.88%)</div></div><div class=\"anaIndex anaEven\">cellxgene.cziscience.com</div><div class=\"anaCell anaEven anaSubcolLeft\"><div class=\"up\"></div></div><div class=\"anaCell anaEven\">133</div><div class=\"anaCell anaEven anaSubcolRight\"><div class=\"anaPositive\">(+20.91%)</div></div><div class=\"anaIndex anaOdd\">(not set)</div><div class=\"anaCell anaOdd anaSubcolLeft\"><div class=\"up\"></div></div><div class=\"anaCell anaOdd\">110</div><div class=\"anaCell anaOdd anaSubcolRight\"><div class=\"anaPositive\">(+61.76%)</div></div><div class=\"anaIndex anaEven\">nature.com</div><div class=\"anaCell anaEven anaSubcolLeft\"><div class=\"down\"></div></div><div class=\"anaCell anaEven\">106</div><div class=\"anaCell anaEven anaSubcolRight\"><div class=\"anaNegative\">(-4.50%)</div></div><div class=\"anaIndex anaOdd\">bing</div><div class=\"anaCell anaOdd anaSubcolLeft\"><div class=\"down\"></div></div><div class=\"anaCell anaOdd\">94</div><div class=\"anaCell anaOdd anaSubcolRight\"><div class=\"anaPositive\">(+30.56%)</div></div><div class=\"anaIndex anaEven\">cn.bing.com</div><div class=\"anaCell anaEven anaSubcolLeft\"><div class=\"down\"></div></div><div class=\"anaCell anaEven\">93</div><div class=\"anaCell anaEven anaSubcolRight\"><div class=\"anaPositive\">(+29.17%)</div></div><div class=\"anaIndex anaOdd\">baidu</div><div class=\"anaCell anaOdd anaSubcolLeft\"><div class=\"up\"></div></div><div class=\"anaCell anaOdd\">87</div><div class=\"anaCell anaOdd anaSubcolRight\"><div class=\"anaPositive\">(+278.26%)</div></div><div class=\"anaIndex anaEven\">satijalab.org</div><div class=\"anaCell anaEven anaSubcolLeft\"><div class=\"down\"></div></div><div class=\"anaCell anaEven\">65</div><div class=\"anaCell anaEven anaSubcolRight\"><div class=\"anaPositive\">(+47.73%)</div></div><div class=\"anaIndex anaOdd\">ncbi.nlm.nih.gov</div><div class=\"anaCell anaOdd anaSubcolLeft\"><div class=\"down\"></div></div><div class=\"anaCell anaOdd\">35</div><div class=\"anaCell anaOdd anaSubcolRight\"><div class=\"anaNegative\">(-10.26%)</div></div><div class=\"anaIndex anaEven\">github.com</div><div class=\"anaCell anaEven anaSubcolLeft\"><div class=\"down\"></div></div><div class=\"anaCell anaEven\">30</div><div class=\"anaCell anaEven anaSubcolRight\"><div class=\"anaNegative\">(-9.09%)</div></div><div class=\"anaIndex anaOdd\">ebi.ac.uk</div><div class=\"anaCell anaOdd anaSubcolLeft\"><div class=\"down\"></div></div><div class=\"anaCell anaOdd\">30</div><div class=\"anaCell anaOdd anaSubcolRight\"><div class=\"anaPositive\">(+7.14%)</div></div><div class=\"anaIndex anaEven\">jianshu.com</div><div class=\"anaCell anaEven anaSubcolLeft\"></div><div class=\"anaCell anaEven\">25</div><div class=\"anaCell anaEven anaSubcolRight\"><div class=\"anaPositive\">(+66.67%)</div></div><div class=\"anaIndex anaOdd\">statics.teams.cdn.office.net</div><div class=\"anaCell anaOdd anaSubcolLeft\"><div class=\"up\"></div></div><div class=\"anaCell anaOdd\">19</div><div class=\"anaCell anaOdd anaSubcolRight\"><div class=\"anaPositive\">(+137.50%)</div></div><div class=\"anaIndex anaEven\">azimuth.hubmapconsortium.org</div><div class=\"anaCell anaEven anaSubcolLeft\"><div class=\"up\"></div></div><div class=\"anaCell anaEven\">15</div><div class=\"anaCell anaEven anaSubcolRight\"><div class=\"anaPositive\">(+50.00%)</div></div><div class=\"anaIndex anaOdd\">en.wikipedia.org</div><div class=\"anaCell anaOdd anaSubcolLeft\"></div><div class=\"anaCell anaOdd\">13</div><div class=\"anaCell anaOdd anaSubcolRight\"><div class=\"anaNegative\">(-7.14%)</div></div><div class=\"anaIndex anaEven\">support.10xgenomics.com</div><div class=\"anaCell anaEven anaSubcolLeft\"><div class=\"up\"></div></div><div class=\"anaCell anaEven\">12</div><div class=\"anaCell anaEven anaSubcolRight\"><div class=\"anaZero\">(+0.00%)</div></div><div class=\"anaIndex anaOdd\">covid19cellatlas.org</div><div class=\"anaCell anaOdd anaSubcolLeft\"><div class=\"down\"></div></div><div class=\"anaCell anaOdd\">11</div><div class=\"anaCell anaOdd anaSubcolRight\"><div class=\"anaNegative\">(-21.43%)</div></div><div class=\"anaIndex anaEven\">science.org</div><div class=\"anaCell anaEven anaSubcolLeft\"><div class=\"down\"></div></div><div class=\"anaCell anaEven\">11</div><div class=\"anaCell anaEven anaSubcolRight\"><div class=\"anaNegative\">(-21.43%)</div></div><div class=\"anaIndex anaOdd\">zhihu.com</div><div class=\"anaCell anaOdd anaSubcolLeft\"></div><div class=\"anaCell anaOdd\">10</div><div class=\"anaCell anaOdd anaSubcolRight\"><div class=\"anaNegative\">(-9.09%)</div></div><div class=\"anaIndex anaEven\">academic.oup.com</div><div class=\"anaCell anaEven anaSubcolLeft\"><div class=\"up\"></div></div><div class=\"anaCell anaEven\">9</div><div class=\"anaCell anaEven anaSubcolRight\"><div class=\"anaPositive\">(+80.00%)</div></div><div class=\"anaIndex anaOdd\">heartcellatlas.org</div><div class=\"anaCell anaOdd anaSubcolLeft\"><div class=\"down\"></div></div><div class=\"anaCell anaOdd\">7</div><div class=\"anaCell anaOdd anaSubcolRight\"><div class=\"anaNegative\">(-36.36%)</div></div><div class=\"anaIndex anaEven\">mail.google.com</div><div class=\"anaCell anaEven anaSubcolLeft\"><div class=\"new\"></div></div><div class=\"anaCell anaEven\">7</div><div class=\"anaCell anaEven anaSubcolRight\"></div><div class=\"anaIndex anaOdd\">biorxiv.org</div><div class=\"anaCell anaOdd anaSubcolLeft\"><div class=\"new\"></div></div><div class=\"anaCell anaOdd\">7</div><div class=\"anaCell anaOdd anaSubcolRight\"></div><div class=\"anaIndex anaEven\">asap.epfl.ch</div><div class=\"anaCell anaEven anaSubcolLeft\"><div class=\"new\"></div></div><div class=\"anaCell anaEven\">6</div><div class=\"anaCell anaEven anaSubcolRight\"></div><div class=\"anaIndex anaOdd\">celltypist.org</div><div class=\"anaCell anaOdd anaSubcolLeft\"></div><div class=\"anaCell anaOdd\">6</div><div class=\"anaCell anaOdd anaSubcolRight\"><div class=\"anaNegative\">(-14.29%)</div></div><div class=\"anaIndex anaEven\">tipz.io</div><div class=\"anaCell anaEven anaSubcolLeft\"><div class=\"new\"></div></div><div class=\"anaCell anaEven\">6</div><div class=\"anaCell anaEven anaSubcolRight\"></div><div class=\"anaIndex anaOdd\">bioconductor.org</div><div class=\"anaCell anaOdd anaSubcolLeft\"><div class=\"new\"></div></div><div class=\"anaCell anaOdd\">5</div><div class=\"anaCell anaOdd anaSubcolRight\"></div></div>"
      ],
      "text/plain": [
       "<IPython.core.display.HTML object>"
      ]
     },
     "metadata": {},
     "output_type": "display_data"
    }
   ],
   "source": [
    "ac.show_difference_table(\"Users\", \"Referrer\", \"totalUsers\",\"sessionSource\", **default_params)"
   ]
  },
  {
   "cell_type": "markdown",
   "id": "76515887",
   "metadata": {},
   "source": [
    "<div style=\"page-break-after: always\"></div>"
   ]
  },
  {
   "cell_type": "markdown",
   "id": "9719ba98",
   "metadata": {},
   "source": [
    "### Top countries"
   ]
  },
  {
   "cell_type": "code",
   "execution_count": 35,
   "id": "cca3e2c5",
   "metadata": {
    "scrolled": true,
    "tags": [
     "remove-input"
    ]
   },
   "outputs": [
    {
     "data": {
      "text/html": [
       "<div class=\"analyticsTable\" style=\"grid-template-columns: 1fr var(--symbol-width) minmax(var(--value-width), min-content) minmax(var(--percentage-width), min-content)\"><div class=\"anaIndex anaColName\">Country</div><div class=\"anaColName anaMultiCol\" style=\"grid-column: span 3\">Users</div><div class=\"anaIndex anaEven\">United States</div><div class=\"anaCell anaEven anaSubcolLeft\"></div><div class=\"anaCell anaEven\">2090</div><div class=\"anaCell anaEven anaSubcolRight\"><div class=\"anaNegative\">(-2.88%)</div></div><div class=\"anaIndex anaOdd\">China</div><div class=\"anaCell anaOdd anaSubcolLeft\"></div><div class=\"anaCell anaOdd\">1846</div><div class=\"anaCell anaOdd anaSubcolRight\"><div class=\"anaPositive\">(+36.44%)</div></div><div class=\"anaIndex anaEven\">United Kingdom</div><div class=\"anaCell anaEven anaSubcolLeft\"></div><div class=\"anaCell anaEven\">436</div><div class=\"anaCell anaEven anaSubcolRight\"><div class=\"anaNegative\">(-5.83%)</div></div><div class=\"anaIndex anaOdd\">Germany</div><div class=\"anaCell anaOdd anaSubcolLeft\"></div><div class=\"anaCell anaOdd\">361</div><div class=\"anaCell anaOdd anaSubcolRight\"><div class=\"anaPositive\">(+1.12%)</div></div><div class=\"anaIndex anaEven\">Japan</div><div class=\"anaCell anaEven anaSubcolLeft\"></div><div class=\"anaCell anaEven\">346</div><div class=\"anaCell anaEven anaSubcolRight\"><div class=\"anaPositive\">(+21.40%)</div></div><div class=\"anaIndex anaOdd\">South Korea</div><div class=\"anaCell anaOdd anaSubcolLeft\"></div><div class=\"anaCell anaOdd\">294</div><div class=\"anaCell anaOdd anaSubcolRight\"><div class=\"anaPositive\">(+33.03%)</div></div><div class=\"anaIndex anaEven\">Canada</div><div class=\"anaCell anaEven anaSubcolLeft\"><div class=\"up\"></div></div><div class=\"anaCell anaEven\">226</div><div class=\"anaCell anaEven anaSubcolRight\"><div class=\"anaPositive\">(+64.96%)</div></div><div class=\"anaIndex anaOdd\">Hong Kong</div><div class=\"anaCell anaOdd anaSubcolLeft\"></div><div class=\"anaCell anaOdd\">150</div><div class=\"anaCell anaOdd anaSubcolRight\"><div class=\"anaPositive\">(+8.70%)</div></div><div class=\"anaIndex anaEven\">France</div><div class=\"anaCell anaEven anaSubcolLeft\"><div class=\"down\"></div></div><div class=\"anaCell anaEven\">144</div><div class=\"anaCell anaEven anaSubcolRight\"><div class=\"anaNegative\">(-11.66%)</div></div><div class=\"anaIndex anaOdd\">India</div><div class=\"anaCell anaOdd anaSubcolLeft\"><div class=\"up\"></div></div><div class=\"anaCell anaOdd\">126</div><div class=\"anaCell anaOdd anaSubcolRight\"><div class=\"anaPositive\">(+3.28%)</div></div><div class=\"anaIndex anaEven\">Australia</div><div class=\"anaCell anaEven anaSubcolLeft\"><div class=\"down\"></div></div><div class=\"anaCell anaEven\">116</div><div class=\"anaCell anaEven anaSubcolRight\"><div class=\"anaNegative\">(-10.08%)</div></div><div class=\"anaIndex anaOdd\">Spain</div><div class=\"anaCell anaOdd anaSubcolLeft\"><div class=\"down\"></div></div><div class=\"anaCell anaOdd\">112</div><div class=\"anaCell anaOdd anaSubcolRight\"><div class=\"anaNegative\">(-11.11%)</div></div><div class=\"anaIndex anaEven\">Singapore</div><div class=\"anaCell anaEven anaSubcolLeft\"><div class=\"up\"></div></div><div class=\"anaCell anaEven\">103</div><div class=\"anaCell anaEven anaSubcolRight\"><div class=\"anaPositive\">(+3.00%)</div></div><div class=\"anaIndex anaOdd\">Sweden</div><div class=\"anaCell anaOdd anaSubcolLeft\"><div class=\"up\"></div></div><div class=\"anaCell anaOdd\">97</div><div class=\"anaCell anaOdd anaSubcolRight\"><div class=\"anaPositive\">(+22.78%)</div></div><div class=\"anaIndex anaEven\">Italy</div><div class=\"anaCell anaEven anaSubcolLeft\"><div class=\"down\"></div></div><div class=\"anaCell anaEven\">92</div><div class=\"anaCell anaEven anaSubcolRight\"><div class=\"anaNegative\">(-20.69%)</div></div><div class=\"anaIndex anaOdd\">Switzerland</div><div class=\"anaCell anaOdd anaSubcolLeft\"><div class=\"down\"></div></div><div class=\"anaCell anaOdd\">84</div><div class=\"anaCell anaOdd anaSubcolRight\"><div class=\"anaPositive\">(+5.00%)</div></div><div class=\"anaIndex anaEven\">Netherlands</div><div class=\"anaCell anaEven anaSubcolLeft\"></div><div class=\"anaCell anaEven\">70</div><div class=\"anaCell anaEven anaSubcolRight\"><div class=\"anaNegative\">(-5.41%)</div></div><div class=\"anaIndex anaOdd\">Brazil</div><div class=\"anaCell anaOdd anaSubcolLeft\"><div class=\"up\"></div></div><div class=\"anaCell anaOdd\">62</div><div class=\"anaCell anaOdd anaSubcolRight\"><div class=\"anaPositive\">(+24.00%)</div></div><div class=\"anaIndex anaEven\">Taiwan</div><div class=\"anaCell anaEven anaSubcolLeft\"><div class=\"up\"></div></div><div class=\"anaCell anaEven\">55</div><div class=\"anaCell anaEven anaSubcolRight\"><div class=\"anaNegative\">(-3.51%)</div></div><div class=\"anaIndex anaOdd\">Israel</div><div class=\"anaCell anaOdd anaSubcolLeft\"><div class=\"down\"></div></div><div class=\"anaCell anaOdd\">54</div><div class=\"anaCell anaOdd anaSubcolRight\"><div class=\"anaNegative\">(-12.90%)</div></div><div class=\"anaIndex anaEven\">Austria</div><div class=\"anaCell anaEven anaSubcolLeft\"><div class=\"up\"></div></div><div class=\"anaCell anaEven\">41</div><div class=\"anaCell anaEven anaSubcolRight\"><div class=\"anaPositive\">(+10.81%)</div></div><div class=\"anaIndex anaOdd\">Belgium</div><div class=\"anaCell anaOdd anaSubcolLeft\"><div class=\"down\"></div></div><div class=\"anaCell anaOdd\">34</div><div class=\"anaCell anaOdd anaSubcolRight\"><div class=\"anaNegative\">(-45.16%)</div></div><div class=\"anaIndex anaEven\">Denmark</div><div class=\"anaCell anaEven anaSubcolLeft\"><div class=\"down\"></div></div><div class=\"anaCell anaEven\">32</div><div class=\"anaCell anaEven anaSubcolRight\"><div class=\"anaNegative\">(-17.95%)</div></div><div class=\"anaIndex anaOdd\">Poland</div><div class=\"anaCell anaOdd anaSubcolLeft\"><div class=\"up\"></div></div><div class=\"anaCell anaOdd\">26</div><div class=\"anaCell anaOdd anaSubcolRight\"><div class=\"anaPositive\">(+8.33%)</div></div><div class=\"anaIndex anaEven\">Portugal</div><div class=\"anaCell anaEven anaSubcolLeft\"><div class=\"new\"></div></div><div class=\"anaCell anaEven\">20</div><div class=\"anaCell anaEven anaSubcolRight\"></div><div class=\"anaIndex anaOdd\">Micronesia</div><div class=\"anaCell anaOdd anaSubcolLeft\"><div class=\"new\"></div></div><div class=\"anaCell anaOdd\">20</div><div class=\"anaCell anaOdd anaSubcolRight\"></div><div class=\"anaIndex anaEven\">Ireland</div><div class=\"anaCell anaEven anaSubcolLeft\"><div class=\"up\"></div></div><div class=\"anaCell anaEven\">19</div><div class=\"anaCell anaEven anaSubcolRight\"><div class=\"anaNegative\">(-5.00%)</div></div><div class=\"anaIndex anaOdd\">Vietnam</div><div class=\"anaCell anaOdd anaSubcolLeft\"><div class=\"new\"></div></div><div class=\"anaCell anaOdd\">19</div><div class=\"anaCell anaOdd anaSubcolRight\"></div><div class=\"anaIndex anaEven\">Türkiye</div><div class=\"anaCell anaEven anaSubcolLeft\"><div class=\"down\"></div></div><div class=\"anaCell anaEven\">19</div><div class=\"anaCell anaEven anaSubcolRight\"><div class=\"anaNegative\">(-29.63%)</div></div><div class=\"anaIndex anaOdd\">Czechia</div><div class=\"anaCell anaOdd anaSubcolLeft\"><div class=\"new\"></div></div><div class=\"anaCell anaOdd\">15</div><div class=\"anaCell anaOdd anaSubcolRight\"></div></div>"
      ],
      "text/plain": [
       "<IPython.core.display.HTML object>"
      ]
     },
     "metadata": {},
     "output_type": "display_data"
    }
   ],
   "source": [
    "ac.show_difference_table(\"Users\", \"Country\", \"totalUsers\", \"country\", **default_params)"
   ]
  },
  {
   "cell_type": "markdown",
   "id": "7a9eb28e",
   "metadata": {},
   "source": [
    "<div style=\"page-break-after: always\"></div>"
   ]
  },
  {
   "cell_type": "markdown",
   "id": "a0c088d2",
   "metadata": {},
   "source": [
    "### Top entrances"
   ]
  },
  {
   "cell_type": "code",
   "execution_count": 36,
   "id": "6729aa7f",
   "metadata": {
    "scrolled": true,
    "tags": [
     "remove-input"
    ]
   },
   "outputs": [
    {
     "data": {
      "text/html": [
       "<div class=\"analyticsTable\" style=\"grid-template-columns: 1fr var(--symbol-width) minmax(var(--value-width), min-content) minmax(var(--percentage-width), min-content)\"><div class=\"anaIndex anaColName\">Page</div><div class=\"anaColName anaMultiCol\" style=\"grid-column: span 3\">Entrances</div><div class=\"anaIndex anaEven\"><a href=\"https://data.humancellatlas.org/\">/</a></div><div class=\"anaCell anaEven anaSubcolLeft\"><div class=\"up\"></div></div><div class=\"anaCell anaEven\">3593</div><div class=\"anaCell anaEven anaSubcolRight\"><div class=\"anaPositive\">(+474.88%)</div></div><div class=\"anaIndex anaOdd\">(not set)</div><div class=\"anaCell anaOdd anaSubcolLeft\"></div><div class=\"anaCell anaOdd\">1941</div><div class=\"anaCell anaOdd anaSubcolRight\"><div class=\"anaPositive\">(+38.25%)</div></div><div class=\"anaIndex anaEven\"><a href=\"https://data.humancellatlas.org/explore/projects\">/explore/projects</a></div><div class=\"anaCell anaEven anaSubcolLeft\"></div><div class=\"anaCell anaEven\">1010</div><div class=\"anaCell anaEven anaSubcolRight\"><div class=\"anaPositive\">(+30.15%)</div></div><div class=\"anaIndex anaOdd\"><a href=\"https://data.humancellatlas.org/analyze/portals/single-cell-expression-atlas\">/analyze/portals/single-cell-expression-atlas</a></div><div class=\"anaCell anaOdd anaSubcolLeft\"><div class=\"up\"></div></div><div class=\"anaCell anaOdd\">325</div><div class=\"anaCell anaOdd anaSubcolRight\"><div class=\"anaNegative\">(-12.87%)</div></div><div class=\"anaIndex anaEven\"><a href=\"https://data.humancellatlas.org/explore/projects/cc95ff89-2e68-4a08-a234-480eca21ce79\">A single cell immune cell atlas of human hematopoietic system</a></div><div class=\"anaCell anaEven anaSubcolLeft\"><div class=\"up\"></div></div><div class=\"anaCell anaEven\">232</div><div class=\"anaCell anaEven anaSubcolRight\"><div class=\"anaNegative\">(-3.33%)</div></div><div class=\"anaIndex anaOdd\"><a href=\"https://data.humancellatlas.org/contribute\">/contribute</a></div><div class=\"anaCell anaOdd anaSubcolLeft\"><div class=\"up\"></div></div><div class=\"anaCell anaOdd\">226</div><div class=\"anaCell anaOdd anaSubcolRight\"><div class=\"anaPositive\">(+1.80%)</div></div><div class=\"anaIndex anaEven\"><a href=\"https://data.humancellatlas.org/analyze/methods/infer\">/analyze/methods/infer</a></div><div class=\"anaCell anaEven anaSubcolLeft\"></div><div class=\"anaCell anaEven\">216</div><div class=\"anaCell anaEven anaSubcolRight\"><div class=\"anaNegative\">(-4.00%)</div></div><div class=\"anaIndex anaOdd\"><a href=\"https://data.humancellatlas.org/analyze/portals/cellxgene\">/analyze/portals/cellxgene</a></div><div class=\"anaCell anaOdd anaSubcolLeft\"><div class=\"up\"></div></div><div class=\"anaCell anaOdd\">156</div><div class=\"anaCell anaOdd anaSubcolRight\"><div class=\"anaPositive\">(+28.93%)</div></div><div class=\"anaIndex anaEven\"><a href=\"https://data.humancellatlas.org/pipelines/smart-seq2-workflow\">/pipelines/smart-seq2-workflow</a></div><div class=\"anaCell anaEven anaSubcolLeft\"></div><div class=\"anaCell anaEven\">126</div><div class=\"anaCell anaEven anaSubcolRight\"><div class=\"anaNegative\">(-4.55%)</div></div><div class=\"anaIndex anaOdd\"><a href=\"https://data.humancellatlas.org/explore/projects/091cf39b-01bc-42e5-9437-f419a66c8a45\">Profiling of CD34+ cells from human bone marrow to understand hematopoiesis</a></div><div class=\"anaCell anaOdd anaSubcolLeft\"><div class=\"up\"></div></div><div class=\"anaCell anaOdd\">103</div><div class=\"anaCell anaOdd anaSubcolRight\"><div class=\"anaPositive\">(+101.96%)</div></div><div class=\"anaIndex anaEven\"><a href=\"https://data.humancellatlas.org/explore/projects/e9f36305-d857-44a3-93f0-df4e6007dc97\">Spatial multi-omic map of human myocardial infarction</a></div><div class=\"anaCell anaEven anaSubcolLeft\"></div><div class=\"anaCell anaEven\">103</div><div class=\"anaCell anaEven anaSubcolRight\"><div class=\"anaNegative\">(-2.83%)</div></div><div class=\"anaIndex anaOdd\"><a href=\"https://data.humancellatlas.org/analyze/portals/single-cell-portal\">/analyze/portals/single-cell-portal</a></div><div class=\"anaCell anaOdd anaSubcolLeft\"><div class=\"up\"></div></div><div class=\"anaCell anaOdd\">74</div><div class=\"anaCell anaOdd anaSubcolRight\"><div class=\"anaPositive\">(+15.62%)</div></div><div class=\"anaIndex anaEven\"><a href=\"https://data.humancellatlas.org/explore/projects/a9301beb-e9fa-42fe-b75c-84e8a460c733\">A human cell atlas of fetal gene expression.</a></div><div class=\"anaCell anaEven anaSubcolLeft\"><div class=\"up\"></div></div><div class=\"anaCell anaEven\">67</div><div class=\"anaCell anaEven anaSubcolRight\"><div class=\"anaPositive\">(+9.84%)</div></div><div class=\"anaIndex anaOdd\"><a href=\"https://data.humancellatlas.org/analyze\">/analyze</a></div><div class=\"anaCell anaOdd anaSubcolLeft\"><div class=\"down\"></div></div><div class=\"anaCell anaOdd\">64</div><div class=\"anaCell anaOdd anaSubcolRight\"><div class=\"anaNegative\">(-8.57%)</div></div><div class=\"anaIndex anaEven\"><a href=\"https://data.humancellatlas.org/explore/projects/f0f89c14-7460-4bab-9d42-22228a91f185\">AIDA</a></div><div class=\"anaCell anaEven anaSubcolLeft\"><div class=\"down\"></div></div><div class=\"anaCell anaEven\">64</div><div class=\"anaCell anaEven anaSubcolRight\"><div class=\"anaNegative\">(-4.48%)</div></div><div class=\"anaIndex anaOdd\"><a href=\"https://data.humancellatlas.org/explore/projects/10201832-7c73-4033-9b65-3ef13d81656a\">The Tabula Sapiens: a single cell transcriptomic atlas of multiple organs from individual human donors</a></div><div class=\"anaCell anaOdd anaSubcolLeft\"><div class=\"down\"></div></div><div class=\"anaCell anaOdd\">60</div><div class=\"anaCell anaOdd anaSubcolRight\"><div class=\"anaNegative\">(-10.45%)</div></div><div class=\"anaIndex anaEven\"><a href=\"https://data.humancellatlas.org/analyze/portals/asap\">/analyze/portals/asap</a></div><div class=\"anaCell anaEven anaSubcolLeft\"><div class=\"up\"></div></div><div class=\"anaCell anaEven\">59</div><div class=\"anaCell anaEven anaSubcolRight\"><div class=\"anaPositive\">(+59.46%)</div></div><div class=\"anaIndex anaOdd\"><a href=\"https://data.humancellatlas.org/analyze/portals/synecosys\">/analyze/portals/synecosys</a></div><div class=\"anaCell anaOdd anaSubcolLeft\"><div class=\"down\"></div></div><div class=\"anaCell anaOdd\">59</div><div class=\"anaCell anaOdd anaSubcolRight\"><div class=\"anaNegative\">(-4.84%)</div></div><div class=\"anaIndex anaEven\"><a href=\"https://data.humancellatlas.org/explore/projects/74b6d569-3b11-42ef-b6b1-a0454522b4a0\">1.3 Million Brain Cells from E18 Mice</a></div><div class=\"anaCell anaEven anaSubcolLeft\"><div class=\"up\"></div></div><div class=\"anaCell anaEven\">55</div><div class=\"anaCell anaEven anaSubcolRight\"><div class=\"anaPositive\">(+44.74%)</div></div><div class=\"anaIndex anaOdd\"><a href=\"https://data.humancellatlas.org/explore/projects/73769e0a-5fcd-41f4-9083-41ae08bfa4c1\">A proximal-to-distal survey of healthy adult human small intestine and colon epithelium by single-cell transcriptomics</a></div><div class=\"anaCell anaOdd anaSubcolLeft\"><div class=\"new\"></div></div><div class=\"anaCell anaOdd\">53</div><div class=\"anaCell anaOdd anaSubcolRight\"></div><div class=\"anaIndex anaEven\"><a href=\"https://data.humancellatlas.org/explore/projects/c31fa434-c9ed-4263-a9b6-d9ffb9d44005\">A single-cell atlas of chromatin accessibility in the human genome</a></div><div class=\"anaCell anaEven anaSubcolLeft\"><div class=\"new\"></div></div><div class=\"anaCell anaEven\">53</div><div class=\"anaCell anaEven anaSubcolRight\"></div><div class=\"anaIndex anaOdd\"><a href=\"https://data.humancellatlas.org/explore/projects/ad98d3cd-26fb-4ee3-99c9-8a2ab085e737\">Cells of the adult human heart</a></div><div class=\"anaCell anaOdd anaSubcolLeft\"><div class=\"down\"></div></div><div class=\"anaCell anaOdd\">52</div><div class=\"anaCell anaOdd anaSubcolRight\"><div class=\"anaPositive\">(+1.96%)</div></div><div class=\"anaIndex anaEven\"><a href=\"https://data.humancellatlas.org/explore/projects/a62dae2e-cd69-4d5c-b5f8-4f7e8abdbafa\">A single-cell and single-nucleus RNA-seq toolbox for fresh and frozen human tumors.</a></div><div class=\"anaCell anaEven anaSubcolLeft\"><div class=\"down\"></div></div><div class=\"anaCell anaEven\">48</div><div class=\"anaCell anaEven anaSubcolRight\"><div class=\"anaNegative\">(-4.00%)</div></div><div class=\"anaIndex anaOdd\"><a href=\"https://data.humancellatlas.org/explore/files\">/explore/files</a></div><div class=\"anaCell anaOdd anaSubcolLeft\"><div class=\"new\"></div></div><div class=\"anaCell anaOdd\">47</div><div class=\"anaCell anaOdd anaSubcolRight\"></div><div class=\"anaIndex anaEven\"><a href=\"https://data.humancellatlas.org/explore/projects/9c20a245-f2c0-43ae-82c9-2232ec6b594f\">A multi-omics atlas of the human retina at single-cell resolution</a></div><div class=\"anaCell anaEven anaSubcolLeft\"><div class=\"down\"></div></div><div class=\"anaCell anaEven\">46</div><div class=\"anaCell anaEven anaSubcolRight\"><div class=\"anaNegative\">(-6.12%)</div></div><div class=\"anaIndex anaOdd\"><a href=\"https://data.humancellatlas.org/explore/projects/8185730f-4113-40d3-9cc3-929271784c2b\">A single-cell transcriptome atlas of the adult human retina</a></div><div class=\"anaCell anaOdd anaSubcolLeft\"><div class=\"down\"></div></div><div class=\"anaCell anaOdd\">45</div><div class=\"anaCell anaOdd anaSubcolRight\"><div class=\"anaNegative\">(-26.23%)</div></div><div class=\"anaIndex anaEven\"><a href=\"https://data.humancellatlas.org/explore/projects/a80a63f2-e223-4890-81b0-415855b89abc\">Single cell RNA-seq of brain glioblastoma samples</a></div><div class=\"anaCell anaEven anaSubcolLeft\"><div class=\"up\"></div></div><div class=\"anaCell anaEven\">45</div><div class=\"anaCell anaEven anaSubcolRight\"><div class=\"anaPositive\">(+21.62%)</div></div><div class=\"anaIndex anaOdd\"><a href=\"https://data.humancellatlas.org/explore/projects/6621c827-b57a-4268-bc80-df4049140193\">Single cell transcriptome atlases of the developing mouse and human spinal cord.</a></div><div class=\"anaCell anaOdd anaSubcolLeft\"><div class=\"new\"></div></div><div class=\"anaCell anaOdd\">42</div><div class=\"anaCell anaOdd anaSubcolRight\"></div><div class=\"anaIndex anaEven\"><a href=\"https://data.humancellatlas.org/explore/samples\">/explore/samples</a></div><div class=\"anaCell anaEven anaSubcolLeft\"><div class=\"new\"></div></div><div class=\"anaCell anaEven\">41</div><div class=\"anaCell anaEven anaSubcolRight\"></div><div class=\"anaIndex anaOdd\"><a href=\"https://data.humancellatlas.org/analyze/portals/bioturing-browser\">/analyze/portals/bioturing-browser</a></div><div class=\"anaCell anaOdd anaSubcolLeft\"><div class=\"down\"></div></div><div class=\"anaCell anaOdd\">39</div><div class=\"anaCell anaOdd anaSubcolRight\"><div class=\"anaNegative\">(-9.30%)</div></div></div>"
      ],
      "text/plain": [
       "<IPython.core.display.HTML object>"
      ]
     },
     "metadata": {},
     "output_type": "display_data"
    }
   ],
   "source": [
    "ac.show_difference_table(\"Entrances\", \"Page\", \"sessions\", \"landingPage\", **default_params)"
   ]
  },
  {
   "attachments": {},
   "cell_type": "markdown",
   "id": "4788a00e",
   "metadata": {
    "tags": [
     "remove-cell"
    ]
   },
   "source": [
    "## Downloads and exports\n",
    "### Download project metadata"
   ]
  },
  {
   "cell_type": "code",
   "execution_count": 37,
   "id": "3f0a6b9f",
   "metadata": {
    "tags": [
     "remove-input",
     "remove-cell"
    ]
   },
   "outputs": [],
   "source": [
    "# ac.show_difference_table([\"Users\", \"Count\"], \"Action\", [\"ga:users\", \"ga:hits\"], [\"ga:eventAction\", \"ga:eventCategory\"], filters=\"ga:eventCategory==Project;ga:eventAction==Download Project Full Manifest\", rows_type=\"fixed\", **{**default_params, \"index_key_formatter\": (lambda x: \"Download Project Full Metadata\")})"
   ]
  },
  {
   "attachments": {},
   "cell_type": "markdown",
   "id": "7654fea0",
   "metadata": {
    "tags": [
     "remove-cell"
    ]
   },
   "source": [
    "### Top metadata downloads"
   ]
  },
  {
   "cell_type": "code",
   "execution_count": 38,
   "id": "7f57402e",
   "metadata": {
    "tags": [
     "remove-input",
     "remove-cell"
    ]
   },
   "outputs": [],
   "source": [
    "# ac.show_difference_table(\"Downloads\", \"Project\", \"ga:hits\", \"ga:dimension15\", filters=\"ga:eventCategory==Project;ga:eventAction==Download Project Full Manifest\", rows_limit=29, **{**default_params, \"index_key_formatter\": hca.format_project_id_key})"
   ]
  },
  {
   "attachments": {},
   "cell_type": "markdown",
   "id": "beb9dad7",
   "metadata": {
    "tags": [
     "remove-cell"
    ]
   },
   "source": [
    "### Download project manifest"
   ]
  },
  {
   "cell_type": "code",
   "execution_count": 39,
   "id": "db613ae8",
   "metadata": {
    "scrolled": false,
    "tags": [
     "remove-input",
     "remove-cell"
    ]
   },
   "outputs": [],
   "source": [
    "# ac.show_difference_table([\"Users\", \"Count\"], \"Action\", [\"ga:users\", \"ga:hits\"], [\"ga:eventAction\", \"ga:eventCategory\"], filters=\"ga:eventCategory==Project;ga:eventAction==Download Project Manifest\", rows_type=\"fixed\", **default_params)"
   ]
  },
  {
   "cell_type": "markdown",
   "id": "40ea9b89",
   "metadata": {
    "tags": [
     "remove-cell"
    ]
   },
   "source": [
    "### Download project matrix"
   ]
  },
  {
   "cell_type": "code",
   "execution_count": 40,
   "id": "e18ca244",
   "metadata": {
    "scrolled": false,
    "tags": [
     "remove-input",
     "remove-cell"
    ]
   },
   "outputs": [],
   "source": [
    "# ac.show_difference_table([\"Users\", \"Count\"], \"Download Type\", [\"ga:users\", \"ga:hits\"], [\"ga:dimension6\", \"ga:eventAction\", \"ga:eventCategory\"], filters=\"ga:eventCategory==Project;ga:eventAction==Download Project Matrix\", rows_type=\"fixed\", **default_params)"
   ]
  },
  {
   "cell_type": "markdown",
   "id": "da28c4af",
   "metadata": {
    "tags": [
     "remove-cell"
    ]
   },
   "source": [
    "### Request curl command for selected data"
   ]
  },
  {
   "cell_type": "code",
   "execution_count": 41,
   "id": "cb9e47bf",
   "metadata": {
    "scrolled": false,
    "tags": [
     "remove-input",
     "remove-cell"
    ]
   },
   "outputs": [],
   "source": [
    "# ac.show_difference_table([\"Users\", \"Count\"], \"curl Request From Search Results\", [\"ga:users\", \"ga:hits\"], [\"ga:dimension1\", \"ga:eventAction\", \"ga:eventCategory\"], filters=\"ga:eventAction==Request;ga:dimension1==Bulk Download\", rows_type=\"fixed\", **default_params)"
   ]
  },
  {
   "cell_type": "markdown",
   "id": "ae0dfd57",
   "metadata": {
    "tags": [
     "remove-cell"
    ]
   },
   "source": [
    "### Metadata request/download from selected data"
   ]
  },
  {
   "cell_type": "code",
   "execution_count": 42,
   "id": "246c95a3",
   "metadata": {
    "scrolled": false,
    "tags": [
     "remove-input",
     "remove-cell"
    ]
   },
   "outputs": [],
   "source": [
    "# ac.show_difference_table([\"Users\", \"Count\"], \"Metadata Request/Download From Search Results\", [\"ga:users\", \"ga:hits\"], [\"ga:dimension1\", \"ga:eventAction\", \"ga:eventCategory\"], filters=\"ga:eventCategory==Manifest;ga:eventAction=~Request|Download;ga:dimension1=~Cohort Manifest|Cohort Manifest Link\", rows_type=\"fixed\", **default_params)"
   ]
  },
  {
   "cell_type": "markdown",
   "id": "68028cea",
   "metadata": {
    "tags": [
     "remove-cell"
    ]
   },
   "source": [
    "### Request export from selected data"
   ]
  },
  {
   "cell_type": "code",
   "execution_count": 43,
   "id": "18ac8d42",
   "metadata": {
    "scrolled": false,
    "tags": [
     "remove-input",
     "remove-cell"
    ]
   },
   "outputs": [],
   "source": [
    "# ac.show_difference_table([\"Users\", \"Count\"], \"Request Export From Search Results\", [\"ga:users\", \"ga:hits\"], [\"ga:dimension3\", \"ga:dimension1\", \"ga:eventAction\", \"ga:eventCategory\"], filters=\"ga:eventCategory==Export;ga:eventAction==Request;ga:dimension1==Cohort Export;ga:dimension3==Terra\", rows_type=\"fixed\", **default_params)"
   ]
  },
  {
   "cell_type": "markdown",
   "id": "2ed08f5c",
   "metadata": {
    "tags": [
     "remove-cell"
    ]
   },
   "source": [
    "### Top direct file download file types (from files tab)"
   ]
  },
  {
   "cell_type": "code",
   "execution_count": 44,
   "id": "6ff15afb",
   "metadata": {
    "scrolled": true,
    "tags": [
     "remove-input",
     "remove-cell"
    ]
   },
   "outputs": [],
   "source": [
    "# ac.show_difference_table(\"Downloads\", \"File Type\", \"ga:hits\", \"ga:dimension6\", filters=\"ga:eventCategory==File;ga:eventAction==Download\", **default_params)"
   ]
  },
  {
   "cell_type": "markdown",
   "id": "3a9de92f",
   "metadata": {
    "tags": [
     "remove-cell"
    ]
   },
   "source": [
    "### Direct file downloads (from files tab)"
   ]
  },
  {
   "cell_type": "code",
   "execution_count": 45,
   "id": "51986a0d",
   "metadata": {
    "scrolled": false,
    "tags": [
     "remove-input"
    ]
   },
   "outputs": [],
   "source": [
    "# ac.show_difference_table([\"Users\", \"Count\"], \"Action\", [\"ga:users\", \"ga:hits\"], [\"ga:eventAction\", \"ga:eventCategory\"], filters=\"ga:eventCategory==File;ga:eventAction==Download\", rows_type=\"fixed\", **default_params)"
   ]
  },
  {
   "cell_type": "markdown",
   "id": "5fd5afaa",
   "metadata": {
    "tags": [
     "remove-cell"
    ]
   },
   "source": [
    "### Top \"export selected data\" queries"
   ]
  },
  {
   "cell_type": "code",
   "execution_count": 46,
   "id": "5fb87fc7",
   "metadata": {
    "scrolled": false,
    "tags": [
     "remove-input",
     "remove-cell"
    ]
   },
   "outputs": [],
   "source": [
    "# ac.show_difference_table(\"Selected for Export Count\", \"Query\", \"ga:pageviews\", \"ga:pagePath\", filters=\"ga:pagePath=~/explore/export/export-to-terra|/explore/export/get-curl-command|/explore/export/download-manifest\", split_vertical=[7, 11, 7], **default_params)"
   ]
  },
  {
   "cell_type": "markdown",
   "id": "a017b0dd",
   "metadata": {
    "tags": [
     "remove-cell"
    ]
   },
   "source": [
    "## Entities\n",
    "### Entity tabs selections (project, samples, files)"
   ]
  },
  {
   "cell_type": "code",
   "execution_count": 47,
   "id": "615a50a1",
   "metadata": {
    "scrolled": false,
    "tags": [
     "remove-input",
     "remove-cell"
    ]
   },
   "outputs": [],
   "source": [
    "# ac.show_difference_table(\"Count\", \"Entity Tab\", \"ga:hits\", \"ga:eventLabel\", filters=\"ga:eventCategory==Entity;ga:eventAction==Select Tab\", **default_params)"
   ]
  },
  {
   "cell_type": "markdown",
   "id": "f60027fa",
   "metadata": {
    "tags": [
     "remove-cell"
    ]
   },
   "source": [
    "## Search facets\n",
    "### Top facets"
   ]
  },
  {
   "cell_type": "code",
   "execution_count": 48,
   "id": "b7fde3a7",
   "metadata": {
    "scrolled": true,
    "tags": [
     "remove-input",
     "remove-cell"
    ]
   },
   "outputs": [],
   "source": [
    "# ac.show_difference_table(\"Count\", \"Facet\", \"ga:hits\", \"ga:dimension9\", filters=\"ga:eventCategory==Search;ga:eventAction==Select\", **default_params)"
   ]
  },
  {
   "cell_type": "markdown",
   "id": "70ff5050",
   "metadata": {
    "tags": [
     "remove-cell"
    ]
   },
   "source": [
    "### Top facet terms"
   ]
  },
  {
   "cell_type": "code",
   "execution_count": 49,
   "id": "a56a1474",
   "metadata": {
    "scrolled": true,
    "tags": [
     "remove-input",
     "remove-cell"
    ]
   },
   "outputs": [],
   "source": [
    "# ac.show_difference_table(\"Count\", [\"Facet\", \"Term\"], \"ga:hits\", [\"ga:dimension9\", \"ga:dimension10\"], filters=\"ga:eventCategory==Search;ga:eventAction==Select\", **default_params)"
   ]
  },
  {
   "cell_type": "markdown",
   "id": "fa8aed84",
   "metadata": {},
   "source": [
    "## Projects\n",
    "### Top project detail pages"
   ]
  },
  {
   "cell_type": "code",
   "execution_count": 5,
   "id": "c38a26da",
   "metadata": {
    "scrolled": true,
    "tags": [
     "remove-input"
    ]
   },
   "outputs": [
    {
     "data": {
      "text/html": [
       "<div class=\"analyticsTable\" style=\"page-break-after: always; grid-template-columns: 1fr var(--symbol-width) minmax(var(--value-width), min-content) minmax(var(--percentage-width), min-content)\"><div class=\"anaIndex anaColName\">Project</div><div class=\"anaColName anaMultiCol\" style=\"grid-column: span 3\">Count</div><div class=\"anaIndex anaEven\"><a href=\"https://data.humancellatlas.org/explore/projects/cc95ff89-2e68-4a08-a234-480eca21ce79\">A single cell immune cell atlas of human hematopoietic system</a></div><div class=\"anaCell anaEven anaSubcolLeft\"></div><div class=\"anaCell anaEven\">738</div><div class=\"anaCell anaEven anaSubcolRight\"><div class=\"anaPositive\">(+17.70%)</div></div><div class=\"anaIndex anaOdd\"><a href=\"https://data.humancellatlas.org/explore/projects/a9301beb-e9fa-42fe-b75c-84e8a460c733\">A human cell atlas of fetal gene expression.</a></div><div class=\"anaCell anaOdd anaSubcolLeft\"><div class=\"up\"></div></div><div class=\"anaCell anaOdd\">256</div><div class=\"anaCell anaOdd anaSubcolRight\"><div class=\"anaPositive\">(+64.10%)</div></div><div class=\"anaIndex anaEven\"><a href=\"https://data.humancellatlas.org/explore/projects/74b6d569-3b11-42ef-b6b1-a0454522b4a0\">1.3 Million Brain Cells from E18 Mice</a></div><div class=\"anaCell anaEven anaSubcolLeft\"><div class=\"up\"></div></div><div class=\"anaCell anaEven\">253</div><div class=\"anaCell anaEven anaSubcolRight\"><div class=\"anaPositive\">(+54.27%)</div></div><div class=\"anaIndex anaOdd\"><a href=\"https://data.humancellatlas.org/explore/projects/1fac187b-1c3f-41c4-b6b6-6a9a8c0489d1\">Construction of A Human Cell Landscape by Single-cell mRNA-seq</a></div><div class=\"anaCell anaOdd anaSubcolLeft\"><div class=\"down\"></div></div><div class=\"anaCell anaOdd\">240</div><div class=\"anaCell anaOdd anaSubcolRight\"><div class=\"anaPositive\">(+21.83%)</div></div><div class=\"anaIndex anaEven\"><a href=\"https://data.humancellatlas.org/explore/projects/e9f36305-d857-44a3-93f0-df4e6007dc97\">Spatial multi-omic map of human myocardial infarction</a></div><div class=\"anaCell anaEven anaSubcolLeft\"><div class=\"down\"></div></div><div class=\"anaCell anaEven\">238</div><div class=\"anaCell anaEven anaSubcolRight\"><div class=\"anaPositive\">(+36.00%)</div></div><div class=\"anaIndex anaOdd\"><a href=\"https://data.humancellatlas.org/explore/projects/f0f89c14-7460-4bab-9d42-22228a91f185\">AIDA</a></div><div class=\"anaCell anaOdd anaSubcolLeft\"><div class=\"up\"></div></div><div class=\"anaCell anaOdd\">225</div><div class=\"anaCell anaOdd anaSubcolRight\"><div class=\"anaPositive\">(+92.31%)</div></div><div class=\"anaIndex anaEven\"><a href=\"https://data.humancellatlas.org/explore/projects/10201832-7c73-4033-9b65-3ef13d81656a\">The Tabula Sapiens: a single cell transcriptomic atlas of multiple organs from individual human donors</a></div><div class=\"anaCell anaEven anaSubcolLeft\"><div class=\"down\"></div></div><div class=\"anaCell anaEven\">206</div><div class=\"anaCell anaEven anaSubcolRight\"><div class=\"anaPositive\">(+18.39%)</div></div><div class=\"anaIndex anaOdd\"><a href=\"https://data.humancellatlas.org/explore/projects/94e4ee09-9b4b-410a-84dc-a751ad36d0df\">A Human Liver Cell Atlas reveals Heterogeneity and Epithelial Progenitors</a></div><div class=\"anaCell anaOdd anaSubcolLeft\"><div class=\"up\"></div></div><div class=\"anaCell anaOdd\">198</div><div class=\"anaCell anaOdd anaSubcolRight\"><div class=\"anaPositive\">(+75.22%)</div></div><div class=\"anaIndex anaEven\"><a href=\"https://data.humancellatlas.org/explore/projects/cdabcf0b-7602-4abf-9afb-3b410e545703\">A blood atlas of COVID-19 defines hallmarks of disease severity and specificity</a></div><div class=\"anaCell anaEven anaSubcolLeft\"><div class=\"up\"></div></div><div class=\"anaCell anaEven\">191</div><div class=\"anaCell anaEven anaSubcolRight\"><div class=\"anaPositive\">(+151.32%)</div></div><div class=\"anaIndex anaOdd\"><a href=\"https://data.humancellatlas.org/explore/projects/091cf39b-01bc-42e5-9437-f419a66c8a45\">Profiling of CD34+ cells from human bone marrow to understand hematopoiesis</a></div><div class=\"anaCell anaOdd anaSubcolLeft\"><div class=\"up\"></div></div><div class=\"anaCell anaOdd\">173</div><div class=\"anaCell anaOdd anaSubcolRight\"><div class=\"anaPositive\">(+58.72%)</div></div><div class=\"anaIndex anaEven\"><a href=\"https://data.humancellatlas.org/explore/projects/ad98d3cd-26fb-4ee3-99c9-8a2ab085e737\">Cells of the adult human heart</a></div><div class=\"anaCell anaEven anaSubcolLeft\"><div class=\"up\"></div></div><div class=\"anaCell anaEven\">161</div><div class=\"anaCell anaEven anaSubcolRight\"><div class=\"anaPositive\">(+62.63%)</div></div><div class=\"anaIndex anaOdd\"><a href=\"https://data.humancellatlas.org/explore/projects/a62dae2e-cd69-4d5c-b5f8-4f7e8abdbafa\">A single-cell and single-nucleus RNA-seq toolbox for fresh and frozen human tumors.</a></div><div class=\"anaCell anaOdd anaSubcolLeft\"><div class=\"down\"></div></div><div class=\"anaCell anaOdd\">159</div><div class=\"anaCell anaOdd anaSubcolRight\"><div class=\"anaZero\">(+0.00%)</div></div><div class=\"anaIndex anaEven\"><a href=\"https://data.humancellatlas.org/explore/projects/9c20a245-f2c0-43ae-82c9-2232ec6b594f\">A multi-omics atlas of the human retina at single-cell resolution</a></div><div class=\"anaCell anaEven anaSubcolLeft\"><div class=\"up\"></div></div><div class=\"anaCell anaEven\">135</div><div class=\"anaCell anaEven anaSubcolRight\"><div class=\"anaPositive\">(+56.98%)</div></div><div class=\"anaIndex anaOdd\"><a href=\"https://data.humancellatlas.org/explore/projects/73769e0a-5fcd-41f4-9083-41ae08bfa4c1\">A proximal-to-distal survey of healthy adult human small intestine and colon epithelium by single-cell transcriptomics</a></div><div class=\"anaCell anaOdd anaSubcolLeft\"><div class=\"up\"></div></div><div class=\"anaCell anaOdd\">134</div><div class=\"anaCell anaOdd anaSubcolRight\"><div class=\"anaPositive\">(+54.02%)</div></div><div class=\"anaIndex anaEven\"><a href=\"https://data.humancellatlas.org/explore/projects/9f17ed7d-9325-4723-a120-b00e48db20c0\">A single cell atlas of the human liver tumor microenvironment</a></div><div class=\"anaCell anaEven anaSubcolLeft\"><div class=\"new\"></div></div><div class=\"anaCell anaEven\">132</div><div class=\"anaCell anaEven anaSubcolRight\"></div><div class=\"anaIndex anaOdd\"><a href=\"https://data.humancellatlas.org/explore/projects/a80a63f2-e223-4890-81b0-415855b89abc\">Single cell RNA-seq of brain glioblastoma samples</a></div><div class=\"anaCell anaOdd anaSubcolLeft\"><div class=\"up\"></div></div><div class=\"anaCell anaOdd\">131</div><div class=\"anaCell anaOdd anaSubcolRight\"><div class=\"anaPositive\">(+65.82%)</div></div><div class=\"anaIndex anaEven\"><a href=\"https://data.humancellatlas.org/explore/projects/cd61771b-661a-4e19-b269-6e5d95350de6\">Intra- and Inter-cellular Rewiring of the Human Colon during Ulcerative Colitis.</a></div><div class=\"anaCell anaEven anaSubcolLeft\"><div class=\"new\"></div></div><div class=\"anaCell anaEven\">130</div><div class=\"anaCell anaEven anaSubcolRight\"></div><div class=\"anaIndex anaOdd\"><a href=\"https://data.humancellatlas.org/explore/projects/c31fa434-c9ed-4263-a9b6-d9ffb9d44005\">A single-cell atlas of chromatin accessibility in the human genome</a></div><div class=\"anaCell anaOdd anaSubcolLeft\"><div class=\"new\"></div></div><div class=\"anaCell anaOdd\">127</div><div class=\"anaCell anaOdd anaSubcolRight\"></div><div class=\"anaIndex anaEven\"><a href=\"https://data.humancellatlas.org/explore/projects/9746f4e0-d3b2-4543-89b3-10288162851b\">A multi-omic single-cell landscape of human gynecologic malignancies</a></div><div class=\"anaCell anaEven anaSubcolLeft\"><div class=\"down\"></div></div><div class=\"anaCell anaEven\">126</div><div class=\"anaCell anaEven anaSubcolRight\"><div class=\"anaPositive\">(+23.53%)</div></div><div class=\"anaIndex anaOdd\"><a href=\"https://data.humancellatlas.org/explore/projects/e4b18cd2-8f15-490d-b9f1-d118aa067dc3\">Single cell RNA-seq analysis of adult and paediatric IDH-wildtype Glioblastomas</a></div><div class=\"anaCell anaOdd anaSubcolLeft\"><div class=\"new\"></div></div><div class=\"anaCell anaOdd\">124</div><div class=\"anaCell anaOdd anaSubcolRight\"></div><div class=\"anaIndex anaEven\"><a href=\"https://data.humancellatlas.org/explore/projects/065e6c13-ad6b-46a3-8075-c3137eb03068\">Single cell RNA sequencing of human failing heart</a></div><div class=\"anaCell anaEven anaSubcolLeft\"><div class=\"new\"></div></div><div class=\"anaCell anaEven\">123</div><div class=\"anaCell anaEven anaSubcolRight\"></div><div class=\"anaIndex anaOdd\"><a href=\"https://data.humancellatlas.org/explore/projects/9fc0064b-84ce-40a5-a768-e6eb3d364ee0\">Single-cell RNA-seq reveals cell type-specific molecular and genetic associations to lupus</a></div><div class=\"anaCell anaOdd anaSubcolLeft\"><div class=\"new\"></div></div><div class=\"anaCell anaOdd\">118</div><div class=\"anaCell anaOdd anaSubcolRight\"></div><div class=\"anaIndex anaEven\"><a href=\"https://data.humancellatlas.org/explore/projects/4d9d56e4-610d-4748-b57d-f8315e3f53a3\">Refining Colorectal Cancer Classification and Clinical Stratification Through a Single-Cell Atlas</a></div><div class=\"anaCell anaEven anaSubcolLeft\"><div class=\"new\"></div></div><div class=\"anaCell anaEven\">116</div><div class=\"anaCell anaEven anaSubcolRight\"></div><div class=\"anaIndex anaOdd\"><a href=\"https://data.humancellatlas.org/explore/projects/7c75f07c-608d-4c4a-a1b7-b13d11c0ad31\">Single-Cell Map of Diverse Immune Phenotypes in the Breast Tumor Microenvironment.</a></div><div class=\"anaCell anaOdd anaSubcolLeft\"><div class=\"new\"></div></div><div class=\"anaCell anaOdd\">113</div><div class=\"anaCell anaOdd anaSubcolRight\"></div><div class=\"anaIndex anaEven\"><a href=\"https://data.humancellatlas.org/explore/projects/cae461de-ecbd-482f-a5d4-11d607fc12ba\">The landscape of immune dysregulation in Crohn&#x27;s disease revealed through single-cell transcriptomic profiling in the ileum and colon</a></div><div class=\"anaCell anaEven anaSubcolLeft\"><div class=\"new\"></div></div><div class=\"anaCell anaEven\">103</div><div class=\"anaCell anaEven anaSubcolRight\"></div></div><div class=\"analyticsTable\" style=\"grid-template-columns: 1fr var(--symbol-width) minmax(var(--value-width), min-content) minmax(var(--percentage-width), min-content)\"><div class=\"anaIndex anaColName\">Project</div><div class=\"anaColName anaMultiCol\" style=\"grid-column: span 3\">Count</div><div class=\"anaIndex anaEven\"><a href=\"https://data.humancellatlas.org/explore/projects/c0518445-3b3b-49c6-b8fc-c41daa4eacba\">A cellular census of human lungs identifies novel cell states in health and in asthma</a></div><div class=\"anaCell anaEven anaSubcolLeft\"><div class=\"new\"></div></div><div class=\"anaCell anaEven\">103</div><div class=\"anaCell anaEven anaSubcolRight\"></div><div class=\"anaIndex anaOdd\"><a href=\"https://data.humancellatlas.org/explore/projects/258c5e15-d125-4f2d-8b4c-e3122548ec9b\">A Single-Cell Transcriptome Atlas of Glia Diversity in the Human Hippocampus across the Lifespan and in Alzheimer’s Disease</a></div><div class=\"anaCell anaOdd anaSubcolLeft\"><div class=\"down\"></div></div><div class=\"anaCell anaOdd\">103</div><div class=\"anaCell anaOdd anaSubcolRight\"><div class=\"anaPositive\">(+35.53%)</div></div><div class=\"anaIndex anaEven\"><a href=\"https://data.humancellatlas.org/explore/projects/4d6f6c96-2a83-43d8-8fe1-0f53bffd4674\">Dissecting the human liver cellular landscape by single cell RNA-seq reveals novel intrahepatic monocyte/ macrophage populations</a></div><div class=\"anaCell anaEven anaSubcolLeft\"></div><div class=\"anaCell anaEven\">102</div><div class=\"anaCell anaEven anaSubcolRight\"><div class=\"anaPositive\">(+37.84%)</div></div><div class=\"anaIndex anaOdd\"><a href=\"https://data.humancellatlas.org/explore/projects/6663070f-fd8b-41a9-a479-2d1e07afa201\">A single-cell atlas of breast cancer cell lines to study tumour heterogeneity and drug response</a></div><div class=\"anaCell anaOdd anaSubcolLeft\"><div class=\"down\"></div></div><div class=\"anaCell anaOdd\">102</div><div class=\"anaCell anaOdd anaSubcolRight\"><div class=\"anaPositive\">(+22.89%)</div></div><div class=\"anaIndex anaEven\"><a href=\"https://data.humancellatlas.org/explore/projects/e0009214-c0a0-4a7b-96e2-d6a83e966ce0\">Tabula Muris: Transcriptomic characterization of 20 organs and tissues from Mus musculus at single cell resolution</a></div><div class=\"anaCell anaEven anaSubcolLeft\"><div class=\"down\"></div></div><div class=\"anaCell anaEven\">102</div><div class=\"anaCell anaEven anaSubcolRight\"><div class=\"anaPositive\">(+7.37%)</div></div></div>"
      ],
      "text/plain": [
       "<IPython.core.display.HTML object>"
      ]
     },
     "metadata": {},
     "output_type": "display_data"
    }
   ],
   "source": [
    "ac.show_difference_table(\"Count\", \"Project\", \"screenPageViews\", \"pagePathPlusQueryString\", dimension_filter=\"pagePathPlusQueryString=~^(\\\\/explore\\\\/projects\\\\/[0-9a-fA-F]{8}\\\\-[0-9a-fA-F]{4}\\\\-[0-9a-fA-F]{4}\\\\-[0-9a-fA-F]{4}\\\\-[0-9a-fA-F]{12})(\\\\/?\\\\?{0}|\\\\/?\\\\?{1}.*)$\", **default_params)"
   ]
  },
  {
   "cell_type": "markdown",
   "id": "cd9060de",
   "metadata": {
    "tags": [
     "remove-cell"
    ]
   },
   "source": [
    "### Project detail supplementary links visits (from external resources)"
   ]
  },
  {
   "cell_type": "code",
   "execution_count": 51,
   "id": "f714e61d",
   "metadata": {
    "scrolled": true,
    "tags": [
     "remove-input",
     "remove-cell"
    ]
   },
   "outputs": [],
   "source": [
    "# ac.show_difference_table(\"Visits\", \"Link\", \"ga:hits\", [\"ga:dimension4\", \"ga:dimension6\", \"ga:eventLabel\"], filters=\"ga:eventCategory==Project;ga:eventAction==View External Resource\", **default_params)"
   ]
  },
  {
   "cell_type": "markdown",
   "id": "35122750",
   "metadata": {
    "tags": [
     "remove-cell"
    ]
   },
   "source": [
    "### Withdrawn/deprecated projects visits"
   ]
  },
  {
   "cell_type": "code",
   "execution_count": 52,
   "id": "51ac7d90",
   "metadata": {
    "scrolled": false,
    "tags": [
     "remove-input",
     "remove-cell"
    ]
   },
   "outputs": [],
   "source": [
    "# ac.show_difference_table(\"Count\", \"Project Type\", \"ga:hits\", \"ga:eventAction\", filters=\"ga:eventAction=~View Deprecated Project|View Withdrawn Project\", **default_params)"
   ]
  },
  {
   "cell_type": "markdown",
   "id": "644f5c5b",
   "metadata": {
    "tags": [
     "remove-cell"
    ]
   },
   "source": [
    "### Analysis protocol portal links"
   ]
  },
  {
   "cell_type": "code",
   "execution_count": 53,
   "id": "6fb02aa1",
   "metadata": {
    "scrolled": true,
    "tags": [
     "remove-input",
     "remove-cell"
    ]
   },
   "outputs": [],
   "source": [
    "# ac.show_difference_table(\"Count\", \"Analysis Protocol\", \"ga:hits\", \"ga:eventLabel\", filters=\"ga:eventCategory==Portal Link;ga:eventAction==Click\", **default_params)"
   ]
  },
  {
   "cell_type": "markdown",
   "id": "0aea0a13",
   "metadata": {},
   "source": [
    "<div style=\"page-break-after: always\"></div>"
   ]
  },
  {
   "cell_type": "markdown",
   "id": "b4f930db",
   "metadata": {},
   "source": [
    "## Data Portal\n",
    "### Top landing pages"
   ]
  },
  {
   "cell_type": "code",
   "execution_count": 54,
   "id": "5fc13339",
   "metadata": {
    "scrolled": true,
    "tags": [
     "remove-input"
    ]
   },
   "outputs": [
    {
     "data": {
      "text/html": [
       "<div class=\"analyticsTable\" style=\"grid-template-columns: 1fr var(--symbol-width) minmax(var(--value-width), min-content) minmax(var(--percentage-width), min-content)\"><div class=\"anaIndex anaColName\">Path</div><div class=\"anaColName anaMultiCol\" style=\"grid-column: span 3\">Count</div><div class=\"anaIndex anaEven\"><a href=\"https://data.humancellatlas.org/\">/</a></div><div class=\"anaCell anaEven anaSubcolLeft\"><div class=\"up\"></div></div><div class=\"anaCell anaEven\">3593</div><div class=\"anaCell anaEven anaSubcolRight\"><div class=\"anaPositive\">(+474.88%)</div></div><div class=\"anaIndex anaOdd\">(not set)</div><div class=\"anaCell anaOdd anaSubcolLeft\"></div><div class=\"anaCell anaOdd\">1941</div><div class=\"anaCell anaOdd anaSubcolRight\"><div class=\"anaPositive\">(+38.25%)</div></div><div class=\"anaIndex anaEven\"><a href=\"https://data.humancellatlas.org/explore/projects\">/explore/projects</a></div><div class=\"anaCell anaEven anaSubcolLeft\"></div><div class=\"anaCell anaEven\">1010</div><div class=\"anaCell anaEven anaSubcolRight\"><div class=\"anaPositive\">(+30.15%)</div></div><div class=\"anaIndex anaOdd\"><a href=\"https://data.humancellatlas.org/analyze/portals/single-cell-expression-atlas\">/analyze/portals/single-cell-expression-atlas</a></div><div class=\"anaCell anaOdd anaSubcolLeft\"><div class=\"up\"></div></div><div class=\"anaCell anaOdd\">325</div><div class=\"anaCell anaOdd anaSubcolRight\"><div class=\"anaNegative\">(-12.87%)</div></div><div class=\"anaIndex anaEven\"><a href=\"https://data.humancellatlas.org/explore/projects/cc95ff89-2e68-4a08-a234-480eca21ce79\">A single cell immune cell atlas of human hematopoietic system</a></div><div class=\"anaCell anaEven anaSubcolLeft\"><div class=\"up\"></div></div><div class=\"anaCell anaEven\">232</div><div class=\"anaCell anaEven anaSubcolRight\"><div class=\"anaNegative\">(-3.33%)</div></div><div class=\"anaIndex anaOdd\"><a href=\"https://data.humancellatlas.org/contribute\">/contribute</a></div><div class=\"anaCell anaOdd anaSubcolLeft\"><div class=\"up\"></div></div><div class=\"anaCell anaOdd\">226</div><div class=\"anaCell anaOdd anaSubcolRight\"><div class=\"anaPositive\">(+1.80%)</div></div><div class=\"anaIndex anaEven\"><a href=\"https://data.humancellatlas.org/analyze/methods/infer\">/analyze/methods/infer</a></div><div class=\"anaCell anaEven anaSubcolLeft\"></div><div class=\"anaCell anaEven\">216</div><div class=\"anaCell anaEven anaSubcolRight\"><div class=\"anaNegative\">(-4.00%)</div></div><div class=\"anaIndex anaOdd\"><a href=\"https://data.humancellatlas.org/analyze/portals/cellxgene\">/analyze/portals/cellxgene</a></div><div class=\"anaCell anaOdd anaSubcolLeft\"><div class=\"up\"></div></div><div class=\"anaCell anaOdd\">156</div><div class=\"anaCell anaOdd anaSubcolRight\"><div class=\"anaPositive\">(+28.93%)</div></div><div class=\"anaIndex anaEven\"><a href=\"https://data.humancellatlas.org/pipelines/smart-seq2-workflow\">/pipelines/smart-seq2-workflow</a></div><div class=\"anaCell anaEven anaSubcolLeft\"></div><div class=\"anaCell anaEven\">126</div><div class=\"anaCell anaEven anaSubcolRight\"><div class=\"anaNegative\">(-4.55%)</div></div><div class=\"anaIndex anaOdd\"><a href=\"https://data.humancellatlas.org/explore/projects/091cf39b-01bc-42e5-9437-f419a66c8a45\">Profiling of CD34+ cells from human bone marrow to understand hematopoiesis</a></div><div class=\"anaCell anaOdd anaSubcolLeft\"><div class=\"up\"></div></div><div class=\"anaCell anaOdd\">103</div><div class=\"anaCell anaOdd anaSubcolRight\"><div class=\"anaPositive\">(+101.96%)</div></div><div class=\"anaIndex anaEven\"><a href=\"https://data.humancellatlas.org/explore/projects/e9f36305-d857-44a3-93f0-df4e6007dc97\">Spatial multi-omic map of human myocardial infarction</a></div><div class=\"anaCell anaEven anaSubcolLeft\"></div><div class=\"anaCell anaEven\">103</div><div class=\"anaCell anaEven anaSubcolRight\"><div class=\"anaNegative\">(-2.83%)</div></div><div class=\"anaIndex anaOdd\"><a href=\"https://data.humancellatlas.org/analyze/portals/single-cell-portal\">/analyze/portals/single-cell-portal</a></div><div class=\"anaCell anaOdd anaSubcolLeft\"><div class=\"up\"></div></div><div class=\"anaCell anaOdd\">74</div><div class=\"anaCell anaOdd anaSubcolRight\"><div class=\"anaPositive\">(+15.62%)</div></div><div class=\"anaIndex anaEven\"><a href=\"https://data.humancellatlas.org/explore/projects/a9301beb-e9fa-42fe-b75c-84e8a460c733\">A human cell atlas of fetal gene expression.</a></div><div class=\"anaCell anaEven anaSubcolLeft\"><div class=\"up\"></div></div><div class=\"anaCell anaEven\">67</div><div class=\"anaCell anaEven anaSubcolRight\"><div class=\"anaPositive\">(+9.84%)</div></div><div class=\"anaIndex anaOdd\"><a href=\"https://data.humancellatlas.org/analyze\">/analyze</a></div><div class=\"anaCell anaOdd anaSubcolLeft\"><div class=\"down\"></div></div><div class=\"anaCell anaOdd\">64</div><div class=\"anaCell anaOdd anaSubcolRight\"><div class=\"anaNegative\">(-8.57%)</div></div><div class=\"anaIndex anaEven\"><a href=\"https://data.humancellatlas.org/explore/projects/f0f89c14-7460-4bab-9d42-22228a91f185\">AIDA</a></div><div class=\"anaCell anaEven anaSubcolLeft\"><div class=\"down\"></div></div><div class=\"anaCell anaEven\">64</div><div class=\"anaCell anaEven anaSubcolRight\"><div class=\"anaNegative\">(-4.48%)</div></div><div class=\"anaIndex anaOdd\"><a href=\"https://data.humancellatlas.org/explore/projects/10201832-7c73-4033-9b65-3ef13d81656a\">The Tabula Sapiens: a single cell transcriptomic atlas of multiple organs from individual human donors</a></div><div class=\"anaCell anaOdd anaSubcolLeft\"><div class=\"down\"></div></div><div class=\"anaCell anaOdd\">60</div><div class=\"anaCell anaOdd anaSubcolRight\"><div class=\"anaNegative\">(-10.45%)</div></div><div class=\"anaIndex anaEven\"><a href=\"https://data.humancellatlas.org/analyze/portals/asap\">/analyze/portals/asap</a></div><div class=\"anaCell anaEven anaSubcolLeft\"><div class=\"new\"></div></div><div class=\"anaCell anaEven\">59</div><div class=\"anaCell anaEven anaSubcolRight\"></div><div class=\"anaIndex anaOdd\"><a href=\"https://data.humancellatlas.org/analyze/portals/synecosys\">/analyze/portals/synecosys</a></div><div class=\"anaCell anaOdd anaSubcolLeft\"><div class=\"down\"></div></div><div class=\"anaCell anaOdd\">59</div><div class=\"anaCell anaOdd anaSubcolRight\"><div class=\"anaNegative\">(-4.84%)</div></div><div class=\"anaIndex anaEven\"><a href=\"https://data.humancellatlas.org/explore/projects/74b6d569-3b11-42ef-b6b1-a0454522b4a0\">1.3 Million Brain Cells from E18 Mice</a></div><div class=\"anaCell anaEven anaSubcolLeft\"><div class=\"up\"></div></div><div class=\"anaCell anaEven\">55</div><div class=\"anaCell anaEven anaSubcolRight\"><div class=\"anaPositive\">(+44.74%)</div></div><div class=\"anaIndex anaOdd\"><a href=\"https://data.humancellatlas.org/explore/projects/73769e0a-5fcd-41f4-9083-41ae08bfa4c1\">A proximal-to-distal survey of healthy adult human small intestine and colon epithelium by single-cell transcriptomics</a></div><div class=\"anaCell anaOdd anaSubcolLeft\"><div class=\"new\"></div></div><div class=\"anaCell anaOdd\">53</div><div class=\"anaCell anaOdd anaSubcolRight\"></div><div class=\"anaIndex anaEven\"><a href=\"https://data.humancellatlas.org/explore/projects/c31fa434-c9ed-4263-a9b6-d9ffb9d44005\">A single-cell atlas of chromatin accessibility in the human genome</a></div><div class=\"anaCell anaEven anaSubcolLeft\"><div class=\"new\"></div></div><div class=\"anaCell anaEven\">53</div><div class=\"anaCell anaEven anaSubcolRight\"></div><div class=\"anaIndex anaOdd\"><a href=\"https://data.humancellatlas.org/explore/projects/ad98d3cd-26fb-4ee3-99c9-8a2ab085e737\">Cells of the adult human heart</a></div><div class=\"anaCell anaOdd anaSubcolLeft\"><div class=\"down\"></div></div><div class=\"anaCell anaOdd\">52</div><div class=\"anaCell anaOdd anaSubcolRight\"><div class=\"anaPositive\">(+1.96%)</div></div><div class=\"anaIndex anaEven\"><a href=\"https://data.humancellatlas.org/explore/projects/a62dae2e-cd69-4d5c-b5f8-4f7e8abdbafa\">A single-cell and single-nucleus RNA-seq toolbox for fresh and frozen human tumors.</a></div><div class=\"anaCell anaEven anaSubcolLeft\"><div class=\"down\"></div></div><div class=\"anaCell anaEven\">48</div><div class=\"anaCell anaEven anaSubcolRight\"><div class=\"anaNegative\">(-4.00%)</div></div><div class=\"anaIndex anaOdd\"><a href=\"https://data.humancellatlas.org/explore/files\">/explore/files</a></div><div class=\"anaCell anaOdd anaSubcolLeft\"><div class=\"new\"></div></div><div class=\"anaCell anaOdd\">47</div><div class=\"anaCell anaOdd anaSubcolRight\"></div><div class=\"anaIndex anaEven\"><a href=\"https://data.humancellatlas.org/explore/projects/9c20a245-f2c0-43ae-82c9-2232ec6b594f\">A multi-omics atlas of the human retina at single-cell resolution</a></div><div class=\"anaCell anaEven anaSubcolLeft\"><div class=\"down\"></div></div><div class=\"anaCell anaEven\">46</div><div class=\"anaCell anaEven anaSubcolRight\"><div class=\"anaNegative\">(-6.12%)</div></div><div class=\"anaIndex anaOdd\"><a href=\"https://data.humancellatlas.org/explore/projects/8185730f-4113-40d3-9cc3-929271784c2b\">A single-cell transcriptome atlas of the adult human retina</a></div><div class=\"anaCell anaOdd anaSubcolLeft\"><div class=\"down\"></div></div><div class=\"anaCell anaOdd\">45</div><div class=\"anaCell anaOdd anaSubcolRight\"><div class=\"anaNegative\">(-26.23%)</div></div><div class=\"anaIndex anaEven\"><a href=\"https://data.humancellatlas.org/explore/projects/a80a63f2-e223-4890-81b0-415855b89abc\">Single cell RNA-seq of brain glioblastoma samples</a></div><div class=\"anaCell anaEven anaSubcolLeft\"><div class=\"new\"></div></div><div class=\"anaCell anaEven\">45</div><div class=\"anaCell anaEven anaSubcolRight\"></div><div class=\"anaIndex anaOdd\"><a href=\"https://data.humancellatlas.org/explore/projects/6621c827-b57a-4268-bc80-df4049140193\">Single cell transcriptome atlases of the developing mouse and human spinal cord.</a></div><div class=\"anaCell anaOdd anaSubcolLeft\"><div class=\"new\"></div></div><div class=\"anaCell anaOdd\">42</div><div class=\"anaCell anaOdd anaSubcolRight\"></div></div>"
      ],
      "text/plain": [
       "<IPython.core.display.HTML object>"
      ]
     },
     "metadata": {},
     "output_type": "display_data"
    }
   ],
   "source": [
    "ac.show_difference_table(\"Count\", \"Path\", \"sessions\", \"landingPage\", dimension_filter=\"landingPage!~^\\/explore\", **default_params)"
   ]
  },
  {
   "cell_type": "markdown",
   "id": "5acab9fc",
   "metadata": {},
   "source": [
    "<div style=\"page-break-after: always\"></div>"
   ]
  },
  {
   "cell_type": "markdown",
   "id": "de401b92",
   "metadata": {},
   "source": [
    "### Top pages"
   ]
  },
  {
   "cell_type": "code",
   "execution_count": 61,
   "id": "bc0752ae",
   "metadata": {
    "scrolled": true,
    "tags": [
     "remove-input"
    ]
   },
   "outputs": [
    {
     "data": {
      "text/html": [
       "<div class=\"analyticsTable\" style=\"grid-template-columns: 1fr var(--symbol-width) minmax(var(--value-width), min-content) minmax(var(--percentage-width), min-content)\"><div class=\"anaIndex anaColName\">Path</div><div class=\"anaColName anaMultiCol\" style=\"grid-column: span 3\">Count</div><div class=\"anaIndex anaEven\"><a href=\"https://data.humancellatlas.org/explore/projects\">/explore/projects</a></div><div class=\"anaCell anaEven anaSubcolLeft\"></div><div class=\"anaCell anaEven\">20070</div><div class=\"anaCell anaEven anaSubcolRight\"><div class=\"anaPositive\">(+78.12%)</div></div><div class=\"anaIndex anaOdd\"><a href=\"https://data.humancellatlas.org/\">/</a></div><div class=\"anaCell anaOdd anaSubcolLeft\"></div><div class=\"anaCell anaOdd\">5822</div><div class=\"anaCell anaOdd anaSubcolRight\"><div class=\"anaPositive\">(+14.18%)</div></div><div class=\"anaIndex anaEven\"><a href=\"https://data.humancellatlas.org/analyze\">/analyze</a></div><div class=\"anaCell anaEven anaSubcolLeft\"></div><div class=\"anaCell anaEven\">962</div><div class=\"anaCell anaEven anaSubcolRight\"><div class=\"anaPositive\">(+44.23%)</div></div><div class=\"anaIndex anaOdd\"><a href=\"https://data.humancellatlas.org/explore/files\">/explore/files</a></div><div class=\"anaCell anaOdd anaSubcolLeft\"><div class=\"up\"></div></div><div class=\"anaCell anaOdd\">960</div><div class=\"anaCell anaOdd anaSubcolRight\"><div class=\"anaPositive\">(+295.06%)</div></div><div class=\"anaIndex anaEven\"><a href=\"https://data.humancellatlas.org/explore/projects/cc95ff89-2e68-4a08-a234-480eca21ce79\">A single cell immune cell atlas of human hematopoietic system</a></div><div class=\"anaCell anaEven anaSubcolLeft\"><div class=\"down\"></div></div><div class=\"anaCell anaEven\">834</div><div class=\"anaCell anaEven anaSubcolRight\"><div class=\"anaPositive\">(+25.98%)</div></div><div class=\"anaIndex anaOdd\"><a href=\"https://data.humancellatlas.org/explore/samples\">/explore/samples</a></div><div class=\"anaCell anaOdd anaSubcolLeft\"><div class=\"up\"></div></div><div class=\"anaCell anaOdd\">795</div><div class=\"anaCell anaOdd anaSubcolRight\"><div class=\"anaPositive\">(+140.91%)</div></div><div class=\"anaIndex anaEven\"><a href=\"https://data.humancellatlas.org/explore/export\">/explore/export</a></div><div class=\"anaCell anaEven anaSubcolLeft\"><div class=\"down\"></div></div><div class=\"anaCell anaEven\">783</div><div class=\"anaCell anaEven anaSubcolRight\"><div class=\"anaPositive\">(+34.54%)</div></div><div class=\"anaIndex anaOdd\"><a href=\"https://data.humancellatlas.org/metadata\">/metadata</a></div><div class=\"anaCell anaOdd anaSubcolLeft\"><div class=\"down\"></div></div><div class=\"anaCell anaOdd\">592</div><div class=\"anaCell anaOdd anaSubcolRight\"><div class=\"anaPositive\">(+62.64%)</div></div><div class=\"anaIndex anaEven\"><a href=\"https://data.humancellatlas.org/explore/export/get-curl-command\">/explore/export/get-curl-command</a></div><div class=\"anaCell anaEven anaSubcolLeft\"><div class=\"up\"></div></div><div class=\"anaCell anaEven\">584</div><div class=\"anaCell anaEven anaSubcolRight\"><div class=\"anaPositive\">(+126.36%)</div></div><div class=\"anaIndex anaOdd\"><a href=\"https://data.humancellatlas.org/search\">/search</a></div><div class=\"anaCell anaOdd anaSubcolLeft\"><div class=\"up\"></div></div><div class=\"anaCell anaOdd\">535</div><div class=\"anaCell anaOdd anaSubcolRight\"><div class=\"anaPositive\">(+126.69%)</div></div><div class=\"anaIndex anaEven\"><a href=\"https://data.humancellatlas.org/analyze/portals/single-cell-expression-atlas\">/analyze/portals/single-cell-expression-atlas</a></div><div class=\"anaCell anaEven anaSubcolLeft\"><div class=\"down\"></div></div><div class=\"anaCell anaEven\">505</div><div class=\"anaCell anaEven anaSubcolRight\"><div class=\"anaPositive\">(+0.40%)</div></div><div class=\"anaIndex anaOdd\"><a href=\"https://data.humancellatlas.org/guides\">/guides</a></div><div class=\"anaCell anaOdd anaSubcolLeft\"><div class=\"down\"></div></div><div class=\"anaCell anaOdd\">502</div><div class=\"anaCell anaOdd anaSubcolRight\"><div class=\"anaPositive\">(+69.59%)</div></div><div class=\"anaIndex anaEven\"><a href=\"https://data.humancellatlas.org/contribute\">/contribute</a></div><div class=\"anaCell anaEven anaSubcolLeft\"><div class=\"down\"></div></div><div class=\"anaCell anaEven\">419</div><div class=\"anaCell anaEven anaSubcolRight\"><div class=\"anaPositive\">(+23.24%)</div></div><div class=\"anaIndex anaOdd\"><a href=\"https://data.humancellatlas.org/pipelines\">/pipelines</a></div><div class=\"anaCell anaOdd anaSubcolLeft\"><div class=\"up\"></div></div><div class=\"anaCell anaOdd\">391</div><div class=\"anaCell anaOdd anaSubcolRight\"><div class=\"anaPositive\">(+62.92%)</div></div><div class=\"anaIndex anaEven\"><a href=\"https://data.humancellatlas.org/explore/export/get-curl-command/select-species\">/explore/export/get-curl-command/select-species</a></div><div class=\"anaCell anaEven anaSubcolLeft\"><div class=\"down\"></div></div><div class=\"anaCell anaEven\">320</div><div class=\"anaCell anaEven anaSubcolRight\"><div class=\"anaNegative\">(-8.31%)</div></div><div class=\"anaIndex anaOdd\"><a href=\"https://data.humancellatlas.org/analyze/portals/cellxgene\">/analyze/portals/cellxgene</a></div><div class=\"anaCell anaOdd anaSubcolLeft\"><div class=\"up\"></div></div><div class=\"anaCell anaOdd\">297</div><div class=\"anaCell anaOdd anaSubcolRight\"><div class=\"anaPositive\">(+62.30%)</div></div><div class=\"anaIndex anaEven\"><a href=\"https://data.humancellatlas.org/explore/projects/a9301beb-e9fa-42fe-b75c-84e8a460c733\">A human cell atlas of fetal gene expression.</a></div><div class=\"anaCell anaEven anaSubcolLeft\"><div class=\"up\"></div></div><div class=\"anaCell anaEven\">256</div><div class=\"anaCell anaEven anaSubcolRight\"><div class=\"anaPositive\">(+64.10%)</div></div><div class=\"anaIndex anaOdd\"><a href=\"https://data.humancellatlas.org/analyze/methods/infer\">/analyze/methods/infer</a></div><div class=\"anaCell anaOdd anaSubcolLeft\"><div class=\"down\"></div></div><div class=\"anaCell anaOdd\">254</div><div class=\"anaCell anaOdd anaSubcolRight\"><div class=\"anaNegative\">(-3.05%)</div></div><div class=\"anaIndex anaEven\"><a href=\"https://data.humancellatlas.org/explore/projects/74b6d569-3b11-42ef-b6b1-a0454522b4a0\">1.3 Million Brain Cells from E18 Mice</a></div><div class=\"anaCell anaEven anaSubcolLeft\"><div class=\"up\"></div></div><div class=\"anaCell anaEven\">253</div><div class=\"anaCell anaEven anaSubcolRight\"><div class=\"anaPositive\">(+53.33%)</div></div><div class=\"anaIndex anaOdd\"><a href=\"https://data.humancellatlas.org/explore/projects/1fac187b-1c3f-41c4-b6b6-6a9a8c0489d1\">Construction of A Human Cell Landscape by Single-cell mRNA-seq</a></div><div class=\"anaCell anaOdd anaSubcolLeft\"><div class=\"down\"></div></div><div class=\"anaCell anaOdd\">240</div><div class=\"anaCell anaOdd anaSubcolRight\"><div class=\"anaPositive\">(+21.83%)</div></div><div class=\"anaIndex anaEven\"><a href=\"https://data.humancellatlas.org/explore/projects/e9f36305-d857-44a3-93f0-df4e6007dc97\">Spatial multi-omic map of human myocardial infarction</a></div><div class=\"anaCell anaEven anaSubcolLeft\"><div class=\"down\"></div></div><div class=\"anaCell anaEven\">238</div><div class=\"anaCell anaEven anaSubcolRight\"><div class=\"anaPositive\">(+36.00%)</div></div><div class=\"anaIndex anaOdd\"><a href=\"https://data.humancellatlas.org/explore/export/download-manifest\">/explore/export/download-manifest</a></div><div class=\"anaCell anaOdd anaSubcolLeft\"><div class=\"new\"></div></div><div class=\"anaCell anaOdd\">228</div><div class=\"anaCell anaOdd anaSubcolRight\"></div><div class=\"anaIndex anaEven\"><a href=\"https://data.humancellatlas.org/analyze/portals/asap\">/analyze/portals/asap</a></div><div class=\"anaCell anaEven anaSubcolLeft\"><div class=\"up\"></div></div><div class=\"anaCell anaEven\">227</div><div class=\"anaCell anaEven anaSubcolRight\"><div class=\"anaPositive\">(+94.02%)</div></div><div class=\"anaIndex anaOdd\"><a href=\"https://data.humancellatlas.org/explore/projects/f0f89c14-7460-4bab-9d42-22228a91f185\">AIDA</a></div><div class=\"anaCell anaOdd anaSubcolLeft\"><div class=\"new\"></div></div><div class=\"anaCell anaOdd\">225</div><div class=\"anaCell anaOdd anaSubcolRight\"></div><div class=\"anaIndex anaEven\"><a href=\"https://data.humancellatlas.org/analyze/portals/single-cell-portal\">/analyze/portals/single-cell-portal</a></div><div class=\"anaCell anaEven anaSubcolLeft\"><div class=\"up\"></div></div><div class=\"anaCell anaEven\">221</div><div class=\"anaCell anaEven anaSubcolRight\"><div class=\"anaPositive\">(+56.74%)</div></div><div class=\"anaIndex anaOdd\"><a href=\"https://data.humancellatlas.org/explore/projects/10201832-7c73-4033-9b65-3ef13d81656a\">The Tabula Sapiens: a single cell transcriptomic atlas of multiple organs from individual human donors</a></div><div class=\"anaCell anaOdd anaSubcolLeft\"><div class=\"down\"></div></div><div class=\"anaCell anaOdd\">206</div><div class=\"anaCell anaOdd anaSubcolRight\"><div class=\"anaPositive\">(+18.39%)</div></div><div class=\"anaIndex anaEven\"><a href=\"https://data.humancellatlas.org/explore/projects/94e4ee09-9b4b-410a-84dc-a751ad36d0df\">A Human Liver Cell Atlas reveals Heterogeneity and Epithelial Progenitors</a></div><div class=\"anaCell anaEven anaSubcolLeft\"><div class=\"new\"></div></div><div class=\"anaCell anaEven\">198</div><div class=\"anaCell anaEven anaSubcolRight\"></div><div class=\"anaIndex anaOdd\"><a href=\"https://data.humancellatlas.org/explore/projects/cdabcf0b-7602-4abf-9afb-3b410e545703\">A blood atlas of COVID-19 defines hallmarks of disease severity and specificity</a></div><div class=\"anaCell anaOdd anaSubcolLeft\"><div class=\"new\"></div></div><div class=\"anaCell anaOdd\">191</div><div class=\"anaCell anaOdd anaSubcolRight\"></div><div class=\"anaIndex anaEven\"><a href=\"https://data.humancellatlas.org/dcp-updates\">/dcp-updates</a></div><div class=\"anaCell anaEven anaSubcolLeft\"><div class=\"down\"></div></div><div class=\"anaCell anaEven\">188</div><div class=\"anaCell anaEven anaSubcolRight\"><div class=\"anaPositive\">(+15.34%)</div></div><div class=\"anaIndex anaOdd\"><a href=\"https://data.humancellatlas.org/explore/projects/ad98d3cd-26fb-4ee3-99c9-8a2ab085e737\">Cells of the adult human heart</a></div><div class=\"anaCell anaOdd anaSubcolLeft\"><div class=\"new\"></div></div><div class=\"anaCell anaOdd\">176</div><div class=\"anaCell anaOdd anaSubcolRight\"></div></div>"
      ],
      "text/plain": [
       "<IPython.core.display.HTML object>"
      ]
     },
     "metadata": {},
     "output_type": "display_data"
    }
   ],
   "source": [
    "ac.show_difference_table(\"Count\", \"Path\", \"screenPageViews\", \"pagePath\", dimension_filter=\"pagePath!~^\\/explore\", **default_params)"
   ]
  },
  {
   "cell_type": "markdown",
   "id": "88ccb4a9",
   "metadata": {
    "tags": [
     "remove-cell"
    ]
   },
   "source": [
    "### Top searches"
   ]
  },
  {
   "cell_type": "code",
   "execution_count": 56,
   "id": "f8fc0670",
   "metadata": {
    "scrolled": true,
    "tags": [
     "remove-input",
     "remove-cell"
    ]
   },
   "outputs": [],
   "source": [
    "# ac.show_difference_table(\"Count\", \"Search Text\", \"ga:hits\", [\"ga:eventLabel\", \"ga:eventAction\"], filters=\"ga:eventCategory==Search;ga:eventAction==Enter Text\", **default_params)"
   ]
  },
  {
   "cell_type": "markdown",
   "id": "03dd7c38",
   "metadata": {
    "tags": [
     "remove-cell"
    ]
   },
   "source": [
    "### Top selected search results"
   ]
  },
  {
   "cell_type": "code",
   "execution_count": 57,
   "id": "353d5667",
   "metadata": {
    "scrolled": true,
    "tags": [
     "remove-input",
     "remove-cell"
    ]
   },
   "outputs": [],
   "source": [
    "# ac.show_difference_table(\"Count\", \"Search Result\", \"ga:hits\", [\"ga:eventLabel\", \"ga:eventAction\"], filters=\"ga:eventCategory==Search;ga:eventAction==Click\", **default_params)"
   ]
  },
  {
   "cell_type": "markdown",
   "id": "744f7d6d",
   "metadata": {},
   "source": [
    "<div style=\"page-break-after: always\"></div>"
   ]
  }
 ],
 "metadata": {
  "celltoolbar": "Tags",
  "kernelspec": {
   "display_name": "hca-analytics",
   "language": "python",
   "name": "hca-analytics"
  },
  "language_info": {
   "codemirror_mode": {
    "name": "ipython",
    "version": 3
   },
   "file_extension": ".py",
   "mimetype": "text/x-python",
   "name": "python",
   "nbconvert_exporter": "python",
   "pygments_lexer": "ipython3",
   "version": "3.9.7"
  }
 },
 "nbformat": 4,
 "nbformat_minor": 5
}
