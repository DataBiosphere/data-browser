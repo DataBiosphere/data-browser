{
 "cells": [
  {
   "attachments": {},
   "cell_type": "markdown",
   "id": "deae0147",
   "metadata": {},
   "source": [
    "```{image} lungmap-logo.png\n",
    ":width: 200px\n",
    ":class: analytics-logo\n",
    "```\n",
    "\n",
    "# LungMAP User Analytics - February vs January 2024\n",
    "\n",
    "This section displays metrics collected from Google Analytics for the LungMAP Data Browser at https://data-browser.lungmap.net and compares February 2024 with the previous month (January 2024). The generation of this report is now coded in Jupyter notebooks and can be rerun easily and modified or consolidated as desired.\n",
    "\n",
    "## Key to tables\n",
    "\n",
    "On the tables:\n",
    "\n",
    "* Diffs, e.g. <span style=\"color: green\">(+19.04%)</span> or <span style=\"color: red\">(-12.03%)</span>, compare the later month with the previous month.\n",
    "* \"+\" Indicates the entry is new in the report in the current month.\n",
    "* \"↑\" Indicates the entry has moved up in rank since the last month.\n",
    "* \"↓\" Indicates the entry has moved down in rank since the last month."
   ]
  },
  {
   "cell_type": "code",
   "execution_count": 31,
   "id": "745ae0bc",
   "metadata": {
    "tags": [
     "remove-cell"
    ]
   },
   "outputs": [],
   "source": [
    "import warnings\n",
    "warnings.filterwarnings('ignore')"
   ]
  },
  {
   "cell_type": "code",
   "execution_count": 32,
   "id": "c9808a5d",
   "metadata": {
    "tags": [
     "remove-cell"
    ]
   },
   "outputs": [],
   "source": [
    "# !pip install google_auth_oauthlib \n",
    "# !pip install install google-api-python-client\n",
    "# !pip install pandas \n",
    "# !pip install numpy\n",
    "# !pip install matplotlib\n",
    "# !pip install google-cloud-bigquery\n",
    "# !pip install db-dtypes\n",
    "\n",
    "# Analytics package:\n",
    "# !pip install -e \"git+https://github.com/DataBiosphere/data-browser.git@5042e623bfe6ad8404be5f60e1ddb3c0e8e7d6b3#egg=analytics&subdirectory=analytics/hdgar-book/analytics_package\""
   ]
  },
  {
   "cell_type": "code",
   "execution_count": 33,
   "id": "6fe30dbc",
   "metadata": {
    "tags": [
     "remove-cell"
    ]
   },
   "outputs": [
    {
     "name": "stdout",
     "output_type": "stream",
     "text": [
      "The autoreload extension is already loaded. To reload it, use:\n",
      "  %reload_ext autoreload\n"
     ]
    }
   ],
   "source": [
    "from IPython.display import display\n",
    "\n",
    "%load_ext autoreload\n",
    "%autoreload 2\n",
    "\n",
    "import analytics.charts as ac\n",
    "import analytics_lungmap as lm\n",
    "\n",
    "GA_PROPERTY = \"362871218\" # data-browser.lungmap.net - GA4\n",
    "ANALYTICS_START = \"2021-05-01\"\n",
    "TODAY = 'today'\n",
    "PERIOD = \"2024-02\"\n",
    "PREV_PERIOD = \"2024-01\"\n",
    "SECRET_NAME = 'ANALYTICS_REPORTING_CLIENT_SECRET_PATH'\n",
    "\n",
    "GA3_END = \"2023-06-30\"\n",
    "GA4_START = \"2023-07-01\"\n"
   ]
  },
  {
   "cell_type": "code",
   "execution_count": 34,
   "id": "09743293",
   "metadata": {
    "tags": [
     "remove-cell"
    ]
   },
   "outputs": [
    {
     "name": "stdout",
     "output_type": "stream",
     "text": [
      "Please visit this URL to authorize this application: https://accounts.google.com/o/oauth2/auth?response_type=code&client_id=713613812354-ccedl8colb27q3q6rvvvjqrpb5tcbuug.apps.googleusercontent.com&redirect_uri=http%3A%2F%2Flocalhost%3A8083%2F&scope=https%3A%2F%2Fwww.googleapis.com%2Fauth%2Fanalytics.readonly&state=HemZ2gwVuBuAmfif2KPQ2vwBkQoaMz&access_type=offline\n"
     ]
    }
   ],
   "source": [
    "default_params = {\n",
    "    \"service_system\": ac.authenticate_ga4(SECRET_NAME),\n",
    "    \"property\": GA_PROPERTY,\n",
    "    \"index_key_formatter\": lm.adjust_table_index_key,\n",
    "    \"period\": PERIOD,\n",
    "    \"prev_period\": PREV_PERIOD\n",
    "}"
   ]
  },
  {
   "cell_type": "code",
   "execution_count": 35,
   "id": "09baba12",
   "metadata": {
    "tags": [
     "remove-input"
    ]
   },
   "outputs": [
    {
     "data": {
      "text/html": [
       "\n",
       "\t\t<style>\n",
       "\t\t\t\n",
       "\t\t\t.analyticsTable {\n",
       "\t\t\t\tdisplay: grid;\n",
       "\t\t\t\t--symbol-width: 1.5em;\n",
       "\t\t\t\t--value-width: 2.9em;\n",
       "\t\t\t\t--percentage-width: 6.8em;\n",
       "\t\t\t}\n",
       "\t\t\t\n",
       "\t\t\t/*\n",
       "\t\t\t.anaEven {\n",
       "\t\t\t\tbackground: #f5f5f5;\n",
       "\t\t\t}\n",
       "\t\t\t*/\n",
       "\t\t\t\n",
       "\t\t\t.anaIndex:not(.anaColName) {\n",
       "\t\t\t\twhite-space: pre-wrap;\n",
       "\t\t\t\tline-break: anywhere;\n",
       "\t\t\t\tword-break: break-all;\n",
       "\t\t\t}\n",
       "\t\t\t\n",
       "\t\t\t.anaColName {\n",
       "\t\t\t\tfont-weight: bold;\n",
       "\t\t\t\tborder-bottom: 1px solid black;\n",
       "\t\t\t}\n",
       "\t\t\t\n",
       "\t\t\t.anaIndex, .anaColName, .anaCell {\n",
       "\t\t\t\tpadding: 0.3em;\n",
       "\t\t\t}\n",
       "\t\t\t\n",
       "\t\t\t.anaSubcolLeft, .anaIndex {\n",
       "\t\t\t\tpadding-left: 1em;\n",
       "\t\t\t}\n",
       "\t\t\t\n",
       "\t\t\t.anaSubcolRight {\n",
       "\t\t\t\tpadding-right: 1em;\n",
       "\t\t\t}\n",
       "\t\t\t\n",
       "\t\t\t.anaColName:not(.anaIndex) {\n",
       "\t\t\t\ttext-align: right;\n",
       "\t\t\t}\n",
       "\n",
       "\t\t\t.anaColName.anaMultiCol {\n",
       "\t\t\t\ttext-align: center;\n",
       "\t\t\t}\n",
       "\t\t\t\n",
       "\t\t\t.anaCell:not(.anaIndex) {\n",
       "\t\t\t\ttext-align: right;\n",
       "\t\t\t}\n",
       "\t\t\t\n",
       "\t\t\t.analyticsTable .up::before {\n",
       "\t\t\t\tcontent: \"↑\";\n",
       "\t\t\t\tcolor: gray;\n",
       "\t\t\t}\n",
       "\t\t\t\n",
       "\t\t\t.analyticsTable .down::before {\n",
       "\t\t\t\tcontent: \"↓\";\n",
       "\t\t\t\tcolor: gray;\n",
       "\t\t\t}\n",
       "\t\t\t\n",
       "\t\t\t.analyticsTable .new::before {\n",
       "\t\t\t\tcontent: \"+\";\n",
       "\t\t\t\tcolor: gray;\n",
       "\t\t\t}\n",
       "\t\t\t\n",
       "\t\t\t.anaPositive {\n",
       "\t\t\t\tcolor: green;\n",
       "\t\t\t}\n",
       "\t\t\t\n",
       "\t\t\t.anaNegative {\n",
       "\t\t\t\tcolor: red;\n",
       "\t\t\t}\n",
       "\t\t\t\n",
       "\t\t</style>\n",
       "\t"
      ],
      "text/plain": [
       "<IPython.core.display.HTML object>"
      ]
     },
     "metadata": {},
     "output_type": "display_data"
    }
   ],
   "source": [
    "ac.init_tables()"
   ]
  },
  {
   "cell_type": "code",
   "execution_count": 36,
   "id": "4be30299",
   "metadata": {
    "tags": [
     "remove-cell"
    ]
   },
   "outputs": [],
   "source": [
    "# ga3_service_system = ac.authenticate_ga(SECRET_NAME)"
   ]
  },
  {
   "cell_type": "code",
   "execution_count": 37,
   "id": "4d33899b",
   "metadata": {
    "tags": [
     "remove-cell"
    ]
   },
   "outputs": [],
   "source": [
    "# ga3_users_over_time_params = {\n",
    "#     \"start_date\": ANALYTICS_START,\n",
    "#     \"end_date\": GA3_END,\n",
    "#     \"service_system\": ga3_service_system,\n",
    "#     \"property\": \"246040541\",\n",
    "# }\n",
    "# \n",
    "# lm.save_ga3_users_over_time_data({}, {}, **ga3_users_over_time_params)"
   ]
  },
  {
   "cell_type": "markdown",
   "id": "837ebd50",
   "metadata": {},
   "source": [
    "## User acquisition\n",
    "### Monthly users and pageviews (all time)"
   ]
  },
  {
   "cell_type": "code",
   "execution_count": 59,
   "id": "4fb2a742",
   "metadata": {
    "scrolled": false,
    "tags": [
     "remove-input"
    ]
   },
   "outputs": [
    {
     "data": {
      "image/png": "[encoded data removed]",
      "text/plain": [
       "<Figure size 1600x900 with 1 Axes>"
      ]
     },
     "metadata": {},
     "output_type": "display_data"
    }
   ],
   "source": [
    "users_over_time_table = lm.plot_users_over_time(start_date=GA4_START, end_date=TODAY, **default_params)"
   ]
  },
  {
   "cell_type": "markdown",
   "id": "e8c0bae5",
   "metadata": {},
   "source": [
    "<div style=\"page-break-after: always\"></div>"
   ]
  },
  {
   "cell_type": "markdown",
   "id": "af8933cd",
   "metadata": {},
   "source": [
    "### Total unique users and unique pageviews by month (all time)"
   ]
  },
  {
   "cell_type": "code",
   "execution_count": 60,
   "id": "f762cf5d",
   "metadata": {
    "tags": [
     "remove-input"
    ]
   },
   "outputs": [
    {
     "data": {
      "text/html": [
       "<div class=\"analyticsTable\" style=\"grid-template-columns: repeat(1, auto) 1fr minmax(var(--value-width), min-content) minmax(var(--percentage-width), min-content) minmax(var(--value-width), min-content) minmax(var(--percentage-width), min-content)\"><div class=\"anaIndex anaColName\">Year</div><div class=\"anaIndex anaColName\">Month</div><div class=\"anaColName anaMultiCol\" style=\"grid-column: span 2\">Users</div><div class=\"anaColName anaMultiCol\" style=\"grid-column: span 2\">Total Pageviews</div><div class=\"anaIndex anaEven\" style=\"grid-row: span 2\">2024</div><div class=\"anaIndex anaEven\" style=\"grid-row: span 1\">February</div><div class=\"anaCell anaEven anaSubcolLeft\">96</div><div class=\"anaCell anaEven anaSubcolRight\"><div class=\"anaNegative\">(-56.36%)</div></div><div class=\"anaCell anaEven anaSubcolLeft\">350</div><div class=\"anaCell anaEven anaSubcolRight\"><div class=\"anaNegative\">(-61.87%)</div></div><div class=\"anaIndex anaOdd\" style=\"grid-row: span 1\">January</div><div class=\"anaCell anaOdd anaSubcolLeft\">220</div><div class=\"anaCell anaOdd anaSubcolRight\"><div class=\"anaPositive\">(+41.03%)</div></div><div class=\"anaCell anaOdd anaSubcolLeft\">918</div><div class=\"anaCell anaOdd anaSubcolRight\"><div class=\"anaPositive\">(+19.53%)</div></div><div class=\"anaIndex anaEven\" style=\"grid-row: span 12\">2023</div><div class=\"anaIndex anaEven\" style=\"grid-row: span 1\">December</div><div class=\"anaCell anaEven anaSubcolLeft\">156</div><div class=\"anaCell anaEven anaSubcolRight\"><div class=\"anaNegative\">(-15.22%)</div></div><div class=\"anaCell anaEven anaSubcolLeft\">768</div><div class=\"anaCell anaEven anaSubcolRight\"><div class=\"anaNegative\">(-11.93%)</div></div><div class=\"anaIndex anaOdd\" style=\"grid-row: span 1\">November</div><div class=\"anaCell anaOdd anaSubcolLeft\">184</div><div class=\"anaCell anaOdd anaSubcolRight\"><div class=\"anaPositive\">(+2.22%)</div></div><div class=\"anaCell anaOdd anaSubcolLeft\">872</div><div class=\"anaCell anaOdd anaSubcolRight\"><div class=\"anaNegative\">(-10.10%)</div></div><div class=\"anaIndex anaEven\" style=\"grid-row: span 1\">October</div><div class=\"anaCell anaEven anaSubcolLeft\">180</div><div class=\"anaCell anaEven anaSubcolRight\"><div class=\"anaPositive\">(+10.43%)</div></div><div class=\"anaCell anaEven anaSubcolLeft\">970</div><div class=\"anaCell anaEven anaSubcolRight\"><div class=\"anaPositive\">(+30.38%)</div></div><div class=\"anaIndex anaOdd\" style=\"grid-row: span 1\">September</div><div class=\"anaCell anaOdd anaSubcolLeft\">163</div><div class=\"anaCell anaOdd anaSubcolRight\"><div class=\"anaNegative\">(-21.63%)</div></div><div class=\"anaCell anaOdd anaSubcolLeft\">744</div><div class=\"anaCell anaOdd anaSubcolRight\"><div class=\"anaNegative\">(-25.38%)</div></div><div class=\"anaIndex anaEven\" style=\"grid-row: span 1\">August</div><div class=\"anaCell anaEven anaSubcolLeft\">208</div><div class=\"anaCell anaEven anaSubcolRight\"><div class=\"anaPositive\">(+45.45%)</div></div><div class=\"anaCell anaEven anaSubcolLeft\">997</div><div class=\"anaCell anaEven anaSubcolRight\"><div class=\"anaPositive\">(+51.75%)</div></div><div class=\"anaIndex anaOdd\" style=\"grid-row: span 1\">July</div><div class=\"anaCell anaOdd anaSubcolLeft\">143</div><div class=\"anaCell anaOdd anaSubcolRight\"><div class=\"anaPositive\">(+14.40%)</div></div><div class=\"anaCell anaOdd anaSubcolLeft\">657</div><div class=\"anaCell anaOdd anaSubcolRight\"><div class=\"anaPositive\">(+33.27%)</div></div><div class=\"anaIndex anaEven\" style=\"grid-row: span 1\">June</div><div class=\"anaCell anaEven anaSubcolLeft\">125</div><div class=\"anaCell anaEven anaSubcolRight\"><div class=\"anaNegative\">(-32.80%)</div></div><div class=\"anaCell anaEven anaSubcolLeft\">493</div><div class=\"anaCell anaEven anaSubcolRight\"><div class=\"anaNegative\">(-55.78%)</div></div><div class=\"anaIndex anaOdd\" style=\"grid-row: span 1\">May</div><div class=\"anaCell anaOdd anaSubcolLeft\">186</div><div class=\"anaCell anaOdd anaSubcolRight\"><div class=\"anaPositive\">(+44.19%)</div></div><div class=\"anaCell anaOdd anaSubcolLeft\">1115</div><div class=\"anaCell anaOdd anaSubcolRight\"><div class=\"anaPositive\">(+64.21%)</div></div><div class=\"anaIndex anaEven\" style=\"grid-row: span 1\">April</div><div class=\"anaCell anaEven anaSubcolLeft\">129</div><div class=\"anaCell anaEven anaSubcolRight\"><div class=\"anaNegative\">(-21.82%)</div></div><div class=\"anaCell anaEven anaSubcolLeft\">679</div><div class=\"anaCell anaEven anaSubcolRight\"><div class=\"anaNegative\">(-26.91%)</div></div><div class=\"anaIndex anaOdd\" style=\"grid-row: span 1\">March</div><div class=\"anaCell anaOdd anaSubcolLeft\">165</div><div class=\"anaCell anaOdd anaSubcolRight\"><div class=\"anaPositive\">(+18.71%)</div></div><div class=\"anaCell anaOdd anaSubcolLeft\">929</div><div class=\"anaCell anaOdd anaSubcolRight\"><div class=\"anaPositive\">(+28.14%)</div></div><div class=\"anaIndex anaEven\" style=\"grid-row: span 1\">February</div><div class=\"anaCell anaEven anaSubcolLeft\">139</div><div class=\"anaCell anaEven anaSubcolRight\"><div class=\"anaPositive\">(+39.00%)</div></div><div class=\"anaCell anaEven anaSubcolLeft\">725</div><div class=\"anaCell anaEven anaSubcolRight\"><div class=\"anaPositive\">(+34.26%)</div></div><div class=\"anaIndex anaOdd\" style=\"grid-row: span 1\">January</div><div class=\"anaCell anaOdd anaSubcolLeft\">100</div><div class=\"anaCell anaOdd anaSubcolRight\"><div class=\"anaPositive\">(+38.89%)</div></div><div class=\"anaCell anaOdd anaSubcolLeft\">540</div><div class=\"anaCell anaOdd anaSubcolRight\"><div class=\"anaPositive\">(+21.62%)</div></div><div class=\"anaIndex anaEven\" style=\"grid-row: span 12\">2022</div><div class=\"anaIndex anaEven\" style=\"grid-row: span 1\">December</div><div class=\"anaCell anaEven anaSubcolLeft\">72</div><div class=\"anaCell anaEven anaSubcolRight\"><div class=\"anaNegative\">(-26.53%)</div></div><div class=\"anaCell anaEven anaSubcolLeft\">444</div><div class=\"anaCell anaEven anaSubcolRight\"><div class=\"anaNegative\">(-20.57%)</div></div><div class=\"anaIndex anaOdd\" style=\"grid-row: span 1\">November</div><div class=\"anaCell anaOdd anaSubcolLeft\">98</div><div class=\"anaCell anaOdd anaSubcolRight\"><div class=\"anaPositive\">(+164.86%)</div></div><div class=\"anaCell anaOdd anaSubcolLeft\">559</div><div class=\"anaCell anaOdd anaSubcolRight\"><div class=\"anaPositive\">(+143.04%)</div></div><div class=\"anaIndex anaEven\" style=\"grid-row: span 1\">October</div><div class=\"anaCell anaEven anaSubcolLeft\">37</div><div class=\"anaCell anaEven anaSubcolRight\"><div class=\"anaPositive\">(+105.56%)</div></div><div class=\"anaCell anaEven anaSubcolLeft\">230</div><div class=\"anaCell anaEven anaSubcolRight\"><div class=\"anaPositive\">(+90.08%)</div></div><div class=\"anaIndex anaOdd\" style=\"grid-row: span 1\">September</div><div class=\"anaCell anaOdd anaSubcolLeft\">18</div><div class=\"anaCell anaOdd anaSubcolRight\"><div class=\"anaPositive\">(+50.00%)</div></div><div class=\"anaCell anaOdd anaSubcolLeft\">121</div><div class=\"anaCell anaOdd anaSubcolRight\"><div class=\"anaPositive\">(+218.42%)</div></div><div class=\"anaIndex anaEven\" style=\"grid-row: span 1\">August</div><div class=\"anaCell anaEven anaSubcolLeft\">12</div><div class=\"anaCell anaEven anaSubcolRight\"><div class=\"anaPositive\">(+20.00%)</div></div><div class=\"anaCell anaEven anaSubcolLeft\">38</div><div class=\"anaCell anaEven anaSubcolRight\"><div class=\"anaPositive\">(+31.03%)</div></div><div class=\"anaIndex anaOdd\" style=\"grid-row: span 1\">July</div><div class=\"anaCell anaOdd anaSubcolLeft\">10</div><div class=\"anaCell anaOdd anaSubcolRight\"><div class=\"anaNegative\">(-16.67%)</div></div><div class=\"anaCell anaOdd anaSubcolLeft\">29</div><div class=\"anaCell anaOdd anaSubcolRight\"><div class=\"anaNegative\">(-25.64%)</div></div><div class=\"anaIndex anaEven\" style=\"grid-row: span 1\">June</div><div class=\"anaCell anaEven anaSubcolLeft\">12</div><div class=\"anaCell anaEven anaSubcolRight\"><div class=\"anaPositive\">(+20.00%)</div></div><div class=\"anaCell anaEven anaSubcolLeft\">39</div><div class=\"anaCell anaEven anaSubcolRight\"><div class=\"anaPositive\">(+21.88%)</div></div><div class=\"anaIndex anaOdd\" style=\"grid-row: span 1\">May</div><div class=\"anaCell anaOdd anaSubcolLeft\">10</div><div class=\"anaCell anaOdd anaSubcolRight\"><div class=\"anaPositive\">(+11.11%)</div></div><div class=\"anaCell anaOdd anaSubcolLeft\">32</div><div class=\"anaCell anaOdd anaSubcolRight\"><div class=\"anaNegative\">(-73.33%)</div></div><div class=\"anaIndex anaEven\" style=\"grid-row: span 1\">April</div><div class=\"anaCell anaEven anaSubcolLeft\">9</div><div class=\"anaCell anaEven anaSubcolRight\"><div class=\"anaPositive\">(+12.50%)</div></div><div class=\"anaCell anaEven anaSubcolLeft\">120</div><div class=\"anaCell anaEven anaSubcolRight\"><div class=\"anaPositive\">(+242.86%)</div></div><div class=\"anaIndex anaOdd\" style=\"grid-row: span 1\">March</div><div class=\"anaCell anaOdd anaSubcolLeft\">8</div><div class=\"anaCell anaOdd anaSubcolRight\"><div class=\"anaNegative\">(-11.11%)</div></div><div class=\"anaCell anaOdd anaSubcolLeft\">35</div><div class=\"anaCell anaOdd anaSubcolRight\"><div class=\"anaPositive\">(+45.83%)</div></div><div class=\"anaIndex anaEven\" style=\"grid-row: span 1\">February</div><div class=\"anaCell anaEven anaSubcolLeft\">9</div><div class=\"anaCell anaEven anaSubcolRight\"><div class=\"anaNegative\">(-10.00%)</div></div><div class=\"anaCell anaEven anaSubcolLeft\">24</div><div class=\"anaCell anaEven anaSubcolRight\"><div class=\"anaNegative\">(-72.09%)</div></div><div class=\"anaIndex anaOdd\" style=\"grid-row: span 1\">January</div><div class=\"anaCell anaOdd anaSubcolLeft\">10</div><div class=\"anaCell anaOdd anaSubcolRight\"><div class=\"anaNegative\">(-16.67%)</div></div><div class=\"anaCell anaOdd anaSubcolLeft\">86</div><div class=\"anaCell anaOdd anaSubcolRight\"><div class=\"anaPositive\">(+138.89%)</div></div><div class=\"anaIndex anaEven\" style=\"grid-row: span 8\">2021</div><div class=\"anaIndex anaEven\" style=\"grid-row: span 1\">December</div><div class=\"anaCell anaEven anaSubcolLeft\">12</div><div class=\"anaCell anaEven anaSubcolRight\"><div class=\"anaNegative\">(-14.29%)</div></div><div class=\"anaCell anaEven anaSubcolLeft\">36</div><div class=\"anaCell anaEven anaSubcolRight\"><div class=\"anaNegative\">(-18.18%)</div></div><div class=\"anaIndex anaOdd\" style=\"grid-row: span 1\">November</div><div class=\"anaCell anaOdd anaSubcolLeft\">14</div><div class=\"anaCell anaOdd anaSubcolRight\"><div class=\"anaPositive\">(+133.33%)</div></div><div class=\"anaCell anaOdd anaSubcolLeft\">44</div><div class=\"anaCell anaOdd anaSubcolRight\"><div class=\"anaPositive\">(+69.23%)</div></div><div class=\"anaIndex anaEven\" style=\"grid-row: span 1\">October</div><div class=\"anaCell anaEven anaSubcolLeft\">6</div><div class=\"anaCell anaEven anaSubcolRight\"><div class=\"anaPositive\">(+500.00%)</div></div><div class=\"anaCell anaEven anaSubcolLeft\">26</div><div class=\"anaCell anaEven anaSubcolRight\"><div class=\"anaPositive\">(+36.84%)</div></div><div class=\"anaIndex anaOdd\" style=\"grid-row: span 1\">September</div><div class=\"anaCell anaOdd anaSubcolLeft\">1</div><div class=\"anaCell anaOdd anaSubcolRight\"><div class=\"anaZero\">(+0.00%)</div></div><div class=\"anaCell anaOdd anaSubcolLeft\">19</div><div class=\"anaCell anaOdd anaSubcolRight\"><div class=\"anaPositive\">(+533.33%)</div></div><div class=\"anaIndex anaEven\" style=\"grid-row: span 1\">August</div><div class=\"anaCell anaEven anaSubcolLeft\">1</div><div class=\"anaCell anaEven anaSubcolRight\"><div class=\"anaNegative\">(-66.67%)</div></div><div class=\"anaCell anaEven anaSubcolLeft\">3</div><div class=\"anaCell anaEven anaSubcolRight\"><div class=\"anaNegative\">(-90.62%)</div></div><div class=\"anaIndex anaOdd\" style=\"grid-row: span 1\">July</div><div class=\"anaCell anaOdd anaSubcolLeft\">3</div><div class=\"anaCell anaOdd anaSubcolRight\"></div><div class=\"anaCell anaOdd anaSubcolLeft\">32</div><div class=\"anaCell anaOdd anaSubcolRight\"></div><div class=\"anaIndex anaEven\" style=\"grid-row: span 1\">June</div><div class=\"anaCell anaEven anaSubcolLeft\">0</div><div class=\"anaCell anaEven anaSubcolRight\"></div><div class=\"anaCell anaEven anaSubcolLeft\">0</div><div class=\"anaCell anaEven anaSubcolRight\"></div><div class=\"anaIndex anaOdd\" style=\"grid-row: span 1\">May</div><div class=\"anaCell anaOdd anaSubcolLeft\">0</div><div class=\"anaCell anaOdd anaSubcolRight\"></div><div class=\"anaCell anaOdd anaSubcolLeft\">0</div><div class=\"anaCell anaOdd anaSubcolRight\"></div></div>"
      ],
      "text/plain": [
       "<IPython.core.display.HTML object>"
      ]
     },
     "metadata": {},
     "output_type": "display_data"
    }
   ],
   "source": [
    "display(users_over_time_table)"
   ]
  },
  {
   "cell_type": "markdown",
   "id": "71870a6e",
   "metadata": {},
   "source": [
    "<div style=\"page-break-after: always\"></div>"
   ]
  },
  {
   "cell_type": "markdown",
   "id": "eb94b561",
   "metadata": {},
   "source": [
    "## Users and sessions\n",
    "Users are distinguished based on a tracking cookie set by Google. Because cookies may not remain present over time or between devices, it's likely that total users are overcounted and returning users are undercounted."
   ]
  },
  {
   "cell_type": "code",
   "execution_count": 40,
   "id": "44e29d04",
   "metadata": {
    "tags": [
     "remove-input"
    ]
   },
   "outputs": [
    {
     "data": {
      "text/html": [
       "<div class=\"analyticsTable\" style=\"grid-template-columns: 1fr var(--symbol-width) minmax(var(--value-width), min-content) minmax(var(--percentage-width), min-content)\"><div class=\"anaIndex anaEven\">Total Users</div><div class=\"anaCell anaEven anaSubcolLeft\"></div><div class=\"anaCell anaEven\">97</div><div class=\"anaCell anaEven anaSubcolRight\"><div class=\"anaNegative\">(-55.91%)</div></div></div>"
      ],
      "text/plain": [
       "<IPython.core.display.HTML object>"
      ]
     },
     "metadata": {},
     "output_type": "display_data"
    }
   ],
   "source": [
    "ac.show_difference_table(\"Total Users\", None, \"totalUsers\", None, **default_params)"
   ]
  },
  {
   "cell_type": "code",
   "execution_count": 41,
   "id": "5766d874",
   "metadata": {
    "tags": [
     "remove-input"
    ]
   },
   "outputs": [
    {
     "data": {
      "text/html": [
       "<div class=\"analyticsTable\" style=\"grid-template-columns: 1fr var(--symbol-width) minmax(var(--value-width), min-content) minmax(var(--percentage-width), min-content)\"><div class=\"anaIndex anaEven\">Returning Users</div><div class=\"anaCell anaEven anaSubcolLeft\"></div><div class=\"anaCell anaEven\">31</div><div class=\"anaCell anaEven anaSubcolRight\"><div class=\"anaNegative\">(-41.51%)</div></div></div>"
      ],
      "text/plain": [
       "<IPython.core.display.HTML object>"
      ]
     },
     "metadata": {},
     "output_type": "display_data"
    }
   ],
   "source": [
    "ac.show_difference_table(\"Returning Users\", None, \"totalUsers\", None, dimension_filter=\"newVsReturning==returning\", **default_params)"
   ]
  },
  {
   "cell_type": "code",
   "execution_count": 42,
   "id": "6d6ae93c",
   "metadata": {
    "tags": [
     "remove-input"
    ]
   },
   "outputs": [
    {
     "data": {
      "text/html": [
       "<div class=\"analyticsTable\" style=\"grid-template-columns: 1fr var(--symbol-width) minmax(var(--value-width), min-content) minmax(var(--percentage-width), min-content)\"><div class=\"anaIndex anaEven\">Total Visits</div><div class=\"anaCell anaEven anaSubcolLeft\"></div><div class=\"anaCell anaEven\">139</div><div class=\"anaCell anaEven anaSubcolRight\"><div class=\"anaNegative\">(-60.17%)</div></div></div>"
      ],
      "text/plain": [
       "<IPython.core.display.HTML object>"
      ]
     },
     "metadata": {},
     "output_type": "display_data"
    }
   ],
   "source": [
    "ac.show_difference_table(\"Total Visits\", None, \"sessions\", None, **default_params)"
   ]
  },
  {
   "cell_type": "markdown",
   "id": "af2ae739",
   "metadata": {},
   "source": [
    "## Page views"
   ]
  },
  {
   "cell_type": "code",
   "execution_count": 43,
   "id": "093b749c",
   "metadata": {
    "tags": [
     "remove-input"
    ]
   },
   "outputs": [
    {
     "data": {
      "text/html": [
       "<div class=\"analyticsTable\" style=\"grid-template-columns: 1fr var(--symbol-width) minmax(var(--value-width), min-content) minmax(var(--percentage-width), min-content)\"><div class=\"anaIndex anaEven\">Total</div><div class=\"anaCell anaEven anaSubcolLeft\"></div><div class=\"anaCell anaEven\">350</div><div class=\"anaCell anaEven anaSubcolRight\"><div class=\"anaNegative\">(-61.87%)</div></div></div>"
      ],
      "text/plain": [
       "<IPython.core.display.HTML object>"
      ]
     },
     "metadata": {},
     "output_type": "display_data"
    }
   ],
   "source": [
    "ac.show_difference_table(\"Total\", None, \"screenPageViews\", None, **default_params)"
   ]
  },
  {
   "cell_type": "markdown",
   "id": "fdf41874",
   "metadata": {},
   "source": [
    "## Top referrers"
   ]
  },
  {
   "cell_type": "code",
   "execution_count": 44,
   "id": "bd1a7888",
   "metadata": {
    "scrolled": true,
    "tags": [
     "remove-input"
    ]
   },
   "outputs": [
    {
     "data": {
      "text/html": [
       "<div class=\"analyticsTable\" style=\"grid-template-columns: 1fr var(--symbol-width) minmax(var(--value-width), min-content) minmax(var(--percentage-width), min-content)\"><div class=\"anaIndex anaColName\">Referrer</div><div class=\"anaColName anaMultiCol\" style=\"grid-column: span 3\">Users</div><div class=\"anaIndex anaEven\">(direct)</div><div class=\"anaCell anaEven anaSubcolLeft\"></div><div class=\"anaCell anaEven\">73</div><div class=\"anaCell anaEven anaSubcolRight\"><div class=\"anaNegative\">(-55.76%)</div></div><div class=\"anaIndex anaOdd\">baidu</div><div class=\"anaCell anaOdd anaSubcolLeft\"></div><div class=\"anaCell anaOdd\">10</div><div class=\"anaCell anaOdd anaSubcolRight\"><div class=\"anaNegative\">(-71.43%)</div></div><div class=\"anaIndex anaEven\">google</div><div class=\"anaCell anaEven anaSubcolLeft\"></div><div class=\"anaCell anaEven\">9</div><div class=\"anaCell anaEven anaSubcolRight\"><div class=\"anaNegative\">(-35.71%)</div></div><div class=\"anaIndex anaOdd\">(not set)</div><div class=\"anaCell anaOdd anaSubcolLeft\"><div class=\"up\"></div></div><div class=\"anaCell anaOdd\">2</div><div class=\"anaCell anaOdd anaSubcolRight\"><div class=\"anaZero\">(+0.00%)</div></div><div class=\"anaIndex anaEven\">atsjournals.org</div><div class=\"anaCell anaEven anaSubcolLeft\"><div class=\"up\"></div></div><div class=\"anaCell anaEven\">1</div><div class=\"anaCell anaEven anaSubcolRight\"><div class=\"anaZero\">(+0.00%)</div></div><div class=\"anaIndex anaOdd\">blogsmith.online</div><div class=\"anaCell anaOdd anaSubcolLeft\"><div class=\"new\"></div></div><div class=\"anaCell anaOdd\">1</div><div class=\"anaCell anaOdd anaSubcolRight\"></div><div class=\"anaIndex anaEven\">colab.research.google.com</div><div class=\"anaCell anaEven anaSubcolLeft\"><div class=\"new\"></div></div><div class=\"anaCell anaEven\">1</div><div class=\"anaCell anaEven anaSubcolRight\"></div><div class=\"anaIndex anaOdd\">github.com</div><div class=\"anaCell anaOdd anaSubcolLeft\"><div class=\"down\"></div></div><div class=\"anaCell anaOdd\">1</div><div class=\"anaCell anaOdd anaSubcolRight\"><div class=\"anaNegative\">(-66.67%)</div></div></div>"
      ],
      "text/plain": [
       "<IPython.core.display.HTML object>"
      ]
     },
     "metadata": {},
     "output_type": "display_data"
    }
   ],
   "source": [
    "ac.show_difference_table(\"Users\", \"Referrer\", \"totalUsers\",\"sessionSource\", **default_params)"
   ]
  },
  {
   "cell_type": "markdown",
   "id": "3e5298d4",
   "metadata": {},
   "source": [
    "## Social network referrers"
   ]
  },
  {
   "cell_type": "code",
   "execution_count": 45,
   "id": "d93cd097",
   "metadata": {
    "tags": [
     "remove-input"
    ]
   },
   "outputs": [
    {
     "data": {
      "text/html": [
       "<div class=\"analyticsTable\" style=\"grid-template-columns: 1fr var(--symbol-width) minmax(var(--value-width), min-content) minmax(var(--percentage-width), min-content)\"><div class=\"anaIndex anaColName\">Social Network</div><div class=\"anaColName anaMultiCol\" style=\"grid-column: span 3\">User Sessions</div></div>"
      ],
      "text/plain": [
       "<IPython.core.display.HTML object>"
      ]
     },
     "metadata": {},
     "output_type": "display_data"
    }
   ],
   "source": [
    "ac.show_difference_table(\"User Sessions\", \"Social Network\", \"sessions\", \"sessionSource\", dimension_filter=\"sessionDefaultChannelGroup=@Social\", **default_params)"
   ]
  },
  {
   "cell_type": "markdown",
   "id": "243a443c",
   "metadata": {},
   "source": [
    "## Device category"
   ]
  },
  {
   "cell_type": "code",
   "execution_count": 46,
   "id": "374be6df",
   "metadata": {
    "tags": [
     "remove-input"
    ]
   },
   "outputs": [
    {
     "data": {
      "text/html": [
       "<div class=\"analyticsTable\" style=\"grid-template-columns: 1fr var(--symbol-width) minmax(var(--value-width), min-content) minmax(var(--percentage-width), min-content) minmax(var(--value-width), min-content) minmax(var(--percentage-width), min-content)\"><div class=\"anaIndex anaColName\">Category</div><div class=\"anaColName anaMultiCol\" style=\"grid-column: span 3\">Users</div><div class=\"anaColName anaMultiCol\" style=\"grid-column: span 2\">Percentage of users</div><div class=\"anaIndex anaEven\">desktop</div><div class=\"anaCell anaEven anaSubcolLeft\"></div><div class=\"anaCell anaEven\">84</div><div class=\"anaCell anaEven anaSubcolRight\"><div class=\"anaNegative\">(-53.85%)</div></div><div class=\"anaCell anaEven anaSubcolLeft\">86.60</div><div class=\"anaCell anaEven anaSubcolRight\"><div class=\"anaPositive\">(+4.68%)</div></div><div class=\"anaIndex anaOdd\">mobile</div><div class=\"anaCell anaOdd anaSubcolLeft\"></div><div class=\"anaCell anaOdd\">13</div><div class=\"anaCell anaOdd anaSubcolRight\"><div class=\"anaNegative\">(-65.79%)</div></div><div class=\"anaCell anaOdd anaSubcolLeft\">13.40</div><div class=\"anaCell anaOdd anaSubcolRight\"><div class=\"anaNegative\">(-22.41%)</div></div></div>"
      ],
      "text/plain": [
       "<IPython.core.display.HTML object>"
      ]
     },
     "metadata": {},
     "output_type": "display_data"
    }
   ],
   "source": [
    "ac.show_difference_table([\"Users\", \"Percentage of users\"], \"Category\", \"totalUsers\", \"deviceCategory\", percentage_metrics={\"totalUsers\"}, **default_params)"
   ]
  },
  {
   "cell_type": "markdown",
   "id": "caca17d1",
   "metadata": {},
   "source": [
    "<div style=\"page-break-after: always\"></div>"
   ]
  },
  {
   "cell_type": "markdown",
   "id": "d8e17e7a",
   "metadata": {},
   "source": [
    "## Top pages"
   ]
  },
  {
   "cell_type": "code",
   "execution_count": 47,
   "id": "6439add4",
   "metadata": {
    "tags": [
     "remove-input"
    ]
   },
   "outputs": [
    {
     "data": {
      "text/html": [
       "<div class=\"analyticsTable\" style=\"grid-template-columns: 1fr var(--symbol-width) minmax(var(--value-width), min-content) minmax(var(--percentage-width), min-content)\"><div class=\"anaIndex anaColName\">Page</div><div class=\"anaColName anaMultiCol\" style=\"grid-column: span 3\">Page Views</div><div class=\"anaIndex anaEven\"><a href=\"https://data-browser.lungmap.net/explore/projects\">/explore/projects</a></div><div class=\"anaCell anaEven anaSubcolLeft\"></div><div class=\"anaCell anaEven\">152</div><div class=\"anaCell anaEven anaSubcolRight\"><div class=\"anaNegative\">(-64.49%)</div></div><div class=\"anaIndex anaOdd\"><a href=\"https://data-browser.lungmap.net/explore/projects/1bdcecde-16be-4208-88f4-78cd2133d11d\">/explore/projects/1bdcecde-16be-4208-88f4-78cd2133d11d</a></div><div class=\"anaCell anaOdd anaSubcolLeft\"><div class=\"up\"></div></div><div class=\"anaCell anaOdd\">24</div><div class=\"anaCell anaOdd anaSubcolRight\"><div class=\"anaNegative\">(-47.83%)</div></div><div class=\"anaIndex anaEven\"><a href=\"https://data-browser.lungmap.net/apis\">/apis</a></div><div class=\"anaCell anaEven anaSubcolLeft\"><div class=\"up\"></div></div><div class=\"anaCell anaEven\">22</div><div class=\"anaCell anaEven anaSubcolRight\"><div class=\"anaPositive\">(+340.00%)</div></div><div class=\"anaIndex anaOdd\"><a href=\"https://data-browser.lungmap.net/apis/api-documentation/data-browser-api\">/apis/api-documentation/data-browser-api</a></div><div class=\"anaCell anaOdd anaSubcolLeft\"><div class=\"new\"></div></div><div class=\"anaCell anaOdd\">20</div><div class=\"anaCell anaOdd anaSubcolRight\"></div><div class=\"anaIndex anaEven\"><a href=\"https://data-browser.lungmap.net/\">/</a></div><div class=\"anaCell anaEven anaSubcolLeft\"><div class=\"down\"></div></div><div class=\"anaCell anaEven\">18</div><div class=\"anaCell anaEven anaSubcolRight\"><div class=\"anaNegative\">(-51.35%)</div></div><div class=\"anaIndex anaOdd\"><a href=\"https://data-browser.lungmap.net/explore/projects/20037472-ea1d-4ddb-9cd3-56a11a6f0f76\">/explore/projects/20037472-ea1d-4ddb-9cd3-56a11a6f0f76</a></div><div class=\"anaCell anaOdd anaSubcolLeft\"><div class=\"up\"></div></div><div class=\"anaCell anaOdd\">18</div><div class=\"anaCell anaOdd anaSubcolRight\"><div class=\"anaNegative\">(-21.74%)</div></div><div class=\"anaIndex anaEven\"><a href=\"https://data-browser.lungmap.net/explore/projects/6135382f-487d-4adb-9cf8-4d6634125b68\">/explore/projects/6135382f-487d-4adb-9cf8-4d6634125b68</a></div><div class=\"anaCell anaEven anaSubcolLeft\"><div class=\"down\"></div></div><div class=\"anaCell anaEven\">12</div><div class=\"anaCell anaEven anaSubcolRight\"><div class=\"anaNegative\">(-87.88%)</div></div><div class=\"anaIndex anaOdd\"><a href=\"https://data-browser.lungmap.net/explore/projects/20037472-ea1d-4ddb-9cd3-56a11a6f0f76/export-to-terra\">/explore/projects/20037472-ea1d-4ddb-9cd3-56a11a6f0f76/export-to-terra</a></div><div class=\"anaCell anaOdd anaSubcolLeft\"><div class=\"up\"></div></div><div class=\"anaCell anaOdd\">10</div><div class=\"anaCell anaOdd anaSubcolRight\"><div class=\"anaPositive\">(+150.00%)</div></div><div class=\"anaIndex anaEven\"><a href=\"https://data-browser.lungmap.net/explore/projects/f899709c-ae2c-4bb9-88f0-131142e6c7ec\">/explore/projects/f899709c-ae2c-4bb9-88f0-131142e6c7ec</a></div><div class=\"anaCell anaEven anaSubcolLeft\"><div class=\"up\"></div></div><div class=\"anaCell anaEven\">9</div><div class=\"anaCell anaEven anaSubcolRight\"><div class=\"anaPositive\">(+28.57%)</div></div><div class=\"anaIndex anaOdd\"><a href=\"https://data-browser.lungmap.net/metadata\">/metadata</a></div><div class=\"anaCell anaOdd anaSubcolLeft\"><div class=\"up\"></div></div><div class=\"anaCell anaOdd\">9</div><div class=\"anaCell anaOdd anaSubcolRight\"><div class=\"anaNegative\">(-40.00%)</div></div><div class=\"anaIndex anaEven\"><a href=\"https://data-browser.lungmap.net/explore/projects/00f056f2-73ff-43ac-97ff-69ca10e38c89\">/explore/projects/00f056f2-73ff-43ac-97ff-69ca10e38c89</a></div><div class=\"anaCell anaEven anaSubcolLeft\"><div class=\"down\"></div></div><div class=\"anaCell anaEven\">8</div><div class=\"anaCell anaEven anaSubcolRight\"><div class=\"anaNegative\">(-65.22%)</div></div><div class=\"anaIndex anaOdd\"><a href=\"https://data-browser.lungmap.net/explore/projects/4ae8c5c9-1520-4371-9827-6935661f6c84\">/explore/projects/4ae8c5c9-1520-4371-9827-6935661f6c84</a></div><div class=\"anaCell anaOdd anaSubcolLeft\"><div class=\"down\"></div></div><div class=\"anaCell anaOdd\">8</div><div class=\"anaCell anaOdd anaSubcolRight\"><div class=\"anaNegative\">(-74.19%)</div></div><div class=\"anaIndex anaEven\"><a href=\"https://data-browser.lungmap.net/explore/samples\">/explore/samples</a></div><div class=\"anaCell anaEven anaSubcolLeft\"><div class=\"down\"></div></div><div class=\"anaCell anaEven\">5</div><div class=\"anaCell anaEven anaSubcolRight\"><div class=\"anaNegative\">(-80.00%)</div></div><div class=\"anaIndex anaOdd\"><a href=\"https://data-browser.lungmap.net/search\">/search</a></div><div class=\"anaCell anaOdd anaSubcolLeft\"><div class=\"new\"></div></div><div class=\"anaCell anaOdd\">5</div><div class=\"anaCell anaOdd anaSubcolRight\"></div><div class=\"anaIndex anaEven\"><a href=\"https://data-browser.lungmap.net/explore/projects/26204979-55a3-49b2-8d2b-53e0bdfcb176\">/explore/projects/26204979-55a3-49b2-8d2b-53e0bdfcb176</a></div><div class=\"anaCell anaEven anaSubcolLeft\"><div class=\"new\"></div></div><div class=\"anaCell anaEven\">3</div><div class=\"anaCell anaEven anaSubcolRight\"></div><div class=\"anaIndex anaOdd\"><a href=\"https://data-browser.lungmap.net/explore/projects/f899709c-ae2c-4bb9-88f0-131142e6c7ec/project-metadata\">/explore/projects/f899709c-ae2c-4bb9-88f0-131142e6c7ec/project-metadata</a></div><div class=\"anaCell anaOdd anaSubcolLeft\"><div class=\"new\"></div></div><div class=\"anaCell anaOdd\">3</div><div class=\"anaCell anaOdd anaSubcolRight\"></div><div class=\"anaIndex anaEven\"><a href=\"https://data-browser.lungmap.net/explore/projects/20037472-ea1d-4ddb-9cd3-56a11a6f0f76/project-matrices\">/explore/projects/20037472-ea1d-4ddb-9cd3-56a11a6f0f76/project-matrices</a></div><div class=\"anaCell anaEven anaSubcolLeft\"><div class=\"new\"></div></div><div class=\"anaCell anaEven\">3</div><div class=\"anaCell anaEven anaSubcolRight\"></div><div class=\"anaIndex anaOdd\"><a href=\"https://data-browser.lungmap.net/explore/files\">/explore/files</a></div><div class=\"anaCell anaOdd anaSubcolLeft\"><div class=\"down\"></div></div><div class=\"anaCell anaOdd\">2</div><div class=\"anaCell anaOdd anaSubcolRight\"><div class=\"anaNegative\">(-88.24%)</div></div><div class=\"anaIndex anaEven\"><a href=\"https://data-browser.lungmap.net/explore/projects/1bdcecde-16be-4208-88f4-78cd2133d11d/project-matrices\">/explore/projects/1bdcecde-16be-4208-88f4-78cd2133d11d/project-matrices</a></div><div class=\"anaCell anaEven anaSubcolLeft\"><div class=\"new\"></div></div><div class=\"anaCell anaEven\">2</div><div class=\"anaCell anaEven anaSubcolRight\"></div><div class=\"anaIndex anaOdd\"><a href=\"https://data-browser.lungmap.net/explore/projects/20037472-ea1d-4ddb-9cd3-56a11a6f0f76/project-metadata\">/explore/projects/20037472-ea1d-4ddb-9cd3-56a11a6f0f76/project-metadata</a></div><div class=\"anaCell anaOdd anaSubcolLeft\"><div class=\"new\"></div></div><div class=\"anaCell anaOdd\">2</div><div class=\"anaCell anaOdd anaSubcolRight\"></div><div class=\"anaIndex anaEven\"><a href=\"https://data-browser.lungmap.net/explore/projects/f899709c-ae2c-4bb9-88f0-131142e6c7ec/export-to-terra\">/explore/projects/f899709c-ae2c-4bb9-88f0-131142e6c7ec/export-to-terra</a></div><div class=\"anaCell anaEven anaSubcolLeft\"><div class=\"new\"></div></div><div class=\"anaCell anaEven\">2</div><div class=\"anaCell anaEven anaSubcolRight\"></div><div class=\"anaIndex anaOdd\"><a href=\"https://data-browser.lungmap.net/explore/export\">/explore/export</a></div><div class=\"anaCell anaOdd anaSubcolLeft\"><div class=\"down\"></div></div><div class=\"anaCell anaOdd\">2</div><div class=\"anaCell anaOdd anaSubcolRight\"><div class=\"anaNegative\">(-88.24%)</div></div><div class=\"anaIndex anaEven\"><a href=\"https://data-browser.lungmap.net/explore/projects/6135382f-487d-4adb-9cf8-4d6634125b68/export-to-terra\">/explore/projects/6135382f-487d-4adb-9cf8-4d6634125b68/export-to-terra</a></div><div class=\"anaCell anaEven anaSubcolLeft\"><div class=\"new\"></div></div><div class=\"anaCell anaEven\">1</div><div class=\"anaCell anaEven anaSubcolRight\"></div><div class=\"anaIndex anaOdd\"><a href=\"https://data-browser.lungmap.net/lungmap-privacy\">/lungmap-privacy</a></div><div class=\"anaCell anaOdd anaSubcolLeft\"><div class=\"new\"></div></div><div class=\"anaCell anaOdd\">1</div><div class=\"anaCell anaOdd anaSubcolRight\"></div><div class=\"anaIndex anaEven\"><a href=\"https://data-browser.lungmap.net/explore/projects/ad98d3cd-26fb-4ee3-99c9-8a2ab085e737\">/explore/projects/ad98d3cd-26fb-4ee3-99c9-8a2ab085e737</a></div><div class=\"anaCell anaEven anaSubcolLeft\"><div class=\"new\"></div></div><div class=\"anaCell anaEven\">1</div><div class=\"anaCell anaEven anaSubcolRight\"></div><div class=\"anaIndex anaOdd\"><a href=\"https://data-browser.lungmap.net/explore/projects/MjAwMzc0Nz\">/explore/projects/MjAwMzc0Nz</a></div><div class=\"anaCell anaOdd anaSubcolLeft\"><div class=\"new\"></div></div><div class=\"anaCell anaOdd\">1</div><div class=\"anaCell anaOdd anaSubcolRight\"></div><div class=\"anaIndex anaEven\"><a href=\"https://data-browser.lungmap.net/explore/projects/6135382f-487d-4adb-9cf8-4d6634125b68/project-matrices\">/explore/projects/6135382f-487d-4adb-9cf8-4d6634125b68/project-matrices</a></div><div class=\"anaCell anaEven anaSubcolLeft\"><div class=\"down\"></div></div><div class=\"anaCell anaEven\">1</div><div class=\"anaCell anaEven anaSubcolRight\"><div class=\"anaNegative\">(-92.31%)</div></div><div class=\"anaIndex anaOdd\"><a href=\"https://data-browser.lungmap.net/explore/projects/1bdcecde-16be-4208-88f4-78cd2133d11d/project-metadata\">/explore/projects/1bdcecde-16be-4208-88f4-78cd2133d11d/project-metadata</a></div><div class=\"anaCell anaOdd anaSubcolLeft\"><div class=\"new\"></div></div><div class=\"anaCell anaOdd\">1</div><div class=\"anaCell anaOdd anaSubcolRight\"></div><div class=\"anaIndex anaEven\"><a href=\"https://data-browser.lungmap.net/explore/projects/4ae8c5c9-1520-4371-9827-6935661f6c84/m/project-metadata\">/explore/projects/4ae8c5c9-1520-4371-9827-6935661f6c84/m/project-metadata</a></div><div class=\"anaCell anaEven anaSubcolLeft\"><div class=\"new\"></div></div><div class=\"anaCell anaEven\">1</div><div class=\"anaCell anaEven anaSubcolRight\"></div><div class=\"anaIndex anaOdd\"><a href=\"https://data-browser.lungmap.net/explore/projects/20037472-ea1d-4ddb-9cd3-56a11a6f0f76/get-curl-command\">/explore/projects/20037472-ea1d-4ddb-9cd3-56a11a6f0f76/get-curl-command</a></div><div class=\"anaCell anaOdd anaSubcolLeft\"><div class=\"new\"></div></div><div class=\"anaCell anaOdd\">1</div><div class=\"anaCell anaOdd anaSubcolRight\"></div></div>"
      ],
      "text/plain": [
       "<IPython.core.display.HTML object>"
      ]
     },
     "metadata": {},
     "output_type": "display_data"
    }
   ],
   "source": [
    "ac.show_difference_table(\"Page Views\", \"Page\", \"screenPageViews\", \"pagePath\", **default_params)"
   ]
  },
  {
   "cell_type": "markdown",
   "id": "829134b1",
   "metadata": {},
   "source": [
    "<div style=\"page-break-after: always\"></div>"
   ]
  },
  {
   "cell_type": "markdown",
   "id": "7c205b92",
   "metadata": {},
   "source": [
    "## Top entrances"
   ]
  },
  {
   "cell_type": "code",
   "execution_count": 48,
   "id": "15a64137",
   "metadata": {
    "tags": [
     "remove-input"
    ]
   },
   "outputs": [
    {
     "data": {
      "text/html": [
       "<div class=\"analyticsTable\" style=\"grid-template-columns: 1fr var(--symbol-width) minmax(var(--value-width), min-content) minmax(var(--percentage-width), min-content)\"><div class=\"anaIndex anaColName\">Page</div><div class=\"anaColName anaMultiCol\" style=\"grid-column: span 3\">Entrances</div><div class=\"anaIndex anaEven\"><a href=\"https://data-browser.lungmap.net/explore/projects\">/explore/projects</a></div><div class=\"anaCell anaEven anaSubcolLeft\"></div><div class=\"anaCell anaEven\">78</div><div class=\"anaCell anaEven anaSubcolRight\"><div class=\"anaNegative\">(-57.38%)</div></div><div class=\"anaIndex anaOdd\">(not set)</div><div class=\"anaCell anaOdd anaSubcolLeft\"></div><div class=\"anaCell anaOdd\">19</div><div class=\"anaCell anaOdd anaSubcolRight\"><div class=\"anaNegative\">(-56.82%)</div></div><div class=\"anaIndex anaEven\"><a href=\"https://data-browser.lungmap.net/\">/</a></div><div class=\"anaCell anaEven anaSubcolLeft\"><div class=\"up\"></div></div><div class=\"anaCell anaEven\">16</div><div class=\"anaCell anaEven anaSubcolRight\"><div class=\"anaNegative\">(-46.67%)</div></div><div class=\"anaIndex anaOdd\"><a href=\"https://data-browser.lungmap.net/explore/projects/1bdcecde-16be-4208-88f4-78cd2133d11d\">/explore/projects/1bdcecde-16be-4208-88f4-78cd2133d11d</a></div><div class=\"anaCell anaOdd anaSubcolLeft\"><div class=\"up\"></div></div><div class=\"anaCell anaOdd\">7</div><div class=\"anaCell anaOdd anaSubcolRight\"><div class=\"anaNegative\">(-46.15%)</div></div><div class=\"anaIndex anaEven\"><a href=\"https://data-browser.lungmap.net/apis\">/apis</a></div><div class=\"anaCell anaEven anaSubcolLeft\"><div class=\"up\"></div></div><div class=\"anaCell anaEven\">3</div><div class=\"anaCell anaEven anaSubcolRight\"><div class=\"anaPositive\">(+50.00%)</div></div><div class=\"anaIndex anaOdd\"><a href=\"https://data-browser.lungmap.net/explore/projects/20037472-ea1d-4ddb-9cd3-56a11a6f0f76\">/explore/projects/20037472-ea1d-4ddb-9cd3-56a11a6f0f76</a></div><div class=\"anaCell anaOdd anaSubcolLeft\"><div class=\"up\"></div></div><div class=\"anaCell anaOdd\">3</div><div class=\"anaCell anaOdd anaSubcolRight\"><div class=\"anaPositive\">(+50.00%)</div></div><div class=\"anaIndex anaEven\"><a href=\"https://data-browser.lungmap.net/explore/projects/20037472-ea1d-4ddb-9cd3-56a11a6f0f76/export-to-terra\">/explore/projects/20037472-ea1d-4ddb-9cd3-56a11a6f0f76/export-to-terra</a></div><div class=\"anaCell anaEven anaSubcolLeft\"><div class=\"new\"></div></div><div class=\"anaCell anaEven\">2</div><div class=\"anaCell anaEven anaSubcolRight\"></div><div class=\"anaIndex anaOdd\"><a href=\"https://data-browser.lungmap.net/explore/projects/6135382f-487d-4adb-9cf8-4d6634125b68\">/explore/projects/6135382f-487d-4adb-9cf8-4d6634125b68</a></div><div class=\"anaCell anaOdd anaSubcolLeft\"><div class=\"down\"></div></div><div class=\"anaCell anaOdd\">1</div><div class=\"anaCell anaOdd anaSubcolRight\"><div class=\"anaNegative\">(-97.50%)</div></div><div class=\"anaIndex anaEven\"><a href=\"https://data-browser.lungmap.net/explore/projects/f899709c-ae2c-4bb9-88f0-131142e6c7ec/project-metadata\">/explore/projects/f899709c-ae2c-4bb9-88f0-131142e6c7ec/project-metadata</a></div><div class=\"anaCell anaEven anaSubcolLeft\"><div class=\"new\"></div></div><div class=\"anaCell anaEven\">1</div><div class=\"anaCell anaEven anaSubcolRight\"></div><div class=\"anaIndex anaOdd\"><a href=\"https://data-browser.lungmap.net/explore/projects/ad98d3cd-26fb-4ee3-99c9-8a2ab085e737\">/explore/projects/ad98d3cd-26fb-4ee3-99c9-8a2ab085e737</a></div><div class=\"anaCell anaOdd anaSubcolLeft\"><div class=\"new\"></div></div><div class=\"anaCell anaOdd\">1</div><div class=\"anaCell anaOdd anaSubcolRight\"></div><div class=\"anaIndex anaEven\"><a href=\"https://data-browser.lungmap.net/explore/projects/MjAwMzc0Nz\">/explore/projects/MjAwMzc0Nz</a></div><div class=\"anaCell anaEven anaSubcolLeft\"><div class=\"new\"></div></div><div class=\"anaCell anaEven\">1</div><div class=\"anaCell anaEven anaSubcolRight\"></div><div class=\"anaIndex anaOdd\"><a href=\"https://data-browser.lungmap.net/explore/projects/6135382f-487d-4adb-9cf8-4d6634125b68/project-matrices\">/explore/projects/6135382f-487d-4adb-9cf8-4d6634125b68/project-matrices</a></div><div class=\"anaCell anaOdd anaSubcolLeft\"><div class=\"down\"></div></div><div class=\"anaCell anaOdd\">1</div><div class=\"anaCell anaOdd anaSubcolRight\"><div class=\"anaNegative\">(-50.00%)</div></div><div class=\"anaIndex anaEven\"><a href=\"https://data-browser.lungmap.net/explore/projects/1bdcecde-16be-4208-88f4-78cd2133d11d/project-matrices\">/explore/projects/1bdcecde-16be-4208-88f4-78cd2133d11d/project-matrices</a></div><div class=\"anaCell anaEven anaSubcolLeft\"><div class=\"new\"></div></div><div class=\"anaCell anaEven\">1</div><div class=\"anaCell anaEven anaSubcolRight\"></div><div class=\"anaIndex anaOdd\"><a href=\"https://data-browser.lungmap.net/explore/projects/4ae8c5c9-1520-4371-9827-6935661f6c84\">/explore/projects/4ae8c5c9-1520-4371-9827-6935661f6c84</a></div><div class=\"anaCell anaOdd anaSubcolLeft\"><div class=\"down\"></div></div><div class=\"anaCell anaOdd\">1</div><div class=\"anaCell anaOdd anaSubcolRight\"><div class=\"anaNegative\">(-93.75%)</div></div><div class=\"anaIndex anaEven\"><a href=\"https://data-browser.lungmap.net/explore/projects/20037472-ea1d-4ddb-9cd3-56a11a6f0f76/project-matrices\">/explore/projects/20037472-ea1d-4ddb-9cd3-56a11a6f0f76/project-matrices</a></div><div class=\"anaCell anaEven anaSubcolLeft\"><div class=\"new\"></div></div><div class=\"anaCell anaEven\">1</div><div class=\"anaCell anaEven anaSubcolRight\"></div><div class=\"anaIndex anaOdd\"><a href=\"https://data-browser.lungmap.net/explore/projects/1bdcecde-16be-4208-88f4-78cd2133d11d/get-curl-command\">/explore/projects/1bdcecde-16be-4208-88f4-78cd2133d11d/get-curl-command</a></div><div class=\"anaCell anaOdd anaSubcolLeft\"><div class=\"down\"></div></div><div class=\"anaCell anaOdd\">1</div><div class=\"anaCell anaOdd anaSubcolRight\"><div class=\"anaNegative\">(-50.00%)</div></div><div class=\"anaIndex anaEven\"><a href=\"https://data-browser.lungmap.net/apis/api-documentation/data-browser-api\">/apis/api-documentation/data-browser-api</a></div><div class=\"anaCell anaEven anaSubcolLeft\"><div class=\"new\"></div></div><div class=\"anaCell anaEven\">1</div><div class=\"anaCell anaEven anaSubcolRight\"></div><div class=\"anaIndex anaOdd\"><a href=\"https://data-browser.lungmap.net/explore/samples\">/explore/samples</a></div><div class=\"anaCell anaOdd anaSubcolLeft\"></div><div class=\"anaCell anaOdd\">1</div><div class=\"anaCell anaOdd anaSubcolRight\"><div class=\"anaZero\">(+0.00%)</div></div></div>"
      ],
      "text/plain": [
       "<IPython.core.display.HTML object>"
      ]
     },
     "metadata": {},
     "output_type": "display_data"
    }
   ],
   "source": [
    "ac.show_difference_table(\"Entrances\", \"Page\", \"sessions\", \"landingPage\", **default_params)"
   ]
  },
  {
   "cell_type": "markdown",
   "id": "8f9077bd",
   "metadata": {},
   "source": [
    "<div style=\"page-break-after: always\"></div>"
   ]
  },
  {
   "cell_type": "markdown",
   "id": "97ca0d77",
   "metadata": {},
   "source": [
    "## Top countries"
   ]
  },
  {
   "cell_type": "code",
   "execution_count": 49,
   "id": "aee053f0",
   "metadata": {
    "scrolled": true,
    "tags": [
     "remove-input"
    ]
   },
   "outputs": [
    {
     "data": {
      "text/html": [
       "<div class=\"analyticsTable\" style=\"grid-template-columns: 1fr var(--symbol-width) minmax(var(--value-width), min-content) minmax(var(--percentage-width), min-content)\"><div class=\"anaIndex anaColName\">Country</div><div class=\"anaColName anaMultiCol\" style=\"grid-column: span 3\">Users</div><div class=\"anaIndex anaEven\">United States</div><div class=\"anaCell anaEven anaSubcolLeft\"></div><div class=\"anaCell anaEven\">63</div><div class=\"anaCell anaEven anaSubcolRight\"><div class=\"anaNegative\">(-45.22%)</div></div><div class=\"anaIndex anaOdd\">China</div><div class=\"anaCell anaOdd anaSubcolLeft\"></div><div class=\"anaCell anaOdd\">14</div><div class=\"anaCell anaOdd anaSubcolRight\"><div class=\"anaNegative\">(-75.44%)</div></div><div class=\"anaIndex anaEven\">Australia</div><div class=\"anaCell anaEven anaSubcolLeft\"><div class=\"up\"></div></div><div class=\"anaCell anaEven\">4</div><div class=\"anaCell anaEven anaSubcolRight\"><div class=\"anaNegative\">(-20.00%)</div></div><div class=\"anaIndex anaOdd\">Canada</div><div class=\"anaCell anaOdd anaSubcolLeft\"><div class=\"up\"></div></div><div class=\"anaCell anaOdd\">3</div><div class=\"anaCell anaOdd anaSubcolRight\"><div class=\"anaNegative\">(-25.00%)</div></div><div class=\"anaIndex anaEven\">Germany</div><div class=\"anaCell anaEven anaSubcolLeft\"></div><div class=\"anaCell anaEven\">2</div><div class=\"anaCell anaEven anaSubcolRight\"><div class=\"anaNegative\">(-60.00%)</div></div><div class=\"anaIndex anaOdd\">Japan</div><div class=\"anaCell anaOdd anaSubcolLeft\"><div class=\"down\"></div></div><div class=\"anaCell anaOdd\">2</div><div class=\"anaCell anaOdd anaSubcolRight\"><div class=\"anaNegative\">(-75.00%)</div></div><div class=\"anaIndex anaEven\">South Korea</div><div class=\"anaCell anaEven anaSubcolLeft\"></div><div class=\"anaCell anaEven\">2</div><div class=\"anaCell anaEven anaSubcolRight\"><div class=\"anaNegative\">(-50.00%)</div></div><div class=\"anaIndex anaOdd\">Spain</div><div class=\"anaCell anaOdd anaSubcolLeft\"><div class=\"new\"></div></div><div class=\"anaCell anaOdd\">2</div><div class=\"anaCell anaOdd anaSubcolRight\"></div><div class=\"anaIndex anaEven\">United Kingdom</div><div class=\"anaCell anaEven anaSubcolLeft\"><div class=\"up\"></div></div><div class=\"anaCell anaEven\">2</div><div class=\"anaCell anaEven anaSubcolRight\"><div class=\"anaZero\">(+0.00%)</div></div><div class=\"anaIndex anaOdd\">France</div><div class=\"anaCell anaOdd anaSubcolLeft\"><div class=\"up\"></div></div><div class=\"anaCell anaOdd\">1</div><div class=\"anaCell anaOdd anaSubcolRight\"><div class=\"anaNegative\">(-50.00%)</div></div><div class=\"anaIndex anaEven\">India</div><div class=\"anaCell anaEven anaSubcolLeft\"><div class=\"new\"></div></div><div class=\"anaCell anaEven\">1</div><div class=\"anaCell anaEven anaSubcolRight\"></div><div class=\"anaIndex anaOdd\">Netherlands</div><div class=\"anaCell anaOdd anaSubcolLeft\"><div class=\"new\"></div></div><div class=\"anaCell anaOdd\">1</div><div class=\"anaCell anaOdd anaSubcolRight\"></div></div>"
      ],
      "text/plain": [
       "<IPython.core.display.HTML object>"
      ]
     },
     "metadata": {},
     "output_type": "display_data"
    }
   ],
   "source": [
    "ac.show_difference_table(\"Users\", \"Country\", \"totalUsers\", \"country\", **default_params)"
   ]
  },
  {
   "cell_type": "markdown",
   "id": "4788a00e",
   "metadata": {
    "tags": [
     "remove-cell"
    ]
   },
   "source": [
    "## Downloads and exports\n",
    "### Download project manifest"
   ]
  },
  {
   "cell_type": "code",
   "execution_count": 50,
   "id": "db613ae8",
   "metadata": {
    "scrolled": false,
    "tags": [
     "remove-input",
     "remove-cell"
    ]
   },
   "outputs": [],
   "source": [
    "# ac.show_difference_table([\"Users\", \"Count\"], \"Action\", [\"ga:users\", \"ga:hits\"], [\"ga:eventAction\", \"ga:eventCategory\"], filters=\"ga:eventCategory==Project;ga:eventAction==Download Project Manifest\", rows_type=\"fixed\", **default_params)"
   ]
  },
  {
   "cell_type": "markdown",
   "id": "3a9de92f",
   "metadata": {
    "tags": [
     "remove-cell"
    ]
   },
   "source": [
    "### Direct file downloads (from files tab)"
   ]
  },
  {
   "cell_type": "code",
   "execution_count": 51,
   "id": "51986a0d",
   "metadata": {
    "scrolled": false,
    "tags": [
     "remove-input",
     "remove-cell"
    ]
   },
   "outputs": [],
   "source": [
    "# ac.show_difference_table([\"Users\", \"Count\"], \"Action\", [\"ga:users\", \"ga:hits\"], [\"ga:eventAction\", \"ga:eventCategory\"], filters=\"ga:eventCategory==File;ga:eventAction==Download\", rows_type=\"fixed\", **default_params)"
   ]
  },
  {
   "cell_type": "markdown",
   "id": "5fd5afaa",
   "metadata": {
    "tags": [
     "remove-cell"
    ]
   },
   "source": [
    "### Top \"export selected data\" queries"
   ]
  },
  {
   "cell_type": "code",
   "execution_count": 52,
   "id": "5fb87fc7",
   "metadata": {
    "scrolled": false,
    "tags": [
     "remove-input",
     "remove-cell"
    ]
   },
   "outputs": [],
   "source": [
    "# ac.show_difference_table(\"Selected for Export Count\", \"Query\", \"ga:pageviews\", \"ga:pagePath\", filters=\"ga:pagePath=~/explore/export/export-to-terra|/explore/export/get-curl-command|/explore/export/download-manifest\", split_vertical=[], **default_params)"
   ]
  },
  {
   "cell_type": "markdown",
   "id": "a017b0dd",
   "metadata": {
    "tags": [
     "remove-cell"
    ]
   },
   "source": [
    "## Entities\n",
    "### Entity tabs selections (project, samples, files)"
   ]
  },
  {
   "cell_type": "code",
   "execution_count": 53,
   "id": "615a50a1",
   "metadata": {
    "scrolled": false,
    "tags": [
     "remove-input",
     "remove-cell"
    ]
   },
   "outputs": [],
   "source": [
    "# ac.show_difference_table(\"Count\", \"Entity Tab\", \"ga:hits\", \"ga:eventLabel\", filters=\"ga:eventCategory==Entity;ga:eventAction==Select Tab\", **default_params)"
   ]
  },
  {
   "cell_type": "markdown",
   "id": "fa8aed84",
   "metadata": {},
   "source": [
    "## Projects\n",
    "### Top project detail pages"
   ]
  },
  {
   "cell_type": "code",
   "execution_count": 54,
   "id": "c38a26da",
   "metadata": {
    "scrolled": false,
    "tags": [
     "remove-input"
    ]
   },
   "outputs": [
    {
     "data": {
      "text/html": [
       "<div class=\"analyticsTable\" style=\"grid-template-columns: 1fr var(--symbol-width) minmax(var(--value-width), min-content) minmax(var(--percentage-width), min-content)\"><div class=\"anaIndex anaColName\">Project</div><div class=\"anaColName anaMultiCol\" style=\"grid-column: span 3\">Count</div><div class=\"anaIndex anaEven\"><a href=\"https://data-browser.lungmap.net/explore/projects/1bdcecde-16be-4208-88f4-78cd2133d11d\">/explore/projects/1bdcecde-16be-4208-88f4-78cd2133d11d</a></div><div class=\"anaCell anaEven anaSubcolLeft\"><div class=\"up\"></div></div><div class=\"anaCell anaEven\">24</div><div class=\"anaCell anaEven anaSubcolRight\"><div class=\"anaNegative\">(-46.67%)</div></div><div class=\"anaIndex anaOdd\"><a href=\"https://data-browser.lungmap.net/explore/projects/20037472-ea1d-4ddb-9cd3-56a11a6f0f76\">/explore/projects/20037472-ea1d-4ddb-9cd3-56a11a6f0f76</a></div><div class=\"anaCell anaOdd anaSubcolLeft\"><div class=\"up\"></div></div><div class=\"anaCell anaOdd\">18</div><div class=\"anaCell anaOdd anaSubcolRight\"><div class=\"anaNegative\">(-18.18%)</div></div><div class=\"anaIndex anaEven\"><a href=\"https://data-browser.lungmap.net/explore/projects/6135382f-487d-4adb-9cf8-4d6634125b68\">/explore/projects/6135382f-487d-4adb-9cf8-4d6634125b68</a></div><div class=\"anaCell anaEven anaSubcolLeft\"><div class=\"down\"></div></div><div class=\"anaCell anaEven\">12</div><div class=\"anaCell anaEven anaSubcolRight\"><div class=\"anaNegative\">(-87.88%)</div></div><div class=\"anaIndex anaOdd\"><a href=\"https://data-browser.lungmap.net/explore/projects/f899709c-ae2c-4bb9-88f0-131142e6c7ec\">/explore/projects/f899709c-ae2c-4bb9-88f0-131142e6c7ec</a></div><div class=\"anaCell anaOdd anaSubcolLeft\"><div class=\"up\"></div></div><div class=\"anaCell anaOdd\">9</div><div class=\"anaCell anaOdd anaSubcolRight\"><div class=\"anaPositive\">(+28.57%)</div></div><div class=\"anaIndex anaEven\"><a href=\"https://data-browser.lungmap.net/explore/projects/00f056f2-73ff-43ac-97ff-69ca10e38c89\">/explore/projects/00f056f2-73ff-43ac-97ff-69ca10e38c89</a></div><div class=\"anaCell anaEven anaSubcolLeft\"><div class=\"down\"></div></div><div class=\"anaCell anaEven\">8</div><div class=\"anaCell anaEven anaSubcolRight\"><div class=\"anaNegative\">(-63.64%)</div></div><div class=\"anaIndex anaOdd\"><a href=\"https://data-browser.lungmap.net/explore/projects/4ae8c5c9-1520-4371-9827-6935661f6c84\">/explore/projects/4ae8c5c9-1520-4371-9827-6935661f6c84</a></div><div class=\"anaCell anaOdd anaSubcolLeft\"><div class=\"down\"></div></div><div class=\"anaCell anaOdd\">8</div><div class=\"anaCell anaOdd anaSubcolRight\"><div class=\"anaNegative\">(-55.56%)</div></div><div class=\"anaIndex anaEven\"><a href=\"https://data-browser.lungmap.net/explore/projects/26204979-55a3-49b2-8d2b-53e0bdfcb176\">/explore/projects/26204979-55a3-49b2-8d2b-53e0bdfcb176</a></div><div class=\"anaCell anaEven anaSubcolLeft\"><div class=\"up\"></div></div><div class=\"anaCell anaEven\">3</div><div class=\"anaCell anaEven anaSubcolRight\"><div class=\"anaPositive\">(+200.00%)</div></div><div class=\"anaIndex anaOdd\"><a href=\"https://data-browser.lungmap.net/explore/projects/ad98d3cd-26fb-4ee3-99c9-8a2ab085e737\">/explore/projects/ad98d3cd-26fb-4ee3-99c9-8a2ab085e737</a></div><div class=\"anaCell anaOdd anaSubcolLeft\"><div class=\"new\"></div></div><div class=\"anaCell anaOdd\">1</div><div class=\"anaCell anaOdd anaSubcolRight\"></div></div>"
      ],
      "text/plain": [
       "<IPython.core.display.HTML object>"
      ]
     },
     "metadata": {},
     "output_type": "display_data"
    }
   ],
   "source": [
    "ac.show_difference_table(\"Count\", \"Project\", \"screenPageViews\", \"pagePathPlusQueryString\", dimension_filter=\"pagePathPlusQueryString=~^(\\\\/explore\\\\/projects\\\\/[0-9a-fA-F]{8}\\\\-[0-9a-fA-F]{4}\\\\-[0-9a-fA-F]{4}\\\\-[0-9a-fA-F]{4}\\\\-[0-9a-fA-F]{12})(\\\\/?\\\\?{0}|\\\\/?\\\\?{1}.*)$\", **default_params)"
   ]
  },
  {
   "cell_type": "markdown",
   "id": "751e75f8",
   "metadata": {},
   "source": [
    "<div style=\"page-break-after: always\"></div>"
   ]
  },
  {
   "cell_type": "markdown",
   "id": "b4f930db",
   "metadata": {},
   "source": [
    "## Data Portal"
   ]
  },
  {
   "cell_type": "markdown",
   "id": "de401b92",
   "metadata": {},
   "source": [
    "### Top pages"
   ]
  },
  {
   "cell_type": "code",
   "execution_count": 55,
   "id": "bc0752ae",
   "metadata": {
    "scrolled": false,
    "tags": [
     "remove-input"
    ]
   },
   "outputs": [
    {
     "data": {
      "text/html": [
       "<div class=\"analyticsTable\" style=\"grid-template-columns: 1fr var(--symbol-width) minmax(var(--value-width), min-content) minmax(var(--percentage-width), min-content)\"><div class=\"anaIndex anaColName\">Path</div><div class=\"anaColName anaMultiCol\" style=\"grid-column: span 3\">Count</div><div class=\"anaIndex anaEven\"><a href=\"https://data-browser.lungmap.net/apis\">/apis</a></div><div class=\"anaCell anaEven anaSubcolLeft\"><div class=\"up\"></div></div><div class=\"anaCell anaEven\">22</div><div class=\"anaCell anaEven anaSubcolRight\"><div class=\"anaPositive\">(+340.00%)</div></div><div class=\"anaIndex anaOdd\"><a href=\"https://data-browser.lungmap.net/apis/api-documentation/data-browser-api\">/apis/api-documentation/data-browser-api</a></div><div class=\"anaCell anaOdd anaSubcolLeft\"><div class=\"new\"></div></div><div class=\"anaCell anaOdd\">20</div><div class=\"anaCell anaOdd anaSubcolRight\"></div><div class=\"anaIndex anaEven\"><a href=\"https://data-browser.lungmap.net/\">/</a></div><div class=\"anaCell anaEven anaSubcolLeft\"><div class=\"down\"></div></div><div class=\"anaCell anaEven\">18</div><div class=\"anaCell anaEven anaSubcolRight\"><div class=\"anaNegative\">(-51.35%)</div></div><div class=\"anaIndex anaOdd\"><a href=\"https://data-browser.lungmap.net/metadata\">/metadata</a></div><div class=\"anaCell anaOdd anaSubcolLeft\"><div class=\"down\"></div></div><div class=\"anaCell anaOdd\">9</div><div class=\"anaCell anaOdd anaSubcolRight\"><div class=\"anaNegative\">(-40.00%)</div></div><div class=\"anaIndex anaEven\"><a href=\"https://data-browser.lungmap.net/search\">/search</a></div><div class=\"anaCell anaEven anaSubcolLeft\"><div class=\"up\"></div></div><div class=\"anaCell anaEven\">5</div><div class=\"anaCell anaEven anaSubcolRight\"><div class=\"anaPositive\">(+400.00%)</div></div><div class=\"anaIndex anaOdd\"><a href=\"https://data-browser.lungmap.net/lungmap-privacy\">/lungmap-privacy</a></div><div class=\"anaCell anaOdd anaSubcolLeft\"><div class=\"up\"></div></div><div class=\"anaCell anaOdd\">1</div><div class=\"anaCell anaOdd anaSubcolRight\"><div class=\"anaZero\">(+0.00%)</div></div><div class=\"anaIndex anaEven\"><a href=\"https://data-browser.lungmap.net/metadata/overview/modules\">/metadata/overview/modules</a></div><div class=\"anaCell anaEven anaSubcolLeft\"><div class=\"down\"></div></div><div class=\"anaCell anaEven\">1</div><div class=\"anaCell anaEven anaSubcolRight\"><div class=\"anaNegative\">(-66.67%)</div></div></div>"
      ],
      "text/plain": [
       "<IPython.core.display.HTML object>"
      ]
     },
     "metadata": {},
     "output_type": "display_data"
    }
   ],
   "source": [
    "ac.show_difference_table(\"Count\", \"Path\", \"screenPageViews\", \"pagePath\", dimension_filter=\"pagePath!~^\\/explore\", **default_params)"
   ]
  },
  {
   "cell_type": "markdown",
   "id": "a9f9e71c",
   "metadata": {},
   "source": [
    "### Top landing pages"
   ]
  },
  {
   "cell_type": "code",
   "execution_count": 56,
   "id": "9cdb1820",
   "metadata": {
    "scrolled": false,
    "tags": [
     "remove-input"
    ]
   },
   "outputs": [
    {
     "data": {
      "text/html": [
       "<div class=\"analyticsTable\" style=\"grid-template-columns: 1fr var(--symbol-width) minmax(var(--value-width), min-content) minmax(var(--percentage-width), min-content)\"><div class=\"anaIndex anaColName\">Path</div><div class=\"anaColName anaMultiCol\" style=\"grid-column: span 3\">Count</div><div class=\"anaIndex anaEven\">(not set)</div><div class=\"anaCell anaEven anaSubcolLeft\"></div><div class=\"anaCell anaEven\">19</div><div class=\"anaCell anaEven anaSubcolRight\"><div class=\"anaNegative\">(-56.82%)</div></div><div class=\"anaIndex anaOdd\"><a href=\"https://data-browser.lungmap.net/\">/</a></div><div class=\"anaCell anaOdd anaSubcolLeft\"></div><div class=\"anaCell anaOdd\">16</div><div class=\"anaCell anaOdd anaSubcolRight\"><div class=\"anaNegative\">(-46.67%)</div></div><div class=\"anaIndex anaEven\"><a href=\"https://data-browser.lungmap.net/apis\">/apis</a></div><div class=\"anaCell anaEven anaSubcolLeft\"></div><div class=\"anaCell anaEven\">3</div><div class=\"anaCell anaEven anaSubcolRight\"><div class=\"anaPositive\">(+50.00%)</div></div><div class=\"anaIndex anaOdd\"><a href=\"https://data-browser.lungmap.net/apis/api-documentation/data-browser-api\">/apis/api-documentation/data-browser-api</a></div><div class=\"anaCell anaOdd anaSubcolLeft\"><div class=\"new\"></div></div><div class=\"anaCell anaOdd\">1</div><div class=\"anaCell anaOdd anaSubcolRight\"></div></div>"
      ],
      "text/plain": [
       "<IPython.core.display.HTML object>"
      ]
     },
     "metadata": {},
     "output_type": "display_data"
    }
   ],
   "source": [
    "ac.show_difference_table(\"Count\", \"Path\", \"sessions\", \"landingPage\", dimension_filter=\"landingPage!~^\\/explore\", **default_params)"
   ]
  },
  {
   "cell_type": "markdown",
   "id": "88ccb4a9",
   "metadata": {
    "tags": [
     "remove-cell"
    ]
   },
   "source": [
    "### Top searches"
   ]
  },
  {
   "cell_type": "code",
   "execution_count": 57,
   "id": "f8fc0670",
   "metadata": {
    "scrolled": true,
    "tags": [
     "remove-input",
     "remove-cell"
    ]
   },
   "outputs": [],
   "source": [
    "# ac.show_difference_table(\"Count\", \"Search Text\", \"ga:hits\", [\"ga:eventLabel\", \"ga:eventAction\"], filters=\"ga:eventCategory==Search;ga:eventAction==Enter Text\", **default_params)"
   ]
  },
  {
   "cell_type": "markdown",
   "id": "03dd7c38",
   "metadata": {
    "tags": [
     "remove-cell"
    ]
   },
   "source": [
    "### Top selected search results"
   ]
  },
  {
   "cell_type": "code",
   "execution_count": 58,
   "id": "353d5667",
   "metadata": {
    "scrolled": true,
    "tags": [
     "remove-input",
     "remove-cell"
    ]
   },
   "outputs": [],
   "source": [
    "# ac.show_difference_table(\"Count\", \"Search Result\", \"ga:hits\", [\"ga:eventLabel\", \"ga:eventAction\"], filters=\"ga:eventCategory==Search;ga:eventAction==Click\", **default_params)"
   ]
  },
  {
   "cell_type": "code",
   "execution_count": null,
   "id": "d4e775ca",
   "metadata": {},
   "outputs": [],
   "source": []
  }
 ],
 "metadata": {
  "celltoolbar": "Tags",
  "kernelspec": {
   "display_name": "hca-analytics",
   "language": "python",
   "name": "hca-analytics"
  },
  "language_info": {
   "codemirror_mode": {
    "name": "ipython",
    "version": 3
   },
   "file_extension": ".py",
   "mimetype": "text/x-python",
   "name": "python",
   "nbconvert_exporter": "python",
   "pygments_lexer": "ipython3",
   "version": "3.9.7"
  }
 },
 "nbformat": 4,
 "nbformat_minor": 5
}
