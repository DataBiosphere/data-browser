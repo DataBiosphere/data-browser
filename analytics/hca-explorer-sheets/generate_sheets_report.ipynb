{
 "cells": [
  {
   "cell_type": "code",
   "execution_count": 1,
   "metadata": {},
   "outputs": [],
   "source": [
    "from analytics import sheets_api as sheets\n",
    "from analytics import sheets_elements as elements\n",
    "from analytics import api as ga\n",
    "import pandas as pd\n",
    "from constants import *"
   ]
  },
  {
   "cell_type": "code",
   "execution_count": 3,
   "metadata": {},
   "outputs": [
    {
     "name": "stdout",
     "output_type": "stream",
     "text": [
      "Please visit this URL to authorize this application: https://accounts.google.com/o/oauth2/auth?response_type=code&client_id=425030666072-vun85q7nt3038skng8gs0f03juh97e17.apps.googleusercontent.com&redirect_uri=http%3A%2F%2Flocalhost%3A8082%2F&scope=https%3A%2F%2Fwww.googleapis.com%2Fauth%2Fdrive+https%3A%2F%2Fwww.googleapis.com%2Fauth%2Fanalytics.readonly+https%3A%2F%2Fwww.googleapis.com%2Fauth%2Fspreadsheets&state=gQXcCGWIVhfxgIYwz935kc6SSgk4Wp&access_type=offline\n"
     ]
    }
   ],
   "source": [
    "ga_authentication, drive_authentication = ga.authenticate(\n",
    "    SECRET_NAME,\n",
    "    ga.ga4_service_params,\n",
    "    ga.drive_service_params,\n",
    "    port=OAUTH_PORT\n",
    ")\n",
    "\n",
    "date_string = f\"{START_DATE_CURRENT} - {END_DATE_CURRENT}\"\n",
    "\n",
    "default_params = {\n",
    "    \"service_system\": ga_authentication,\n",
    "    \"start_date\": START_DATE_CURRENT,\n",
    "    \"end_date\": END_DATE_CURRENT,\n",
    "}\n",
    "\n",
    "hca_portal_params = {\n",
    "    **default_params,\n",
    "    \"base_dimension_filter\": HCA_BROWSER_EXCLUDE_FILTER,\n",
    "    \"property\": HCA_PORTAL_ID,\n",
    "}\n",
    "\n"
   ]
  },
  {
   "cell_type": "code",
   "execution_count": 4,
   "metadata": {},
   "outputs": [],
   "source": [
    "df_pageviews = elements.get_page_views_change(hca_portal_params, START_DATE_CURRENT, END_DATE_CURRENT, START_DATE_PRIOR, END_DATE_PRIOR) "
   ]
  },
  {
   "cell_type": "code",
   "execution_count": 5,
   "metadata": {},
   "outputs": [],
   "source": [
    "dict_spreadsheet = {\n",
    "    \"Page Views\": df_pageviews,\n",
    "}\n",
    "sheets.fill_spreadsheet_with_df_dict(\n",
    "    sheets.create_sheet_in_folder(\n",
    "        drive_authentication,\n",
    "        SHEET_NAME,\n",
    "        PARENT_FOLDER_NAME,\n",
    "        override_behavior=sheets.FILE_OVERRIDE_BEHAVIORS.OVERRIDE_IF_IN_SAME_PLACE\n",
    "    ),\n",
    "    dict_spreadsheet,\n",
    "    sheets.FILE_OVERRIDE_BEHAVIORS.OVERRIDE_IF_IN_SAME_PLACE,\n",
    "    column_formatting_options={\n",
    "        \"Outbound Links\": {\n",
    "            \"Total Clicks Percent Change\": sheets.COLUMN_FORMAT_OPTIONS.PERCENT_COLORED,\n",
    "            \"Total Users Percent Change\": sheets.COLUMN_FORMAT_OPTIONS.PERCENT_COLORED,\n",
    "        },\n",
    "        \"Page Views\": {\n",
    "            \"Total Views Percent Change\": sheets.COLUMN_FORMAT_OPTIONS.PERCENT_COLORED,\n",
    "            \"Total Users Percent Change\": sheets.COLUMN_FORMAT_OPTIONS.PERCENT_COLORED,\n",
    "        }\n",
    "\n",
    "    }\n",
    ")"
   ]
  }
 ],
 "metadata": {
  "kernelspec": {
   "display_name": "venv",
   "language": "python",
   "name": "python3"
  },
  "language_info": {
   "codemirror_mode": {
    "name": "ipython",
    "version": 3
   },
   "file_extension": ".py",
   "mimetype": "text/x-python",
   "name": "python",
   "nbconvert_exporter": "python",
   "pygments_lexer": "ipython3",
   "version": "3.12.8"
  }
 },
 "nbformat": 4,
 "nbformat_minor": 4
}
